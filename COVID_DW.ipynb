{
 "cells": [
  {
   "cell_type": "code",
   "execution_count": 2,
   "metadata": {
    "colab": {
     "base_uri": "https://localhost:8080/"
    },
    "id": "_EfRhQxuHNB7",
    "outputId": "c906dbdb-c7b6-4231-9b90-8c59cb981308"
   },
   "outputs": [
    {
     "name": "stdout",
     "output_type": "stream",
     "text": [
      "Collecting pandas_profiling\n",
      "  Downloading pandas_profiling-3.6.6-py2.py3-none-any.whl (324 kB)\n",
      "\u001b[2K     \u001b[90m━━━━━━━━━━━━━━━━━━━━━━━━━━━━━━━━━━━━━━━━\u001b[0m \u001b[32m324.4/324.4 kB\u001b[0m \u001b[31m4.2 MB/s\u001b[0m eta \u001b[36m0:00:00\u001b[0m\n",
      "\u001b[?25hCollecting ydata-profiling (from pandas_profiling)\n",
      "  Downloading ydata_profiling-4.7.0-py2.py3-none-any.whl (357 kB)\n",
      "\u001b[2K     \u001b[90m━━━━━━━━━━━━━━━━━━━━━━━━━━━━━━━━━━━━━━━━\u001b[0m \u001b[32m357.9/357.9 kB\u001b[0m \u001b[31m11.1 MB/s\u001b[0m eta \u001b[36m0:00:00\u001b[0m\n",
      "\u001b[?25hRequirement already satisfied: scipy<1.12,>=1.4.1 in /usr/local/lib/python3.10/dist-packages (from ydata-profiling->pandas_profiling) (1.11.4)\n",
      "Requirement already satisfied: pandas!=1.4.0,<3,>1.1 in /usr/local/lib/python3.10/dist-packages (from ydata-profiling->pandas_profiling) (2.0.3)\n",
      "Requirement already satisfied: matplotlib<3.9,>=3.2 in /usr/local/lib/python3.10/dist-packages (from ydata-profiling->pandas_profiling) (3.7.1)\n",
      "Requirement already satisfied: pydantic>=2 in /usr/local/lib/python3.10/dist-packages (from ydata-profiling->pandas_profiling) (2.7.0)\n",
      "Requirement already satisfied: PyYAML<6.1,>=5.0.0 in /usr/local/lib/python3.10/dist-packages (from ydata-profiling->pandas_profiling) (6.0.1)\n",
      "Requirement already satisfied: jinja2<3.2,>=2.11.1 in /usr/local/lib/python3.10/dist-packages (from ydata-profiling->pandas_profiling) (3.1.3)\n",
      "Collecting visions[type_image_path]<0.7.7,>=0.7.5 (from ydata-profiling->pandas_profiling)\n",
      "  Downloading visions-0.7.6-py3-none-any.whl (104 kB)\n",
      "\u001b[2K     \u001b[90m━━━━━━━━━━━━━━━━━━━━━━━━━━━━━━━━━━━━━━━━\u001b[0m \u001b[32m104.8/104.8 kB\u001b[0m \u001b[31m7.6 MB/s\u001b[0m eta \u001b[36m0:00:00\u001b[0m\n",
      "\u001b[?25hRequirement already satisfied: numpy<2,>=1.16.0 in /usr/local/lib/python3.10/dist-packages (from ydata-profiling->pandas_profiling) (1.25.2)\n",
      "Collecting htmlmin==0.1.12 (from ydata-profiling->pandas_profiling)\n",
      "  Downloading htmlmin-0.1.12.tar.gz (19 kB)\n",
      "  Preparing metadata (setup.py) ... \u001b[?25l\u001b[?25hdone\n",
      "Collecting phik<0.13,>=0.11.1 (from ydata-profiling->pandas_profiling)\n",
      "  Downloading phik-0.12.4-cp310-cp310-manylinux_2_17_x86_64.manylinux2014_x86_64.whl (686 kB)\n",
      "\u001b[2K     \u001b[90m━━━━━━━━━━━━━━━━━━━━━━━━━━━━━━━━━━━━━━━━\u001b[0m \u001b[32m686.1/686.1 kB\u001b[0m \u001b[31m10.5 MB/s\u001b[0m eta \u001b[36m0:00:00\u001b[0m\n",
      "\u001b[?25hRequirement already satisfied: requests<3,>=2.24.0 in /usr/local/lib/python3.10/dist-packages (from ydata-profiling->pandas_profiling) (2.31.0)\n",
      "Requirement already satisfied: tqdm<5,>=4.48.2 in /usr/local/lib/python3.10/dist-packages (from ydata-profiling->pandas_profiling) (4.66.2)\n",
      "Collecting seaborn<0.13,>=0.10.1 (from ydata-profiling->pandas_profiling)\n",
      "  Downloading seaborn-0.12.2-py3-none-any.whl (293 kB)\n",
      "\u001b[2K     \u001b[90m━━━━━━━━━━━━━━━━━━━━━━━━━━━━━━━━━━━━━━━━\u001b[0m \u001b[32m293.3/293.3 kB\u001b[0m \u001b[31m12.9 MB/s\u001b[0m eta \u001b[36m0:00:00\u001b[0m\n",
      "\u001b[?25hCollecting multimethod<2,>=1.4 (from ydata-profiling->pandas_profiling)\n",
      "  Downloading multimethod-1.11.2-py3-none-any.whl (10 kB)\n",
      "Requirement already satisfied: statsmodels<1,>=0.13.2 in /usr/local/lib/python3.10/dist-packages (from ydata-profiling->pandas_profiling) (0.14.2)\n",
      "Collecting typeguard<5,>=4.1.2 (from ydata-profiling->pandas_profiling)\n",
      "  Downloading typeguard-4.2.1-py3-none-any.whl (34 kB)\n",
      "Collecting imagehash==4.3.1 (from ydata-profiling->pandas_profiling)\n",
      "  Downloading ImageHash-4.3.1-py2.py3-none-any.whl (296 kB)\n",
      "\u001b[2K     \u001b[90m━━━━━━━━━━━━━━━━━━━━━━━━━━━━━━━━━━━━━━━━\u001b[0m \u001b[32m296.5/296.5 kB\u001b[0m \u001b[31m5.8 MB/s\u001b[0m eta \u001b[36m0:00:00\u001b[0m\n",
      "\u001b[?25hRequirement already satisfied: wordcloud>=1.9.1 in /usr/local/lib/python3.10/dist-packages (from ydata-profiling->pandas_profiling) (1.9.3)\n",
      "Collecting dacite>=1.8 (from ydata-profiling->pandas_profiling)\n",
      "  Downloading dacite-1.8.1-py3-none-any.whl (14 kB)\n",
      "Requirement already satisfied: numba<1,>=0.56.0 in /usr/local/lib/python3.10/dist-packages (from ydata-profiling->pandas_profiling) (0.58.1)\n",
      "Requirement already satisfied: PyWavelets in /usr/local/lib/python3.10/dist-packages (from imagehash==4.3.1->ydata-profiling->pandas_profiling) (1.6.0)\n",
      "Requirement already satisfied: pillow in /usr/local/lib/python3.10/dist-packages (from imagehash==4.3.1->ydata-profiling->pandas_profiling) (9.4.0)\n",
      "Requirement already satisfied: MarkupSafe>=2.0 in /usr/local/lib/python3.10/dist-packages (from jinja2<3.2,>=2.11.1->ydata-profiling->pandas_profiling) (2.1.5)\n",
      "Requirement already satisfied: contourpy>=1.0.1 in /usr/local/lib/python3.10/dist-packages (from matplotlib<3.9,>=3.2->ydata-profiling->pandas_profiling) (1.2.1)\n",
      "Requirement already satisfied: cycler>=0.10 in /usr/local/lib/python3.10/dist-packages (from matplotlib<3.9,>=3.2->ydata-profiling->pandas_profiling) (0.12.1)\n",
      "Requirement already satisfied: fonttools>=4.22.0 in /usr/local/lib/python3.10/dist-packages (from matplotlib<3.9,>=3.2->ydata-profiling->pandas_profiling) (4.51.0)\n",
      "Requirement already satisfied: kiwisolver>=1.0.1 in /usr/local/lib/python3.10/dist-packages (from matplotlib<3.9,>=3.2->ydata-profiling->pandas_profiling) (1.4.5)\n",
      "Requirement already satisfied: packaging>=20.0 in /usr/local/lib/python3.10/dist-packages (from matplotlib<3.9,>=3.2->ydata-profiling->pandas_profiling) (24.0)\n",
      "Requirement already satisfied: pyparsing>=2.3.1 in /usr/local/lib/python3.10/dist-packages (from matplotlib<3.9,>=3.2->ydata-profiling->pandas_profiling) (3.1.2)\n",
      "Requirement already satisfied: python-dateutil>=2.7 in /usr/local/lib/python3.10/dist-packages (from matplotlib<3.9,>=3.2->ydata-profiling->pandas_profiling) (2.8.2)\n",
      "Requirement already satisfied: llvmlite<0.42,>=0.41.0dev0 in /usr/local/lib/python3.10/dist-packages (from numba<1,>=0.56.0->ydata-profiling->pandas_profiling) (0.41.1)\n",
      "Requirement already satisfied: pytz>=2020.1 in /usr/local/lib/python3.10/dist-packages (from pandas!=1.4.0,<3,>1.1->ydata-profiling->pandas_profiling) (2023.4)\n",
      "Requirement already satisfied: tzdata>=2022.1 in /usr/local/lib/python3.10/dist-packages (from pandas!=1.4.0,<3,>1.1->ydata-profiling->pandas_profiling) (2024.1)\n",
      "Requirement already satisfied: joblib>=0.14.1 in /usr/local/lib/python3.10/dist-packages (from phik<0.13,>=0.11.1->ydata-profiling->pandas_profiling) (1.4.0)\n",
      "Requirement already satisfied: annotated-types>=0.4.0 in /usr/local/lib/python3.10/dist-packages (from pydantic>=2->ydata-profiling->pandas_profiling) (0.6.0)\n",
      "Requirement already satisfied: pydantic-core==2.18.1 in /usr/local/lib/python3.10/dist-packages (from pydantic>=2->ydata-profiling->pandas_profiling) (2.18.1)\n",
      "Requirement already satisfied: typing-extensions>=4.6.1 in /usr/local/lib/python3.10/dist-packages (from pydantic>=2->ydata-profiling->pandas_profiling) (4.11.0)\n",
      "Requirement already satisfied: charset-normalizer<4,>=2 in /usr/local/lib/python3.10/dist-packages (from requests<3,>=2.24.0->ydata-profiling->pandas_profiling) (3.3.2)\n",
      "Requirement already satisfied: idna<4,>=2.5 in /usr/local/lib/python3.10/dist-packages (from requests<3,>=2.24.0->ydata-profiling->pandas_profiling) (3.7)\n",
      "Requirement already satisfied: urllib3<3,>=1.21.1 in /usr/local/lib/python3.10/dist-packages (from requests<3,>=2.24.0->ydata-profiling->pandas_profiling) (2.0.7)\n",
      "Requirement already satisfied: certifi>=2017.4.17 in /usr/local/lib/python3.10/dist-packages (from requests<3,>=2.24.0->ydata-profiling->pandas_profiling) (2024.2.2)\n",
      "Requirement already satisfied: patsy>=0.5.6 in /usr/local/lib/python3.10/dist-packages (from statsmodels<1,>=0.13.2->ydata-profiling->pandas_profiling) (0.5.6)\n",
      "Requirement already satisfied: attrs>=19.3.0 in /usr/local/lib/python3.10/dist-packages (from visions[type_image_path]<0.7.7,>=0.7.5->ydata-profiling->pandas_profiling) (23.2.0)\n",
      "Requirement already satisfied: networkx>=2.4 in /usr/local/lib/python3.10/dist-packages (from visions[type_image_path]<0.7.7,>=0.7.5->ydata-profiling->pandas_profiling) (3.3)\n",
      "Requirement already satisfied: six in /usr/local/lib/python3.10/dist-packages (from patsy>=0.5.6->statsmodels<1,>=0.13.2->ydata-profiling->pandas_profiling) (1.16.0)\n",
      "Building wheels for collected packages: htmlmin\n",
      "  Building wheel for htmlmin (setup.py) ... \u001b[?25l\u001b[?25hdone\n",
      "  Created wheel for htmlmin: filename=htmlmin-0.1.12-py3-none-any.whl size=27080 sha256=fc99574a12f602ed52e73a0cfded9faa3b39026c2f10aba39e0bd12e041a5adb\n",
      "  Stored in directory: /root/.cache/pip/wheels/dd/91/29/a79cecb328d01739e64017b6fb9a1ab9d8cb1853098ec5966d\n",
      "Successfully built htmlmin\n",
      "Installing collected packages: htmlmin, typeguard, multimethod, dacite, imagehash, visions, seaborn, phik, ydata-profiling, pandas_profiling\n",
      "  Attempting uninstall: seaborn\n",
      "    Found existing installation: seaborn 0.13.1\n",
      "    Uninstalling seaborn-0.13.1:\n",
      "      Successfully uninstalled seaborn-0.13.1\n",
      "Successfully installed dacite-1.8.1 htmlmin-0.1.12 imagehash-4.3.1 multimethod-1.11.2 pandas_profiling-3.6.6 phik-0.12.4 seaborn-0.12.2 typeguard-4.2.1 visions-0.7.6 ydata-profiling-4.7.0\n"
     ]
    }
   ],
   "source": [
    "!pip install pandas_profiling"
   ]
  },
  {
   "cell_type": "code",
   "execution_count": 4,
   "metadata": {
    "id": "YGv6n5kr_e_T"
   },
   "outputs": [],
   "source": [
    "from bs4 import BeautifulSoup as soup\n",
    "from datetime import date,datetime\n",
    "from urllib.request import Request,urlopen\n",
    "import pandas as pd\n",
    "import numpy as np\n",
    "import matplotlib.pyplot as plt\n",
    "import plotly.graph_objects as go\n",
    "import plotly.express as px\n",
    "import plotly.offline as py\n",
    "import seaborn as sns\n",
    "import gc\n",
    "import warnings\n",
    "warnings.filterwarnings(\"ignore\")\n",
    "# Data Resampling\n",
    "from sklearn.utils import resample\n",
    "# Data Feature Selection\n",
    "from sklearn.feature_selection import SelectKBest\n",
    "from sklearn.feature_selection import chi2\n",
    "# Data Splitting\n",
    "from sklearn.model_selection import train_test_split\n",
    "# Data Scaling\n",
    "from sklearn.preprocessing import MinMaxScaler\n",
    "# Data Modeling\n",
    "from sklearn.linear_model import LogisticRegression\n",
    "from sklearn.neighbors import KNeighborsClassifier\n",
    "from sklearn.ensemble import RandomForestClassifier\n",
    "from sklearn.tree import DecisionTreeClassifier\n",
    "from sklearn.ensemble import GradientBoostingClassifier\n",
    "from sklearn.neural_network import MLPClassifier\n",
    "from sklearn.metrics import confusion_matrix, accuracy_score, roc_curve, classification_report\n",
    "# Hyperparameter Tuning\n",
    "from sklearn.model_selection import RandomizedSearchCV\n",
    "from sklearn.model_selection import GridSearchCV\n",
    "from random import choices\n",
    "color_ls = '1234567890'*10\n",
    "def color():\n",
    "    return '#'+''.join(choices(color_ls , k=6))"
   ]
  },
  {
   "cell_type": "code",
   "execution_count": 5,
   "metadata": {
    "colab": {
     "base_uri": "https://localhost:8080/",
     "height": 35
    },
    "id": "aqQVrzw9_mwB",
    "outputId": "4f848e17-7a4a-4718-8c18-e4ef7db5f3b2"
   },
   "outputs": [
    {
     "data": {
      "application/vnd.google.colaboratory.intrinsic+json": {
       "type": "string"
      },
      "text/plain": [
       "'Apr 19,2024'"
      ]
     },
     "execution_count": 5,
     "metadata": {},
     "output_type": "execute_result"
    }
   ],
   "source": [
    "today = datetime.now()\n",
    "yesterday_str = \"%s %d,%d\" %(date.today().strftime(\"%b\"),today.day-1,today.year)\n",
    "yesterday_str\n"
   ]
  },
  {
   "cell_type": "code",
   "execution_count": 6,
   "metadata": {
    "id": "d4CWRM8a_rZF"
   },
   "outputs": [],
   "source": [
    "#WEB SCRAPPING\n",
    "url = \"https://www.worldometers.info/coronavirus/#countries\"\n",
    "req = Request(url,headers={'User-Agent':\"Google Chrome\"})\n",
    "webpage = urlopen(req)\n",
    "page_soup = soup(webpage,\"html.parser\")\n"
   ]
  },
  {
   "cell_type": "code",
   "execution_count": 7,
   "metadata": {
    "id": "kNpsKk27_z5c"
   },
   "outputs": [],
   "source": [
    "table = page_soup.findAll(\"table\",{\"id\":\"main_table_countries_yesterday\"})\n",
    "containers = table[0].findAll(\"tr\",{\"style\":\"\"})\n",
    "title = containers[0]\n",
    "del containers[0]\n",
    "all_data = []\n",
    "clean = True\n",
    "for country in containers :\n",
    "  country_data = []\n",
    "  country_container = country.findAll(\"td\")\n",
    "  if country_container[1].text == 'China':\n",
    "    continue\n",
    "  for i in range(1,len(country_container)):\n",
    "    final_feature = country_container[i].text\n",
    "    if clean:\n",
    "      if i != 1 and i != len(country_container)-1:\n",
    "        final_feature = final_feature.replace(\",\",\"\")\n",
    "        if final_feature.find('+') != -1:\n",
    "          final_feature = final_feature.replace(\"+\",\"\")\n",
    "          final_feature = float(final_feature)\n",
    "        elif final_feature.find('-') != -1:\n",
    "          final_feature = final_feature.replace(\"-\",\"\")\n",
    "          final_feature = float(final_feature)*-1\n",
    "    if final_feature == 'N/A':\n",
    "      final_feature = 0\n",
    "    elif final_feature == \"\" or final_feature == \" \":\n",
    "      final_feature = -1\n",
    "    country_data.append(final_feature)\n",
    "  all_data.append(country_data)"
   ]
  },
  {
   "cell_type": "code",
   "execution_count": 8,
   "metadata": {
    "colab": {
     "base_uri": "https://localhost:8080/",
     "height": 359
    },
    "id": "MtlUNgWT_2Bu",
    "outputId": "05fc315c-32e4-4ed4-9c46-32fcc332e55b"
   },
   "outputs": [
    {
     "data": {
      "application/vnd.google.colaboratory.intrinsic+json": {
       "summary": "{\n  \"name\": \"df\",\n  \"rows\": 204,\n  \"fields\": [\n    {\n      \"column\": 0,\n      \"properties\": {\n        \"dtype\": \"string\",\n        \"num_unique_values\": 204,\n        \"samples\": [\n          \"Iran\",\n          \"Spain\",\n          \"Channel Islands\"\n        ],\n        \"semantic_type\": \"\",\n        \"description\": \"\"\n      }\n    },\n    {\n      \"column\": 1,\n      \"properties\": {\n        \"dtype\": \"string\",\n        \"num_unique_values\": 203,\n        \"samples\": [\n          \"7627186\",\n          \"13914811\",\n          \"101717\"\n        ],\n        \"semantic_type\": \"\",\n        \"description\": \"\"\n      }\n    },\n    {\n      \"column\": 2,\n      \"properties\": {\n        \"dtype\": \"number\",\n        \"std\": 411.77149808806524,\n        \"min\": -1.0,\n        \"max\": 3959.0,\n        \"num_unique_values\": 11,\n        \"samples\": [\n          664.0,\n          3959.0,\n          20.0\n        ],\n        \"semantic_type\": \"\",\n        \"description\": \"\"\n      }\n    },\n    {\n      \"column\": 3,\n      \"properties\": {\n        \"dtype\": \"string\",\n        \"num_unique_values\": 190,\n        \"samples\": [\n          \"161                                \",\n          \"2                                \",\n          \"1974                                \"\n        ],\n        \"semantic_type\": \"\",\n        \"description\": \"\"\n      }\n    },\n    {\n      \"column\": 4,\n      \"properties\": {\n        \"dtype\": \"number\",\n        \"std\": 6.337843513973135,\n        \"min\": -1.0,\n        \"max\": 57.0,\n        \"num_unique_values\": 5,\n        \"samples\": [\n          7.0,\n          34.0,\n          -1.0\n        ],\n        \"semantic_type\": \"\",\n        \"description\": \"\"\n      }\n    },\n    {\n      \"column\": 5,\n      \"properties\": {\n        \"dtype\": \"string\",\n        \"num_unique_values\": 158,\n        \"samples\": [\n          \"16907\",\n          \"1177145\",\n          \"11976\"\n        ],\n        \"semantic_type\": \"\",\n        \"description\": \"\"\n      }\n    },\n    {\n      \"column\": 6,\n      \"properties\": {\n        \"dtype\": \"number\",\n        \"std\": 1658.274153404647,\n        \"min\": -1.0,\n        \"max\": 14953.0,\n        \"num_unique_values\": 10,\n        \"samples\": [\n          17.0,\n          10109.0,\n          350.0\n        ],\n        \"semantic_type\": \"\",\n        \"description\": \"\"\n      }\n    },\n    {\n      \"column\": 7,\n      \"properties\": {\n        \"dtype\": \"string\",\n        \"num_unique_values\": 152,\n        \"samples\": [\n          \"99893\",\n          \"3104\",\n          \"824\"\n        ],\n        \"semantic_type\": \"\",\n        \"description\": \"\"\n      }\n    },\n    {\n      \"column\": 8,\n      \"properties\": {\n        \"dtype\": \"category\",\n        \"num_unique_values\": 32,\n        \"samples\": [\n          \"131\",\n          \"59\",\n          \"31\"\n        ],\n        \"semantic_type\": \"\",\n        \"description\": \"\"\n      }\n    },\n    {\n      \"column\": 9,\n      \"properties\": {\n        \"dtype\": \"string\",\n        \"num_unique_values\": 204,\n        \"samples\": [\n          \"88665\",\n          \"297840\",\n          \"576421\"\n        ],\n        \"semantic_type\": \"\",\n        \"description\": \"\"\n      }\n    },\n    {\n      \"column\": 10,\n      \"properties\": {\n        \"dtype\": \"string\",\n        \"num_unique_values\": 189,\n        \"samples\": [\n          \"728\",\n          \"44\",\n          \"2780\"\n        ],\n        \"semantic_type\": \"\",\n        \"description\": \"\"\n      }\n    },\n    {\n      \"column\": 11,\n      \"properties\": {\n        \"dtype\": \"string\",\n        \"num_unique_values\": 191,\n        \"samples\": [\n          \"196855\",\n          \"4065369\",\n          \"182981\"\n        ],\n        \"semantic_type\": \"\",\n        \"description\": \"\"\n      }\n    },\n    {\n      \"column\": 12,\n      \"properties\": {\n        \"dtype\": \"string\",\n        \"num_unique_values\": 192,\n        \"samples\": [\n          \"3959997\",\n          \"1653068\",\n          \"352782\"\n        ],\n        \"semantic_type\": \"\",\n        \"description\": \"\"\n      }\n    },\n    {\n      \"column\": 13,\n      \"properties\": {\n        \"dtype\": \"string\",\n        \"num_unique_values\": 203,\n        \"samples\": [\n          \"86022837 \",\n          \"46719142 \",\n          \"176463 \"\n        ],\n        \"semantic_type\": \"\",\n        \"description\": \"\"\n      }\n    },\n    {\n      \"column\": 14,\n      \"properties\": {\n        \"dtype\": \"category\",\n        \"num_unique_values\": 7,\n        \"samples\": [\n          \"All\",\n          \"North America\",\n          \"Australia/Oceania\"\n        ],\n        \"semantic_type\": \"\",\n        \"description\": \"\"\n      }\n    }\n  ]\n}",
       "type": "dataframe",
       "variable_name": "df"
      },
      "text/html": [
       "\n",
       "  <div id=\"df-267962e1-7221-4e3f-a422-6cd57942d7fc\" class=\"colab-df-container\">\n",
       "    <div>\n",
       "<style scoped>\n",
       "    .dataframe tbody tr th:only-of-type {\n",
       "        vertical-align: middle;\n",
       "    }\n",
       "\n",
       "    .dataframe tbody tr th {\n",
       "        vertical-align: top;\n",
       "    }\n",
       "\n",
       "    .dataframe thead th {\n",
       "        text-align: right;\n",
       "    }\n",
       "</style>\n",
       "<table border=\"1\" class=\"dataframe\">\n",
       "  <thead>\n",
       "    <tr style=\"text-align: right;\">\n",
       "      <th></th>\n",
       "      <th>0</th>\n",
       "      <th>1</th>\n",
       "      <th>2</th>\n",
       "      <th>3</th>\n",
       "      <th>4</th>\n",
       "      <th>5</th>\n",
       "      <th>6</th>\n",
       "      <th>7</th>\n",
       "      <th>8</th>\n",
       "      <th>9</th>\n",
       "      <th>10</th>\n",
       "      <th>11</th>\n",
       "      <th>12</th>\n",
       "      <th>13</th>\n",
       "      <th>14</th>\n",
       "    </tr>\n",
       "  </thead>\n",
       "  <tbody>\n",
       "    <tr>\n",
       "      <th>0</th>\n",
       "      <td>World</td>\n",
       "      <td>704753890</td>\n",
       "      <td>3959.0</td>\n",
       "      <td>7010681</td>\n",
       "      <td>57.0</td>\n",
       "      <td>675619021</td>\n",
       "      <td>14953.0</td>\n",
       "      <td>22124188</td>\n",
       "      <td>34791</td>\n",
       "      <td>90413</td>\n",
       "      <td>899.4</td>\n",
       "      <td>-1</td>\n",
       "      <td>-1</td>\n",
       "      <td>-1</td>\n",
       "      <td>All</td>\n",
       "    </tr>\n",
       "    <tr>\n",
       "      <th>1</th>\n",
       "      <td>USA</td>\n",
       "      <td>111820082</td>\n",
       "      <td>1151.0</td>\n",
       "      <td>1219487</td>\n",
       "      <td>7.0</td>\n",
       "      <td>109814428</td>\n",
       "      <td>10109.0</td>\n",
       "      <td>786167</td>\n",
       "      <td>940</td>\n",
       "      <td>333985</td>\n",
       "      <td>3642</td>\n",
       "      <td>1186851502</td>\n",
       "      <td>3544901</td>\n",
       "      <td>334805269</td>\n",
       "      <td>North America</td>\n",
       "    </tr>\n",
       "    <tr>\n",
       "      <th>2</th>\n",
       "      <td>India</td>\n",
       "      <td>45035393</td>\n",
       "      <td>68.0</td>\n",
       "      <td>533570</td>\n",
       "      <td>-1.0</td>\n",
       "      <td>0</td>\n",
       "      <td>0.0</td>\n",
       "      <td>0</td>\n",
       "      <td>0</td>\n",
       "      <td>32016</td>\n",
       "      <td>379</td>\n",
       "      <td>935879495</td>\n",
       "      <td>665334</td>\n",
       "      <td>1406631776</td>\n",
       "      <td>Asia</td>\n",
       "    </tr>\n",
       "    <tr>\n",
       "      <th>3</th>\n",
       "      <td>Germany</td>\n",
       "      <td>38828995</td>\n",
       "      <td>73.0</td>\n",
       "      <td>183027</td>\n",
       "      <td>16.0</td>\n",
       "      <td>38240600</td>\n",
       "      <td>-1.0</td>\n",
       "      <td>405368</td>\n",
       "      <td>0</td>\n",
       "      <td>462891</td>\n",
       "      <td>2182</td>\n",
       "      <td>122332384</td>\n",
       "      <td>1458359</td>\n",
       "      <td>83883596</td>\n",
       "      <td>Europe</td>\n",
       "    </tr>\n",
       "    <tr>\n",
       "      <th>4</th>\n",
       "      <td>Brazil</td>\n",
       "      <td>38743918</td>\n",
       "      <td>-1.0</td>\n",
       "      <td>711380</td>\n",
       "      <td>-1.0</td>\n",
       "      <td>36249161</td>\n",
       "      <td>-1.0</td>\n",
       "      <td>1783377</td>\n",
       "      <td>0</td>\n",
       "      <td>179908</td>\n",
       "      <td>3303</td>\n",
       "      <td>63776166</td>\n",
       "      <td>296146</td>\n",
       "      <td>215353593</td>\n",
       "      <td>South America</td>\n",
       "    </tr>\n",
       "    <tr>\n",
       "      <th>5</th>\n",
       "      <td>Japan</td>\n",
       "      <td>33803572</td>\n",
       "      <td>-1.0</td>\n",
       "      <td>74694</td>\n",
       "      <td>-1.0</td>\n",
       "      <td>0</td>\n",
       "      <td>0.0</td>\n",
       "      <td>0</td>\n",
       "      <td>0</td>\n",
       "      <td>269169</td>\n",
       "      <td>595</td>\n",
       "      <td>100414883</td>\n",
       "      <td>799578</td>\n",
       "      <td>125584838</td>\n",
       "      <td>Asia</td>\n",
       "    </tr>\n",
       "    <tr>\n",
       "      <th>6</th>\n",
       "      <td>Italy</td>\n",
       "      <td>26723249</td>\n",
       "      <td>-1.0</td>\n",
       "      <td>196487</td>\n",
       "      <td>-1.0</td>\n",
       "      <td>26361218</td>\n",
       "      <td>-1.0</td>\n",
       "      <td>165544</td>\n",
       "      <td>22</td>\n",
       "      <td>443445</td>\n",
       "      <td>3261</td>\n",
       "      <td>281126449</td>\n",
       "      <td>4665010</td>\n",
       "      <td>60262770</td>\n",
       "      <td>Europe</td>\n",
       "    </tr>\n",
       "    <tr>\n",
       "      <th>7</th>\n",
       "      <td>Russia</td>\n",
       "      <td>24124215</td>\n",
       "      <td>-1.0</td>\n",
       "      <td>402756</td>\n",
       "      <td>-1.0</td>\n",
       "      <td>23545818</td>\n",
       "      <td>-1.0</td>\n",
       "      <td>175641</td>\n",
       "      <td>0</td>\n",
       "      <td>165454</td>\n",
       "      <td>2762</td>\n",
       "      <td>273400000</td>\n",
       "      <td>1875095</td>\n",
       "      <td>145805947</td>\n",
       "      <td>Europe</td>\n",
       "    </tr>\n",
       "    <tr>\n",
       "      <th>8</th>\n",
       "      <td>Turkey</td>\n",
       "      <td>17232066</td>\n",
       "      <td>-1.0</td>\n",
       "      <td>102174</td>\n",
       "      <td>-1.0</td>\n",
       "      <td>0</td>\n",
       "      <td>0.0</td>\n",
       "      <td>0</td>\n",
       "      <td>0</td>\n",
       "      <td>201399</td>\n",
       "      <td>1194</td>\n",
       "      <td>162743369</td>\n",
       "      <td>1902052</td>\n",
       "      <td>85561976</td>\n",
       "      <td>Asia</td>\n",
       "    </tr>\n",
       "    <tr>\n",
       "      <th>9</th>\n",
       "      <td>Spain</td>\n",
       "      <td>13914811</td>\n",
       "      <td>-1.0</td>\n",
       "      <td>121760</td>\n",
       "      <td>-1.0</td>\n",
       "      <td>13762417</td>\n",
       "      <td>-1.0</td>\n",
       "      <td>30634</td>\n",
       "      <td>231</td>\n",
       "      <td>297840</td>\n",
       "      <td>2606</td>\n",
       "      <td>471036328</td>\n",
       "      <td>10082298</td>\n",
       "      <td>46719142</td>\n",
       "      <td>Europe</td>\n",
       "    </tr>\n",
       "  </tbody>\n",
       "</table>\n",
       "</div>\n",
       "    <div class=\"colab-df-buttons\">\n",
       "\n",
       "  <div class=\"colab-df-container\">\n",
       "    <button class=\"colab-df-convert\" onclick=\"convertToInteractive('df-267962e1-7221-4e3f-a422-6cd57942d7fc')\"\n",
       "            title=\"Convert this dataframe to an interactive table.\"\n",
       "            style=\"display:none;\">\n",
       "\n",
       "  <svg xmlns=\"http://www.w3.org/2000/svg\" height=\"24px\" viewBox=\"0 -960 960 960\">\n",
       "    <path d=\"M120-120v-720h720v720H120Zm60-500h600v-160H180v160Zm220 220h160v-160H400v160Zm0 220h160v-160H400v160ZM180-400h160v-160H180v160Zm440 0h160v-160H620v160ZM180-180h160v-160H180v160Zm440 0h160v-160H620v160Z\"/>\n",
       "  </svg>\n",
       "    </button>\n",
       "\n",
       "  <style>\n",
       "    .colab-df-container {\n",
       "      display:flex;\n",
       "      gap: 12px;\n",
       "    }\n",
       "\n",
       "    .colab-df-convert {\n",
       "      background-color: #E8F0FE;\n",
       "      border: none;\n",
       "      border-radius: 50%;\n",
       "      cursor: pointer;\n",
       "      display: none;\n",
       "      fill: #1967D2;\n",
       "      height: 32px;\n",
       "      padding: 0 0 0 0;\n",
       "      width: 32px;\n",
       "    }\n",
       "\n",
       "    .colab-df-convert:hover {\n",
       "      background-color: #E2EBFA;\n",
       "      box-shadow: 0px 1px 2px rgba(60, 64, 67, 0.3), 0px 1px 3px 1px rgba(60, 64, 67, 0.15);\n",
       "      fill: #174EA6;\n",
       "    }\n",
       "\n",
       "    .colab-df-buttons div {\n",
       "      margin-bottom: 4px;\n",
       "    }\n",
       "\n",
       "    [theme=dark] .colab-df-convert {\n",
       "      background-color: #3B4455;\n",
       "      fill: #D2E3FC;\n",
       "    }\n",
       "\n",
       "    [theme=dark] .colab-df-convert:hover {\n",
       "      background-color: #434B5C;\n",
       "      box-shadow: 0px 1px 3px 1px rgba(0, 0, 0, 0.15);\n",
       "      filter: drop-shadow(0px 1px 2px rgba(0, 0, 0, 0.3));\n",
       "      fill: #FFFFFF;\n",
       "    }\n",
       "  </style>\n",
       "\n",
       "    <script>\n",
       "      const buttonEl =\n",
       "        document.querySelector('#df-267962e1-7221-4e3f-a422-6cd57942d7fc button.colab-df-convert');\n",
       "      buttonEl.style.display =\n",
       "        google.colab.kernel.accessAllowed ? 'block' : 'none';\n",
       "\n",
       "      async function convertToInteractive(key) {\n",
       "        const element = document.querySelector('#df-267962e1-7221-4e3f-a422-6cd57942d7fc');\n",
       "        const dataTable =\n",
       "          await google.colab.kernel.invokeFunction('convertToInteractive',\n",
       "                                                    [key], {});\n",
       "        if (!dataTable) return;\n",
       "\n",
       "        const docLinkHtml = 'Like what you see? Visit the ' +\n",
       "          '<a target=\"_blank\" href=https://colab.research.google.com/notebooks/data_table.ipynb>data table notebook</a>'\n",
       "          + ' to learn more about interactive tables.';\n",
       "        element.innerHTML = '';\n",
       "        dataTable['output_type'] = 'display_data';\n",
       "        await google.colab.output.renderOutput(dataTable, element);\n",
       "        const docLink = document.createElement('div');\n",
       "        docLink.innerHTML = docLinkHtml;\n",
       "        element.appendChild(docLink);\n",
       "      }\n",
       "    </script>\n",
       "  </div>\n",
       "\n",
       "\n",
       "<div id=\"df-dcffd2c8-5886-4bae-9156-1d4ad76193b0\">\n",
       "  <button class=\"colab-df-quickchart\" onclick=\"quickchart('df-dcffd2c8-5886-4bae-9156-1d4ad76193b0')\"\n",
       "            title=\"Suggest charts\"\n",
       "            style=\"display:none;\">\n",
       "\n",
       "<svg xmlns=\"http://www.w3.org/2000/svg\" height=\"24px\"viewBox=\"0 0 24 24\"\n",
       "     width=\"24px\">\n",
       "    <g>\n",
       "        <path d=\"M19 3H5c-1.1 0-2 .9-2 2v14c0 1.1.9 2 2 2h14c1.1 0 2-.9 2-2V5c0-1.1-.9-2-2-2zM9 17H7v-7h2v7zm4 0h-2V7h2v10zm4 0h-2v-4h2v4z\"/>\n",
       "    </g>\n",
       "</svg>\n",
       "  </button>\n",
       "\n",
       "<style>\n",
       "  .colab-df-quickchart {\n",
       "      --bg-color: #E8F0FE;\n",
       "      --fill-color: #1967D2;\n",
       "      --hover-bg-color: #E2EBFA;\n",
       "      --hover-fill-color: #174EA6;\n",
       "      --disabled-fill-color: #AAA;\n",
       "      --disabled-bg-color: #DDD;\n",
       "  }\n",
       "\n",
       "  [theme=dark] .colab-df-quickchart {\n",
       "      --bg-color: #3B4455;\n",
       "      --fill-color: #D2E3FC;\n",
       "      --hover-bg-color: #434B5C;\n",
       "      --hover-fill-color: #FFFFFF;\n",
       "      --disabled-bg-color: #3B4455;\n",
       "      --disabled-fill-color: #666;\n",
       "  }\n",
       "\n",
       "  .colab-df-quickchart {\n",
       "    background-color: var(--bg-color);\n",
       "    border: none;\n",
       "    border-radius: 50%;\n",
       "    cursor: pointer;\n",
       "    display: none;\n",
       "    fill: var(--fill-color);\n",
       "    height: 32px;\n",
       "    padding: 0;\n",
       "    width: 32px;\n",
       "  }\n",
       "\n",
       "  .colab-df-quickchart:hover {\n",
       "    background-color: var(--hover-bg-color);\n",
       "    box-shadow: 0 1px 2px rgba(60, 64, 67, 0.3), 0 1px 3px 1px rgba(60, 64, 67, 0.15);\n",
       "    fill: var(--button-hover-fill-color);\n",
       "  }\n",
       "\n",
       "  .colab-df-quickchart-complete:disabled,\n",
       "  .colab-df-quickchart-complete:disabled:hover {\n",
       "    background-color: var(--disabled-bg-color);\n",
       "    fill: var(--disabled-fill-color);\n",
       "    box-shadow: none;\n",
       "  }\n",
       "\n",
       "  .colab-df-spinner {\n",
       "    border: 2px solid var(--fill-color);\n",
       "    border-color: transparent;\n",
       "    border-bottom-color: var(--fill-color);\n",
       "    animation:\n",
       "      spin 1s steps(1) infinite;\n",
       "  }\n",
       "\n",
       "  @keyframes spin {\n",
       "    0% {\n",
       "      border-color: transparent;\n",
       "      border-bottom-color: var(--fill-color);\n",
       "      border-left-color: var(--fill-color);\n",
       "    }\n",
       "    20% {\n",
       "      border-color: transparent;\n",
       "      border-left-color: var(--fill-color);\n",
       "      border-top-color: var(--fill-color);\n",
       "    }\n",
       "    30% {\n",
       "      border-color: transparent;\n",
       "      border-left-color: var(--fill-color);\n",
       "      border-top-color: var(--fill-color);\n",
       "      border-right-color: var(--fill-color);\n",
       "    }\n",
       "    40% {\n",
       "      border-color: transparent;\n",
       "      border-right-color: var(--fill-color);\n",
       "      border-top-color: var(--fill-color);\n",
       "    }\n",
       "    60% {\n",
       "      border-color: transparent;\n",
       "      border-right-color: var(--fill-color);\n",
       "    }\n",
       "    80% {\n",
       "      border-color: transparent;\n",
       "      border-right-color: var(--fill-color);\n",
       "      border-bottom-color: var(--fill-color);\n",
       "    }\n",
       "    90% {\n",
       "      border-color: transparent;\n",
       "      border-bottom-color: var(--fill-color);\n",
       "    }\n",
       "  }\n",
       "</style>\n",
       "\n",
       "  <script>\n",
       "    async function quickchart(key) {\n",
       "      const quickchartButtonEl =\n",
       "        document.querySelector('#' + key + ' button');\n",
       "      quickchartButtonEl.disabled = true;  // To prevent multiple clicks.\n",
       "      quickchartButtonEl.classList.add('colab-df-spinner');\n",
       "      try {\n",
       "        const charts = await google.colab.kernel.invokeFunction(\n",
       "            'suggestCharts', [key], {});\n",
       "      } catch (error) {\n",
       "        console.error('Error during call to suggestCharts:', error);\n",
       "      }\n",
       "      quickchartButtonEl.classList.remove('colab-df-spinner');\n",
       "      quickchartButtonEl.classList.add('colab-df-quickchart-complete');\n",
       "    }\n",
       "    (() => {\n",
       "      let quickchartButtonEl =\n",
       "        document.querySelector('#df-dcffd2c8-5886-4bae-9156-1d4ad76193b0 button');\n",
       "      quickchartButtonEl.style.display =\n",
       "        google.colab.kernel.accessAllowed ? 'block' : 'none';\n",
       "    })();\n",
       "  </script>\n",
       "</div>\n",
       "\n",
       "    </div>\n",
       "  </div>\n"
      ],
      "text/plain": [
       "        0          1       2                                        3     4   \\\n",
       "0    World  704753890  3959.0                                  7010681  57.0   \n",
       "1      USA  111820082  1151.0  1219487                                   7.0   \n",
       "2    India   45035393    68.0   533570                                  -1.0   \n",
       "3  Germany   38828995    73.0   183027                                  16.0   \n",
       "4   Brazil   38743918    -1.0   711380                                  -1.0   \n",
       "5    Japan   33803572    -1.0    74694                                  -1.0   \n",
       "6    Italy   26723249    -1.0   196487                                  -1.0   \n",
       "7   Russia   24124215    -1.0   402756                                  -1.0   \n",
       "8   Turkey   17232066    -1.0   102174                                  -1.0   \n",
       "9    Spain   13914811    -1.0   121760                                  -1.0   \n",
       "\n",
       "          5        6         7      8       9      10          11        12  \\\n",
       "0  675619021  14953.0  22124188  34791   90413  899.4          -1        -1   \n",
       "1  109814428  10109.0    786167    940  333985   3642  1186851502   3544901   \n",
       "2          0      0.0         0      0   32016    379   935879495    665334   \n",
       "3   38240600     -1.0    405368      0  462891   2182   122332384   1458359   \n",
       "4   36249161     -1.0   1783377      0  179908   3303    63776166    296146   \n",
       "5          0      0.0         0      0  269169    595   100414883    799578   \n",
       "6   26361218     -1.0    165544     22  443445   3261   281126449   4665010   \n",
       "7   23545818     -1.0    175641      0  165454   2762   273400000   1875095   \n",
       "8          0      0.0         0      0  201399   1194   162743369   1902052   \n",
       "9   13762417     -1.0     30634    231  297840   2606   471036328  10082298   \n",
       "\n",
       "            13             14  \n",
       "0           -1            All  \n",
       "1   334805269   North America  \n",
       "2  1406631776            Asia  \n",
       "3    83883596          Europe  \n",
       "4   215353593   South America  \n",
       "5   125584838            Asia  \n",
       "6    60262770          Europe  \n",
       "7   145805947          Europe  \n",
       "8    85561976            Asia  \n",
       "9    46719142          Europe  "
      ]
     },
     "execution_count": 8,
     "metadata": {},
     "output_type": "execute_result"
    }
   ],
   "source": [
    "df= pd.DataFrame(all_data)\n",
    "df.drop([15,16,17,18,19,20],inplace = True, axis= 1)\n",
    "df.head(10)"
   ]
  },
  {
   "cell_type": "code",
   "execution_count": 9,
   "metadata": {
    "colab": {
     "base_uri": "https://localhost:8080/",
     "height": 410
    },
    "id": "VjpIOG8g_8yC",
    "outputId": "1d8b8e66-2fee-4010-e558-01dc496f7c7f"
   },
   "outputs": [
    {
     "data": {
      "application/vnd.google.colaboratory.intrinsic+json": {
       "summary": "{\n  \"name\": \"df\",\n  \"rows\": 204,\n  \"fields\": [\n    {\n      \"column\": \"Country\",\n      \"properties\": {\n        \"dtype\": \"string\",\n        \"num_unique_values\": 204,\n        \"samples\": [\n          \"Iran\",\n          \"Spain\",\n          \"Channel Islands\"\n        ],\n        \"semantic_type\": \"\",\n        \"description\": \"\"\n      }\n    },\n    {\n      \"column\": \"Total Cases\",\n      \"properties\": {\n        \"dtype\": \"string\",\n        \"num_unique_values\": 203,\n        \"samples\": [\n          \"7627186\",\n          \"13914811\",\n          \"101717\"\n        ],\n        \"semantic_type\": \"\",\n        \"description\": \"\"\n      }\n    },\n    {\n      \"column\": \"New Cases\",\n      \"properties\": {\n        \"dtype\": \"number\",\n        \"std\": 411.77149808806524,\n        \"min\": -1.0,\n        \"max\": 3959.0,\n        \"num_unique_values\": 11,\n        \"samples\": [\n          664.0,\n          3959.0,\n          20.0\n        ],\n        \"semantic_type\": \"\",\n        \"description\": \"\"\n      }\n    },\n    {\n      \"column\": \"Total Deaths\",\n      \"properties\": {\n        \"dtype\": \"string\",\n        \"num_unique_values\": 190,\n        \"samples\": [\n          \"161                                \",\n          \"2                                \",\n          \"1974                                \"\n        ],\n        \"semantic_type\": \"\",\n        \"description\": \"\"\n      }\n    },\n    {\n      \"column\": \"New Deaths\",\n      \"properties\": {\n        \"dtype\": \"number\",\n        \"std\": 6.337843513973135,\n        \"min\": -1.0,\n        \"max\": 57.0,\n        \"num_unique_values\": 5,\n        \"samples\": [\n          7.0,\n          34.0,\n          -1.0\n        ],\n        \"semantic_type\": \"\",\n        \"description\": \"\"\n      }\n    },\n    {\n      \"column\": \"Total Recovered\",\n      \"properties\": {\n        \"dtype\": \"string\",\n        \"num_unique_values\": 158,\n        \"samples\": [\n          \"16907\",\n          \"1177145\",\n          \"11976\"\n        ],\n        \"semantic_type\": \"\",\n        \"description\": \"\"\n      }\n    },\n    {\n      \"column\": \"New Recovered\",\n      \"properties\": {\n        \"dtype\": \"number\",\n        \"std\": 1658.274153404647,\n        \"min\": -1.0,\n        \"max\": 14953.0,\n        \"num_unique_values\": 10,\n        \"samples\": [\n          17.0,\n          10109.0,\n          350.0\n        ],\n        \"semantic_type\": \"\",\n        \"description\": \"\"\n      }\n    },\n    {\n      \"column\": \"Active Cases\",\n      \"properties\": {\n        \"dtype\": \"string\",\n        \"num_unique_values\": 152,\n        \"samples\": [\n          \"99893\",\n          \"3104\",\n          \"824\"\n        ],\n        \"semantic_type\": \"\",\n        \"description\": \"\"\n      }\n    },\n    {\n      \"column\": \"Serios/Critical\",\n      \"properties\": {\n        \"dtype\": \"category\",\n        \"num_unique_values\": 32,\n        \"samples\": [\n          \"131\",\n          \"59\",\n          \"31\"\n        ],\n        \"semantic_type\": \"\",\n        \"description\": \"\"\n      }\n    },\n    {\n      \"column\": \"Total Cases/1M\",\n      \"properties\": {\n        \"dtype\": \"string\",\n        \"num_unique_values\": 204,\n        \"samples\": [\n          \"88665\",\n          \"297840\",\n          \"576421\"\n        ],\n        \"semantic_type\": \"\",\n        \"description\": \"\"\n      }\n    },\n    {\n      \"column\": \"Deaths/1M\",\n      \"properties\": {\n        \"dtype\": \"string\",\n        \"num_unique_values\": 189,\n        \"samples\": [\n          \"728\",\n          \"44\",\n          \"2780\"\n        ],\n        \"semantic_type\": \"\",\n        \"description\": \"\"\n      }\n    },\n    {\n      \"column\": \"Total Tests\",\n      \"properties\": {\n        \"dtype\": \"string\",\n        \"num_unique_values\": 191,\n        \"samples\": [\n          \"196855\",\n          \"4065369\",\n          \"182981\"\n        ],\n        \"semantic_type\": \"\",\n        \"description\": \"\"\n      }\n    },\n    {\n      \"column\": \"Test/1M\",\n      \"properties\": {\n        \"dtype\": \"string\",\n        \"num_unique_values\": 192,\n        \"samples\": [\n          \"3959997\",\n          \"1653068\",\n          \"352782\"\n        ],\n        \"semantic_type\": \"\",\n        \"description\": \"\"\n      }\n    },\n    {\n      \"column\": \"Population\",\n      \"properties\": {\n        \"dtype\": \"string\",\n        \"num_unique_values\": 203,\n        \"samples\": [\n          \"86022837 \",\n          \"46719142 \",\n          \"176463 \"\n        ],\n        \"semantic_type\": \"\",\n        \"description\": \"\"\n      }\n    },\n    {\n      \"column\": \"Continent\",\n      \"properties\": {\n        \"dtype\": \"category\",\n        \"num_unique_values\": 7,\n        \"samples\": [\n          \"All\",\n          \"North America\",\n          \"Australia/Oceania\"\n        ],\n        \"semantic_type\": \"\",\n        \"description\": \"\"\n      }\n    }\n  ]\n}",
       "type": "dataframe",
       "variable_name": "df"
      },
      "text/html": [
       "\n",
       "  <div id=\"df-add9ebd1-3772-4414-b386-1c0efda605a3\" class=\"colab-df-container\">\n",
       "    <div>\n",
       "<style scoped>\n",
       "    .dataframe tbody tr th:only-of-type {\n",
       "        vertical-align: middle;\n",
       "    }\n",
       "\n",
       "    .dataframe tbody tr th {\n",
       "        vertical-align: top;\n",
       "    }\n",
       "\n",
       "    .dataframe thead th {\n",
       "        text-align: right;\n",
       "    }\n",
       "</style>\n",
       "<table border=\"1\" class=\"dataframe\">\n",
       "  <thead>\n",
       "    <tr style=\"text-align: right;\">\n",
       "      <th></th>\n",
       "      <th>Country</th>\n",
       "      <th>Total Cases</th>\n",
       "      <th>New Cases</th>\n",
       "      <th>Total Deaths</th>\n",
       "      <th>New Deaths</th>\n",
       "      <th>Total Recovered</th>\n",
       "      <th>New Recovered</th>\n",
       "      <th>Active Cases</th>\n",
       "      <th>Serios/Critical</th>\n",
       "      <th>Total Cases/1M</th>\n",
       "      <th>Deaths/1M</th>\n",
       "      <th>Total Tests</th>\n",
       "      <th>Test/1M</th>\n",
       "      <th>Population</th>\n",
       "      <th>Continent</th>\n",
       "    </tr>\n",
       "  </thead>\n",
       "  <tbody>\n",
       "    <tr>\n",
       "      <th>0</th>\n",
       "      <td>World</td>\n",
       "      <td>704753890</td>\n",
       "      <td>3959.0</td>\n",
       "      <td>7010681</td>\n",
       "      <td>57.0</td>\n",
       "      <td>675619021</td>\n",
       "      <td>14953.0</td>\n",
       "      <td>22124188</td>\n",
       "      <td>34791</td>\n",
       "      <td>90413</td>\n",
       "      <td>899.4</td>\n",
       "      <td>-1</td>\n",
       "      <td>-1</td>\n",
       "      <td>-1</td>\n",
       "      <td>All</td>\n",
       "    </tr>\n",
       "    <tr>\n",
       "      <th>1</th>\n",
       "      <td>USA</td>\n",
       "      <td>111820082</td>\n",
       "      <td>1151.0</td>\n",
       "      <td>1219487</td>\n",
       "      <td>7.0</td>\n",
       "      <td>109814428</td>\n",
       "      <td>10109.0</td>\n",
       "      <td>786167</td>\n",
       "      <td>940</td>\n",
       "      <td>333985</td>\n",
       "      <td>3642</td>\n",
       "      <td>1186851502</td>\n",
       "      <td>3544901</td>\n",
       "      <td>334805269</td>\n",
       "      <td>North America</td>\n",
       "    </tr>\n",
       "    <tr>\n",
       "      <th>2</th>\n",
       "      <td>India</td>\n",
       "      <td>45035393</td>\n",
       "      <td>68.0</td>\n",
       "      <td>533570</td>\n",
       "      <td>-1.0</td>\n",
       "      <td>0</td>\n",
       "      <td>0.0</td>\n",
       "      <td>0</td>\n",
       "      <td>0</td>\n",
       "      <td>32016</td>\n",
       "      <td>379</td>\n",
       "      <td>935879495</td>\n",
       "      <td>665334</td>\n",
       "      <td>1406631776</td>\n",
       "      <td>Asia</td>\n",
       "    </tr>\n",
       "    <tr>\n",
       "      <th>3</th>\n",
       "      <td>Germany</td>\n",
       "      <td>38828995</td>\n",
       "      <td>73.0</td>\n",
       "      <td>183027</td>\n",
       "      <td>16.0</td>\n",
       "      <td>38240600</td>\n",
       "      <td>-1.0</td>\n",
       "      <td>405368</td>\n",
       "      <td>0</td>\n",
       "      <td>462891</td>\n",
       "      <td>2182</td>\n",
       "      <td>122332384</td>\n",
       "      <td>1458359</td>\n",
       "      <td>83883596</td>\n",
       "      <td>Europe</td>\n",
       "    </tr>\n",
       "    <tr>\n",
       "      <th>4</th>\n",
       "      <td>Brazil</td>\n",
       "      <td>38743918</td>\n",
       "      <td>-1.0</td>\n",
       "      <td>711380</td>\n",
       "      <td>-1.0</td>\n",
       "      <td>36249161</td>\n",
       "      <td>-1.0</td>\n",
       "      <td>1783377</td>\n",
       "      <td>0</td>\n",
       "      <td>179908</td>\n",
       "      <td>3303</td>\n",
       "      <td>63776166</td>\n",
       "      <td>296146</td>\n",
       "      <td>215353593</td>\n",
       "      <td>South America</td>\n",
       "    </tr>\n",
       "    <tr>\n",
       "      <th>5</th>\n",
       "      <td>Japan</td>\n",
       "      <td>33803572</td>\n",
       "      <td>-1.0</td>\n",
       "      <td>74694</td>\n",
       "      <td>-1.0</td>\n",
       "      <td>0</td>\n",
       "      <td>0.0</td>\n",
       "      <td>0</td>\n",
       "      <td>0</td>\n",
       "      <td>269169</td>\n",
       "      <td>595</td>\n",
       "      <td>100414883</td>\n",
       "      <td>799578</td>\n",
       "      <td>125584838</td>\n",
       "      <td>Asia</td>\n",
       "    </tr>\n",
       "    <tr>\n",
       "      <th>6</th>\n",
       "      <td>Italy</td>\n",
       "      <td>26723249</td>\n",
       "      <td>-1.0</td>\n",
       "      <td>196487</td>\n",
       "      <td>-1.0</td>\n",
       "      <td>26361218</td>\n",
       "      <td>-1.0</td>\n",
       "      <td>165544</td>\n",
       "      <td>22</td>\n",
       "      <td>443445</td>\n",
       "      <td>3261</td>\n",
       "      <td>281126449</td>\n",
       "      <td>4665010</td>\n",
       "      <td>60262770</td>\n",
       "      <td>Europe</td>\n",
       "    </tr>\n",
       "    <tr>\n",
       "      <th>7</th>\n",
       "      <td>Russia</td>\n",
       "      <td>24124215</td>\n",
       "      <td>-1.0</td>\n",
       "      <td>402756</td>\n",
       "      <td>-1.0</td>\n",
       "      <td>23545818</td>\n",
       "      <td>-1.0</td>\n",
       "      <td>175641</td>\n",
       "      <td>0</td>\n",
       "      <td>165454</td>\n",
       "      <td>2762</td>\n",
       "      <td>273400000</td>\n",
       "      <td>1875095</td>\n",
       "      <td>145805947</td>\n",
       "      <td>Europe</td>\n",
       "    </tr>\n",
       "    <tr>\n",
       "      <th>8</th>\n",
       "      <td>Turkey</td>\n",
       "      <td>17232066</td>\n",
       "      <td>-1.0</td>\n",
       "      <td>102174</td>\n",
       "      <td>-1.0</td>\n",
       "      <td>0</td>\n",
       "      <td>0.0</td>\n",
       "      <td>0</td>\n",
       "      <td>0</td>\n",
       "      <td>201399</td>\n",
       "      <td>1194</td>\n",
       "      <td>162743369</td>\n",
       "      <td>1902052</td>\n",
       "      <td>85561976</td>\n",
       "      <td>Asia</td>\n",
       "    </tr>\n",
       "    <tr>\n",
       "      <th>9</th>\n",
       "      <td>Spain</td>\n",
       "      <td>13914811</td>\n",
       "      <td>-1.0</td>\n",
       "      <td>121760</td>\n",
       "      <td>-1.0</td>\n",
       "      <td>13762417</td>\n",
       "      <td>-1.0</td>\n",
       "      <td>30634</td>\n",
       "      <td>231</td>\n",
       "      <td>297840</td>\n",
       "      <td>2606</td>\n",
       "      <td>471036328</td>\n",
       "      <td>10082298</td>\n",
       "      <td>46719142</td>\n",
       "      <td>Europe</td>\n",
       "    </tr>\n",
       "  </tbody>\n",
       "</table>\n",
       "</div>\n",
       "    <div class=\"colab-df-buttons\">\n",
       "\n",
       "  <div class=\"colab-df-container\">\n",
       "    <button class=\"colab-df-convert\" onclick=\"convertToInteractive('df-add9ebd1-3772-4414-b386-1c0efda605a3')\"\n",
       "            title=\"Convert this dataframe to an interactive table.\"\n",
       "            style=\"display:none;\">\n",
       "\n",
       "  <svg xmlns=\"http://www.w3.org/2000/svg\" height=\"24px\" viewBox=\"0 -960 960 960\">\n",
       "    <path d=\"M120-120v-720h720v720H120Zm60-500h600v-160H180v160Zm220 220h160v-160H400v160Zm0 220h160v-160H400v160ZM180-400h160v-160H180v160Zm440 0h160v-160H620v160ZM180-180h160v-160H180v160Zm440 0h160v-160H620v160Z\"/>\n",
       "  </svg>\n",
       "    </button>\n",
       "\n",
       "  <style>\n",
       "    .colab-df-container {\n",
       "      display:flex;\n",
       "      gap: 12px;\n",
       "    }\n",
       "\n",
       "    .colab-df-convert {\n",
       "      background-color: #E8F0FE;\n",
       "      border: none;\n",
       "      border-radius: 50%;\n",
       "      cursor: pointer;\n",
       "      display: none;\n",
       "      fill: #1967D2;\n",
       "      height: 32px;\n",
       "      padding: 0 0 0 0;\n",
       "      width: 32px;\n",
       "    }\n",
       "\n",
       "    .colab-df-convert:hover {\n",
       "      background-color: #E2EBFA;\n",
       "      box-shadow: 0px 1px 2px rgba(60, 64, 67, 0.3), 0px 1px 3px 1px rgba(60, 64, 67, 0.15);\n",
       "      fill: #174EA6;\n",
       "    }\n",
       "\n",
       "    .colab-df-buttons div {\n",
       "      margin-bottom: 4px;\n",
       "    }\n",
       "\n",
       "    [theme=dark] .colab-df-convert {\n",
       "      background-color: #3B4455;\n",
       "      fill: #D2E3FC;\n",
       "    }\n",
       "\n",
       "    [theme=dark] .colab-df-convert:hover {\n",
       "      background-color: #434B5C;\n",
       "      box-shadow: 0px 1px 3px 1px rgba(0, 0, 0, 0.15);\n",
       "      filter: drop-shadow(0px 1px 2px rgba(0, 0, 0, 0.3));\n",
       "      fill: #FFFFFF;\n",
       "    }\n",
       "  </style>\n",
       "\n",
       "    <script>\n",
       "      const buttonEl =\n",
       "        document.querySelector('#df-add9ebd1-3772-4414-b386-1c0efda605a3 button.colab-df-convert');\n",
       "      buttonEl.style.display =\n",
       "        google.colab.kernel.accessAllowed ? 'block' : 'none';\n",
       "\n",
       "      async function convertToInteractive(key) {\n",
       "        const element = document.querySelector('#df-add9ebd1-3772-4414-b386-1c0efda605a3');\n",
       "        const dataTable =\n",
       "          await google.colab.kernel.invokeFunction('convertToInteractive',\n",
       "                                                    [key], {});\n",
       "        if (!dataTable) return;\n",
       "\n",
       "        const docLinkHtml = 'Like what you see? Visit the ' +\n",
       "          '<a target=\"_blank\" href=https://colab.research.google.com/notebooks/data_table.ipynb>data table notebook</a>'\n",
       "          + ' to learn more about interactive tables.';\n",
       "        element.innerHTML = '';\n",
       "        dataTable['output_type'] = 'display_data';\n",
       "        await google.colab.output.renderOutput(dataTable, element);\n",
       "        const docLink = document.createElement('div');\n",
       "        docLink.innerHTML = docLinkHtml;\n",
       "        element.appendChild(docLink);\n",
       "      }\n",
       "    </script>\n",
       "  </div>\n",
       "\n",
       "\n",
       "<div id=\"df-b9106e24-9dd0-48db-8eb4-6e20ddb9ca84\">\n",
       "  <button class=\"colab-df-quickchart\" onclick=\"quickchart('df-b9106e24-9dd0-48db-8eb4-6e20ddb9ca84')\"\n",
       "            title=\"Suggest charts\"\n",
       "            style=\"display:none;\">\n",
       "\n",
       "<svg xmlns=\"http://www.w3.org/2000/svg\" height=\"24px\"viewBox=\"0 0 24 24\"\n",
       "     width=\"24px\">\n",
       "    <g>\n",
       "        <path d=\"M19 3H5c-1.1 0-2 .9-2 2v14c0 1.1.9 2 2 2h14c1.1 0 2-.9 2-2V5c0-1.1-.9-2-2-2zM9 17H7v-7h2v7zm4 0h-2V7h2v10zm4 0h-2v-4h2v4z\"/>\n",
       "    </g>\n",
       "</svg>\n",
       "  </button>\n",
       "\n",
       "<style>\n",
       "  .colab-df-quickchart {\n",
       "      --bg-color: #E8F0FE;\n",
       "      --fill-color: #1967D2;\n",
       "      --hover-bg-color: #E2EBFA;\n",
       "      --hover-fill-color: #174EA6;\n",
       "      --disabled-fill-color: #AAA;\n",
       "      --disabled-bg-color: #DDD;\n",
       "  }\n",
       "\n",
       "  [theme=dark] .colab-df-quickchart {\n",
       "      --bg-color: #3B4455;\n",
       "      --fill-color: #D2E3FC;\n",
       "      --hover-bg-color: #434B5C;\n",
       "      --hover-fill-color: #FFFFFF;\n",
       "      --disabled-bg-color: #3B4455;\n",
       "      --disabled-fill-color: #666;\n",
       "  }\n",
       "\n",
       "  .colab-df-quickchart {\n",
       "    background-color: var(--bg-color);\n",
       "    border: none;\n",
       "    border-radius: 50%;\n",
       "    cursor: pointer;\n",
       "    display: none;\n",
       "    fill: var(--fill-color);\n",
       "    height: 32px;\n",
       "    padding: 0;\n",
       "    width: 32px;\n",
       "  }\n",
       "\n",
       "  .colab-df-quickchart:hover {\n",
       "    background-color: var(--hover-bg-color);\n",
       "    box-shadow: 0 1px 2px rgba(60, 64, 67, 0.3), 0 1px 3px 1px rgba(60, 64, 67, 0.15);\n",
       "    fill: var(--button-hover-fill-color);\n",
       "  }\n",
       "\n",
       "  .colab-df-quickchart-complete:disabled,\n",
       "  .colab-df-quickchart-complete:disabled:hover {\n",
       "    background-color: var(--disabled-bg-color);\n",
       "    fill: var(--disabled-fill-color);\n",
       "    box-shadow: none;\n",
       "  }\n",
       "\n",
       "  .colab-df-spinner {\n",
       "    border: 2px solid var(--fill-color);\n",
       "    border-color: transparent;\n",
       "    border-bottom-color: var(--fill-color);\n",
       "    animation:\n",
       "      spin 1s steps(1) infinite;\n",
       "  }\n",
       "\n",
       "  @keyframes spin {\n",
       "    0% {\n",
       "      border-color: transparent;\n",
       "      border-bottom-color: var(--fill-color);\n",
       "      border-left-color: var(--fill-color);\n",
       "    }\n",
       "    20% {\n",
       "      border-color: transparent;\n",
       "      border-left-color: var(--fill-color);\n",
       "      border-top-color: var(--fill-color);\n",
       "    }\n",
       "    30% {\n",
       "      border-color: transparent;\n",
       "      border-left-color: var(--fill-color);\n",
       "      border-top-color: var(--fill-color);\n",
       "      border-right-color: var(--fill-color);\n",
       "    }\n",
       "    40% {\n",
       "      border-color: transparent;\n",
       "      border-right-color: var(--fill-color);\n",
       "      border-top-color: var(--fill-color);\n",
       "    }\n",
       "    60% {\n",
       "      border-color: transparent;\n",
       "      border-right-color: var(--fill-color);\n",
       "    }\n",
       "    80% {\n",
       "      border-color: transparent;\n",
       "      border-right-color: var(--fill-color);\n",
       "      border-bottom-color: var(--fill-color);\n",
       "    }\n",
       "    90% {\n",
       "      border-color: transparent;\n",
       "      border-bottom-color: var(--fill-color);\n",
       "    }\n",
       "  }\n",
       "</style>\n",
       "\n",
       "  <script>\n",
       "    async function quickchart(key) {\n",
       "      const quickchartButtonEl =\n",
       "        document.querySelector('#' + key + ' button');\n",
       "      quickchartButtonEl.disabled = true;  // To prevent multiple clicks.\n",
       "      quickchartButtonEl.classList.add('colab-df-spinner');\n",
       "      try {\n",
       "        const charts = await google.colab.kernel.invokeFunction(\n",
       "            'suggestCharts', [key], {});\n",
       "      } catch (error) {\n",
       "        console.error('Error during call to suggestCharts:', error);\n",
       "      }\n",
       "      quickchartButtonEl.classList.remove('colab-df-spinner');\n",
       "      quickchartButtonEl.classList.add('colab-df-quickchart-complete');\n",
       "    }\n",
       "    (() => {\n",
       "      let quickchartButtonEl =\n",
       "        document.querySelector('#df-b9106e24-9dd0-48db-8eb4-6e20ddb9ca84 button');\n",
       "      quickchartButtonEl.style.display =\n",
       "        google.colab.kernel.accessAllowed ? 'block' : 'none';\n",
       "    })();\n",
       "  </script>\n",
       "</div>\n",
       "\n",
       "    </div>\n",
       "  </div>\n"
      ],
      "text/plain": [
       "   Country Total Cases  New Cases                             Total Deaths  \\\n",
       "0    World   704753890     3959.0                                  7010681   \n",
       "1      USA   111820082     1151.0  1219487                                   \n",
       "2    India    45035393       68.0   533570                                   \n",
       "3  Germany    38828995       73.0   183027                                   \n",
       "4   Brazil    38743918       -1.0   711380                                   \n",
       "5    Japan    33803572       -1.0    74694                                   \n",
       "6    Italy    26723249       -1.0   196487                                   \n",
       "7   Russia    24124215       -1.0   402756                                   \n",
       "8   Turkey    17232066       -1.0   102174                                   \n",
       "9    Spain    13914811       -1.0   121760                                   \n",
       "\n",
       "   New Deaths Total Recovered  New Recovered Active Cases Serios/Critical  \\\n",
       "0        57.0       675619021        14953.0     22124188           34791   \n",
       "1         7.0       109814428        10109.0       786167             940   \n",
       "2        -1.0               0            0.0            0               0   \n",
       "3        16.0        38240600           -1.0       405368               0   \n",
       "4        -1.0        36249161           -1.0      1783377               0   \n",
       "5        -1.0               0            0.0            0               0   \n",
       "6        -1.0        26361218           -1.0       165544              22   \n",
       "7        -1.0        23545818           -1.0       175641               0   \n",
       "8        -1.0               0            0.0            0               0   \n",
       "9        -1.0        13762417           -1.0        30634             231   \n",
       "\n",
       "  Total Cases/1M Deaths/1M Total Tests   Test/1M   Population      Continent  \n",
       "0          90413     899.4          -1        -1           -1            All  \n",
       "1         333985      3642  1186851502   3544901   334805269   North America  \n",
       "2          32016       379   935879495    665334  1406631776            Asia  \n",
       "3         462891      2182   122332384   1458359    83883596          Europe  \n",
       "4         179908      3303    63776166    296146   215353593   South America  \n",
       "5         269169       595   100414883    799578   125584838            Asia  \n",
       "6         443445      3261   281126449   4665010    60262770          Europe  \n",
       "7         165454      2762   273400000   1875095   145805947          Europe  \n",
       "8         201399      1194   162743369   1902052    85561976            Asia  \n",
       "9         297840      2606   471036328  10082298    46719142          Europe  "
      ]
     },
     "execution_count": 9,
     "metadata": {},
     "output_type": "execute_result"
    }
   ],
   "source": [
    "column_labels = [\"Country\",\"Total Cases\",\"New Cases\",\"Total Deaths\",\"New Deaths\",\"Total Recovered\",\"New Recovered\",\"Active Cases\",\"Serios/Critical\",\"Total Cases/1M\",\"Deaths/1M\",\"Total Tests\",\"Test/1M\",\"Population\",\"Continent\"]\n",
    "df.columns = column_labels\n",
    "df.head(10)"
   ]
  },
  {
   "cell_type": "code",
   "execution_count": 10,
   "metadata": {
    "id": "rTO3DnX3AAMA"
   },
   "outputs": [],
   "source": [
    "#converting data to numeric format\n",
    "for label in df.columns:\n",
    "  if label != 'Country' and label !='Continent':\n",
    "    df[label]= pd.to_numeric(df[label])"
   ]
  },
  {
   "cell_type": "code",
   "execution_count": 11,
   "metadata": {
    "colab": {
     "base_uri": "https://localhost:8080/",
     "height": 275
    },
    "id": "4zvv7W4pAFBg",
    "outputId": "92b88e61-fe47-4d8b-efcb-4e4e215e0a97"
   },
   "outputs": [
    {
     "data": {
      "application/vnd.google.colaboratory.intrinsic+json": {
       "summary": "{\n  \"name\": \"df\",\n  \"rows\": 204,\n  \"fields\": [\n    {\n      \"column\": \"Country\",\n      \"properties\": {\n        \"dtype\": \"string\",\n        \"num_unique_values\": 204,\n        \"samples\": [\n          \"Iran\",\n          \"Spain\",\n          \"Channel Islands\"\n        ],\n        \"semantic_type\": \"\",\n        \"description\": \"\"\n      }\n    },\n    {\n      \"column\": \"Total Cases\",\n      \"properties\": {\n        \"dtype\": \"number\",\n        \"std\": 70042312,\n        \"min\": 80,\n        \"max\": 704753890,\n        \"num_unique_values\": 203,\n        \"samples\": [\n          7627186,\n          13914811,\n          101717\n        ],\n        \"semantic_type\": \"\",\n        \"description\": \"\"\n      }\n    },\n    {\n      \"column\": \"New Cases\",\n      \"properties\": {\n        \"dtype\": \"number\",\n        \"std\": 411.77149808806524,\n        \"min\": -1.0,\n        \"max\": 3959.0,\n        \"num_unique_values\": 11,\n        \"samples\": [\n          664.0,\n          3959.0,\n          20.0\n        ],\n        \"semantic_type\": \"\",\n        \"description\": \"\"\n      }\n    },\n    {\n      \"column\": \"Total Deaths\",\n      \"properties\": {\n        \"dtype\": \"number\",\n        \"std\": 698783,\n        \"min\": -1,\n        \"max\": 7010681,\n        \"num_unique_values\": 190,\n        \"samples\": [\n          161,\n          2,\n          1974\n        ],\n        \"semantic_type\": \"\",\n        \"description\": \"\"\n      }\n    },\n    {\n      \"column\": \"New Deaths\",\n      \"properties\": {\n        \"dtype\": \"number\",\n        \"std\": 6.337843513973135,\n        \"min\": -1.0,\n        \"max\": 57.0,\n        \"num_unique_values\": 5,\n        \"samples\": [\n          7.0,\n          34.0,\n          -1.0\n        ],\n        \"semantic_type\": \"\",\n        \"description\": \"\"\n      }\n    },\n    {\n      \"column\": \"Total Recovered\",\n      \"properties\": {\n        \"dtype\": \"number\",\n        \"std\": 67125631,\n        \"min\": -1,\n        \"max\": 675619021,\n        \"num_unique_values\": 158,\n        \"samples\": [\n          16907,\n          1177145,\n          11976\n        ],\n        \"semantic_type\": \"\",\n        \"description\": \"\"\n      }\n    },\n    {\n      \"column\": \"New Recovered\",\n      \"properties\": {\n        \"dtype\": \"number\",\n        \"std\": 1658.274153404647,\n        \"min\": -1.0,\n        \"max\": 14953.0,\n        \"num_unique_values\": 10,\n        \"samples\": [\n          17.0,\n          10109.0,\n          350.0\n        ],\n        \"semantic_type\": \"\",\n        \"description\": \"\"\n      }\n    },\n    {\n      \"column\": \"Active Cases\",\n      \"properties\": {\n        \"dtype\": \"number\",\n        \"std\": 2187945,\n        \"min\": 0,\n        \"max\": 22124188,\n        \"num_unique_values\": 152,\n        \"samples\": [\n          99893,\n          3104,\n          824\n        ],\n        \"semantic_type\": \"\",\n        \"description\": \"\"\n      }\n    },\n    {\n      \"column\": \"Serios/Critical\",\n      \"properties\": {\n        \"dtype\": \"number\",\n        \"std\": 3435,\n        \"min\": -1,\n        \"max\": 34791,\n        \"num_unique_values\": 32,\n        \"samples\": [\n          131,\n          59,\n          31\n        ],\n        \"semantic_type\": \"\",\n        \"description\": \"\"\n      }\n    },\n    {\n      \"column\": \"Total Cases/1M\",\n      \"properties\": {\n        \"dtype\": \"number\",\n        \"std\": 201160.85939402736,\n        \"min\": 381.0,\n        \"max\": 771655.0,\n        \"num_unique_values\": 204,\n        \"samples\": [\n          88665.0,\n          297840.0,\n          576421.0\n        ],\n        \"semantic_type\": \"\",\n        \"description\": \"\"\n      }\n    },\n    {\n      \"column\": \"Deaths/1M\",\n      \"properties\": {\n        \"dtype\": \"number\",\n        \"std\": 1265.7607278716455,\n        \"min\": -1.0,\n        \"max\": 5661.0,\n        \"num_unique_values\": 189,\n        \"samples\": [\n          728.0,\n          44.0,\n          2780.0\n        ],\n        \"semantic_type\": \"\",\n        \"description\": \"\"\n      }\n    },\n    {\n      \"column\": \"Total Tests\",\n      \"properties\": {\n        \"dtype\": \"number\",\n        \"std\": 115691471,\n        \"min\": -1,\n        \"max\": 1186851502,\n        \"num_unique_values\": 191,\n        \"samples\": [\n          196855,\n          4065369,\n          182981\n        ],\n        \"semantic_type\": \"\",\n        \"description\": \"\"\n      }\n    },\n    {\n      \"column\": \"Test/1M\",\n      \"properties\": {\n        \"dtype\": \"number\",\n        \"std\": 3368482,\n        \"min\": -1,\n        \"max\": 23302116,\n        \"num_unique_values\": 192,\n        \"samples\": [\n          3959997,\n          1653068,\n          352782\n        ],\n        \"semantic_type\": \"\",\n        \"description\": \"\"\n      }\n    },\n    {\n      \"column\": \"Population\",\n      \"properties\": {\n        \"dtype\": \"number\",\n        \"std\": 107843449,\n        \"min\": -1,\n        \"max\": 1406631776,\n        \"num_unique_values\": 203,\n        \"samples\": [\n          86022837,\n          46719142,\n          176463\n        ],\n        \"semantic_type\": \"\",\n        \"description\": \"\"\n      }\n    },\n    {\n      \"column\": \"Continent\",\n      \"properties\": {\n        \"dtype\": \"category\",\n        \"num_unique_values\": 7,\n        \"samples\": [\n          \"All\",\n          \"North America\",\n          \"Australia/Oceania\"\n        ],\n        \"semantic_type\": \"\",\n        \"description\": \"\"\n      }\n    },\n    {\n      \"column\": \"%Inc Cases\",\n      \"properties\": {\n        \"dtype\": \"number\",\n        \"std\": 0.0878882100087887,\n        \"min\": -1.25,\n        \"max\": 0.023692737869471396,\n        \"num_unique_values\": 203,\n        \"samples\": [\n          -1.3110995326454604e-05,\n          -7.186587011494443e-06,\n          -0.0009831198324763805\n        ],\n        \"semantic_type\": \"\",\n        \"description\": \"\"\n      }\n    },\n    {\n      \"column\": \"%Inc Deaths\",\n      \"properties\": {\n        \"dtype\": \"number\",\n        \"std\": 16.59620131002882,\n        \"min\": -100.0,\n        \"max\": 100.0,\n        \"num_unique_values\": 190,\n        \"samples\": [\n          -0.6211180124223602,\n          -50.0,\n          -0.050658561296859174\n        ],\n        \"semantic_type\": \"\",\n        \"description\": \"\"\n      }\n    },\n    {\n      \"column\": \"%Inc Recovered\",\n      \"properties\": {\n        \"dtype\": \"number\",\n        \"std\": 8.917472026879116,\n        \"min\": -50.0,\n        \"max\": 100.0,\n        \"num_unique_values\": 157,\n        \"samples\": [\n          -0.0057924003707136235,\n          -9.036199013247068e-05,\n          -0.008350033400133601\n        ],\n        \"semantic_type\": \"\",\n        \"description\": \"\"\n      }\n    }\n  ]\n}",
       "type": "dataframe",
       "variable_name": "df"
      },
      "text/html": [
       "\n",
       "  <div id=\"df-8187b5d3-aaf8-4c85-be1d-145055481a83\" class=\"colab-df-container\">\n",
       "    <div>\n",
       "<style scoped>\n",
       "    .dataframe tbody tr th:only-of-type {\n",
       "        vertical-align: middle;\n",
       "    }\n",
       "\n",
       "    .dataframe tbody tr th {\n",
       "        vertical-align: top;\n",
       "    }\n",
       "\n",
       "    .dataframe thead th {\n",
       "        text-align: right;\n",
       "    }\n",
       "</style>\n",
       "<table border=\"1\" class=\"dataframe\">\n",
       "  <thead>\n",
       "    <tr style=\"text-align: right;\">\n",
       "      <th></th>\n",
       "      <th>Country</th>\n",
       "      <th>Total Cases</th>\n",
       "      <th>New Cases</th>\n",
       "      <th>Total Deaths</th>\n",
       "      <th>New Deaths</th>\n",
       "      <th>Total Recovered</th>\n",
       "      <th>New Recovered</th>\n",
       "      <th>Active Cases</th>\n",
       "      <th>Serios/Critical</th>\n",
       "      <th>Total Cases/1M</th>\n",
       "      <th>Deaths/1M</th>\n",
       "      <th>Total Tests</th>\n",
       "      <th>Test/1M</th>\n",
       "      <th>Population</th>\n",
       "      <th>Continent</th>\n",
       "      <th>%Inc Cases</th>\n",
       "      <th>%Inc Deaths</th>\n",
       "      <th>%Inc Recovered</th>\n",
       "    </tr>\n",
       "  </thead>\n",
       "  <tbody>\n",
       "    <tr>\n",
       "      <th>0</th>\n",
       "      <td>World</td>\n",
       "      <td>704753890</td>\n",
       "      <td>3959.0</td>\n",
       "      <td>7010681</td>\n",
       "      <td>57.0</td>\n",
       "      <td>675619021</td>\n",
       "      <td>14953.0</td>\n",
       "      <td>22124188</td>\n",
       "      <td>34791</td>\n",
       "      <td>90413.0</td>\n",
       "      <td>899.4</td>\n",
       "      <td>-1</td>\n",
       "      <td>-1</td>\n",
       "      <td>-1</td>\n",
       "      <td>All</td>\n",
       "      <td>0.000562</td>\n",
       "      <td>0.000813</td>\n",
       "      <td>0.002213</td>\n",
       "    </tr>\n",
       "    <tr>\n",
       "      <th>1</th>\n",
       "      <td>USA</td>\n",
       "      <td>111820082</td>\n",
       "      <td>1151.0</td>\n",
       "      <td>1219487</td>\n",
       "      <td>7.0</td>\n",
       "      <td>109814428</td>\n",
       "      <td>10109.0</td>\n",
       "      <td>786167</td>\n",
       "      <td>940</td>\n",
       "      <td>333985.0</td>\n",
       "      <td>3642.0</td>\n",
       "      <td>1186851502</td>\n",
       "      <td>3544901</td>\n",
       "      <td>334805269</td>\n",
       "      <td>North America</td>\n",
       "      <td>0.001029</td>\n",
       "      <td>0.000574</td>\n",
       "      <td>0.009206</td>\n",
       "    </tr>\n",
       "    <tr>\n",
       "      <th>2</th>\n",
       "      <td>India</td>\n",
       "      <td>45035393</td>\n",
       "      <td>68.0</td>\n",
       "      <td>533570</td>\n",
       "      <td>-1.0</td>\n",
       "      <td>0</td>\n",
       "      <td>0.0</td>\n",
       "      <td>0</td>\n",
       "      <td>0</td>\n",
       "      <td>32016.0</td>\n",
       "      <td>379.0</td>\n",
       "      <td>935879495</td>\n",
       "      <td>665334</td>\n",
       "      <td>1406631776</td>\n",
       "      <td>Asia</td>\n",
       "      <td>0.000151</td>\n",
       "      <td>-0.000187</td>\n",
       "      <td>NaN</td>\n",
       "    </tr>\n",
       "    <tr>\n",
       "      <th>3</th>\n",
       "      <td>Germany</td>\n",
       "      <td>38828995</td>\n",
       "      <td>73.0</td>\n",
       "      <td>183027</td>\n",
       "      <td>16.0</td>\n",
       "      <td>38240600</td>\n",
       "      <td>-1.0</td>\n",
       "      <td>405368</td>\n",
       "      <td>0</td>\n",
       "      <td>462891.0</td>\n",
       "      <td>2182.0</td>\n",
       "      <td>122332384</td>\n",
       "      <td>1458359</td>\n",
       "      <td>83883596</td>\n",
       "      <td>Europe</td>\n",
       "      <td>0.000188</td>\n",
       "      <td>0.008742</td>\n",
       "      <td>-0.000003</td>\n",
       "    </tr>\n",
       "    <tr>\n",
       "      <th>4</th>\n",
       "      <td>Brazil</td>\n",
       "      <td>38743918</td>\n",
       "      <td>-1.0</td>\n",
       "      <td>711380</td>\n",
       "      <td>-1.0</td>\n",
       "      <td>36249161</td>\n",
       "      <td>-1.0</td>\n",
       "      <td>1783377</td>\n",
       "      <td>0</td>\n",
       "      <td>179908.0</td>\n",
       "      <td>3303.0</td>\n",
       "      <td>63776166</td>\n",
       "      <td>296146</td>\n",
       "      <td>215353593</td>\n",
       "      <td>South America</td>\n",
       "      <td>-0.000003</td>\n",
       "      <td>-0.000141</td>\n",
       "      <td>-0.000003</td>\n",
       "    </tr>\n",
       "  </tbody>\n",
       "</table>\n",
       "</div>\n",
       "    <div class=\"colab-df-buttons\">\n",
       "\n",
       "  <div class=\"colab-df-container\">\n",
       "    <button class=\"colab-df-convert\" onclick=\"convertToInteractive('df-8187b5d3-aaf8-4c85-be1d-145055481a83')\"\n",
       "            title=\"Convert this dataframe to an interactive table.\"\n",
       "            style=\"display:none;\">\n",
       "\n",
       "  <svg xmlns=\"http://www.w3.org/2000/svg\" height=\"24px\" viewBox=\"0 -960 960 960\">\n",
       "    <path d=\"M120-120v-720h720v720H120Zm60-500h600v-160H180v160Zm220 220h160v-160H400v160Zm0 220h160v-160H400v160ZM180-400h160v-160H180v160Zm440 0h160v-160H620v160ZM180-180h160v-160H180v160Zm440 0h160v-160H620v160Z\"/>\n",
       "  </svg>\n",
       "    </button>\n",
       "\n",
       "  <style>\n",
       "    .colab-df-container {\n",
       "      display:flex;\n",
       "      gap: 12px;\n",
       "    }\n",
       "\n",
       "    .colab-df-convert {\n",
       "      background-color: #E8F0FE;\n",
       "      border: none;\n",
       "      border-radius: 50%;\n",
       "      cursor: pointer;\n",
       "      display: none;\n",
       "      fill: #1967D2;\n",
       "      height: 32px;\n",
       "      padding: 0 0 0 0;\n",
       "      width: 32px;\n",
       "    }\n",
       "\n",
       "    .colab-df-convert:hover {\n",
       "      background-color: #E2EBFA;\n",
       "      box-shadow: 0px 1px 2px rgba(60, 64, 67, 0.3), 0px 1px 3px 1px rgba(60, 64, 67, 0.15);\n",
       "      fill: #174EA6;\n",
       "    }\n",
       "\n",
       "    .colab-df-buttons div {\n",
       "      margin-bottom: 4px;\n",
       "    }\n",
       "\n",
       "    [theme=dark] .colab-df-convert {\n",
       "      background-color: #3B4455;\n",
       "      fill: #D2E3FC;\n",
       "    }\n",
       "\n",
       "    [theme=dark] .colab-df-convert:hover {\n",
       "      background-color: #434B5C;\n",
       "      box-shadow: 0px 1px 3px 1px rgba(0, 0, 0, 0.15);\n",
       "      filter: drop-shadow(0px 1px 2px rgba(0, 0, 0, 0.3));\n",
       "      fill: #FFFFFF;\n",
       "    }\n",
       "  </style>\n",
       "\n",
       "    <script>\n",
       "      const buttonEl =\n",
       "        document.querySelector('#df-8187b5d3-aaf8-4c85-be1d-145055481a83 button.colab-df-convert');\n",
       "      buttonEl.style.display =\n",
       "        google.colab.kernel.accessAllowed ? 'block' : 'none';\n",
       "\n",
       "      async function convertToInteractive(key) {\n",
       "        const element = document.querySelector('#df-8187b5d3-aaf8-4c85-be1d-145055481a83');\n",
       "        const dataTable =\n",
       "          await google.colab.kernel.invokeFunction('convertToInteractive',\n",
       "                                                    [key], {});\n",
       "        if (!dataTable) return;\n",
       "\n",
       "        const docLinkHtml = 'Like what you see? Visit the ' +\n",
       "          '<a target=\"_blank\" href=https://colab.research.google.com/notebooks/data_table.ipynb>data table notebook</a>'\n",
       "          + ' to learn more about interactive tables.';\n",
       "        element.innerHTML = '';\n",
       "        dataTable['output_type'] = 'display_data';\n",
       "        await google.colab.output.renderOutput(dataTable, element);\n",
       "        const docLink = document.createElement('div');\n",
       "        docLink.innerHTML = docLinkHtml;\n",
       "        element.appendChild(docLink);\n",
       "      }\n",
       "    </script>\n",
       "  </div>\n",
       "\n",
       "\n",
       "<div id=\"df-86e6dc99-f72d-4325-81d2-72060b961a82\">\n",
       "  <button class=\"colab-df-quickchart\" onclick=\"quickchart('df-86e6dc99-f72d-4325-81d2-72060b961a82')\"\n",
       "            title=\"Suggest charts\"\n",
       "            style=\"display:none;\">\n",
       "\n",
       "<svg xmlns=\"http://www.w3.org/2000/svg\" height=\"24px\"viewBox=\"0 0 24 24\"\n",
       "     width=\"24px\">\n",
       "    <g>\n",
       "        <path d=\"M19 3H5c-1.1 0-2 .9-2 2v14c0 1.1.9 2 2 2h14c1.1 0 2-.9 2-2V5c0-1.1-.9-2-2-2zM9 17H7v-7h2v7zm4 0h-2V7h2v10zm4 0h-2v-4h2v4z\"/>\n",
       "    </g>\n",
       "</svg>\n",
       "  </button>\n",
       "\n",
       "<style>\n",
       "  .colab-df-quickchart {\n",
       "      --bg-color: #E8F0FE;\n",
       "      --fill-color: #1967D2;\n",
       "      --hover-bg-color: #E2EBFA;\n",
       "      --hover-fill-color: #174EA6;\n",
       "      --disabled-fill-color: #AAA;\n",
       "      --disabled-bg-color: #DDD;\n",
       "  }\n",
       "\n",
       "  [theme=dark] .colab-df-quickchart {\n",
       "      --bg-color: #3B4455;\n",
       "      --fill-color: #D2E3FC;\n",
       "      --hover-bg-color: #434B5C;\n",
       "      --hover-fill-color: #FFFFFF;\n",
       "      --disabled-bg-color: #3B4455;\n",
       "      --disabled-fill-color: #666;\n",
       "  }\n",
       "\n",
       "  .colab-df-quickchart {\n",
       "    background-color: var(--bg-color);\n",
       "    border: none;\n",
       "    border-radius: 50%;\n",
       "    cursor: pointer;\n",
       "    display: none;\n",
       "    fill: var(--fill-color);\n",
       "    height: 32px;\n",
       "    padding: 0;\n",
       "    width: 32px;\n",
       "  }\n",
       "\n",
       "  .colab-df-quickchart:hover {\n",
       "    background-color: var(--hover-bg-color);\n",
       "    box-shadow: 0 1px 2px rgba(60, 64, 67, 0.3), 0 1px 3px 1px rgba(60, 64, 67, 0.15);\n",
       "    fill: var(--button-hover-fill-color);\n",
       "  }\n",
       "\n",
       "  .colab-df-quickchart-complete:disabled,\n",
       "  .colab-df-quickchart-complete:disabled:hover {\n",
       "    background-color: var(--disabled-bg-color);\n",
       "    fill: var(--disabled-fill-color);\n",
       "    box-shadow: none;\n",
       "  }\n",
       "\n",
       "  .colab-df-spinner {\n",
       "    border: 2px solid var(--fill-color);\n",
       "    border-color: transparent;\n",
       "    border-bottom-color: var(--fill-color);\n",
       "    animation:\n",
       "      spin 1s steps(1) infinite;\n",
       "  }\n",
       "\n",
       "  @keyframes spin {\n",
       "    0% {\n",
       "      border-color: transparent;\n",
       "      border-bottom-color: var(--fill-color);\n",
       "      border-left-color: var(--fill-color);\n",
       "    }\n",
       "    20% {\n",
       "      border-color: transparent;\n",
       "      border-left-color: var(--fill-color);\n",
       "      border-top-color: var(--fill-color);\n",
       "    }\n",
       "    30% {\n",
       "      border-color: transparent;\n",
       "      border-left-color: var(--fill-color);\n",
       "      border-top-color: var(--fill-color);\n",
       "      border-right-color: var(--fill-color);\n",
       "    }\n",
       "    40% {\n",
       "      border-color: transparent;\n",
       "      border-right-color: var(--fill-color);\n",
       "      border-top-color: var(--fill-color);\n",
       "    }\n",
       "    60% {\n",
       "      border-color: transparent;\n",
       "      border-right-color: var(--fill-color);\n",
       "    }\n",
       "    80% {\n",
       "      border-color: transparent;\n",
       "      border-right-color: var(--fill-color);\n",
       "      border-bottom-color: var(--fill-color);\n",
       "    }\n",
       "    90% {\n",
       "      border-color: transparent;\n",
       "      border-bottom-color: var(--fill-color);\n",
       "    }\n",
       "  }\n",
       "</style>\n",
       "\n",
       "  <script>\n",
       "    async function quickchart(key) {\n",
       "      const quickchartButtonEl =\n",
       "        document.querySelector('#' + key + ' button');\n",
       "      quickchartButtonEl.disabled = true;  // To prevent multiple clicks.\n",
       "      quickchartButtonEl.classList.add('colab-df-spinner');\n",
       "      try {\n",
       "        const charts = await google.colab.kernel.invokeFunction(\n",
       "            'suggestCharts', [key], {});\n",
       "      } catch (error) {\n",
       "        console.error('Error during call to suggestCharts:', error);\n",
       "      }\n",
       "      quickchartButtonEl.classList.remove('colab-df-spinner');\n",
       "      quickchartButtonEl.classList.add('colab-df-quickchart-complete');\n",
       "    }\n",
       "    (() => {\n",
       "      let quickchartButtonEl =\n",
       "        document.querySelector('#df-86e6dc99-f72d-4325-81d2-72060b961a82 button');\n",
       "      quickchartButtonEl.style.display =\n",
       "        google.colab.kernel.accessAllowed ? 'block' : 'none';\n",
       "    })();\n",
       "  </script>\n",
       "</div>\n",
       "\n",
       "    </div>\n",
       "  </div>\n"
      ],
      "text/plain": [
       "   Country  Total Cases  New Cases  Total Deaths  New Deaths  Total Recovered  \\\n",
       "0    World    704753890     3959.0       7010681        57.0        675619021   \n",
       "1      USA    111820082     1151.0       1219487         7.0        109814428   \n",
       "2    India     45035393       68.0        533570        -1.0                0   \n",
       "3  Germany     38828995       73.0        183027        16.0         38240600   \n",
       "4   Brazil     38743918       -1.0        711380        -1.0         36249161   \n",
       "\n",
       "   New Recovered  Active Cases  Serios/Critical  Total Cases/1M  Deaths/1M  \\\n",
       "0        14953.0      22124188            34791         90413.0      899.4   \n",
       "1        10109.0        786167              940        333985.0     3642.0   \n",
       "2            0.0             0                0         32016.0      379.0   \n",
       "3           -1.0        405368                0        462891.0     2182.0   \n",
       "4           -1.0       1783377                0        179908.0     3303.0   \n",
       "\n",
       "   Total Tests  Test/1M  Population      Continent  %Inc Cases  %Inc Deaths  \\\n",
       "0           -1       -1          -1            All    0.000562     0.000813   \n",
       "1   1186851502  3544901   334805269  North America    0.001029     0.000574   \n",
       "2    935879495   665334  1406631776           Asia    0.000151    -0.000187   \n",
       "3    122332384  1458359    83883596         Europe    0.000188     0.008742   \n",
       "4     63776166   296146   215353593  South America   -0.000003    -0.000141   \n",
       "\n",
       "   %Inc Recovered  \n",
       "0        0.002213  \n",
       "1        0.009206  \n",
       "2             NaN  \n",
       "3       -0.000003  \n",
       "4       -0.000003  "
      ]
     },
     "execution_count": 11,
     "metadata": {},
     "output_type": "execute_result"
    }
   ],
   "source": [
    "df[\"%Inc Cases\"] = df[\"New Cases\"]/df[\"Total Cases\"]*100\n",
    "df[\"%Inc Deaths\"] = df[\"New Deaths\"]/df[\"Total Deaths\"]*100\n",
    "df[\"%Inc Recovered\"] = df[\"New Recovered\"]/df[\"Total Recovered\"]*100\n",
    "df.head()"
   ]
  },
  {
   "cell_type": "markdown",
   "metadata": {
    "id": "taal03S8AK7c"
   },
   "source": [
    "EXPLORATORY DATA ANALYSIS"
   ]
  },
  {
   "cell_type": "code",
   "execution_count": 12,
   "metadata": {
    "colab": {
     "base_uri": "https://localhost:8080/",
     "height": 542
    },
    "id": "wd3eCPGLAIew",
    "outputId": "95f221ce-db65-4a91-c752-3776e6dfc1a8"
   },
   "outputs": [
    {
     "data": {
      "text/html": [
       "<html>\n",
       "<head><meta charset=\"utf-8\" /></head>\n",
       "<body>\n",
       "    <div>            <script src=\"https://cdnjs.cloudflare.com/ajax/libs/mathjax/2.7.5/MathJax.js?config=TeX-AMS-MML_SVG\"></script><script type=\"text/javascript\">if (window.MathJax && window.MathJax.Hub && window.MathJax.Hub.Config) {window.MathJax.Hub.Config({SVG: {font: \"STIX-Web\"}});}</script>                <script type=\"text/javascript\">window.PlotlyConfig = {MathJaxConfig: 'local'};</script>\n",
       "        <script charset=\"utf-8\" src=\"https://cdn.plot.ly/plotly-2.24.1.min.js\"></script>                <div id=\"f8f68eb9-e527-452a-9a48-875ce6f1432f\" class=\"plotly-graph-div\" style=\"height:525px; width:100%;\"></div>            <script type=\"text/javascript\">                                    window.PLOTLYENV=window.PLOTLYENV || {};                                    if (document.getElementById(\"f8f68eb9-e527-452a-9a48-875ce6f1432f\")) {                    Plotly.newPlot(                        \"f8f68eb9-e527-452a-9a48-875ce6f1432f\",                        [{\"alignmentgroup\":\"True\",\"customdata\":[[675619021]],\"hovertemplate\":\"Type=Total Recovered\\u003cbr\\u003evirus=%{x}\\u003cbr\\u003ePercentage=%{y}\\u003cbr\\u003eTotal=%{customdata[0]}\\u003cextra\\u003e\\u003c\\u002fextra\\u003e\",\"legendgroup\":\"Total Recovered\",\"marker\":{\"color\":\"#636efa\",\"pattern\":{\"shape\":\"\"}},\"name\":\"Total Recovered\",\"offsetgroup\":\"Total Recovered\",\"orientation\":\"v\",\"showlegend\":true,\"textposition\":\"auto\",\"x\":[\"COVID-19\"],\"xaxis\":\"x\",\"y\":[95.87],\"yaxis\":\"y\",\"type\":\"bar\"},{\"alignmentgroup\":\"True\",\"customdata\":[[22124188]],\"hovertemplate\":\"Type=Active Cases\\u003cbr\\u003evirus=%{x}\\u003cbr\\u003ePercentage=%{y}\\u003cbr\\u003eTotal=%{customdata[0]}\\u003cextra\\u003e\\u003c\\u002fextra\\u003e\",\"legendgroup\":\"Active Cases\",\"marker\":{\"color\":\"#EF553B\",\"pattern\":{\"shape\":\"\"}},\"name\":\"Active Cases\",\"offsetgroup\":\"Active Cases\",\"orientation\":\"v\",\"showlegend\":true,\"textposition\":\"auto\",\"x\":[\"COVID-19\"],\"xaxis\":\"x\",\"y\":[3.14],\"yaxis\":\"y\",\"type\":\"bar\"},{\"alignmentgroup\":\"True\",\"customdata\":[[7010681]],\"hovertemplate\":\"Type=Total Deaths\\u003cbr\\u003evirus=%{x}\\u003cbr\\u003ePercentage=%{y}\\u003cbr\\u003eTotal=%{customdata[0]}\\u003cextra\\u003e\\u003c\\u002fextra\\u003e\",\"legendgroup\":\"Total Deaths\",\"marker\":{\"color\":\"#00cc96\",\"pattern\":{\"shape\":\"\"}},\"name\":\"Total Deaths\",\"offsetgroup\":\"Total Deaths\",\"orientation\":\"v\",\"showlegend\":true,\"textposition\":\"auto\",\"x\":[\"COVID-19\"],\"xaxis\":\"x\",\"y\":[0.99],\"yaxis\":\"y\",\"type\":\"bar\"}],                        {\"template\":{\"data\":{\"histogram2dcontour\":[{\"type\":\"histogram2dcontour\",\"colorbar\":{\"outlinewidth\":0,\"ticks\":\"\"},\"colorscale\":[[0.0,\"#0d0887\"],[0.1111111111111111,\"#46039f\"],[0.2222222222222222,\"#7201a8\"],[0.3333333333333333,\"#9c179e\"],[0.4444444444444444,\"#bd3786\"],[0.5555555555555556,\"#d8576b\"],[0.6666666666666666,\"#ed7953\"],[0.7777777777777778,\"#fb9f3a\"],[0.8888888888888888,\"#fdca26\"],[1.0,\"#f0f921\"]]}],\"choropleth\":[{\"type\":\"choropleth\",\"colorbar\":{\"outlinewidth\":0,\"ticks\":\"\"}}],\"histogram2d\":[{\"type\":\"histogram2d\",\"colorbar\":{\"outlinewidth\":0,\"ticks\":\"\"},\"colorscale\":[[0.0,\"#0d0887\"],[0.1111111111111111,\"#46039f\"],[0.2222222222222222,\"#7201a8\"],[0.3333333333333333,\"#9c179e\"],[0.4444444444444444,\"#bd3786\"],[0.5555555555555556,\"#d8576b\"],[0.6666666666666666,\"#ed7953\"],[0.7777777777777778,\"#fb9f3a\"],[0.8888888888888888,\"#fdca26\"],[1.0,\"#f0f921\"]]}],\"heatmap\":[{\"type\":\"heatmap\",\"colorbar\":{\"outlinewidth\":0,\"ticks\":\"\"},\"colorscale\":[[0.0,\"#0d0887\"],[0.1111111111111111,\"#46039f\"],[0.2222222222222222,\"#7201a8\"],[0.3333333333333333,\"#9c179e\"],[0.4444444444444444,\"#bd3786\"],[0.5555555555555556,\"#d8576b\"],[0.6666666666666666,\"#ed7953\"],[0.7777777777777778,\"#fb9f3a\"],[0.8888888888888888,\"#fdca26\"],[1.0,\"#f0f921\"]]}],\"heatmapgl\":[{\"type\":\"heatmapgl\",\"colorbar\":{\"outlinewidth\":0,\"ticks\":\"\"},\"colorscale\":[[0.0,\"#0d0887\"],[0.1111111111111111,\"#46039f\"],[0.2222222222222222,\"#7201a8\"],[0.3333333333333333,\"#9c179e\"],[0.4444444444444444,\"#bd3786\"],[0.5555555555555556,\"#d8576b\"],[0.6666666666666666,\"#ed7953\"],[0.7777777777777778,\"#fb9f3a\"],[0.8888888888888888,\"#fdca26\"],[1.0,\"#f0f921\"]]}],\"contourcarpet\":[{\"type\":\"contourcarpet\",\"colorbar\":{\"outlinewidth\":0,\"ticks\":\"\"}}],\"contour\":[{\"type\":\"contour\",\"colorbar\":{\"outlinewidth\":0,\"ticks\":\"\"},\"colorscale\":[[0.0,\"#0d0887\"],[0.1111111111111111,\"#46039f\"],[0.2222222222222222,\"#7201a8\"],[0.3333333333333333,\"#9c179e\"],[0.4444444444444444,\"#bd3786\"],[0.5555555555555556,\"#d8576b\"],[0.6666666666666666,\"#ed7953\"],[0.7777777777777778,\"#fb9f3a\"],[0.8888888888888888,\"#fdca26\"],[1.0,\"#f0f921\"]]}],\"surface\":[{\"type\":\"surface\",\"colorbar\":{\"outlinewidth\":0,\"ticks\":\"\"},\"colorscale\":[[0.0,\"#0d0887\"],[0.1111111111111111,\"#46039f\"],[0.2222222222222222,\"#7201a8\"],[0.3333333333333333,\"#9c179e\"],[0.4444444444444444,\"#bd3786\"],[0.5555555555555556,\"#d8576b\"],[0.6666666666666666,\"#ed7953\"],[0.7777777777777778,\"#fb9f3a\"],[0.8888888888888888,\"#fdca26\"],[1.0,\"#f0f921\"]]}],\"mesh3d\":[{\"type\":\"mesh3d\",\"colorbar\":{\"outlinewidth\":0,\"ticks\":\"\"}}],\"scatter\":[{\"fillpattern\":{\"fillmode\":\"overlay\",\"size\":10,\"solidity\":0.2},\"type\":\"scatter\"}],\"parcoords\":[{\"type\":\"parcoords\",\"line\":{\"colorbar\":{\"outlinewidth\":0,\"ticks\":\"\"}}}],\"scatterpolargl\":[{\"type\":\"scatterpolargl\",\"marker\":{\"colorbar\":{\"outlinewidth\":0,\"ticks\":\"\"}}}],\"bar\":[{\"error_x\":{\"color\":\"#2a3f5f\"},\"error_y\":{\"color\":\"#2a3f5f\"},\"marker\":{\"line\":{\"color\":\"#E5ECF6\",\"width\":0.5},\"pattern\":{\"fillmode\":\"overlay\",\"size\":10,\"solidity\":0.2}},\"type\":\"bar\"}],\"scattergeo\":[{\"type\":\"scattergeo\",\"marker\":{\"colorbar\":{\"outlinewidth\":0,\"ticks\":\"\"}}}],\"scatterpolar\":[{\"type\":\"scatterpolar\",\"marker\":{\"colorbar\":{\"outlinewidth\":0,\"ticks\":\"\"}}}],\"histogram\":[{\"marker\":{\"pattern\":{\"fillmode\":\"overlay\",\"size\":10,\"solidity\":0.2}},\"type\":\"histogram\"}],\"scattergl\":[{\"type\":\"scattergl\",\"marker\":{\"colorbar\":{\"outlinewidth\":0,\"ticks\":\"\"}}}],\"scatter3d\":[{\"type\":\"scatter3d\",\"line\":{\"colorbar\":{\"outlinewidth\":0,\"ticks\":\"\"}},\"marker\":{\"colorbar\":{\"outlinewidth\":0,\"ticks\":\"\"}}}],\"scattermapbox\":[{\"type\":\"scattermapbox\",\"marker\":{\"colorbar\":{\"outlinewidth\":0,\"ticks\":\"\"}}}],\"scatterternary\":[{\"type\":\"scatterternary\",\"marker\":{\"colorbar\":{\"outlinewidth\":0,\"ticks\":\"\"}}}],\"scattercarpet\":[{\"type\":\"scattercarpet\",\"marker\":{\"colorbar\":{\"outlinewidth\":0,\"ticks\":\"\"}}}],\"carpet\":[{\"aaxis\":{\"endlinecolor\":\"#2a3f5f\",\"gridcolor\":\"white\",\"linecolor\":\"white\",\"minorgridcolor\":\"white\",\"startlinecolor\":\"#2a3f5f\"},\"baxis\":{\"endlinecolor\":\"#2a3f5f\",\"gridcolor\":\"white\",\"linecolor\":\"white\",\"minorgridcolor\":\"white\",\"startlinecolor\":\"#2a3f5f\"},\"type\":\"carpet\"}],\"table\":[{\"cells\":{\"fill\":{\"color\":\"#EBF0F8\"},\"line\":{\"color\":\"white\"}},\"header\":{\"fill\":{\"color\":\"#C8D4E3\"},\"line\":{\"color\":\"white\"}},\"type\":\"table\"}],\"barpolar\":[{\"marker\":{\"line\":{\"color\":\"#E5ECF6\",\"width\":0.5},\"pattern\":{\"fillmode\":\"overlay\",\"size\":10,\"solidity\":0.2}},\"type\":\"barpolar\"}],\"pie\":[{\"automargin\":true,\"type\":\"pie\"}]},\"layout\":{\"autotypenumbers\":\"strict\",\"colorway\":[\"#636efa\",\"#EF553B\",\"#00cc96\",\"#ab63fa\",\"#FFA15A\",\"#19d3f3\",\"#FF6692\",\"#B6E880\",\"#FF97FF\",\"#FECB52\"],\"font\":{\"color\":\"#2a3f5f\"},\"hovermode\":\"closest\",\"hoverlabel\":{\"align\":\"left\"},\"paper_bgcolor\":\"white\",\"plot_bgcolor\":\"#E5ECF6\",\"polar\":{\"bgcolor\":\"#E5ECF6\",\"angularaxis\":{\"gridcolor\":\"white\",\"linecolor\":\"white\",\"ticks\":\"\"},\"radialaxis\":{\"gridcolor\":\"white\",\"linecolor\":\"white\",\"ticks\":\"\"}},\"ternary\":{\"bgcolor\":\"#E5ECF6\",\"aaxis\":{\"gridcolor\":\"white\",\"linecolor\":\"white\",\"ticks\":\"\"},\"baxis\":{\"gridcolor\":\"white\",\"linecolor\":\"white\",\"ticks\":\"\"},\"caxis\":{\"gridcolor\":\"white\",\"linecolor\":\"white\",\"ticks\":\"\"}},\"coloraxis\":{\"colorbar\":{\"outlinewidth\":0,\"ticks\":\"\"}},\"colorscale\":{\"sequential\":[[0.0,\"#0d0887\"],[0.1111111111111111,\"#46039f\"],[0.2222222222222222,\"#7201a8\"],[0.3333333333333333,\"#9c179e\"],[0.4444444444444444,\"#bd3786\"],[0.5555555555555556,\"#d8576b\"],[0.6666666666666666,\"#ed7953\"],[0.7777777777777778,\"#fb9f3a\"],[0.8888888888888888,\"#fdca26\"],[1.0,\"#f0f921\"]],\"sequentialminus\":[[0.0,\"#0d0887\"],[0.1111111111111111,\"#46039f\"],[0.2222222222222222,\"#7201a8\"],[0.3333333333333333,\"#9c179e\"],[0.4444444444444444,\"#bd3786\"],[0.5555555555555556,\"#d8576b\"],[0.6666666666666666,\"#ed7953\"],[0.7777777777777778,\"#fb9f3a\"],[0.8888888888888888,\"#fdca26\"],[1.0,\"#f0f921\"]],\"diverging\":[[0,\"#8e0152\"],[0.1,\"#c51b7d\"],[0.2,\"#de77ae\"],[0.3,\"#f1b6da\"],[0.4,\"#fde0ef\"],[0.5,\"#f7f7f7\"],[0.6,\"#e6f5d0\"],[0.7,\"#b8e186\"],[0.8,\"#7fbc41\"],[0.9,\"#4d9221\"],[1,\"#276419\"]]},\"xaxis\":{\"gridcolor\":\"white\",\"linecolor\":\"white\",\"ticks\":\"\",\"title\":{\"standoff\":15},\"zerolinecolor\":\"white\",\"automargin\":true,\"zerolinewidth\":2},\"yaxis\":{\"gridcolor\":\"white\",\"linecolor\":\"white\",\"ticks\":\"\",\"title\":{\"standoff\":15},\"zerolinecolor\":\"white\",\"automargin\":true,\"zerolinewidth\":2},\"scene\":{\"xaxis\":{\"backgroundcolor\":\"#E5ECF6\",\"gridcolor\":\"white\",\"linecolor\":\"white\",\"showbackground\":true,\"ticks\":\"\",\"zerolinecolor\":\"white\",\"gridwidth\":2},\"yaxis\":{\"backgroundcolor\":\"#E5ECF6\",\"gridcolor\":\"white\",\"linecolor\":\"white\",\"showbackground\":true,\"ticks\":\"\",\"zerolinecolor\":\"white\",\"gridwidth\":2},\"zaxis\":{\"backgroundcolor\":\"#E5ECF6\",\"gridcolor\":\"white\",\"linecolor\":\"white\",\"showbackground\":true,\"ticks\":\"\",\"zerolinecolor\":\"white\",\"gridwidth\":2}},\"shapedefaults\":{\"line\":{\"color\":\"#2a3f5f\"}},\"annotationdefaults\":{\"arrowcolor\":\"#2a3f5f\",\"arrowhead\":0,\"arrowwidth\":1},\"geo\":{\"bgcolor\":\"white\",\"landcolor\":\"#E5ECF6\",\"subunitcolor\":\"white\",\"showland\":true,\"showlakes\":true,\"lakecolor\":\"white\"},\"title\":{\"x\":0.05},\"mapbox\":{\"style\":\"light\"}}},\"xaxis\":{\"anchor\":\"y\",\"domain\":[0.0,1.0],\"title\":{\"text\":\"virus\"}},\"yaxis\":{\"anchor\":\"x\",\"domain\":[0.0,1.0],\"title\":{\"text\":\"Percentage\"}},\"legend\":{\"title\":{\"text\":\"Type\"},\"tracegroupgap\":0},\"margin\":{\"t\":60},\"barmode\":\"relative\"},                        {\"responsive\": true}                    ).then(function(){\n",
       "                            \n",
       "var gd = document.getElementById('f8f68eb9-e527-452a-9a48-875ce6f1432f');\n",
       "var x = new MutationObserver(function (mutations, observer) {{\n",
       "        var display = window.getComputedStyle(gd).display;\n",
       "        if (!display || display === 'none') {{\n",
       "            console.log([gd, 'removed!']);\n",
       "            Plotly.purge(gd);\n",
       "            observer.disconnect();\n",
       "        }}\n",
       "}});\n",
       "\n",
       "// Listen for the removal of the full notebook cells\n",
       "var notebookContainer = gd.closest('#notebook-container');\n",
       "if (notebookContainer) {{\n",
       "    x.observe(notebookContainer, {childList: true});\n",
       "}}\n",
       "\n",
       "// Listen for the clearing of the current output cell\n",
       "var outputEl = gd.closest('.output');\n",
       "if (outputEl) {{\n",
       "    x.observe(outputEl, {childList: true});\n",
       "}}\n",
       "\n",
       "                        })                };                            </script>        </div>\n",
       "</body>\n",
       "</html>"
      ]
     },
     "metadata": {},
     "output_type": "display_data"
    }
   ],
   "source": [
    "cases = df[[\"Total Recovered\",\"Active Cases\",\"Total Deaths\"]].loc[0]\n",
    "cases_df = pd.DataFrame(cases).reset_index()\n",
    "cases_df.columns = ['Type','Total']\n",
    "cases_df[\"Percentage\"] = np.round(100*cases_df['Total']/np.sum(cases_df[\"Total\"]),2)\n",
    "cases_df[\"virus\"] = ['COVID-19' for i in range(len(cases_df))]\n",
    "cases_df\n",
    "#plot percentage and virus\n",
    "fig = px.bar(cases_df,x=\"virus\",y=\"Percentage\",color=\"Type\",hover_data=[\"Total\"])\n",
    "fig.show()"
   ]
  },
  {
   "cell_type": "code",
   "execution_count": 13,
   "metadata": {
    "colab": {
     "base_uri": "https://localhost:8080/",
     "height": 542
    },
    "id": "kce4zf9fAda-",
    "outputId": "cdce5ca0-9523-4fdd-d88a-b06a06d2281f"
   },
   "outputs": [
    {
     "data": {
      "text/html": [
       "<html>\n",
       "<head><meta charset=\"utf-8\" /></head>\n",
       "<body>\n",
       "    <div>            <script src=\"https://cdnjs.cloudflare.com/ajax/libs/mathjax/2.7.5/MathJax.js?config=TeX-AMS-MML_SVG\"></script><script type=\"text/javascript\">if (window.MathJax && window.MathJax.Hub && window.MathJax.Hub.Config) {window.MathJax.Hub.Config({SVG: {font: \"STIX-Web\"}});}</script>                <script type=\"text/javascript\">window.PlotlyConfig = {MathJaxConfig: 'local'};</script>\n",
       "        <script charset=\"utf-8\" src=\"https://cdn.plot.ly/plotly-2.24.1.min.js\"></script>                <div id=\"5f1ce9c2-81cc-4b6e-a8a5-8a3cfd9d2164\" class=\"plotly-graph-div\" style=\"height:525px; width:100%;\"></div>            <script type=\"text/javascript\">                                    window.PLOTLYENV=window.PLOTLYENV || {};                                    if (document.getElementById(\"5f1ce9c2-81cc-4b6e-a8a5-8a3cfd9d2164\")) {                    Plotly.newPlot(                        \"5f1ce9c2-81cc-4b6e-a8a5-8a3cfd9d2164\",                        [{\"alignmentgroup\":\"True\",\"customdata\":[[3959.0]],\"hovertemplate\":\"Type=New Cases\\u003cbr\\u003evirus=%{x}\\u003cbr\\u003ePercentage=%{y}\\u003cbr\\u003eTotal=%{customdata[0]}\\u003cextra\\u003e\\u003c\\u002fextra\\u003e\",\"legendgroup\":\"New Cases\",\"marker\":{\"color\":\"#636efa\",\"pattern\":{\"shape\":\"\"}},\"name\":\"New Cases\",\"offsetgroup\":\"New Cases\",\"orientation\":\"v\",\"showlegend\":true,\"textposition\":\"auto\",\"x\":[\"COVID-19\"],\"xaxis\":\"x\",\"y\":[20.87],\"yaxis\":\"y\",\"type\":\"bar\"},{\"alignmentgroup\":\"True\",\"customdata\":[[14953.0]],\"hovertemplate\":\"Type=New Recovered\\u003cbr\\u003evirus=%{x}\\u003cbr\\u003ePercentage=%{y}\\u003cbr\\u003eTotal=%{customdata[0]}\\u003cextra\\u003e\\u003c\\u002fextra\\u003e\",\"legendgroup\":\"New Recovered\",\"marker\":{\"color\":\"#EF553B\",\"pattern\":{\"shape\":\"\"}},\"name\":\"New Recovered\",\"offsetgroup\":\"New Recovered\",\"orientation\":\"v\",\"showlegend\":true,\"textposition\":\"auto\",\"x\":[\"COVID-19\"],\"xaxis\":\"x\",\"y\":[78.83],\"yaxis\":\"y\",\"type\":\"bar\"},{\"alignmentgroup\":\"True\",\"customdata\":[[57.0]],\"hovertemplate\":\"Type=New Deaths\\u003cbr\\u003evirus=%{x}\\u003cbr\\u003ePercentage=%{y}\\u003cbr\\u003eTotal=%{customdata[0]}\\u003cextra\\u003e\\u003c\\u002fextra\\u003e\",\"legendgroup\":\"New Deaths\",\"marker\":{\"color\":\"#00cc96\",\"pattern\":{\"shape\":\"\"}},\"name\":\"New Deaths\",\"offsetgroup\":\"New Deaths\",\"orientation\":\"v\",\"showlegend\":true,\"textposition\":\"auto\",\"x\":[\"COVID-19\"],\"xaxis\":\"x\",\"y\":[0.3],\"yaxis\":\"y\",\"type\":\"bar\"}],                        {\"template\":{\"data\":{\"histogram2dcontour\":[{\"type\":\"histogram2dcontour\",\"colorbar\":{\"outlinewidth\":0,\"ticks\":\"\"},\"colorscale\":[[0.0,\"#0d0887\"],[0.1111111111111111,\"#46039f\"],[0.2222222222222222,\"#7201a8\"],[0.3333333333333333,\"#9c179e\"],[0.4444444444444444,\"#bd3786\"],[0.5555555555555556,\"#d8576b\"],[0.6666666666666666,\"#ed7953\"],[0.7777777777777778,\"#fb9f3a\"],[0.8888888888888888,\"#fdca26\"],[1.0,\"#f0f921\"]]}],\"choropleth\":[{\"type\":\"choropleth\",\"colorbar\":{\"outlinewidth\":0,\"ticks\":\"\"}}],\"histogram2d\":[{\"type\":\"histogram2d\",\"colorbar\":{\"outlinewidth\":0,\"ticks\":\"\"},\"colorscale\":[[0.0,\"#0d0887\"],[0.1111111111111111,\"#46039f\"],[0.2222222222222222,\"#7201a8\"],[0.3333333333333333,\"#9c179e\"],[0.4444444444444444,\"#bd3786\"],[0.5555555555555556,\"#d8576b\"],[0.6666666666666666,\"#ed7953\"],[0.7777777777777778,\"#fb9f3a\"],[0.8888888888888888,\"#fdca26\"],[1.0,\"#f0f921\"]]}],\"heatmap\":[{\"type\":\"heatmap\",\"colorbar\":{\"outlinewidth\":0,\"ticks\":\"\"},\"colorscale\":[[0.0,\"#0d0887\"],[0.1111111111111111,\"#46039f\"],[0.2222222222222222,\"#7201a8\"],[0.3333333333333333,\"#9c179e\"],[0.4444444444444444,\"#bd3786\"],[0.5555555555555556,\"#d8576b\"],[0.6666666666666666,\"#ed7953\"],[0.7777777777777778,\"#fb9f3a\"],[0.8888888888888888,\"#fdca26\"],[1.0,\"#f0f921\"]]}],\"heatmapgl\":[{\"type\":\"heatmapgl\",\"colorbar\":{\"outlinewidth\":0,\"ticks\":\"\"},\"colorscale\":[[0.0,\"#0d0887\"],[0.1111111111111111,\"#46039f\"],[0.2222222222222222,\"#7201a8\"],[0.3333333333333333,\"#9c179e\"],[0.4444444444444444,\"#bd3786\"],[0.5555555555555556,\"#d8576b\"],[0.6666666666666666,\"#ed7953\"],[0.7777777777777778,\"#fb9f3a\"],[0.8888888888888888,\"#fdca26\"],[1.0,\"#f0f921\"]]}],\"contourcarpet\":[{\"type\":\"contourcarpet\",\"colorbar\":{\"outlinewidth\":0,\"ticks\":\"\"}}],\"contour\":[{\"type\":\"contour\",\"colorbar\":{\"outlinewidth\":0,\"ticks\":\"\"},\"colorscale\":[[0.0,\"#0d0887\"],[0.1111111111111111,\"#46039f\"],[0.2222222222222222,\"#7201a8\"],[0.3333333333333333,\"#9c179e\"],[0.4444444444444444,\"#bd3786\"],[0.5555555555555556,\"#d8576b\"],[0.6666666666666666,\"#ed7953\"],[0.7777777777777778,\"#fb9f3a\"],[0.8888888888888888,\"#fdca26\"],[1.0,\"#f0f921\"]]}],\"surface\":[{\"type\":\"surface\",\"colorbar\":{\"outlinewidth\":0,\"ticks\":\"\"},\"colorscale\":[[0.0,\"#0d0887\"],[0.1111111111111111,\"#46039f\"],[0.2222222222222222,\"#7201a8\"],[0.3333333333333333,\"#9c179e\"],[0.4444444444444444,\"#bd3786\"],[0.5555555555555556,\"#d8576b\"],[0.6666666666666666,\"#ed7953\"],[0.7777777777777778,\"#fb9f3a\"],[0.8888888888888888,\"#fdca26\"],[1.0,\"#f0f921\"]]}],\"mesh3d\":[{\"type\":\"mesh3d\",\"colorbar\":{\"outlinewidth\":0,\"ticks\":\"\"}}],\"scatter\":[{\"fillpattern\":{\"fillmode\":\"overlay\",\"size\":10,\"solidity\":0.2},\"type\":\"scatter\"}],\"parcoords\":[{\"type\":\"parcoords\",\"line\":{\"colorbar\":{\"outlinewidth\":0,\"ticks\":\"\"}}}],\"scatterpolargl\":[{\"type\":\"scatterpolargl\",\"marker\":{\"colorbar\":{\"outlinewidth\":0,\"ticks\":\"\"}}}],\"bar\":[{\"error_x\":{\"color\":\"#2a3f5f\"},\"error_y\":{\"color\":\"#2a3f5f\"},\"marker\":{\"line\":{\"color\":\"#E5ECF6\",\"width\":0.5},\"pattern\":{\"fillmode\":\"overlay\",\"size\":10,\"solidity\":0.2}},\"type\":\"bar\"}],\"scattergeo\":[{\"type\":\"scattergeo\",\"marker\":{\"colorbar\":{\"outlinewidth\":0,\"ticks\":\"\"}}}],\"scatterpolar\":[{\"type\":\"scatterpolar\",\"marker\":{\"colorbar\":{\"outlinewidth\":0,\"ticks\":\"\"}}}],\"histogram\":[{\"marker\":{\"pattern\":{\"fillmode\":\"overlay\",\"size\":10,\"solidity\":0.2}},\"type\":\"histogram\"}],\"scattergl\":[{\"type\":\"scattergl\",\"marker\":{\"colorbar\":{\"outlinewidth\":0,\"ticks\":\"\"}}}],\"scatter3d\":[{\"type\":\"scatter3d\",\"line\":{\"colorbar\":{\"outlinewidth\":0,\"ticks\":\"\"}},\"marker\":{\"colorbar\":{\"outlinewidth\":0,\"ticks\":\"\"}}}],\"scattermapbox\":[{\"type\":\"scattermapbox\",\"marker\":{\"colorbar\":{\"outlinewidth\":0,\"ticks\":\"\"}}}],\"scatterternary\":[{\"type\":\"scatterternary\",\"marker\":{\"colorbar\":{\"outlinewidth\":0,\"ticks\":\"\"}}}],\"scattercarpet\":[{\"type\":\"scattercarpet\",\"marker\":{\"colorbar\":{\"outlinewidth\":0,\"ticks\":\"\"}}}],\"carpet\":[{\"aaxis\":{\"endlinecolor\":\"#2a3f5f\",\"gridcolor\":\"white\",\"linecolor\":\"white\",\"minorgridcolor\":\"white\",\"startlinecolor\":\"#2a3f5f\"},\"baxis\":{\"endlinecolor\":\"#2a3f5f\",\"gridcolor\":\"white\",\"linecolor\":\"white\",\"minorgridcolor\":\"white\",\"startlinecolor\":\"#2a3f5f\"},\"type\":\"carpet\"}],\"table\":[{\"cells\":{\"fill\":{\"color\":\"#EBF0F8\"},\"line\":{\"color\":\"white\"}},\"header\":{\"fill\":{\"color\":\"#C8D4E3\"},\"line\":{\"color\":\"white\"}},\"type\":\"table\"}],\"barpolar\":[{\"marker\":{\"line\":{\"color\":\"#E5ECF6\",\"width\":0.5},\"pattern\":{\"fillmode\":\"overlay\",\"size\":10,\"solidity\":0.2}},\"type\":\"barpolar\"}],\"pie\":[{\"automargin\":true,\"type\":\"pie\"}]},\"layout\":{\"autotypenumbers\":\"strict\",\"colorway\":[\"#636efa\",\"#EF553B\",\"#00cc96\",\"#ab63fa\",\"#FFA15A\",\"#19d3f3\",\"#FF6692\",\"#B6E880\",\"#FF97FF\",\"#FECB52\"],\"font\":{\"color\":\"#2a3f5f\"},\"hovermode\":\"closest\",\"hoverlabel\":{\"align\":\"left\"},\"paper_bgcolor\":\"white\",\"plot_bgcolor\":\"#E5ECF6\",\"polar\":{\"bgcolor\":\"#E5ECF6\",\"angularaxis\":{\"gridcolor\":\"white\",\"linecolor\":\"white\",\"ticks\":\"\"},\"radialaxis\":{\"gridcolor\":\"white\",\"linecolor\":\"white\",\"ticks\":\"\"}},\"ternary\":{\"bgcolor\":\"#E5ECF6\",\"aaxis\":{\"gridcolor\":\"white\",\"linecolor\":\"white\",\"ticks\":\"\"},\"baxis\":{\"gridcolor\":\"white\",\"linecolor\":\"white\",\"ticks\":\"\"},\"caxis\":{\"gridcolor\":\"white\",\"linecolor\":\"white\",\"ticks\":\"\"}},\"coloraxis\":{\"colorbar\":{\"outlinewidth\":0,\"ticks\":\"\"}},\"colorscale\":{\"sequential\":[[0.0,\"#0d0887\"],[0.1111111111111111,\"#46039f\"],[0.2222222222222222,\"#7201a8\"],[0.3333333333333333,\"#9c179e\"],[0.4444444444444444,\"#bd3786\"],[0.5555555555555556,\"#d8576b\"],[0.6666666666666666,\"#ed7953\"],[0.7777777777777778,\"#fb9f3a\"],[0.8888888888888888,\"#fdca26\"],[1.0,\"#f0f921\"]],\"sequentialminus\":[[0.0,\"#0d0887\"],[0.1111111111111111,\"#46039f\"],[0.2222222222222222,\"#7201a8\"],[0.3333333333333333,\"#9c179e\"],[0.4444444444444444,\"#bd3786\"],[0.5555555555555556,\"#d8576b\"],[0.6666666666666666,\"#ed7953\"],[0.7777777777777778,\"#fb9f3a\"],[0.8888888888888888,\"#fdca26\"],[1.0,\"#f0f921\"]],\"diverging\":[[0,\"#8e0152\"],[0.1,\"#c51b7d\"],[0.2,\"#de77ae\"],[0.3,\"#f1b6da\"],[0.4,\"#fde0ef\"],[0.5,\"#f7f7f7\"],[0.6,\"#e6f5d0\"],[0.7,\"#b8e186\"],[0.8,\"#7fbc41\"],[0.9,\"#4d9221\"],[1,\"#276419\"]]},\"xaxis\":{\"gridcolor\":\"white\",\"linecolor\":\"white\",\"ticks\":\"\",\"title\":{\"standoff\":15},\"zerolinecolor\":\"white\",\"automargin\":true,\"zerolinewidth\":2},\"yaxis\":{\"gridcolor\":\"white\",\"linecolor\":\"white\",\"ticks\":\"\",\"title\":{\"standoff\":15},\"zerolinecolor\":\"white\",\"automargin\":true,\"zerolinewidth\":2},\"scene\":{\"xaxis\":{\"backgroundcolor\":\"#E5ECF6\",\"gridcolor\":\"white\",\"linecolor\":\"white\",\"showbackground\":true,\"ticks\":\"\",\"zerolinecolor\":\"white\",\"gridwidth\":2},\"yaxis\":{\"backgroundcolor\":\"#E5ECF6\",\"gridcolor\":\"white\",\"linecolor\":\"white\",\"showbackground\":true,\"ticks\":\"\",\"zerolinecolor\":\"white\",\"gridwidth\":2},\"zaxis\":{\"backgroundcolor\":\"#E5ECF6\",\"gridcolor\":\"white\",\"linecolor\":\"white\",\"showbackground\":true,\"ticks\":\"\",\"zerolinecolor\":\"white\",\"gridwidth\":2}},\"shapedefaults\":{\"line\":{\"color\":\"#2a3f5f\"}},\"annotationdefaults\":{\"arrowcolor\":\"#2a3f5f\",\"arrowhead\":0,\"arrowwidth\":1},\"geo\":{\"bgcolor\":\"white\",\"landcolor\":\"#E5ECF6\",\"subunitcolor\":\"white\",\"showland\":true,\"showlakes\":true,\"lakecolor\":\"white\"},\"title\":{\"x\":0.05},\"mapbox\":{\"style\":\"light\"}}},\"xaxis\":{\"anchor\":\"y\",\"domain\":[0.0,1.0],\"title\":{\"text\":\"virus\"}},\"yaxis\":{\"anchor\":\"x\",\"domain\":[0.0,1.0],\"title\":{\"text\":\"Percentage\"}},\"legend\":{\"title\":{\"text\":\"Type\"},\"tracegroupgap\":0},\"margin\":{\"t\":60},\"barmode\":\"relative\"},                        {\"responsive\": true}                    ).then(function(){\n",
       "                            \n",
       "var gd = document.getElementById('5f1ce9c2-81cc-4b6e-a8a5-8a3cfd9d2164');\n",
       "var x = new MutationObserver(function (mutations, observer) {{\n",
       "        var display = window.getComputedStyle(gd).display;\n",
       "        if (!display || display === 'none') {{\n",
       "            console.log([gd, 'removed!']);\n",
       "            Plotly.purge(gd);\n",
       "            observer.disconnect();\n",
       "        }}\n",
       "}});\n",
       "\n",
       "// Listen for the removal of the full notebook cells\n",
       "var notebookContainer = gd.closest('#notebook-container');\n",
       "if (notebookContainer) {{\n",
       "    x.observe(notebookContainer, {childList: true});\n",
       "}}\n",
       "\n",
       "// Listen for the clearing of the current output cell\n",
       "var outputEl = gd.closest('.output');\n",
       "if (outputEl) {{\n",
       "    x.observe(outputEl, {childList: true});\n",
       "}}\n",
       "\n",
       "                        })                };                            </script>        </div>\n",
       "</body>\n",
       "</html>"
      ]
     },
     "metadata": {},
     "output_type": "display_data"
    }
   ],
   "source": [
    "cases = df[[\"New Cases\",\"New Recovered\",\"New Deaths\"]].loc[0]\n",
    "cases_df = pd.DataFrame(cases).reset_index()\n",
    "cases_df.columns = ['Type','Total']\n",
    "cases_df[\"Percentage\"] = np.round(100*cases_df['Total']/np.sum(cases_df[\"Total\"]),2)\n",
    "cases_df[\"virus\"] = ['COVID-19' for i in range(len(cases_df))]\n",
    "cases_df\n",
    "#plot percentage and virus\n",
    "fig = px.bar(cases_df,x=\"virus\",y=\"Percentage\",color=\"Type\",hover_data=[\"Total\"])\n",
    "fig.show()"
   ]
  },
  {
   "cell_type": "code",
   "execution_count": 14,
   "metadata": {
    "colab": {
     "base_uri": "https://localhost:8080/",
     "height": 542
    },
    "id": "a9WIFKMxAmRb",
    "outputId": "361a23b1-4845-45a1-9a46-f8f6cce0ee78"
   },
   "outputs": [
    {
     "data": {
      "text/html": [
       "<html>\n",
       "<head><meta charset=\"utf-8\" /></head>\n",
       "<body>\n",
       "    <div>            <script src=\"https://cdnjs.cloudflare.com/ajax/libs/mathjax/2.7.5/MathJax.js?config=TeX-AMS-MML_SVG\"></script><script type=\"text/javascript\">if (window.MathJax && window.MathJax.Hub && window.MathJax.Hub.Config) {window.MathJax.Hub.Config({SVG: {font: \"STIX-Web\"}});}</script>                <script type=\"text/javascript\">window.PlotlyConfig = {MathJaxConfig: 'local'};</script>\n",
       "        <script charset=\"utf-8\" src=\"https://cdn.plot.ly/plotly-2.24.1.min.js\"></script>                <div id=\"9abbc34b-ffbf-4b97-9704-376413b1cd95\" class=\"plotly-graph-div\" style=\"height:525px; width:100%;\"></div>            <script type=\"text/javascript\">                                    window.PLOTLYENV=window.PLOTLYENV || {};                                    if (document.getElementById(\"9abbc34b-ffbf-4b97-9704-376413b1cd95\")) {                    Plotly.newPlot(                        \"9abbc34b-ffbf-4b97-9704-376413b1cd95\",                        [{\"marker\":{\"color\":[\"Yellow\",\"blue\",\"red\"]},\"x\":[\"%Inc Cases\",\"%Inc Deaths\",\"%Inc Recovered\"],\"y\":[0.0,0.0,0.0],\"type\":\"bar\"}],                        {\"template\":{\"data\":{\"histogram2dcontour\":[{\"type\":\"histogram2dcontour\",\"colorbar\":{\"outlinewidth\":0,\"ticks\":\"\"},\"colorscale\":[[0.0,\"#0d0887\"],[0.1111111111111111,\"#46039f\"],[0.2222222222222222,\"#7201a8\"],[0.3333333333333333,\"#9c179e\"],[0.4444444444444444,\"#bd3786\"],[0.5555555555555556,\"#d8576b\"],[0.6666666666666666,\"#ed7953\"],[0.7777777777777778,\"#fb9f3a\"],[0.8888888888888888,\"#fdca26\"],[1.0,\"#f0f921\"]]}],\"choropleth\":[{\"type\":\"choropleth\",\"colorbar\":{\"outlinewidth\":0,\"ticks\":\"\"}}],\"histogram2d\":[{\"type\":\"histogram2d\",\"colorbar\":{\"outlinewidth\":0,\"ticks\":\"\"},\"colorscale\":[[0.0,\"#0d0887\"],[0.1111111111111111,\"#46039f\"],[0.2222222222222222,\"#7201a8\"],[0.3333333333333333,\"#9c179e\"],[0.4444444444444444,\"#bd3786\"],[0.5555555555555556,\"#d8576b\"],[0.6666666666666666,\"#ed7953\"],[0.7777777777777778,\"#fb9f3a\"],[0.8888888888888888,\"#fdca26\"],[1.0,\"#f0f921\"]]}],\"heatmap\":[{\"type\":\"heatmap\",\"colorbar\":{\"outlinewidth\":0,\"ticks\":\"\"},\"colorscale\":[[0.0,\"#0d0887\"],[0.1111111111111111,\"#46039f\"],[0.2222222222222222,\"#7201a8\"],[0.3333333333333333,\"#9c179e\"],[0.4444444444444444,\"#bd3786\"],[0.5555555555555556,\"#d8576b\"],[0.6666666666666666,\"#ed7953\"],[0.7777777777777778,\"#fb9f3a\"],[0.8888888888888888,\"#fdca26\"],[1.0,\"#f0f921\"]]}],\"heatmapgl\":[{\"type\":\"heatmapgl\",\"colorbar\":{\"outlinewidth\":0,\"ticks\":\"\"},\"colorscale\":[[0.0,\"#0d0887\"],[0.1111111111111111,\"#46039f\"],[0.2222222222222222,\"#7201a8\"],[0.3333333333333333,\"#9c179e\"],[0.4444444444444444,\"#bd3786\"],[0.5555555555555556,\"#d8576b\"],[0.6666666666666666,\"#ed7953\"],[0.7777777777777778,\"#fb9f3a\"],[0.8888888888888888,\"#fdca26\"],[1.0,\"#f0f921\"]]}],\"contourcarpet\":[{\"type\":\"contourcarpet\",\"colorbar\":{\"outlinewidth\":0,\"ticks\":\"\"}}],\"contour\":[{\"type\":\"contour\",\"colorbar\":{\"outlinewidth\":0,\"ticks\":\"\"},\"colorscale\":[[0.0,\"#0d0887\"],[0.1111111111111111,\"#46039f\"],[0.2222222222222222,\"#7201a8\"],[0.3333333333333333,\"#9c179e\"],[0.4444444444444444,\"#bd3786\"],[0.5555555555555556,\"#d8576b\"],[0.6666666666666666,\"#ed7953\"],[0.7777777777777778,\"#fb9f3a\"],[0.8888888888888888,\"#fdca26\"],[1.0,\"#f0f921\"]]}],\"surface\":[{\"type\":\"surface\",\"colorbar\":{\"outlinewidth\":0,\"ticks\":\"\"},\"colorscale\":[[0.0,\"#0d0887\"],[0.1111111111111111,\"#46039f\"],[0.2222222222222222,\"#7201a8\"],[0.3333333333333333,\"#9c179e\"],[0.4444444444444444,\"#bd3786\"],[0.5555555555555556,\"#d8576b\"],[0.6666666666666666,\"#ed7953\"],[0.7777777777777778,\"#fb9f3a\"],[0.8888888888888888,\"#fdca26\"],[1.0,\"#f0f921\"]]}],\"mesh3d\":[{\"type\":\"mesh3d\",\"colorbar\":{\"outlinewidth\":0,\"ticks\":\"\"}}],\"scatter\":[{\"fillpattern\":{\"fillmode\":\"overlay\",\"size\":10,\"solidity\":0.2},\"type\":\"scatter\"}],\"parcoords\":[{\"type\":\"parcoords\",\"line\":{\"colorbar\":{\"outlinewidth\":0,\"ticks\":\"\"}}}],\"scatterpolargl\":[{\"type\":\"scatterpolargl\",\"marker\":{\"colorbar\":{\"outlinewidth\":0,\"ticks\":\"\"}}}],\"bar\":[{\"error_x\":{\"color\":\"#2a3f5f\"},\"error_y\":{\"color\":\"#2a3f5f\"},\"marker\":{\"line\":{\"color\":\"#E5ECF6\",\"width\":0.5},\"pattern\":{\"fillmode\":\"overlay\",\"size\":10,\"solidity\":0.2}},\"type\":\"bar\"}],\"scattergeo\":[{\"type\":\"scattergeo\",\"marker\":{\"colorbar\":{\"outlinewidth\":0,\"ticks\":\"\"}}}],\"scatterpolar\":[{\"type\":\"scatterpolar\",\"marker\":{\"colorbar\":{\"outlinewidth\":0,\"ticks\":\"\"}}}],\"histogram\":[{\"marker\":{\"pattern\":{\"fillmode\":\"overlay\",\"size\":10,\"solidity\":0.2}},\"type\":\"histogram\"}],\"scattergl\":[{\"type\":\"scattergl\",\"marker\":{\"colorbar\":{\"outlinewidth\":0,\"ticks\":\"\"}}}],\"scatter3d\":[{\"type\":\"scatter3d\",\"line\":{\"colorbar\":{\"outlinewidth\":0,\"ticks\":\"\"}},\"marker\":{\"colorbar\":{\"outlinewidth\":0,\"ticks\":\"\"}}}],\"scattermapbox\":[{\"type\":\"scattermapbox\",\"marker\":{\"colorbar\":{\"outlinewidth\":0,\"ticks\":\"\"}}}],\"scatterternary\":[{\"type\":\"scatterternary\",\"marker\":{\"colorbar\":{\"outlinewidth\":0,\"ticks\":\"\"}}}],\"scattercarpet\":[{\"type\":\"scattercarpet\",\"marker\":{\"colorbar\":{\"outlinewidth\":0,\"ticks\":\"\"}}}],\"carpet\":[{\"aaxis\":{\"endlinecolor\":\"#2a3f5f\",\"gridcolor\":\"white\",\"linecolor\":\"white\",\"minorgridcolor\":\"white\",\"startlinecolor\":\"#2a3f5f\"},\"baxis\":{\"endlinecolor\":\"#2a3f5f\",\"gridcolor\":\"white\",\"linecolor\":\"white\",\"minorgridcolor\":\"white\",\"startlinecolor\":\"#2a3f5f\"},\"type\":\"carpet\"}],\"table\":[{\"cells\":{\"fill\":{\"color\":\"#EBF0F8\"},\"line\":{\"color\":\"white\"}},\"header\":{\"fill\":{\"color\":\"#C8D4E3\"},\"line\":{\"color\":\"white\"}},\"type\":\"table\"}],\"barpolar\":[{\"marker\":{\"line\":{\"color\":\"#E5ECF6\",\"width\":0.5},\"pattern\":{\"fillmode\":\"overlay\",\"size\":10,\"solidity\":0.2}},\"type\":\"barpolar\"}],\"pie\":[{\"automargin\":true,\"type\":\"pie\"}]},\"layout\":{\"autotypenumbers\":\"strict\",\"colorway\":[\"#636efa\",\"#EF553B\",\"#00cc96\",\"#ab63fa\",\"#FFA15A\",\"#19d3f3\",\"#FF6692\",\"#B6E880\",\"#FF97FF\",\"#FECB52\"],\"font\":{\"color\":\"#2a3f5f\"},\"hovermode\":\"closest\",\"hoverlabel\":{\"align\":\"left\"},\"paper_bgcolor\":\"white\",\"plot_bgcolor\":\"#E5ECF6\",\"polar\":{\"bgcolor\":\"#E5ECF6\",\"angularaxis\":{\"gridcolor\":\"white\",\"linecolor\":\"white\",\"ticks\":\"\"},\"radialaxis\":{\"gridcolor\":\"white\",\"linecolor\":\"white\",\"ticks\":\"\"}},\"ternary\":{\"bgcolor\":\"#E5ECF6\",\"aaxis\":{\"gridcolor\":\"white\",\"linecolor\":\"white\",\"ticks\":\"\"},\"baxis\":{\"gridcolor\":\"white\",\"linecolor\":\"white\",\"ticks\":\"\"},\"caxis\":{\"gridcolor\":\"white\",\"linecolor\":\"white\",\"ticks\":\"\"}},\"coloraxis\":{\"colorbar\":{\"outlinewidth\":0,\"ticks\":\"\"}},\"colorscale\":{\"sequential\":[[0.0,\"#0d0887\"],[0.1111111111111111,\"#46039f\"],[0.2222222222222222,\"#7201a8\"],[0.3333333333333333,\"#9c179e\"],[0.4444444444444444,\"#bd3786\"],[0.5555555555555556,\"#d8576b\"],[0.6666666666666666,\"#ed7953\"],[0.7777777777777778,\"#fb9f3a\"],[0.8888888888888888,\"#fdca26\"],[1.0,\"#f0f921\"]],\"sequentialminus\":[[0.0,\"#0d0887\"],[0.1111111111111111,\"#46039f\"],[0.2222222222222222,\"#7201a8\"],[0.3333333333333333,\"#9c179e\"],[0.4444444444444444,\"#bd3786\"],[0.5555555555555556,\"#d8576b\"],[0.6666666666666666,\"#ed7953\"],[0.7777777777777778,\"#fb9f3a\"],[0.8888888888888888,\"#fdca26\"],[1.0,\"#f0f921\"]],\"diverging\":[[0,\"#8e0152\"],[0.1,\"#c51b7d\"],[0.2,\"#de77ae\"],[0.3,\"#f1b6da\"],[0.4,\"#fde0ef\"],[0.5,\"#f7f7f7\"],[0.6,\"#e6f5d0\"],[0.7,\"#b8e186\"],[0.8,\"#7fbc41\"],[0.9,\"#4d9221\"],[1,\"#276419\"]]},\"xaxis\":{\"gridcolor\":\"white\",\"linecolor\":\"white\",\"ticks\":\"\",\"title\":{\"standoff\":15},\"zerolinecolor\":\"white\",\"automargin\":true,\"zerolinewidth\":2},\"yaxis\":{\"gridcolor\":\"white\",\"linecolor\":\"white\",\"ticks\":\"\",\"title\":{\"standoff\":15},\"zerolinecolor\":\"white\",\"automargin\":true,\"zerolinewidth\":2},\"scene\":{\"xaxis\":{\"backgroundcolor\":\"#E5ECF6\",\"gridcolor\":\"white\",\"linecolor\":\"white\",\"showbackground\":true,\"ticks\":\"\",\"zerolinecolor\":\"white\",\"gridwidth\":2},\"yaxis\":{\"backgroundcolor\":\"#E5ECF6\",\"gridcolor\":\"white\",\"linecolor\":\"white\",\"showbackground\":true,\"ticks\":\"\",\"zerolinecolor\":\"white\",\"gridwidth\":2},\"zaxis\":{\"backgroundcolor\":\"#E5ECF6\",\"gridcolor\":\"white\",\"linecolor\":\"white\",\"showbackground\":true,\"ticks\":\"\",\"zerolinecolor\":\"white\",\"gridwidth\":2}},\"shapedefaults\":{\"line\":{\"color\":\"#2a3f5f\"}},\"annotationdefaults\":{\"arrowcolor\":\"#2a3f5f\",\"arrowhead\":0,\"arrowwidth\":1},\"geo\":{\"bgcolor\":\"white\",\"landcolor\":\"#E5ECF6\",\"subunitcolor\":\"white\",\"showland\":true,\"showlakes\":true,\"lakecolor\":\"white\"},\"title\":{\"x\":0.05},\"mapbox\":{\"style\":\"light\"}}}},                        {\"responsive\": true}                    ).then(function(){\n",
       "                            \n",
       "var gd = document.getElementById('9abbc34b-ffbf-4b97-9704-376413b1cd95');\n",
       "var x = new MutationObserver(function (mutations, observer) {{\n",
       "        var display = window.getComputedStyle(gd).display;\n",
       "        if (!display || display === 'none') {{\n",
       "            console.log([gd, 'removed!']);\n",
       "            Plotly.purge(gd);\n",
       "            observer.disconnect();\n",
       "        }}\n",
       "}});\n",
       "\n",
       "// Listen for the removal of the full notebook cells\n",
       "var notebookContainer = gd.closest('#notebook-container');\n",
       "if (notebookContainer) {{\n",
       "    x.observe(notebookContainer, {childList: true});\n",
       "}}\n",
       "\n",
       "// Listen for the clearing of the current output cell\n",
       "var outputEl = gd.closest('.output');\n",
       "if (outputEl) {{\n",
       "    x.observe(outputEl, {childList: true});\n",
       "}}\n",
       "\n",
       "                        })                };                            </script>        </div>\n",
       "</body>\n",
       "</html>"
      ]
     },
     "metadata": {},
     "output_type": "display_data"
    }
   ],
   "source": [
    "per = np.round(df[[\"%Inc Cases\",\"%Inc Deaths\",\"%Inc Recovered\"]].loc[0],2)\n",
    "per_df = pd.DataFrame(per)\n",
    "per_df.columns = [\"%\"]\n",
    "fig = go.Figure()\n",
    "fig.add_trace(go.Bar(x= per_df.index , y = per_df[\"%\"] , marker_color = ['Yellow','blue','red']))\n",
    "fig.show()"
   ]
  },
  {
   "cell_type": "code",
   "execution_count": 15,
   "metadata": {
    "colab": {
     "base_uri": "https://localhost:8080/",
     "height": 306
    },
    "id": "NlOVbR2yAr6T",
    "outputId": "9e8a09e2-9d35-49a3-d409-40ada8e8bea7"
   },
   "outputs": [
    {
     "data": {
      "application/vnd.google.colaboratory.intrinsic+json": {
       "summary": "{\n  \"name\": \"continent_df\",\n  \"rows\": 6,\n  \"fields\": [\n    {\n      \"column\": \"Continent\",\n      \"properties\": {\n        \"dtype\": \"string\",\n        \"num_unique_values\": 6,\n        \"samples\": [\n          \"Africa\",\n          \"Asia\",\n          \"South America\"\n        ],\n        \"semantic_type\": \"\",\n        \"description\": \"\"\n      }\n    },\n    {\n      \"column\": \"Country\",\n      \"properties\": {\n        \"dtype\": \"string\",\n        \"num_unique_values\": 6,\n        \"samples\": [\n          \"South AfricaMoroccoTunisiaEgyptLibyaEthiopiaR\\u00e9unionZambiaKenyaBotswanaAlgeriaNigeriaZimbabweMozambiqueNamibiaUgandaGhanaRwandaCameroonAngolaDRCMalawiSenegalIvory CoastEswatiniMadagascarCabo VerdeMauritaniaBurundiGabonTanzaniaMauritiusMayotteTogoGuineaLesothoMaliBeninSomaliaCongoBurkina FasoSouth SudanEquatorial GuineaDjiboutiCARGambiaNigerGuinea-BissauComorosLiberiaSierra LeoneChadSao Tome and PrincipeSaint Helena\",\n          \"IndiaJapanTurkeyVietnamIranIndonesiaMalaysiaIsraelThailandPhilippinesHong KongIraqBangladeshGeorgiaJordanPakistanKazakhstanLebanonUAENepalSaudi ArabiaAzerbaijanBahrainSri LankaKuwaitMyanmarPalestineQatarArmeniaOmanBrunei UzbekistanAfghanistanLaosKyrgyzstanMaldivesCambodiaBhutanMacaoTimor-LesteTajikistanYemen\",\n          \"BrazilArgentinaColombiaChileBoliviaUruguayParaguayVenezuelaFrench GuianaSurinameGuyana\"\n        ],\n        \"semantic_type\": \"\",\n        \"description\": \"\"\n      }\n    },\n    {\n      \"column\": \"Total Cases\",\n      \"properties\": {\n        \"dtype\": \"number\",\n        \"std\": 72435737,\n        \"min\": 12735512,\n        \"max\": 170126755,\n        \"num_unique_values\": 6,\n        \"samples\": [\n          12735512,\n          166654250,\n          64556094\n        ],\n        \"semantic_type\": \"\",\n        \"description\": \"\"\n      }\n    },\n    {\n      \"column\": \"New Cases\",\n      \"properties\": {\n        \"dtype\": \"number\",\n        \"std\": 508.8688108605858,\n        \"min\": -54.0,\n        \"max\": 1205.0,\n        \"num_unique_values\": 6,\n        \"samples\": [\n          -54.0,\n          724.0,\n          1205.0\n        ],\n        \"semantic_type\": \"\",\n        \"description\": \"\"\n      }\n    },\n    {\n      \"column\": \"Total Deaths\",\n      \"properties\": {\n        \"dtype\": \"number\",\n        \"std\": 705194,\n        \"min\": 32996,\n        \"max\": 1695409,\n        \"num_unique_values\": 6,\n        \"samples\": [\n          253569,\n          1484539,\n          1109128\n        ],\n        \"semantic_type\": \"\",\n        \"description\": \"\"\n      }\n    },\n    {\n      \"column\": \"New Deaths\",\n      \"properties\": {\n        \"dtype\": \"number\",\n        \"std\": 16.729215960907034,\n        \"min\": -54.0,\n        \"max\": -7.0,\n        \"num_unique_values\": 6,\n        \"samples\": [\n          -54.0,\n          -7.0,\n          -11.0\n        ],\n        \"semantic_type\": \"\",\n        \"description\": \"\"\n      }\n    },\n    {\n      \"column\": \"Total Recovered\",\n      \"properties\": {\n        \"dtype\": \"number\",\n        \"std\": 60434540,\n        \"min\": 9091424,\n        \"max\": 159167484,\n        \"num_unique_values\": 6,\n        \"samples\": [\n          9091424,\n          53866148,\n          60548914\n        ],\n        \"semantic_type\": \"\",\n        \"description\": \"\"\n      }\n    },\n    {\n      \"column\": \"New Recovered\",\n      \"properties\": {\n        \"dtype\": \"number\",\n        \"std\": 4270.5921096104075,\n        \"min\": -47.0,\n        \"max\": 10435.0,\n        \"num_unique_values\": 6,\n        \"samples\": [\n          -47.0,\n          -31.0,\n          -9.0\n        ],\n        \"semantic_type\": \"\",\n        \"description\": \"\"\n      }\n    },\n    {\n      \"column\": \"Active Cases\",\n      \"properties\": {\n        \"dtype\": \"number\",\n        \"std\": 732899,\n        \"min\": 33714,\n        \"max\": 1999425,\n        \"num_unique_values\": 6,\n        \"samples\": [\n          331499,\n          1424053,\n          1999425\n        ],\n        \"semantic_type\": \"\",\n        \"description\": \"\"\n      }\n    },\n    {\n      \"column\": \"Serios/Critical\",\n      \"properties\": {\n        \"dtype\": \"number\",\n        \"std\": 360,\n        \"min\": -5,\n        \"max\": 1070,\n        \"num_unique_values\": 6,\n        \"samples\": [\n          356,\n          340,\n          621\n        ],\n        \"semantic_type\": \"\",\n        \"description\": \"\"\n      }\n    },\n    {\n      \"column\": \"Total Cases/1M\",\n      \"properties\": {\n        \"dtype\": \"number\",\n        \"std\": 5392115.045217662,\n        \"min\": 1880239.0,\n        \"max\": 16304245.0,\n        \"num_unique_values\": 6,\n        \"samples\": [\n          1991266.0,\n          5580338.0,\n          1880239.0\n        ],\n        \"semantic_type\": \"\",\n        \"description\": \"\"\n      }\n    },\n    {\n      \"column\": \"Deaths/1M\",\n      \"properties\": {\n        \"dtype\": \"number\",\n        \"std\": 37474.28921629691,\n        \"min\": 9415.0,\n        \"max\": 110677.0,\n        \"num_unique_values\": 6,\n        \"samples\": [\n          16684.0,\n          31423.0,\n          24629.0\n        ],\n        \"semantic_type\": \"\",\n        \"description\": \"\"\n      }\n    },\n    {\n      \"column\": \"Total Tests\",\n      \"properties\": {\n        \"dtype\": \"number\",\n        \"std\": 924913914,\n        \"min\": 91668186,\n        \"max\": 2159532568,\n        \"num_unique_values\": 6,\n        \"samples\": [\n          110445941,\n          2159532568,\n          203294124\n        ],\n        \"semantic_type\": \"\",\n        \"description\": \"\"\n      }\n    },\n    {\n      \"column\": \"Test/1M\",\n      \"properties\": {\n        \"dtype\": \"number\",\n        \"std\": 63128258,\n        \"min\": 10262729,\n        \"max\": 169925554,\n        \"num_unique_values\": 6,\n        \"samples\": [\n          10904366,\n          78326908,\n          10262729\n        ],\n        \"semantic_type\": \"\",\n        \"description\": \"\"\n      }\n    },\n    {\n      \"column\": \"Population\",\n      \"properties\": {\n        \"dtype\": \"number\",\n        \"std\": 1125476977,\n        \"min\": 43410351,\n        \"max\": 3131766390,\n        \"num_unique_values\": 6,\n        \"samples\": [\n          1356348893,\n          3131766390,\n          385893335\n        ],\n        \"semantic_type\": \"\",\n        \"description\": \"\"\n      }\n    },\n    {\n      \"column\": \"%Inc Cases\",\n      \"properties\": {\n        \"dtype\": \"number\",\n        \"std\": 0.5850487834857925,\n        \"min\": -1.5028139498089512,\n        \"max\": 0.018476675728487563,\n        \"num_unique_values\": 6,\n        \"samples\": [\n          -0.21784687163861266,\n          -0.005323258615824161,\n          0.018476675728487563\n        ],\n        \"semantic_type\": \"\",\n        \"description\": \"\"\n      }\n    },\n    {\n      \"column\": \"%Inc Deaths\",\n      \"properties\": {\n        \"dtype\": \"number\",\n        \"std\": 71.53688122431694,\n        \"min\": -108.84451569288319,\n        \"max\": 85.57099767326136,\n        \"num_unique_values\": 6,\n        \"samples\": [\n          85.57099767326136,\n          -8.392327521937595,\n          -0.4287436427924519\n        ],\n        \"semantic_type\": \"\",\n        \"description\": \"\"\n      }\n    },\n    {\n      \"column\": \"%Inc Recovered\",\n      \"properties\": {\n        \"dtype\": \"number\",\n        \"std\": 49.04207532762134,\n        \"min\": -50.17064323487186,\n        \"max\": 99.54700351749213,\n        \"num_unique_values\": 6,\n        \"samples\": [\n          -50.17064323487186,\n          -0.05626976041924596,\n          -0.010687185333382527\n        ],\n        \"semantic_type\": \"\",\n        \"description\": \"\"\n      }\n    }\n  ]\n}",
       "type": "dataframe",
       "variable_name": "continent_df"
      },
      "text/html": [
       "\n",
       "  <div id=\"df-2ac517e6-eb40-4314-b2b9-36240b6e8712\" class=\"colab-df-container\">\n",
       "    <div>\n",
       "<style scoped>\n",
       "    .dataframe tbody tr th:only-of-type {\n",
       "        vertical-align: middle;\n",
       "    }\n",
       "\n",
       "    .dataframe tbody tr th {\n",
       "        vertical-align: top;\n",
       "    }\n",
       "\n",
       "    .dataframe thead th {\n",
       "        text-align: right;\n",
       "    }\n",
       "</style>\n",
       "<table border=\"1\" class=\"dataframe\">\n",
       "  <thead>\n",
       "    <tr style=\"text-align: right;\">\n",
       "      <th></th>\n",
       "      <th>Continent</th>\n",
       "      <th>Country</th>\n",
       "      <th>Total Cases</th>\n",
       "      <th>New Cases</th>\n",
       "      <th>Total Deaths</th>\n",
       "      <th>New Deaths</th>\n",
       "      <th>Total Recovered</th>\n",
       "      <th>New Recovered</th>\n",
       "      <th>Active Cases</th>\n",
       "      <th>Serios/Critical</th>\n",
       "      <th>Total Cases/1M</th>\n",
       "      <th>Deaths/1M</th>\n",
       "      <th>Total Tests</th>\n",
       "      <th>Test/1M</th>\n",
       "      <th>Population</th>\n",
       "      <th>%Inc Cases</th>\n",
       "      <th>%Inc Deaths</th>\n",
       "      <th>%Inc Recovered</th>\n",
       "    </tr>\n",
       "  </thead>\n",
       "  <tbody>\n",
       "    <tr>\n",
       "      <th>0</th>\n",
       "      <td>Africa</td>\n",
       "      <td>South AfricaMoroccoTunisiaEgyptLibyaEthiopiaRé...</td>\n",
       "      <td>12735512</td>\n",
       "      <td>-54.0</td>\n",
       "      <td>253569</td>\n",
       "      <td>-54.0</td>\n",
       "      <td>9091424</td>\n",
       "      <td>-47.0</td>\n",
       "      <td>331499</td>\n",
       "      <td>356</td>\n",
       "      <td>1991266.0</td>\n",
       "      <td>16684.0</td>\n",
       "      <td>110445941</td>\n",
       "      <td>10904366</td>\n",
       "      <td>1356348893</td>\n",
       "      <td>-0.217847</td>\n",
       "      <td>85.570998</td>\n",
       "      <td>-50.170643</td>\n",
       "    </tr>\n",
       "    <tr>\n",
       "      <th>1</th>\n",
       "      <td>Asia</td>\n",
       "      <td>IndiaJapanTurkeyVietnamIranIndonesiaMalaysiaIs...</td>\n",
       "      <td>166654250</td>\n",
       "      <td>724.0</td>\n",
       "      <td>1484539</td>\n",
       "      <td>-7.0</td>\n",
       "      <td>53866148</td>\n",
       "      <td>-31.0</td>\n",
       "      <td>1424053</td>\n",
       "      <td>340</td>\n",
       "      <td>5580338.0</td>\n",
       "      <td>31423.0</td>\n",
       "      <td>2159532568</td>\n",
       "      <td>78326908</td>\n",
       "      <td>3131766390</td>\n",
       "      <td>-0.005323</td>\n",
       "      <td>-8.392328</td>\n",
       "      <td>-0.056270</td>\n",
       "    </tr>\n",
       "    <tr>\n",
       "      <th>2</th>\n",
       "      <td>Australia/Oceania</td>\n",
       "      <td>AustraliaNew ZealandNew CaledoniaFrench Polyne...</td>\n",
       "      <td>14879633</td>\n",
       "      <td>646.0</td>\n",
       "      <td>32996</td>\n",
       "      <td>-19.0</td>\n",
       "      <td>14599387</td>\n",
       "      <td>4286.0</td>\n",
       "      <td>33714</td>\n",
       "      <td>-5</td>\n",
       "      <td>4734517.0</td>\n",
       "      <td>9415.0</td>\n",
       "      <td>91668186</td>\n",
       "      <td>21293233</td>\n",
       "      <td>43410351</td>\n",
       "      <td>-1.502814</td>\n",
       "      <td>-97.524827</td>\n",
       "      <td>99.547004</td>\n",
       "    </tr>\n",
       "    <tr>\n",
       "      <th>3</th>\n",
       "      <td>Europe</td>\n",
       "      <td>GermanyItalyRussiaSpainNetherlandsPolandAustri...</td>\n",
       "      <td>170126755</td>\n",
       "      <td>129.0</td>\n",
       "      <td>1515107</td>\n",
       "      <td>-23.0</td>\n",
       "      <td>159167484</td>\n",
       "      <td>79.0</td>\n",
       "      <td>875695</td>\n",
       "      <td>363</td>\n",
       "      <td>16304245.0</td>\n",
       "      <td>110677.0</td>\n",
       "      <td>1771413542</td>\n",
       "      <td>169925554</td>\n",
       "      <td>543145341</td>\n",
       "      <td>-0.027008</td>\n",
       "      <td>-10.562851</td>\n",
       "      <td>-0.002670</td>\n",
       "    </tr>\n",
       "    <tr>\n",
       "      <th>4</th>\n",
       "      <td>North America</td>\n",
       "      <td>USAMexicoCanadaGuatemalaCosta RicaCubaPanamaDo...</td>\n",
       "      <td>131836272</td>\n",
       "      <td>1116.0</td>\n",
       "      <td>1695409</td>\n",
       "      <td>-28.0</td>\n",
       "      <td>126430561</td>\n",
       "      <td>10435.0</td>\n",
       "      <td>1333140</td>\n",
       "      <td>1070</td>\n",
       "      <td>8402531.0</td>\n",
       "      <td>55808.0</td>\n",
       "      <td>1325143163</td>\n",
       "      <td>95149170</td>\n",
       "      <td>597829588</td>\n",
       "      <td>-0.261255</td>\n",
       "      <td>-108.844516</td>\n",
       "      <td>-0.247298</td>\n",
       "    </tr>\n",
       "    <tr>\n",
       "      <th>5</th>\n",
       "      <td>South America</td>\n",
       "      <td>BrazilArgentinaColombiaChileBoliviaUruguayPara...</td>\n",
       "      <td>64556094</td>\n",
       "      <td>1205.0</td>\n",
       "      <td>1109128</td>\n",
       "      <td>-11.0</td>\n",
       "      <td>60548914</td>\n",
       "      <td>-9.0</td>\n",
       "      <td>1999425</td>\n",
       "      <td>621</td>\n",
       "      <td>1880239.0</td>\n",
       "      <td>24629.0</td>\n",
       "      <td>203294124</td>\n",
       "      <td>10262729</td>\n",
       "      <td>385893335</td>\n",
       "      <td>0.018477</td>\n",
       "      <td>-0.428744</td>\n",
       "      <td>-0.010687</td>\n",
       "    </tr>\n",
       "  </tbody>\n",
       "</table>\n",
       "</div>\n",
       "    <div class=\"colab-df-buttons\">\n",
       "\n",
       "  <div class=\"colab-df-container\">\n",
       "    <button class=\"colab-df-convert\" onclick=\"convertToInteractive('df-2ac517e6-eb40-4314-b2b9-36240b6e8712')\"\n",
       "            title=\"Convert this dataframe to an interactive table.\"\n",
       "            style=\"display:none;\">\n",
       "\n",
       "  <svg xmlns=\"http://www.w3.org/2000/svg\" height=\"24px\" viewBox=\"0 -960 960 960\">\n",
       "    <path d=\"M120-120v-720h720v720H120Zm60-500h600v-160H180v160Zm220 220h160v-160H400v160Zm0 220h160v-160H400v160ZM180-400h160v-160H180v160Zm440 0h160v-160H620v160ZM180-180h160v-160H180v160Zm440 0h160v-160H620v160Z\"/>\n",
       "  </svg>\n",
       "    </button>\n",
       "\n",
       "  <style>\n",
       "    .colab-df-container {\n",
       "      display:flex;\n",
       "      gap: 12px;\n",
       "    }\n",
       "\n",
       "    .colab-df-convert {\n",
       "      background-color: #E8F0FE;\n",
       "      border: none;\n",
       "      border-radius: 50%;\n",
       "      cursor: pointer;\n",
       "      display: none;\n",
       "      fill: #1967D2;\n",
       "      height: 32px;\n",
       "      padding: 0 0 0 0;\n",
       "      width: 32px;\n",
       "    }\n",
       "\n",
       "    .colab-df-convert:hover {\n",
       "      background-color: #E2EBFA;\n",
       "      box-shadow: 0px 1px 2px rgba(60, 64, 67, 0.3), 0px 1px 3px 1px rgba(60, 64, 67, 0.15);\n",
       "      fill: #174EA6;\n",
       "    }\n",
       "\n",
       "    .colab-df-buttons div {\n",
       "      margin-bottom: 4px;\n",
       "    }\n",
       "\n",
       "    [theme=dark] .colab-df-convert {\n",
       "      background-color: #3B4455;\n",
       "      fill: #D2E3FC;\n",
       "    }\n",
       "\n",
       "    [theme=dark] .colab-df-convert:hover {\n",
       "      background-color: #434B5C;\n",
       "      box-shadow: 0px 1px 3px 1px rgba(0, 0, 0, 0.15);\n",
       "      filter: drop-shadow(0px 1px 2px rgba(0, 0, 0, 0.3));\n",
       "      fill: #FFFFFF;\n",
       "    }\n",
       "  </style>\n",
       "\n",
       "    <script>\n",
       "      const buttonEl =\n",
       "        document.querySelector('#df-2ac517e6-eb40-4314-b2b9-36240b6e8712 button.colab-df-convert');\n",
       "      buttonEl.style.display =\n",
       "        google.colab.kernel.accessAllowed ? 'block' : 'none';\n",
       "\n",
       "      async function convertToInteractive(key) {\n",
       "        const element = document.querySelector('#df-2ac517e6-eb40-4314-b2b9-36240b6e8712');\n",
       "        const dataTable =\n",
       "          await google.colab.kernel.invokeFunction('convertToInteractive',\n",
       "                                                    [key], {});\n",
       "        if (!dataTable) return;\n",
       "\n",
       "        const docLinkHtml = 'Like what you see? Visit the ' +\n",
       "          '<a target=\"_blank\" href=https://colab.research.google.com/notebooks/data_table.ipynb>data table notebook</a>'\n",
       "          + ' to learn more about interactive tables.';\n",
       "        element.innerHTML = '';\n",
       "        dataTable['output_type'] = 'display_data';\n",
       "        await google.colab.output.renderOutput(dataTable, element);\n",
       "        const docLink = document.createElement('div');\n",
       "        docLink.innerHTML = docLinkHtml;\n",
       "        element.appendChild(docLink);\n",
       "      }\n",
       "    </script>\n",
       "  </div>\n",
       "\n",
       "\n",
       "<div id=\"df-85ac653e-a698-4108-98d2-f40ff6997b8f\">\n",
       "  <button class=\"colab-df-quickchart\" onclick=\"quickchart('df-85ac653e-a698-4108-98d2-f40ff6997b8f')\"\n",
       "            title=\"Suggest charts\"\n",
       "            style=\"display:none;\">\n",
       "\n",
       "<svg xmlns=\"http://www.w3.org/2000/svg\" height=\"24px\"viewBox=\"0 0 24 24\"\n",
       "     width=\"24px\">\n",
       "    <g>\n",
       "        <path d=\"M19 3H5c-1.1 0-2 .9-2 2v14c0 1.1.9 2 2 2h14c1.1 0 2-.9 2-2V5c0-1.1-.9-2-2-2zM9 17H7v-7h2v7zm4 0h-2V7h2v10zm4 0h-2v-4h2v4z\"/>\n",
       "    </g>\n",
       "</svg>\n",
       "  </button>\n",
       "\n",
       "<style>\n",
       "  .colab-df-quickchart {\n",
       "      --bg-color: #E8F0FE;\n",
       "      --fill-color: #1967D2;\n",
       "      --hover-bg-color: #E2EBFA;\n",
       "      --hover-fill-color: #174EA6;\n",
       "      --disabled-fill-color: #AAA;\n",
       "      --disabled-bg-color: #DDD;\n",
       "  }\n",
       "\n",
       "  [theme=dark] .colab-df-quickchart {\n",
       "      --bg-color: #3B4455;\n",
       "      --fill-color: #D2E3FC;\n",
       "      --hover-bg-color: #434B5C;\n",
       "      --hover-fill-color: #FFFFFF;\n",
       "      --disabled-bg-color: #3B4455;\n",
       "      --disabled-fill-color: #666;\n",
       "  }\n",
       "\n",
       "  .colab-df-quickchart {\n",
       "    background-color: var(--bg-color);\n",
       "    border: none;\n",
       "    border-radius: 50%;\n",
       "    cursor: pointer;\n",
       "    display: none;\n",
       "    fill: var(--fill-color);\n",
       "    height: 32px;\n",
       "    padding: 0;\n",
       "    width: 32px;\n",
       "  }\n",
       "\n",
       "  .colab-df-quickchart:hover {\n",
       "    background-color: var(--hover-bg-color);\n",
       "    box-shadow: 0 1px 2px rgba(60, 64, 67, 0.3), 0 1px 3px 1px rgba(60, 64, 67, 0.15);\n",
       "    fill: var(--button-hover-fill-color);\n",
       "  }\n",
       "\n",
       "  .colab-df-quickchart-complete:disabled,\n",
       "  .colab-df-quickchart-complete:disabled:hover {\n",
       "    background-color: var(--disabled-bg-color);\n",
       "    fill: var(--disabled-fill-color);\n",
       "    box-shadow: none;\n",
       "  }\n",
       "\n",
       "  .colab-df-spinner {\n",
       "    border: 2px solid var(--fill-color);\n",
       "    border-color: transparent;\n",
       "    border-bottom-color: var(--fill-color);\n",
       "    animation:\n",
       "      spin 1s steps(1) infinite;\n",
       "  }\n",
       "\n",
       "  @keyframes spin {\n",
       "    0% {\n",
       "      border-color: transparent;\n",
       "      border-bottom-color: var(--fill-color);\n",
       "      border-left-color: var(--fill-color);\n",
       "    }\n",
       "    20% {\n",
       "      border-color: transparent;\n",
       "      border-left-color: var(--fill-color);\n",
       "      border-top-color: var(--fill-color);\n",
       "    }\n",
       "    30% {\n",
       "      border-color: transparent;\n",
       "      border-left-color: var(--fill-color);\n",
       "      border-top-color: var(--fill-color);\n",
       "      border-right-color: var(--fill-color);\n",
       "    }\n",
       "    40% {\n",
       "      border-color: transparent;\n",
       "      border-right-color: var(--fill-color);\n",
       "      border-top-color: var(--fill-color);\n",
       "    }\n",
       "    60% {\n",
       "      border-color: transparent;\n",
       "      border-right-color: var(--fill-color);\n",
       "    }\n",
       "    80% {\n",
       "      border-color: transparent;\n",
       "      border-right-color: var(--fill-color);\n",
       "      border-bottom-color: var(--fill-color);\n",
       "    }\n",
       "    90% {\n",
       "      border-color: transparent;\n",
       "      border-bottom-color: var(--fill-color);\n",
       "    }\n",
       "  }\n",
       "</style>\n",
       "\n",
       "  <script>\n",
       "    async function quickchart(key) {\n",
       "      const quickchartButtonEl =\n",
       "        document.querySelector('#' + key + ' button');\n",
       "      quickchartButtonEl.disabled = true;  // To prevent multiple clicks.\n",
       "      quickchartButtonEl.classList.add('colab-df-spinner');\n",
       "      try {\n",
       "        const charts = await google.colab.kernel.invokeFunction(\n",
       "            'suggestCharts', [key], {});\n",
       "      } catch (error) {\n",
       "        console.error('Error during call to suggestCharts:', error);\n",
       "      }\n",
       "      quickchartButtonEl.classList.remove('colab-df-spinner');\n",
       "      quickchartButtonEl.classList.add('colab-df-quickchart-complete');\n",
       "    }\n",
       "    (() => {\n",
       "      let quickchartButtonEl =\n",
       "        document.querySelector('#df-85ac653e-a698-4108-98d2-f40ff6997b8f button');\n",
       "      quickchartButtonEl.style.display =\n",
       "        google.colab.kernel.accessAllowed ? 'block' : 'none';\n",
       "    })();\n",
       "  </script>\n",
       "</div>\n",
       "\n",
       "  <div id=\"id_5227282c-8032-47b1-8b95-0caa9271c08b\">\n",
       "    <style>\n",
       "      .colab-df-generate {\n",
       "        background-color: #E8F0FE;\n",
       "        border: none;\n",
       "        border-radius: 50%;\n",
       "        cursor: pointer;\n",
       "        display: none;\n",
       "        fill: #1967D2;\n",
       "        height: 32px;\n",
       "        padding: 0 0 0 0;\n",
       "        width: 32px;\n",
       "      }\n",
       "\n",
       "      .colab-df-generate:hover {\n",
       "        background-color: #E2EBFA;\n",
       "        box-shadow: 0px 1px 2px rgba(60, 64, 67, 0.3), 0px 1px 3px 1px rgba(60, 64, 67, 0.15);\n",
       "        fill: #174EA6;\n",
       "      }\n",
       "\n",
       "      [theme=dark] .colab-df-generate {\n",
       "        background-color: #3B4455;\n",
       "        fill: #D2E3FC;\n",
       "      }\n",
       "\n",
       "      [theme=dark] .colab-df-generate:hover {\n",
       "        background-color: #434B5C;\n",
       "        box-shadow: 0px 1px 3px 1px rgba(0, 0, 0, 0.15);\n",
       "        filter: drop-shadow(0px 1px 2px rgba(0, 0, 0, 0.3));\n",
       "        fill: #FFFFFF;\n",
       "      }\n",
       "    </style>\n",
       "    <button class=\"colab-df-generate\" onclick=\"generateWithVariable('continent_df')\"\n",
       "            title=\"Generate code using this dataframe.\"\n",
       "            style=\"display:none;\">\n",
       "\n",
       "  <svg xmlns=\"http://www.w3.org/2000/svg\" height=\"24px\"viewBox=\"0 0 24 24\"\n",
       "       width=\"24px\">\n",
       "    <path d=\"M7,19H8.4L18.45,9,17,7.55,7,17.6ZM5,21V16.75L18.45,3.32a2,2,0,0,1,2.83,0l1.4,1.43a1.91,1.91,0,0,1,.58,1.4,1.91,1.91,0,0,1-.58,1.4L9.25,21ZM18.45,9,17,7.55Zm-12,3A5.31,5.31,0,0,0,4.9,8.1,5.31,5.31,0,0,0,1,6.5,5.31,5.31,0,0,0,4.9,4.9,5.31,5.31,0,0,0,6.5,1,5.31,5.31,0,0,0,8.1,4.9,5.31,5.31,0,0,0,12,6.5,5.46,5.46,0,0,0,6.5,12Z\"/>\n",
       "  </svg>\n",
       "    </button>\n",
       "    <script>\n",
       "      (() => {\n",
       "      const buttonEl =\n",
       "        document.querySelector('#id_5227282c-8032-47b1-8b95-0caa9271c08b button.colab-df-generate');\n",
       "      buttonEl.style.display =\n",
       "        google.colab.kernel.accessAllowed ? 'block' : 'none';\n",
       "\n",
       "      buttonEl.onclick = () => {\n",
       "        google.colab.notebook.generateWithVariable('continent_df');\n",
       "      }\n",
       "      })();\n",
       "    </script>\n",
       "  </div>\n",
       "\n",
       "    </div>\n",
       "  </div>\n"
      ],
      "text/plain": [
       "           Continent                                            Country  \\\n",
       "0             Africa  South AfricaMoroccoTunisiaEgyptLibyaEthiopiaRé...   \n",
       "1               Asia  IndiaJapanTurkeyVietnamIranIndonesiaMalaysiaIs...   \n",
       "2  Australia/Oceania  AustraliaNew ZealandNew CaledoniaFrench Polyne...   \n",
       "3             Europe  GermanyItalyRussiaSpainNetherlandsPolandAustri...   \n",
       "4      North America  USAMexicoCanadaGuatemalaCosta RicaCubaPanamaDo...   \n",
       "5      South America  BrazilArgentinaColombiaChileBoliviaUruguayPara...   \n",
       "\n",
       "   Total Cases  New Cases  Total Deaths  New Deaths  Total Recovered  \\\n",
       "0     12735512      -54.0        253569       -54.0          9091424   \n",
       "1    166654250      724.0       1484539        -7.0         53866148   \n",
       "2     14879633      646.0         32996       -19.0         14599387   \n",
       "3    170126755      129.0       1515107       -23.0        159167484   \n",
       "4    131836272     1116.0       1695409       -28.0        126430561   \n",
       "5     64556094     1205.0       1109128       -11.0         60548914   \n",
       "\n",
       "   New Recovered  Active Cases  Serios/Critical  Total Cases/1M  Deaths/1M  \\\n",
       "0          -47.0        331499              356       1991266.0    16684.0   \n",
       "1          -31.0       1424053              340       5580338.0    31423.0   \n",
       "2         4286.0         33714               -5       4734517.0     9415.0   \n",
       "3           79.0        875695              363      16304245.0   110677.0   \n",
       "4        10435.0       1333140             1070       8402531.0    55808.0   \n",
       "5           -9.0       1999425              621       1880239.0    24629.0   \n",
       "\n",
       "   Total Tests    Test/1M  Population  %Inc Cases  %Inc Deaths  %Inc Recovered  \n",
       "0    110445941   10904366  1356348893   -0.217847    85.570998      -50.170643  \n",
       "1   2159532568   78326908  3131766390   -0.005323    -8.392328       -0.056270  \n",
       "2     91668186   21293233    43410351   -1.502814   -97.524827       99.547004  \n",
       "3   1771413542  169925554   543145341   -0.027008   -10.562851       -0.002670  \n",
       "4   1325143163   95149170   597829588   -0.261255  -108.844516       -0.247298  \n",
       "5    203294124   10262729   385893335    0.018477    -0.428744       -0.010687  "
      ]
     },
     "execution_count": 15,
     "metadata": {},
     "output_type": "execute_result"
    }
   ],
   "source": [
    "#CONTINENTS\n",
    "continent_df = df.groupby(\"Continent\").sum().drop(\"All\")\n",
    "continent_df = continent_df.reset_index()\n",
    "continent_df"
   ]
  },
  {
   "cell_type": "code",
   "execution_count": 16,
   "metadata": {
    "colab": {
     "base_uri": "https://localhost:8080/",
     "height": 473
    },
    "id": "8ChLXC1OAxy4",
    "outputId": "a45d75ed-7a2b-4fd1-efaa-0cdeaa07e535"
   },
   "outputs": [
    {
     "data": {
      "application/vnd.google.colaboratory.intrinsic+json": {
       "summary": "{\n  \"name\": \"country_df\",\n  \"rows\": 202,\n  \"fields\": [\n    {\n      \"column\": \"Country\",\n      \"properties\": {\n        \"dtype\": \"string\",\n        \"num_unique_values\": 202,\n        \"samples\": [\n          \"Mozambique\",\n          \"Indonesia\",\n          \"Romania\"\n        ],\n        \"semantic_type\": \"\",\n        \"description\": \"\"\n      }\n    },\n    {\n      \"column\": \"Total Cases\",\n      \"properties\": {\n        \"dtype\": \"number\",\n        \"std\": 9980002,\n        \"min\": 80,\n        \"max\": 111820082,\n        \"num_unique_values\": 202,\n        \"samples\": [\n          233731,\n          6829221,\n          3529735\n        ],\n        \"semantic_type\": \"\",\n        \"description\": \"\"\n      }\n    },\n    {\n      \"column\": \"New Cases\",\n      \"properties\": {\n        \"dtype\": \"number\",\n        \"std\": 135.1513310027292,\n        \"min\": -1.0,\n        \"max\": 1215.0,\n        \"num_unique_values\": 10,\n        \"samples\": [\n          20.0,\n          68.0,\n          1215.0\n        ],\n        \"semantic_type\": \"\",\n        \"description\": \"\"\n      }\n    },\n    {\n      \"column\": \"Total Deaths\",\n      \"properties\": {\n        \"dtype\": \"number\",\n        \"std\": 114265,\n        \"min\": -1,\n        \"max\": 1219487,\n        \"num_unique_values\": 189,\n        \"samples\": [\n          1,\n          31,\n          22542\n        ],\n        \"semantic_type\": \"\",\n        \"description\": \"\"\n      }\n    },\n    {\n      \"column\": \"New Deaths\",\n      \"properties\": {\n        \"dtype\": \"number\",\n        \"std\": 2.786051091721132,\n        \"min\": -1.0,\n        \"max\": 34.0,\n        \"num_unique_values\": 4,\n        \"samples\": [\n          -1.0,\n          34.0,\n          7.0\n        ],\n        \"semantic_type\": \"\",\n        \"description\": \"\"\n      }\n    },\n    {\n      \"column\": \"Total Recovered\",\n      \"properties\": {\n        \"dtype\": \"number\",\n        \"std\": 9010770,\n        \"min\": -1,\n        \"max\": 109814428,\n        \"num_unique_values\": 157,\n        \"samples\": [\n          17264,\n          1106660,\n          11976\n        ],\n        \"semantic_type\": \"\",\n        \"description\": \"\"\n      }\n    },\n    {\n      \"column\": \"New Recovered\",\n      \"properties\": {\n        \"dtype\": \"number\",\n        \"std\": 771.7889137630294,\n        \"min\": -1.0,\n        \"max\": 10109.0,\n        \"num_unique_values\": 9,\n        \"samples\": [\n          17.0,\n          0.0,\n          36.0\n        ],\n        \"semantic_type\": \"\",\n        \"description\": \"\"\n      }\n    },\n    {\n      \"column\": \"Active Cases\",\n      \"properties\": {\n        \"dtype\": \"number\",\n        \"std\": 158047,\n        \"min\": 0,\n        \"max\": 1783377,\n        \"num_unique_values\": 151,\n        \"samples\": [\n          2676,\n          6094,\n          68086\n        ],\n        \"semantic_type\": \"\",\n        \"description\": \"\"\n      }\n    },\n    {\n      \"column\": \"Serios/Critical\",\n      \"properties\": {\n        \"dtype\": \"number\",\n        \"std\": 76,\n        \"min\": -1,\n        \"max\": 940,\n        \"num_unique_values\": 31,\n        \"samples\": [\n          23,\n          19,\n          31\n        ],\n        \"semantic_type\": \"\",\n        \"description\": \"\"\n      }\n    },\n    {\n      \"column\": \"Total Cases/1M\",\n      \"properties\": {\n        \"dtype\": \"number\",\n        \"std\": 201904.8587986181,\n        \"min\": 381.0,\n        \"max\": 771655.0,\n        \"num_unique_values\": 202,\n        \"samples\": [\n          7064.0,\n          24466.0,\n          185470.0\n        ],\n        \"semantic_type\": \"\",\n        \"description\": \"\"\n      }\n    },\n    {\n      \"column\": \"Deaths/1M\",\n      \"properties\": {\n        \"dtype\": \"number\",\n        \"std\": 1271.6168707349075,\n        \"min\": -1.0,\n        \"max\": 5661.0,\n        \"num_unique_values\": 188,\n        \"samples\": [\n          728.0,\n          44.0,\n          2486.0\n        ],\n        \"semantic_type\": \"\",\n        \"description\": \"\"\n      }\n    },\n    {\n      \"column\": \"Total Tests\",\n      \"properties\": {\n        \"dtype\": \"number\",\n        \"std\": 116232337,\n        \"min\": -1,\n        \"max\": 1186851502,\n        \"num_unique_values\": 191,\n        \"samples\": [\n          196855,\n          2483848,\n          182981\n        ],\n        \"semantic_type\": \"\",\n        \"description\": \"\"\n      }\n    },\n    {\n      \"column\": \"Test/1M\",\n      \"properties\": {\n        \"dtype\": \"number\",\n        \"std\": 3379885,\n        \"min\": -1,\n        \"max\": 23302116,\n        \"num_unique_values\": 192,\n        \"samples\": [\n          1370382,\n          1653068,\n          46066\n        ],\n        \"semantic_type\": \"\",\n        \"description\": \"\"\n      }\n    },\n    {\n      \"column\": \"Population\",\n      \"properties\": {\n        \"dtype\": \"number\",\n        \"std\": 108337760,\n        \"min\": 1378,\n        \"max\": 1406631776,\n        \"num_unique_values\": 202,\n        \"samples\": [\n          33089461,\n          279134505,\n          19031335\n        ],\n        \"semantic_type\": \"\",\n        \"description\": \"\"\n      }\n    },\n    {\n      \"column\": \"Continent\",\n      \"properties\": {\n        \"dtype\": \"category\",\n        \"num_unique_values\": 6,\n        \"samples\": [\n          \"North America\",\n          \"Asia\",\n          \"Africa\"\n        ],\n        \"semantic_type\": \"\",\n        \"description\": \"\"\n      }\n    },\n    {\n      \"column\": \"%Inc Cases\",\n      \"properties\": {\n        \"dtype\": \"number\",\n        \"std\": 0.08831830096301556,\n        \"min\": -1.25,\n        \"max\": 0.023692737869471396,\n        \"num_unique_values\": 202,\n        \"samples\": [\n          -0.00042784226311443497,\n          -1.464295854534507e-05,\n          -2.833073870984649e-05\n        ],\n        \"semantic_type\": \"\",\n        \"description\": \"\"\n      }\n    },\n    {\n      \"column\": \"%Inc Deaths\",\n      \"properties\": {\n        \"dtype\": \"number\",\n        \"std\": 16.678422514516782,\n        \"min\": -100.0,\n        \"max\": 100.0,\n        \"num_unique_values\": 189,\n        \"samples\": [\n          -100.0,\n          -3.225806451612903,\n          -0.0044361636057137785\n        ],\n        \"semantic_type\": \"\",\n        \"description\": \"\"\n      }\n    },\n    {\n      \"column\": \"%Inc Recovered\",\n      \"properties\": {\n        \"dtype\": \"number\",\n        \"std\": 8.97475049419939,\n        \"min\": -50.0,\n        \"max\": 100.0,\n        \"num_unique_values\": 156,\n        \"samples\": [\n          -0.0014875197096361527,\n          -0.00034270752654269794,\n          -0.0005867683731846854\n        ],\n        \"semantic_type\": \"\",\n        \"description\": \"\"\n      }\n    }\n  ]\n}",
       "type": "dataframe",
       "variable_name": "country_df"
      },
      "text/html": [
       "\n",
       "  <div id=\"df-3d0790b0-83f3-4b04-8c89-89c8e8d2fd28\" class=\"colab-df-container\">\n",
       "    <div>\n",
       "<style scoped>\n",
       "    .dataframe tbody tr th:only-of-type {\n",
       "        vertical-align: middle;\n",
       "    }\n",
       "\n",
       "    .dataframe tbody tr th {\n",
       "        vertical-align: top;\n",
       "    }\n",
       "\n",
       "    .dataframe thead th {\n",
       "        text-align: right;\n",
       "    }\n",
       "</style>\n",
       "<table border=\"1\" class=\"dataframe\">\n",
       "  <thead>\n",
       "    <tr style=\"text-align: right;\">\n",
       "      <th></th>\n",
       "      <th>Country</th>\n",
       "      <th>Total Cases</th>\n",
       "      <th>New Cases</th>\n",
       "      <th>Total Deaths</th>\n",
       "      <th>New Deaths</th>\n",
       "      <th>Total Recovered</th>\n",
       "      <th>New Recovered</th>\n",
       "      <th>Active Cases</th>\n",
       "      <th>Serios/Critical</th>\n",
       "      <th>Total Cases/1M</th>\n",
       "      <th>Deaths/1M</th>\n",
       "      <th>Total Tests</th>\n",
       "      <th>Test/1M</th>\n",
       "      <th>Population</th>\n",
       "      <th>Continent</th>\n",
       "      <th>%Inc Cases</th>\n",
       "      <th>%Inc Deaths</th>\n",
       "      <th>%Inc Recovered</th>\n",
       "    </tr>\n",
       "  </thead>\n",
       "  <tbody>\n",
       "    <tr>\n",
       "      <th>1</th>\n",
       "      <td>USA</td>\n",
       "      <td>111820082</td>\n",
       "      <td>1151.0</td>\n",
       "      <td>1219487</td>\n",
       "      <td>7.0</td>\n",
       "      <td>109814428</td>\n",
       "      <td>10109.0</td>\n",
       "      <td>786167</td>\n",
       "      <td>940</td>\n",
       "      <td>333985.0</td>\n",
       "      <td>3642.0</td>\n",
       "      <td>1186851502</td>\n",
       "      <td>3544901</td>\n",
       "      <td>334805269</td>\n",
       "      <td>North America</td>\n",
       "      <td>0.001029</td>\n",
       "      <td>0.000574</td>\n",
       "      <td>0.009206</td>\n",
       "    </tr>\n",
       "    <tr>\n",
       "      <th>2</th>\n",
       "      <td>India</td>\n",
       "      <td>45035393</td>\n",
       "      <td>68.0</td>\n",
       "      <td>533570</td>\n",
       "      <td>-1.0</td>\n",
       "      <td>0</td>\n",
       "      <td>0.0</td>\n",
       "      <td>0</td>\n",
       "      <td>0</td>\n",
       "      <td>32016.0</td>\n",
       "      <td>379.0</td>\n",
       "      <td>935879495</td>\n",
       "      <td>665334</td>\n",
       "      <td>1406631776</td>\n",
       "      <td>Asia</td>\n",
       "      <td>0.000151</td>\n",
       "      <td>-0.000187</td>\n",
       "      <td>NaN</td>\n",
       "    </tr>\n",
       "    <tr>\n",
       "      <th>3</th>\n",
       "      <td>Germany</td>\n",
       "      <td>38828995</td>\n",
       "      <td>73.0</td>\n",
       "      <td>183027</td>\n",
       "      <td>16.0</td>\n",
       "      <td>38240600</td>\n",
       "      <td>-1.0</td>\n",
       "      <td>405368</td>\n",
       "      <td>0</td>\n",
       "      <td>462891.0</td>\n",
       "      <td>2182.0</td>\n",
       "      <td>122332384</td>\n",
       "      <td>1458359</td>\n",
       "      <td>83883596</td>\n",
       "      <td>Europe</td>\n",
       "      <td>0.000188</td>\n",
       "      <td>0.008742</td>\n",
       "      <td>-0.000003</td>\n",
       "    </tr>\n",
       "    <tr>\n",
       "      <th>4</th>\n",
       "      <td>Brazil</td>\n",
       "      <td>38743918</td>\n",
       "      <td>-1.0</td>\n",
       "      <td>711380</td>\n",
       "      <td>-1.0</td>\n",
       "      <td>36249161</td>\n",
       "      <td>-1.0</td>\n",
       "      <td>1783377</td>\n",
       "      <td>0</td>\n",
       "      <td>179908.0</td>\n",
       "      <td>3303.0</td>\n",
       "      <td>63776166</td>\n",
       "      <td>296146</td>\n",
       "      <td>215353593</td>\n",
       "      <td>South America</td>\n",
       "      <td>-0.000003</td>\n",
       "      <td>-0.000141</td>\n",
       "      <td>-0.000003</td>\n",
       "    </tr>\n",
       "    <tr>\n",
       "      <th>5</th>\n",
       "      <td>Japan</td>\n",
       "      <td>33803572</td>\n",
       "      <td>-1.0</td>\n",
       "      <td>74694</td>\n",
       "      <td>-1.0</td>\n",
       "      <td>0</td>\n",
       "      <td>0.0</td>\n",
       "      <td>0</td>\n",
       "      <td>0</td>\n",
       "      <td>269169.0</td>\n",
       "      <td>595.0</td>\n",
       "      <td>100414883</td>\n",
       "      <td>799578</td>\n",
       "      <td>125584838</td>\n",
       "      <td>Asia</td>\n",
       "      <td>-0.000003</td>\n",
       "      <td>-0.001339</td>\n",
       "      <td>NaN</td>\n",
       "    </tr>\n",
       "    <tr>\n",
       "      <th>...</th>\n",
       "      <td>...</td>\n",
       "      <td>...</td>\n",
       "      <td>...</td>\n",
       "      <td>...</td>\n",
       "      <td>...</td>\n",
       "      <td>...</td>\n",
       "      <td>...</td>\n",
       "      <td>...</td>\n",
       "      <td>...</td>\n",
       "      <td>...</td>\n",
       "      <td>...</td>\n",
       "      <td>...</td>\n",
       "      <td>...</td>\n",
       "      <td>...</td>\n",
       "      <td>...</td>\n",
       "      <td>...</td>\n",
       "      <td>...</td>\n",
       "      <td>...</td>\n",
       "    </tr>\n",
       "    <tr>\n",
       "      <th>198</th>\n",
       "      <td>Tuvalu</td>\n",
       "      <td>2943</td>\n",
       "      <td>-1.0</td>\n",
       "      <td>1</td>\n",
       "      <td>-1.0</td>\n",
       "      <td>0</td>\n",
       "      <td>0.0</td>\n",
       "      <td>0</td>\n",
       "      <td>0</td>\n",
       "      <td>243909.0</td>\n",
       "      <td>83.0</td>\n",
       "      <td>-1</td>\n",
       "      <td>-1</td>\n",
       "      <td>12066</td>\n",
       "      <td>Australia/Oceania</td>\n",
       "      <td>-0.033979</td>\n",
       "      <td>-100.000000</td>\n",
       "      <td>NaN</td>\n",
       "    </tr>\n",
       "    <tr>\n",
       "      <th>199</th>\n",
       "      <td>Saint Helena</td>\n",
       "      <td>2166</td>\n",
       "      <td>-1.0</td>\n",
       "      <td>-1</td>\n",
       "      <td>-1.0</td>\n",
       "      <td>2</td>\n",
       "      <td>-1.0</td>\n",
       "      <td>2164</td>\n",
       "      <td>-1</td>\n",
       "      <td>354211.0</td>\n",
       "      <td>-1.0</td>\n",
       "      <td>-1</td>\n",
       "      <td>-1</td>\n",
       "      <td>6115</td>\n",
       "      <td>Africa</td>\n",
       "      <td>-0.046168</td>\n",
       "      <td>100.000000</td>\n",
       "      <td>-50.000000</td>\n",
       "    </tr>\n",
       "    <tr>\n",
       "      <th>200</th>\n",
       "      <td>Montserrat</td>\n",
       "      <td>1403</td>\n",
       "      <td>-1.0</td>\n",
       "      <td>8</td>\n",
       "      <td>-1.0</td>\n",
       "      <td>1376</td>\n",
       "      <td>-1.0</td>\n",
       "      <td>19</td>\n",
       "      <td>-1</td>\n",
       "      <td>282578.0</td>\n",
       "      <td>1611.0</td>\n",
       "      <td>17762</td>\n",
       "      <td>3577442</td>\n",
       "      <td>4965</td>\n",
       "      <td>North America</td>\n",
       "      <td>-0.071276</td>\n",
       "      <td>-12.500000</td>\n",
       "      <td>-0.072674</td>\n",
       "    </tr>\n",
       "    <tr>\n",
       "      <th>201</th>\n",
       "      <td>Niue</td>\n",
       "      <td>1059</td>\n",
       "      <td>-1.0</td>\n",
       "      <td>-1</td>\n",
       "      <td>-1.0</td>\n",
       "      <td>1056</td>\n",
       "      <td>-1.0</td>\n",
       "      <td>3</td>\n",
       "      <td>-1</td>\n",
       "      <td>652898.0</td>\n",
       "      <td>-1.0</td>\n",
       "      <td>-1</td>\n",
       "      <td>-1</td>\n",
       "      <td>1622</td>\n",
       "      <td>Australia/Oceania</td>\n",
       "      <td>-0.094429</td>\n",
       "      <td>100.000000</td>\n",
       "      <td>-0.094697</td>\n",
       "    </tr>\n",
       "    <tr>\n",
       "      <th>202</th>\n",
       "      <td>Tokelau</td>\n",
       "      <td>80</td>\n",
       "      <td>-1.0</td>\n",
       "      <td>-1</td>\n",
       "      <td>-1.0</td>\n",
       "      <td>-1</td>\n",
       "      <td>-1.0</td>\n",
       "      <td>80</td>\n",
       "      <td>-1</td>\n",
       "      <td>58055.0</td>\n",
       "      <td>-1.0</td>\n",
       "      <td>-1</td>\n",
       "      <td>-1</td>\n",
       "      <td>1378</td>\n",
       "      <td>Australia/Oceania</td>\n",
       "      <td>-1.250000</td>\n",
       "      <td>100.000000</td>\n",
       "      <td>100.000000</td>\n",
       "    </tr>\n",
       "  </tbody>\n",
       "</table>\n",
       "<p>202 rows × 18 columns</p>\n",
       "</div>\n",
       "    <div class=\"colab-df-buttons\">\n",
       "\n",
       "  <div class=\"colab-df-container\">\n",
       "    <button class=\"colab-df-convert\" onclick=\"convertToInteractive('df-3d0790b0-83f3-4b04-8c89-89c8e8d2fd28')\"\n",
       "            title=\"Convert this dataframe to an interactive table.\"\n",
       "            style=\"display:none;\">\n",
       "\n",
       "  <svg xmlns=\"http://www.w3.org/2000/svg\" height=\"24px\" viewBox=\"0 -960 960 960\">\n",
       "    <path d=\"M120-120v-720h720v720H120Zm60-500h600v-160H180v160Zm220 220h160v-160H400v160Zm0 220h160v-160H400v160ZM180-400h160v-160H180v160Zm440 0h160v-160H620v160ZM180-180h160v-160H180v160Zm440 0h160v-160H620v160Z\"/>\n",
       "  </svg>\n",
       "    </button>\n",
       "\n",
       "  <style>\n",
       "    .colab-df-container {\n",
       "      display:flex;\n",
       "      gap: 12px;\n",
       "    }\n",
       "\n",
       "    .colab-df-convert {\n",
       "      background-color: #E8F0FE;\n",
       "      border: none;\n",
       "      border-radius: 50%;\n",
       "      cursor: pointer;\n",
       "      display: none;\n",
       "      fill: #1967D2;\n",
       "      height: 32px;\n",
       "      padding: 0 0 0 0;\n",
       "      width: 32px;\n",
       "    }\n",
       "\n",
       "    .colab-df-convert:hover {\n",
       "      background-color: #E2EBFA;\n",
       "      box-shadow: 0px 1px 2px rgba(60, 64, 67, 0.3), 0px 1px 3px 1px rgba(60, 64, 67, 0.15);\n",
       "      fill: #174EA6;\n",
       "    }\n",
       "\n",
       "    .colab-df-buttons div {\n",
       "      margin-bottom: 4px;\n",
       "    }\n",
       "\n",
       "    [theme=dark] .colab-df-convert {\n",
       "      background-color: #3B4455;\n",
       "      fill: #D2E3FC;\n",
       "    }\n",
       "\n",
       "    [theme=dark] .colab-df-convert:hover {\n",
       "      background-color: #434B5C;\n",
       "      box-shadow: 0px 1px 3px 1px rgba(0, 0, 0, 0.15);\n",
       "      filter: drop-shadow(0px 1px 2px rgba(0, 0, 0, 0.3));\n",
       "      fill: #FFFFFF;\n",
       "    }\n",
       "  </style>\n",
       "\n",
       "    <script>\n",
       "      const buttonEl =\n",
       "        document.querySelector('#df-3d0790b0-83f3-4b04-8c89-89c8e8d2fd28 button.colab-df-convert');\n",
       "      buttonEl.style.display =\n",
       "        google.colab.kernel.accessAllowed ? 'block' : 'none';\n",
       "\n",
       "      async function convertToInteractive(key) {\n",
       "        const element = document.querySelector('#df-3d0790b0-83f3-4b04-8c89-89c8e8d2fd28');\n",
       "        const dataTable =\n",
       "          await google.colab.kernel.invokeFunction('convertToInteractive',\n",
       "                                                    [key], {});\n",
       "        if (!dataTable) return;\n",
       "\n",
       "        const docLinkHtml = 'Like what you see? Visit the ' +\n",
       "          '<a target=\"_blank\" href=https://colab.research.google.com/notebooks/data_table.ipynb>data table notebook</a>'\n",
       "          + ' to learn more about interactive tables.';\n",
       "        element.innerHTML = '';\n",
       "        dataTable['output_type'] = 'display_data';\n",
       "        await google.colab.output.renderOutput(dataTable, element);\n",
       "        const docLink = document.createElement('div');\n",
       "        docLink.innerHTML = docLinkHtml;\n",
       "        element.appendChild(docLink);\n",
       "      }\n",
       "    </script>\n",
       "  </div>\n",
       "\n",
       "\n",
       "<div id=\"df-c910f935-1f03-45c8-b4b6-8ee98999a056\">\n",
       "  <button class=\"colab-df-quickchart\" onclick=\"quickchart('df-c910f935-1f03-45c8-b4b6-8ee98999a056')\"\n",
       "            title=\"Suggest charts\"\n",
       "            style=\"display:none;\">\n",
       "\n",
       "<svg xmlns=\"http://www.w3.org/2000/svg\" height=\"24px\"viewBox=\"0 0 24 24\"\n",
       "     width=\"24px\">\n",
       "    <g>\n",
       "        <path d=\"M19 3H5c-1.1 0-2 .9-2 2v14c0 1.1.9 2 2 2h14c1.1 0 2-.9 2-2V5c0-1.1-.9-2-2-2zM9 17H7v-7h2v7zm4 0h-2V7h2v10zm4 0h-2v-4h2v4z\"/>\n",
       "    </g>\n",
       "</svg>\n",
       "  </button>\n",
       "\n",
       "<style>\n",
       "  .colab-df-quickchart {\n",
       "      --bg-color: #E8F0FE;\n",
       "      --fill-color: #1967D2;\n",
       "      --hover-bg-color: #E2EBFA;\n",
       "      --hover-fill-color: #174EA6;\n",
       "      --disabled-fill-color: #AAA;\n",
       "      --disabled-bg-color: #DDD;\n",
       "  }\n",
       "\n",
       "  [theme=dark] .colab-df-quickchart {\n",
       "      --bg-color: #3B4455;\n",
       "      --fill-color: #D2E3FC;\n",
       "      --hover-bg-color: #434B5C;\n",
       "      --hover-fill-color: #FFFFFF;\n",
       "      --disabled-bg-color: #3B4455;\n",
       "      --disabled-fill-color: #666;\n",
       "  }\n",
       "\n",
       "  .colab-df-quickchart {\n",
       "    background-color: var(--bg-color);\n",
       "    border: none;\n",
       "    border-radius: 50%;\n",
       "    cursor: pointer;\n",
       "    display: none;\n",
       "    fill: var(--fill-color);\n",
       "    height: 32px;\n",
       "    padding: 0;\n",
       "    width: 32px;\n",
       "  }\n",
       "\n",
       "  .colab-df-quickchart:hover {\n",
       "    background-color: var(--hover-bg-color);\n",
       "    box-shadow: 0 1px 2px rgba(60, 64, 67, 0.3), 0 1px 3px 1px rgba(60, 64, 67, 0.15);\n",
       "    fill: var(--button-hover-fill-color);\n",
       "  }\n",
       "\n",
       "  .colab-df-quickchart-complete:disabled,\n",
       "  .colab-df-quickchart-complete:disabled:hover {\n",
       "    background-color: var(--disabled-bg-color);\n",
       "    fill: var(--disabled-fill-color);\n",
       "    box-shadow: none;\n",
       "  }\n",
       "\n",
       "  .colab-df-spinner {\n",
       "    border: 2px solid var(--fill-color);\n",
       "    border-color: transparent;\n",
       "    border-bottom-color: var(--fill-color);\n",
       "    animation:\n",
       "      spin 1s steps(1) infinite;\n",
       "  }\n",
       "\n",
       "  @keyframes spin {\n",
       "    0% {\n",
       "      border-color: transparent;\n",
       "      border-bottom-color: var(--fill-color);\n",
       "      border-left-color: var(--fill-color);\n",
       "    }\n",
       "    20% {\n",
       "      border-color: transparent;\n",
       "      border-left-color: var(--fill-color);\n",
       "      border-top-color: var(--fill-color);\n",
       "    }\n",
       "    30% {\n",
       "      border-color: transparent;\n",
       "      border-left-color: var(--fill-color);\n",
       "      border-top-color: var(--fill-color);\n",
       "      border-right-color: var(--fill-color);\n",
       "    }\n",
       "    40% {\n",
       "      border-color: transparent;\n",
       "      border-right-color: var(--fill-color);\n",
       "      border-top-color: var(--fill-color);\n",
       "    }\n",
       "    60% {\n",
       "      border-color: transparent;\n",
       "      border-right-color: var(--fill-color);\n",
       "    }\n",
       "    80% {\n",
       "      border-color: transparent;\n",
       "      border-right-color: var(--fill-color);\n",
       "      border-bottom-color: var(--fill-color);\n",
       "    }\n",
       "    90% {\n",
       "      border-color: transparent;\n",
       "      border-bottom-color: var(--fill-color);\n",
       "    }\n",
       "  }\n",
       "</style>\n",
       "\n",
       "  <script>\n",
       "    async function quickchart(key) {\n",
       "      const quickchartButtonEl =\n",
       "        document.querySelector('#' + key + ' button');\n",
       "      quickchartButtonEl.disabled = true;  // To prevent multiple clicks.\n",
       "      quickchartButtonEl.classList.add('colab-df-spinner');\n",
       "      try {\n",
       "        const charts = await google.colab.kernel.invokeFunction(\n",
       "            'suggestCharts', [key], {});\n",
       "      } catch (error) {\n",
       "        console.error('Error during call to suggestCharts:', error);\n",
       "      }\n",
       "      quickchartButtonEl.classList.remove('colab-df-spinner');\n",
       "      quickchartButtonEl.classList.add('colab-df-quickchart-complete');\n",
       "    }\n",
       "    (() => {\n",
       "      let quickchartButtonEl =\n",
       "        document.querySelector('#df-c910f935-1f03-45c8-b4b6-8ee98999a056 button');\n",
       "      quickchartButtonEl.style.display =\n",
       "        google.colab.kernel.accessAllowed ? 'block' : 'none';\n",
       "    })();\n",
       "  </script>\n",
       "</div>\n",
       "\n",
       "  <div id=\"id_044761b3-8fea-41de-be5e-0e9fab6b9957\">\n",
       "    <style>\n",
       "      .colab-df-generate {\n",
       "        background-color: #E8F0FE;\n",
       "        border: none;\n",
       "        border-radius: 50%;\n",
       "        cursor: pointer;\n",
       "        display: none;\n",
       "        fill: #1967D2;\n",
       "        height: 32px;\n",
       "        padding: 0 0 0 0;\n",
       "        width: 32px;\n",
       "      }\n",
       "\n",
       "      .colab-df-generate:hover {\n",
       "        background-color: #E2EBFA;\n",
       "        box-shadow: 0px 1px 2px rgba(60, 64, 67, 0.3), 0px 1px 3px 1px rgba(60, 64, 67, 0.15);\n",
       "        fill: #174EA6;\n",
       "      }\n",
       "\n",
       "      [theme=dark] .colab-df-generate {\n",
       "        background-color: #3B4455;\n",
       "        fill: #D2E3FC;\n",
       "      }\n",
       "\n",
       "      [theme=dark] .colab-df-generate:hover {\n",
       "        background-color: #434B5C;\n",
       "        box-shadow: 0px 1px 3px 1px rgba(0, 0, 0, 0.15);\n",
       "        filter: drop-shadow(0px 1px 2px rgba(0, 0, 0, 0.3));\n",
       "        fill: #FFFFFF;\n",
       "      }\n",
       "    </style>\n",
       "    <button class=\"colab-df-generate\" onclick=\"generateWithVariable('country_df')\"\n",
       "            title=\"Generate code using this dataframe.\"\n",
       "            style=\"display:none;\">\n",
       "\n",
       "  <svg xmlns=\"http://www.w3.org/2000/svg\" height=\"24px\"viewBox=\"0 0 24 24\"\n",
       "       width=\"24px\">\n",
       "    <path d=\"M7,19H8.4L18.45,9,17,7.55,7,17.6ZM5,21V16.75L18.45,3.32a2,2,0,0,1,2.83,0l1.4,1.43a1.91,1.91,0,0,1,.58,1.4,1.91,1.91,0,0,1-.58,1.4L9.25,21ZM18.45,9,17,7.55Zm-12,3A5.31,5.31,0,0,0,4.9,8.1,5.31,5.31,0,0,0,1,6.5,5.31,5.31,0,0,0,4.9,4.9,5.31,5.31,0,0,0,6.5,1,5.31,5.31,0,0,0,8.1,4.9,5.31,5.31,0,0,0,12,6.5,5.46,5.46,0,0,0,6.5,12Z\"/>\n",
       "  </svg>\n",
       "    </button>\n",
       "    <script>\n",
       "      (() => {\n",
       "      const buttonEl =\n",
       "        document.querySelector('#id_044761b3-8fea-41de-be5e-0e9fab6b9957 button.colab-df-generate');\n",
       "      buttonEl.style.display =\n",
       "        google.colab.kernel.accessAllowed ? 'block' : 'none';\n",
       "\n",
       "      buttonEl.onclick = () => {\n",
       "        google.colab.notebook.generateWithVariable('country_df');\n",
       "      }\n",
       "      })();\n",
       "    </script>\n",
       "  </div>\n",
       "\n",
       "    </div>\n",
       "  </div>\n"
      ],
      "text/plain": [
       "          Country  Total Cases  New Cases  Total Deaths  New Deaths  \\\n",
       "1             USA    111820082     1151.0       1219487         7.0   \n",
       "2           India     45035393       68.0        533570        -1.0   \n",
       "3         Germany     38828995       73.0        183027        16.0   \n",
       "4          Brazil     38743918       -1.0        711380        -1.0   \n",
       "5           Japan     33803572       -1.0         74694        -1.0   \n",
       "..            ...          ...        ...           ...         ...   \n",
       "198        Tuvalu         2943       -1.0             1        -1.0   \n",
       "199  Saint Helena         2166       -1.0            -1        -1.0   \n",
       "200    Montserrat         1403       -1.0             8        -1.0   \n",
       "201          Niue         1059       -1.0            -1        -1.0   \n",
       "202       Tokelau           80       -1.0            -1        -1.0   \n",
       "\n",
       "     Total Recovered  New Recovered  Active Cases  Serios/Critical  \\\n",
       "1          109814428        10109.0        786167              940   \n",
       "2                  0            0.0             0                0   \n",
       "3           38240600           -1.0        405368                0   \n",
       "4           36249161           -1.0       1783377                0   \n",
       "5                  0            0.0             0                0   \n",
       "..               ...            ...           ...              ...   \n",
       "198                0            0.0             0                0   \n",
       "199                2           -1.0          2164               -1   \n",
       "200             1376           -1.0            19               -1   \n",
       "201             1056           -1.0             3               -1   \n",
       "202               -1           -1.0            80               -1   \n",
       "\n",
       "     Total Cases/1M  Deaths/1M  Total Tests  Test/1M  Population  \\\n",
       "1          333985.0     3642.0   1186851502  3544901   334805269   \n",
       "2           32016.0      379.0    935879495   665334  1406631776   \n",
       "3          462891.0     2182.0    122332384  1458359    83883596   \n",
       "4          179908.0     3303.0     63776166   296146   215353593   \n",
       "5          269169.0      595.0    100414883   799578   125584838   \n",
       "..              ...        ...          ...      ...         ...   \n",
       "198        243909.0       83.0           -1       -1       12066   \n",
       "199        354211.0       -1.0           -1       -1        6115   \n",
       "200        282578.0     1611.0        17762  3577442        4965   \n",
       "201        652898.0       -1.0           -1       -1        1622   \n",
       "202         58055.0       -1.0           -1       -1        1378   \n",
       "\n",
       "             Continent  %Inc Cases  %Inc Deaths  %Inc Recovered  \n",
       "1        North America    0.001029     0.000574        0.009206  \n",
       "2                 Asia    0.000151    -0.000187             NaN  \n",
       "3               Europe    0.000188     0.008742       -0.000003  \n",
       "4        South America   -0.000003    -0.000141       -0.000003  \n",
       "5                 Asia   -0.000003    -0.001339             NaN  \n",
       "..                 ...         ...          ...             ...  \n",
       "198  Australia/Oceania   -0.033979  -100.000000             NaN  \n",
       "199             Africa   -0.046168   100.000000      -50.000000  \n",
       "200      North America   -0.071276   -12.500000       -0.072674  \n",
       "201  Australia/Oceania   -0.094429   100.000000       -0.094697  \n",
       "202  Australia/Oceania   -1.250000   100.000000      100.000000  \n",
       "\n",
       "[202 rows x 18 columns]"
      ]
     },
     "execution_count": 16,
     "metadata": {},
     "output_type": "execute_result"
    }
   ],
   "source": [
    "#COUNTRIES\n",
    "df=df.drop([len(df)-1])\n",
    "country_df = df.drop([0])\n",
    "country_df"
   ]
  },
  {
   "cell_type": "code",
   "execution_count": 17,
   "metadata": {
    "colab": {
     "base_uri": "https://localhost:8080/",
     "height": 542
    },
    "id": "gfT-Q4h_A3I0",
    "outputId": "ad736e79-2fa0-40eb-898a-ce55b14f45dd"
   },
   "outputs": [
    {
     "data": {
      "text/html": [
       "<html>\n",
       "<head><meta charset=\"utf-8\" /></head>\n",
       "<body>\n",
       "    <div>            <script src=\"https://cdnjs.cloudflare.com/ajax/libs/mathjax/2.7.5/MathJax.js?config=TeX-AMS-MML_SVG\"></script><script type=\"text/javascript\">if (window.MathJax && window.MathJax.Hub && window.MathJax.Hub.Config) {window.MathJax.Hub.Config({SVG: {font: \"STIX-Web\"}});}</script>                <script type=\"text/javascript\">window.PlotlyConfig = {MathJaxConfig: 'local'};</script>\n",
       "        <script charset=\"utf-8\" src=\"https://cdn.plot.ly/plotly-2.24.1.min.js\"></script>                <div id=\"fa594bfa-bf2c-4a7f-8f8f-98fb91642161\" class=\"plotly-graph-div\" style=\"height:525px; width:100%;\"></div>            <script type=\"text/javascript\">                                    window.PLOTLYENV=window.PLOTLYENV || {};                                    if (document.getElementById(\"fa594bfa-bf2c-4a7f-8f8f-98fb91642161\")) {                    Plotly.newPlot(                        \"fa594bfa-bf2c-4a7f-8f8f-98fb91642161\",                        [{\"name\":\"USA\",\"x\":[\"Total Cases\",\"New Cases\",\"Total Deaths\",\"New Deaths\",\"Total Recovered\",\"New Recovered\",\"Active Cases\",\"Serios\\u002fCritical\",\"Total Cases\\u002f1M\",\"Deaths\\u002f1M\",\"Total Tests\",\"Test\\u002f1M\",\"Population\"],\"y\":[111820082,1151.0,1219487,7.0,109814428,10109.0,786167,940,333985.0,3642.0,1186851502,3544901,334805269],\"type\":\"bar\"},{\"name\":\"India\",\"x\":[\"Total Cases\",\"New Cases\",\"Total Deaths\",\"New Deaths\",\"Total Recovered\",\"New Recovered\",\"Active Cases\",\"Serios\\u002fCritical\",\"Total Cases\\u002f1M\",\"Deaths\\u002f1M\",\"Total Tests\",\"Test\\u002f1M\",\"Population\"],\"y\":[45035393,68.0,533570,-1.0,0,0.0,0,0,32016.0,379.0,935879495,665334,1406631776],\"type\":\"bar\"},{\"name\":\"Germany\",\"x\":[\"Total Cases\",\"New Cases\",\"Total Deaths\",\"New Deaths\",\"Total Recovered\",\"New Recovered\",\"Active Cases\",\"Serios\\u002fCritical\",\"Total Cases\\u002f1M\",\"Deaths\\u002f1M\",\"Total Tests\",\"Test\\u002f1M\",\"Population\"],\"y\":[38828995,73.0,183027,16.0,38240600,-1.0,405368,0,462891.0,2182.0,122332384,1458359,83883596],\"type\":\"bar\"},{\"name\":\"Brazil\",\"x\":[\"Total Cases\",\"New Cases\",\"Total Deaths\",\"New Deaths\",\"Total Recovered\",\"New Recovered\",\"Active Cases\",\"Serios\\u002fCritical\",\"Total Cases\\u002f1M\",\"Deaths\\u002f1M\",\"Total Tests\",\"Test\\u002f1M\",\"Population\"],\"y\":[38743918,-1.0,711380,-1.0,36249161,-1.0,1783377,0,179908.0,3303.0,63776166,296146,215353593],\"type\":\"bar\"},{\"name\":\"Japan\",\"x\":[\"Total Cases\",\"New Cases\",\"Total Deaths\",\"New Deaths\",\"Total Recovered\",\"New Recovered\",\"Active Cases\",\"Serios\\u002fCritical\",\"Total Cases\\u002f1M\",\"Deaths\\u002f1M\",\"Total Tests\",\"Test\\u002f1M\",\"Population\"],\"y\":[33803572,-1.0,74694,-1.0,0,0.0,0,0,269169.0,595.0,100414883,799578,125584838],\"type\":\"bar\"},{\"name\":\"Italy\",\"x\":[\"Total Cases\",\"New Cases\",\"Total Deaths\",\"New Deaths\",\"Total Recovered\",\"New Recovered\",\"Active Cases\",\"Serios\\u002fCritical\",\"Total Cases\\u002f1M\",\"Deaths\\u002f1M\",\"Total Tests\",\"Test\\u002f1M\",\"Population\"],\"y\":[26723249,-1.0,196487,-1.0,26361218,-1.0,165544,22,443445.0,3261.0,281126449,4665010,60262770],\"type\":\"bar\"},{\"name\":\"Russia\",\"x\":[\"Total Cases\",\"New Cases\",\"Total Deaths\",\"New Deaths\",\"Total Recovered\",\"New Recovered\",\"Active Cases\",\"Serios\\u002fCritical\",\"Total Cases\\u002f1M\",\"Deaths\\u002f1M\",\"Total Tests\",\"Test\\u002f1M\",\"Population\"],\"y\":[24124215,-1.0,402756,-1.0,23545818,-1.0,175641,0,165454.0,2762.0,273400000,1875095,145805947],\"type\":\"bar\"},{\"name\":\"Turkey\",\"x\":[\"Total Cases\",\"New Cases\",\"Total Deaths\",\"New Deaths\",\"Total Recovered\",\"New Recovered\",\"Active Cases\",\"Serios\\u002fCritical\",\"Total Cases\\u002f1M\",\"Deaths\\u002f1M\",\"Total Tests\",\"Test\\u002f1M\",\"Population\"],\"y\":[17232066,-1.0,102174,-1.0,0,0.0,0,0,201399.0,1194.0,162743369,1902052,85561976],\"type\":\"bar\"},{\"name\":\"Spain\",\"x\":[\"Total Cases\",\"New Cases\",\"Total Deaths\",\"New Deaths\",\"Total Recovered\",\"New Recovered\",\"Active Cases\",\"Serios\\u002fCritical\",\"Total Cases\\u002f1M\",\"Deaths\\u002f1M\",\"Total Tests\",\"Test\\u002f1M\",\"Population\"],\"y\":[13914811,-1.0,121760,-1.0,13762417,-1.0,30634,231,297840.0,2606.0,471036328,10082298,46719142],\"type\":\"bar\"},{\"name\":\"Australia\",\"x\":[\"Total Cases\",\"New Cases\",\"Total Deaths\",\"New Deaths\",\"Total Recovered\",\"New Recovered\",\"Active Cases\",\"Serios\\u002fCritical\",\"Total Cases\\u002f1M\",\"Deaths\\u002f1M\",\"Total Tests\",\"Test\\u002f1M\",\"Population\"],\"y\":[11853144,664.0,24414,-1.0,11820014,4299.0,8716,3,454687.0,937.0,81916639,3142326,26068792],\"type\":\"bar\"},{\"name\":\"Vietnam\",\"x\":[\"Total Cases\",\"New Cases\",\"Total Deaths\",\"New Deaths\",\"Total Recovered\",\"New Recovered\",\"Active Cases\",\"Serios\\u002fCritical\",\"Total Cases\\u002f1M\",\"Deaths\\u002f1M\",\"Total Tests\",\"Test\\u002f1M\",\"Population\"],\"y\":[11625195,-1.0,43206,-1.0,10640971,-1.0,941018,-1,117481.0,437.0,85826548,867342,98953541],\"type\":\"bar\"},{\"name\":\"Argentina\",\"x\":[\"Total Cases\",\"New Cases\",\"Total Deaths\",\"New Deaths\",\"Total Recovered\",\"New Recovered\",\"Active Cases\",\"Serios\\u002fCritical\",\"Total Cases\\u002f1M\",\"Deaths\\u002f1M\",\"Total Tests\",\"Test\\u002f1M\",\"Population\"],\"y\":[10128845,-1.0,130841,-1.0,9997258,-1.0,746,-1,220143.0,2844.0,35716069,776264,46010234],\"type\":\"bar\"},{\"name\":\"Netherlands\",\"x\":[\"Total Cases\",\"New Cases\",\"Total Deaths\",\"New Deaths\",\"Total Recovered\",\"New Recovered\",\"Active Cases\",\"Serios\\u002fCritical\",\"Total Cases\\u002f1M\",\"Deaths\\u002f1M\",\"Total Tests\",\"Test\\u002f1M\",\"Population\"],\"y\":[8635786,-1.0,22992,-1.0,8612599,-1.0,195,0,501747.0,1336.0,25984435,1509718,17211447],\"type\":\"bar\"},{\"name\":\"Mexico\",\"x\":[\"Total Cases\",\"New Cases\",\"Total Deaths\",\"New Deaths\",\"Total Recovered\",\"New Recovered\",\"Active Cases\",\"Serios\\u002fCritical\",\"Total Cases\\u002f1M\",\"Deaths\\u002f1M\",\"Total Tests\",\"Test\\u002f1M\",\"Population\"],\"y\":[7702809,-1.0,334958,-1.0,6899865,-1.0,467986,0,58549.0,2546.0,20013810,152124,131562772],\"type\":\"bar\"},{\"name\":\"Iran\",\"x\":[\"Total Cases\",\"New Cases\",\"Total Deaths\",\"New Deaths\",\"Total Recovered\",\"New Recovered\",\"Active Cases\",\"Serios\\u002fCritical\",\"Total Cases\\u002f1M\",\"Deaths\\u002f1M\",\"Total Tests\",\"Test\\u002f1M\",\"Population\"],\"y\":[7627186,-1.0,146811,-1.0,0,0.0,0,-1,88665.0,1707.0,57320267,666338,86022837],\"type\":\"bar\"},{\"name\":\"Indonesia\",\"x\":[\"Total Cases\",\"New Cases\",\"Total Deaths\",\"New Deaths\",\"Total Recovered\",\"New Recovered\",\"Active Cases\",\"Serios\\u002fCritical\",\"Total Cases\\u002f1M\",\"Deaths\\u002f1M\",\"Total Tests\",\"Test\\u002f1M\",\"Population\"],\"y\":[6829221,-1.0,162063,-1.0,6647104,-1.0,20054,0,24466.0,581.0,114158919,408975,279134505],\"type\":\"bar\"},{\"name\":\"Poland\",\"x\":[\"Total Cases\",\"New Cases\",\"Total Deaths\",\"New Deaths\",\"Total Recovered\",\"New Recovered\",\"Active Cases\",\"Serios\\u002fCritical\",\"Total Cases\\u002f1M\",\"Deaths\\u002f1M\",\"Total Tests\",\"Test\\u002f1M\",\"Population\"],\"y\":[6661991,-1.0,120598,-1.0,0,0.0,0,0,176524.0,3196.0,39323709,1041970,37739785],\"type\":\"bar\"},{\"name\":\"Colombia\",\"x\":[\"Total Cases\",\"New Cases\",\"Total Deaths\",\"New Deaths\",\"Total Recovered\",\"New Recovered\",\"Active Cases\",\"Serios\\u002fCritical\",\"Total Cases\\u002f1M\",\"Deaths\\u002f1M\",\"Total Tests\",\"Test\\u002f1M\",\"Population\"],\"y\":[6400173,-1.0,143200,-1.0,6212152,-1.0,44821,342,124244.0,2780.0,36951507,717327,51512762],\"type\":\"bar\"},{\"name\":\"Austria\",\"x\":[\"Total Cases\",\"New Cases\",\"Total Deaths\",\"New Deaths\",\"Total Recovered\",\"New Recovered\",\"Active Cases\",\"Serios\\u002fCritical\",\"Total Cases\\u002f1M\",\"Deaths\\u002f1M\",\"Total Tests\",\"Test\\u002f1M\",\"Population\"],\"y\":[6081287,-1.0,22542,-1.0,6054934,-1.0,3811,-1,670727.0,2486.0,211273524,23302116,9066710],\"type\":\"bar\"},{\"name\":\"Portugal\",\"x\":[\"Total Cases\",\"New Cases\",\"Total Deaths\",\"New Deaths\",\"Total Recovered\",\"New Recovered\",\"Active Cases\",\"Serios\\u002fCritical\",\"Total Cases\\u002f1M\",\"Deaths\\u002f1M\",\"Total Tests\",\"Test\\u002f1M\",\"Population\"],\"y\":[5643062,-1.0,28126,-1.0,5614809,-1.0,127,61,556484.0,2774.0,46139518,4549993,10140570],\"type\":\"bar\"},{\"name\":\"Chile\",\"x\":[\"Total Cases\",\"New Cases\",\"Total Deaths\",\"New Deaths\",\"Total Recovered\",\"New Recovered\",\"Active Cases\",\"Serios\\u002fCritical\",\"Total Cases\\u002f1M\",\"Deaths\\u002f1M\",\"Total Tests\",\"Test\\u002f1M\",\"Population\"],\"y\":[5384853,1215.0,64497,-1.0,5252450,-1.0,67906,7,279730.0,3350.0,50382097,2617225,19250195],\"type\":\"bar\"},{\"name\":\"Malaysia\",\"x\":[\"Total Cases\",\"New Cases\",\"Total Deaths\",\"New Deaths\",\"Total Recovered\",\"New Recovered\",\"Active Cases\",\"Serios\\u002fCritical\",\"Total Cases\\u002f1M\",\"Deaths\\u002f1M\",\"Total Tests\",\"Test\\u002f1M\",\"Population\"],\"y\":[5278406,-1.0,37348,-1.0,5233268,-1.0,7790,11,159079.0,1126.0,68580916,2066869,33181072],\"type\":\"bar\"},{\"name\":\"Canada\",\"x\":[\"Total Cases\",\"New Cases\",\"Total Deaths\",\"New Deaths\",\"Total Recovered\",\"New Recovered\",\"Active Cases\",\"Serios\\u002fCritical\",\"Total Cases\\u002f1M\",\"Deaths\\u002f1M\",\"Total Tests\",\"Test\\u002f1M\",\"Population\"],\"y\":[4946090,-1.0,59034,-1.0,4880962,350.0,6094,99,128843.0,1538.0,66572774,1734189,38388419],\"type\":\"bar\"},{\"name\":\"Belgium\",\"x\":[\"Total Cases\",\"New Cases\",\"Total Deaths\",\"New Deaths\",\"Total Recovered\",\"New Recovered\",\"Active Cases\",\"Serios\\u002fCritical\",\"Total Cases\\u002f1M\",\"Deaths\\u002f1M\",\"Total Tests\",\"Test\\u002f1M\",\"Population\"],\"y\":[4861695,-1.0,34376,-1.0,4826748,36.0,571,0,416659.0,2946.0,37454182,3209915,11668278],\"type\":\"bar\"},{\"name\":\"Israel\",\"x\":[\"Total Cases\",\"New Cases\",\"Total Deaths\",\"New Deaths\",\"Total Recovered\",\"New Recovered\",\"Active Cases\",\"Serios\\u002fCritical\",\"Total Cases\\u002f1M\",\"Deaths\\u002f1M\",\"Total Tests\",\"Test\\u002f1M\",\"Population\"],\"y\":[4841772,-1.0,12707,-1.0,4798473,-1.0,30592,0,519169.0,1363.0,41373364,4436346,9326000],\"type\":\"bar\"},{\"name\":\"Thailand\",\"x\":[\"Total Cases\",\"New Cases\",\"Total Deaths\",\"New Deaths\",\"Total Recovered\",\"New Recovered\",\"Active Cases\",\"Serios\\u002fCritical\",\"Total Cases\\u002f1M\",\"Deaths\\u002f1M\",\"Total Tests\",\"Test\\u002f1M\",\"Population\"],\"y\":[4770149,-1.0,34586,-1.0,4692636,-1.0,42927,0,68069.0,494.0,17273454,246488,70078203],\"type\":\"bar\"},{\"name\":\"Czechia\",\"x\":[\"Total Cases\",\"New Cases\",\"Total Deaths\",\"New Deaths\",\"Total Recovered\",\"New Recovered\",\"Active Cases\",\"Serios\\u002fCritical\",\"Total Cases\\u002f1M\",\"Deaths\\u002f1M\",\"Total Tests\",\"Test\\u002f1M\",\"Population\"],\"y\":[4759041,-1.0,43517,-1.0,4715206,-1.0,318,2,443246.0,4053.0,57834241,5386552,10736784],\"type\":\"bar\"},{\"name\":\"Switzerland\",\"x\":[\"Total Cases\",\"New Cases\",\"Total Deaths\",\"New Deaths\",\"Total Recovered\",\"New Recovered\",\"Active Cases\",\"Serios\\u002fCritical\",\"Total Cases\\u002f1M\",\"Deaths\\u002f1M\",\"Total Tests\",\"Test\\u002f1M\",\"Population\"],\"y\":[4453053,-1.0,14452,-1.0,4438309,-1.0,292,0,507549.0,1647.0,23833472,2716487,8773637],\"type\":\"bar\"},{\"name\":\"Philippines\",\"x\":[\"Total Cases\",\"New Cases\",\"Total Deaths\",\"New Deaths\",\"Total Recovered\",\"New Recovered\",\"Active Cases\",\"Serios\\u002fCritical\",\"Total Cases\\u002f1M\",\"Deaths\\u002f1M\",\"Total Tests\",\"Test\\u002f1M\",\"Population\"],\"y\":[4140383,-1.0,66864,-1.0,4067381,-1.0,6138,0,36800.0,594.0,36102746,320888,112508994],\"type\":\"bar\"},{\"name\":\"South Africa\",\"x\":[\"Total Cases\",\"New Cases\",\"Total Deaths\",\"New Deaths\",\"Total Recovered\",\"New Recovered\",\"Active Cases\",\"Serios\\u002fCritical\",\"Total Cases\\u002f1M\",\"Deaths\\u002f1M\",\"Total Tests\",\"Test\\u002f1M\",\"Population\"],\"y\":[4076463,-1.0,102595,-1.0,3912506,-1.0,61362,192,67095.0,1689.0,26795090,441027,60756135],\"type\":\"bar\"},{\"name\":\"Romania\",\"x\":[\"Total Cases\",\"New Cases\",\"Total Deaths\",\"New Deaths\",\"Total Recovered\",\"New Recovered\",\"Active Cases\",\"Serios\\u002fCritical\",\"Total Cases\\u002f1M\",\"Deaths\\u002f1M\",\"Total Tests\",\"Test\\u002f1M\",\"Population\"],\"y\":[3529735,-1.0,68929,-1.0,3459759,-1.0,1047,21,185470.0,3622.0,28758667,1511122,19031335],\"type\":\"bar\"},{\"name\":\"Hong Kong\",\"x\":[\"Total Cases\",\"New Cases\",\"Total Deaths\",\"New Deaths\",\"Total Recovered\",\"New Recovered\",\"Active Cases\",\"Serios\\u002fCritical\",\"Total Cases\\u002f1M\",\"Deaths\\u002f1M\",\"Total Tests\",\"Test\\u002f1M\",\"Population\"],\"y\":[2937609,696.0,14924,34.0,2916039,-1.0,6646,0,386309.0,1963.0,76127725,10011143,7604299],\"type\":\"bar\"},{\"name\":\"Sweden\",\"x\":[\"Total Cases\",\"New Cases\",\"Total Deaths\",\"New Deaths\",\"Total Recovered\",\"New Recovered\",\"Active Cases\",\"Serios\\u002fCritical\",\"Total Cases\\u002f1M\",\"Deaths\\u002f1M\",\"Total Tests\",\"Test\\u002f1M\",\"Population\"],\"y\":[2754129,-1.0,27407,-1.0,2726472,18.0,250,0,269511.0,2682.0,19500873,1908301,10218971],\"type\":\"bar\"},{\"name\":\"New Zealand\",\"x\":[\"Total Cases\",\"New Cases\",\"Total Deaths\",\"New Deaths\",\"Total Recovered\",\"New Recovered\",\"Active Cases\",\"Serios\\u002fCritical\",\"Total Cases\\u002f1M\",\"Deaths\\u002f1M\",\"Total Tests\",\"Test\\u002f1M\",\"Population\"],\"y\":[2621111,-1.0,5697,-1.0,2613791,-1.0,1623,-1,535117.0,1163.0,7768604,1586011,4898203],\"type\":\"bar\"},{\"name\":\"Serbia\",\"x\":[\"Total Cases\",\"New Cases\",\"Total Deaths\",\"New Deaths\",\"Total Recovered\",\"New Recovered\",\"Active Cases\",\"Serios\\u002fCritical\",\"Total Cases\\u002f1M\",\"Deaths\\u002f1M\",\"Total Tests\",\"Test\\u002f1M\",\"Population\"],\"y\":[2615054,69.0,18057,-1.0,2596608,-1.0,389,-1,302213.0,2087.0,13463733,1555958,8653016],\"type\":\"bar\"},{\"name\":\"Iraq\",\"x\":[\"Total Cases\",\"New Cases\",\"Total Deaths\",\"New Deaths\",\"Total Recovered\",\"New Recovered\",\"Active Cases\",\"Serios\\u002fCritical\",\"Total Cases\\u002f1M\",\"Deaths\\u002f1M\",\"Total Tests\",\"Test\\u002f1M\",\"Population\"],\"y\":[2465545,-1.0,25375,-1.0,2439497,-1.0,673,-1,58474.0,602.0,19544451,463523,42164965],\"type\":\"bar\"},{\"name\":\"Hungary\",\"x\":[\"Total Cases\",\"New Cases\",\"Total Deaths\",\"New Deaths\",\"Total Recovered\",\"New Recovered\",\"Active Cases\",\"Serios\\u002fCritical\",\"Total Cases\\u002f1M\",\"Deaths\\u002f1M\",\"Total Tests\",\"Test\\u002f1M\",\"Population\"],\"y\":[2230232,-1.0,49048,-1.0,2152155,-1.0,29029,-1,232164.0,5106.0,11394556,1186160,9606259],\"type\":\"bar\"},{\"name\":\"Bangladesh\",\"x\":[\"Total Cases\",\"New Cases\",\"Total Deaths\",\"New Deaths\",\"Total Recovered\",\"New Recovered\",\"Active Cases\",\"Serios\\u002fCritical\",\"Total Cases\\u002f1M\",\"Deaths\\u002f1M\",\"Total Tests\",\"Test\\u002f1M\",\"Population\"],\"y\":[2049377,-1.0,29493,-1.0,0,0.0,0,0,12207.0,176.0,15254399,90862,167885689],\"type\":\"bar\"},{\"name\":\"Georgia\",\"x\":[\"Total Cases\",\"New Cases\",\"Total Deaths\",\"New Deaths\",\"Total Recovered\",\"New Recovered\",\"Active Cases\",\"Serios\\u002fCritical\",\"Total Cases\\u002f1M\",\"Deaths\\u002f1M\",\"Total Tests\",\"Test\\u002f1M\",\"Population\"],\"y\":[1861665,-1.0,17132,-1.0,0,0.0,0,-1,469082.0,4317.0,16920079,4263340,3968738],\"type\":\"bar\"},{\"name\":\"Jordan\",\"x\":[\"Total Cases\",\"New Cases\",\"Total Deaths\",\"New Deaths\",\"Total Recovered\",\"New Recovered\",\"Active Cases\",\"Serios\\u002fCritical\",\"Total Cases\\u002f1M\",\"Deaths\\u002f1M\",\"Total Tests\",\"Test\\u002f1M\",\"Population\"],\"y\":[1746997,-1.0,14122,-1.0,1731007,-1.0,1868,59,169597.0,1371.0,17201885,1669945,10300869],\"type\":\"bar\"},{\"name\":\"Ireland\",\"x\":[\"Total Cases\",\"New Cases\",\"Total Deaths\",\"New Deaths\",\"Total Recovered\",\"New Recovered\",\"Active Cases\",\"Serios\\u002fCritical\",\"Total Cases\\u002f1M\",\"Deaths\\u002f1M\",\"Total Tests\",\"Test\\u002f1M\",\"Population\"],\"y\":[1734582,-1.0,9491,-1.0,1724921,-1.0,170,19,345521.0,1891.0,13083449,2606161,5020199],\"type\":\"bar\"},{\"name\":\"Pakistan\",\"x\":[\"Total Cases\",\"New Cases\",\"Total Deaths\",\"New Deaths\",\"Total Recovered\",\"New Recovered\",\"Active Cases\",\"Serios\\u002fCritical\",\"Total Cases\\u002f1M\",\"Deaths\\u002f1M\",\"Total Tests\",\"Test\\u002f1M\",\"Population\"],\"y\":[1581936,-1.0,30664,-1.0,1538689,-1.0,12583,-1,6893.0,134.0,30589153,133292,229488994],\"type\":\"bar\"},{\"name\":\"Finland\",\"x\":[\"Total Cases\",\"New Cases\",\"Total Deaths\",\"New Deaths\",\"Total Recovered\",\"New Recovered\",\"Active Cases\",\"Serios\\u002fCritical\",\"Total Cases\\u002f1M\",\"Deaths\\u002f1M\",\"Total Tests\",\"Test\\u002f1M\",\"Population\"],\"y\":[1516117,-1.0,11958,-1.0,1503975,17.0,184,0,272930.0,2153.0,12108977,2179850,5554960],\"type\":\"bar\"},{\"name\":\"Kazakhstan\",\"x\":[\"Total Cases\",\"New Cases\",\"Total Deaths\",\"New Deaths\",\"Total Recovered\",\"New Recovered\",\"Active Cases\",\"Serios\\u002fCritical\",\"Total Cases\\u002f1M\",\"Deaths\\u002f1M\",\"Total Tests\",\"Test\\u002f1M\",\"Population\"],\"y\":[1411831,-1.0,13848,-1.0,1383020,-1.0,14963,24,73514.0,721.0,11575012,602707,19205043],\"type\":\"bar\"},{\"name\":\"Lithuania\",\"x\":[\"Total Cases\",\"New Cases\",\"Total Deaths\",\"New Deaths\",\"Total Recovered\",\"New Recovered\",\"Active Cases\",\"Serios\\u002fCritical\",\"Total Cases\\u002f1M\",\"Deaths\\u002f1M\",\"Total Tests\",\"Test\\u002f1M\",\"Population\"],\"y\":[1397806,20.0,9897,-1.0,1387478,33.0,431,0,525154.0,3718.0,10540357,3959997,2661708],\"type\":\"bar\"},{\"name\":\"Slovenia\",\"x\":[\"Total Cases\",\"New Cases\",\"Total Deaths\",\"New Deaths\",\"Total Recovered\",\"New Recovered\",\"Active Cases\",\"Serios\\u002fCritical\",\"Total Cases\\u002f1M\",\"Deaths\\u002f1M\",\"Total Tests\",\"Test\\u002f1M\",\"Population\"],\"y\":[1356546,-1.0,7100,-1.0,1349424,-1.0,22,0,652803.0,3417.0,2847701,1370382,2078034],\"type\":\"bar\"},{\"name\":\"Bulgaria\",\"x\":[\"Total Cases\",\"New Cases\",\"Total Deaths\",\"New Deaths\",\"Total Recovered\",\"New Recovered\",\"Active Cases\",\"Serios\\u002fCritical\",\"Total Cases\\u002f1M\",\"Deaths\\u002f1M\",\"Total Tests\",\"Test\\u002f1M\",\"Population\"],\"y\":[1339851,3.0,38748,-1.0,1292944,-1.0,8159,22,195753.0,5661.0,11671043,1705147,6844597],\"type\":\"bar\"},{\"name\":\"Croatia\",\"x\":[\"Total Cases\",\"New Cases\",\"Total Deaths\",\"New Deaths\",\"Total Recovered\",\"New Recovered\",\"Active Cases\",\"Serios\\u002fCritical\",\"Total Cases\\u002f1M\",\"Deaths\\u002f1M\",\"Total Tests\",\"Test\\u002f1M\",\"Population\"],\"y\":[1309728,-1.0,18687,-1.0,1258432,-1.0,32609,-1,322650.0,4604.0,5660084,1394355,4059286],\"type\":\"bar\"},{\"name\":\"Guatemala\",\"x\":[\"Total Cases\",\"New Cases\",\"Total Deaths\",\"New Deaths\",\"Total Recovered\",\"New Recovered\",\"Active Cases\",\"Serios\\u002fCritical\",\"Total Cases\\u002f1M\",\"Deaths\\u002f1M\",\"Total Tests\",\"Test\\u002f1M\",\"Population\"],\"y\":[1291293,-1.0,20289,-1.0,1269891,-1.0,1113,5,69484.0,1092.0,7593848,408622,18584039],\"type\":\"bar\"},{\"name\":\"Morocco\",\"x\":[\"Total Cases\",\"New Cases\",\"Total Deaths\",\"New Deaths\",\"Total Recovered\",\"New Recovered\",\"Active Cases\",\"Serios\\u002fCritical\",\"Total Cases\\u002f1M\",\"Deaths\\u002f1M\",\"Total Tests\",\"Test\\u002f1M\",\"Population\"],\"y\":[1278992,-1.0,16303,-1.0,0,0.0,0,0,33860.0,432.0,13001033,344191,37772756],\"type\":\"bar\"},{\"name\":\"Lebanon\",\"x\":[\"Total Cases\",\"New Cases\",\"Total Deaths\",\"New Deaths\",\"Total Recovered\",\"New Recovered\",\"Active Cases\",\"Serios\\u002fCritical\",\"Total Cases\\u002f1M\",\"Deaths\\u002f1M\",\"Total Tests\",\"Test\\u002f1M\",\"Population\"],\"y\":[1243838,-1.0,10952,-1.0,1087587,-1.0,145299,74,186068.0,1638.0,4795578,717380,6684849],\"type\":\"bar\"},{\"name\":\"Costa Rica\",\"x\":[\"Total Cases\",\"New Cases\",\"Total Deaths\",\"New Deaths\",\"Total Recovered\",\"New Recovered\",\"Active Cases\",\"Serios\\u002fCritical\",\"Total Cases\\u002f1M\",\"Deaths\\u002f1M\",\"Total Tests\",\"Test\\u002f1M\",\"Population\"],\"y\":[1238883,-1.0,9428,-1.0,0,0.0,0,0,239058.0,1819.0,4659757,899158,5182354],\"type\":\"bar\"},{\"name\":\"Bolivia\",\"x\":[\"Total Cases\",\"New Cases\",\"Total Deaths\",\"New Deaths\",\"Total Recovered\",\"New Recovered\",\"Active Cases\",\"Serios\\u002fCritical\",\"Total Cases\\u002f1M\",\"Deaths\\u002f1M\",\"Total Tests\",\"Test\\u002f1M\",\"Population\"],\"y\":[1212131,-1.0,22407,-1.0,1177145,-1.0,12579,220,101073.0,1868.0,2710261,225993,11992656],\"type\":\"bar\"},{\"name\":\"Tunisia\",\"x\":[\"Total Cases\",\"New Cases\",\"Total Deaths\",\"New Deaths\",\"Total Recovered\",\"New Recovered\",\"Active Cases\",\"Serios\\u002fCritical\",\"Total Cases\\u002f1M\",\"Deaths\\u002f1M\",\"Total Tests\",\"Test\\u002f1M\",\"Population\"],\"y\":[1153361,-1.0,29423,-1.0,0,0.0,0,0,95741.0,2442.0,5013383,416164,12046656],\"type\":\"bar\"},{\"name\":\"Cuba\",\"x\":[\"Total Cases\",\"New Cases\",\"Total Deaths\",\"New Deaths\",\"Total Recovered\",\"New Recovered\",\"Active Cases\",\"Serios\\u002fCritical\",\"Total Cases\\u002f1M\",\"Deaths\\u002f1M\",\"Total Tests\",\"Test\\u002f1M\",\"Population\"],\"y\":[1115251,-1.0,8530,-1.0,1106660,-1.0,61,-1,98645.0,754.0,14402674,1273936,11305652],\"type\":\"bar\"},{\"name\":\"UAE\",\"x\":[\"Total Cases\",\"New Cases\",\"Total Deaths\",\"New Deaths\",\"Total Recovered\",\"New Recovered\",\"Active Cases\",\"Serios\\u002fCritical\",\"Total Cases\\u002f1M\",\"Deaths\\u002f1M\",\"Total Tests\",\"Test\\u002f1M\",\"Population\"],\"y\":[1067030,-1.0,2349,-1.0,0,0.0,0,-1,105837.0,233.0,200732262,19910389,10081785],\"type\":\"bar\"},{\"name\":\"Panama\",\"x\":[\"Total Cases\",\"New Cases\",\"Total Deaths\",\"New Deaths\",\"Total Recovered\",\"New Recovered\",\"Active Cases\",\"Serios\\u002fCritical\",\"Total Cases\\u002f1M\",\"Deaths\\u002f1M\",\"Total Tests\",\"Test\\u002f1M\",\"Population\"],\"y\":[1059893,-1.0,8727,-1.0,1051102,-1.0,64,16,238341.0,1962.0,7882622,1772585,4446964],\"type\":\"bar\"},{\"name\":\"Uruguay\",\"x\":[\"Total Cases\",\"New Cases\",\"Total Deaths\",\"New Deaths\",\"Total Recovered\",\"New Recovered\",\"Active Cases\",\"Serios\\u002fCritical\",\"Total Cases\\u002f1M\",\"Deaths\\u002f1M\",\"Total Tests\",\"Test\\u002f1M\",\"Population\"],\"y\":[1041111,-1.0,7664,-1.0,1030944,-1.0,2503,18,297799.0,2192.0,6114822,1749083,3496016],\"type\":\"bar\"},{\"name\":\"Nepal\",\"x\":[\"Total Cases\",\"New Cases\",\"Total Deaths\",\"New Deaths\",\"Total Recovered\",\"New Recovered\",\"Active Cases\",\"Serios\\u002fCritical\",\"Total Cases\\u002f1M\",\"Deaths\\u002f1M\",\"Total Tests\",\"Test\\u002f1M\",\"Population\"],\"y\":[1003450,-1.0,12031,-1.0,991322,-1.0,97,-1,33199.0,398.0,6047766,200088,30225582],\"type\":\"bar\"},{\"name\":\"Belarus\",\"x\":[\"Total Cases\",\"New Cases\",\"Total Deaths\",\"New Deaths\",\"Total Recovered\",\"New Recovered\",\"Active Cases\",\"Serios\\u002fCritical\",\"Total Cases\\u002f1M\",\"Deaths\\u002f1M\",\"Total Tests\",\"Test\\u002f1M\",\"Population\"],\"y\":[994037,-1.0,7118,-1.0,985592,-1.0,1327,-1,105381.0,755.0,13646641,1446722,9432800],\"type\":\"bar\"},{\"name\":\"Latvia\",\"x\":[\"Total Cases\",\"New Cases\",\"Total Deaths\",\"New Deaths\",\"Total Recovered\",\"New Recovered\",\"Active Cases\",\"Serios\\u002fCritical\",\"Total Cases\\u002f1M\",\"Deaths\\u002f1M\",\"Total Tests\",\"Test\\u002f1M\",\"Population\"],\"y\":[982505,-1.0,6715,-1.0,971406,-1.0,4384,-1,531418.0,3632.0,7885792,4265272,1848837],\"type\":\"bar\"},{\"name\":\"Saudi Arabia\",\"x\":[\"Total Cases\",\"New Cases\",\"Total Deaths\",\"New Deaths\",\"Total Recovered\",\"New Recovered\",\"Active Cases\",\"Serios\\u002fCritical\",\"Total Cases\\u002f1M\",\"Deaths\\u002f1M\",\"Total Tests\",\"Test\\u002f1M\",\"Population\"],\"y\":[841469,-1.0,9646,-1.0,0,0.0,0,-1,23475.0,269.0,45481735,1268848,35844909],\"type\":\"bar\"},{\"name\":\"Paraguay\",\"x\":[\"Total Cases\",\"New Cases\",\"Total Deaths\",\"New Deaths\",\"Total Recovered\",\"New Recovered\",\"Active Cases\",\"Serios\\u002fCritical\",\"Total Cases\\u002f1M\",\"Deaths\\u002f1M\",\"Total Tests\",\"Test\\u002f1M\",\"Population\"],\"y\":[837602,-1.0,20155,-1.0,0,0.0,0,0,114648.0,2759.0,2657506,363751,7305843],\"type\":\"bar\"},{\"name\":\"Azerbaijan\",\"x\":[\"Total Cases\",\"New Cases\",\"Total Deaths\",\"New Deaths\",\"Total Recovered\",\"New Recovered\",\"Active Cases\",\"Serios\\u002fCritical\",\"Total Cases\\u002f1M\",\"Deaths\\u002f1M\",\"Total Tests\",\"Test\\u002f1M\",\"Population\"],\"y\":[835234,-1.0,10400,-1.0,824089,-1.0,745,-1,81089.0,1010.0,7748050,752223,10300205],\"type\":\"bar\"},{\"name\":\"Bahrain\",\"x\":[\"Total Cases\",\"New Cases\",\"Total Deaths\",\"New Deaths\",\"Total Recovered\",\"New Recovered\",\"Active Cases\",\"Serios\\u002fCritical\",\"Total Cases\\u002f1M\",\"Deaths\\u002f1M\",\"Total Tests\",\"Test\\u002f1M\",\"Population\"],\"y\":[729549,-1.0,1574,-1.0,727915,-1.0,60,0,408944.0,882.0,10948549,6137138,1783983],\"type\":\"bar\"},{\"name\":\"Dominican Republic\",\"x\":[\"Total Cases\",\"New Cases\",\"Total Deaths\",\"New Deaths\",\"Total Recovered\",\"New Recovered\",\"Active Cases\",\"Serios\\u002fCritical\",\"Total Cases\\u002f1M\",\"Deaths\\u002f1M\",\"Total Tests\",\"Test\\u002f1M\",\"Population\"],\"y\":[675890,-1.0,4384,-1.0,671316,-1.0,190,4,61131.0,397.0,3740928,338350,11056370],\"type\":\"bar\"},{\"name\":\"Sri Lanka\",\"x\":[\"Total Cases\",\"New Cases\",\"Total Deaths\",\"New Deaths\",\"Total Recovered\",\"New Recovered\",\"Active Cases\",\"Serios\\u002fCritical\",\"Total Cases\\u002f1M\",\"Deaths\\u002f1M\",\"Total Tests\",\"Test\\u002f1M\",\"Population\"],\"y\":[672754,-1.0,16897,-1.0,655852,-1.0,5,-1,31181.0,783.0,6486117,300619,21575842],\"type\":\"bar\"},{\"name\":\"Kuwait\",\"x\":[\"Total Cases\",\"New Cases\",\"Total Deaths\",\"New Deaths\",\"Total Recovered\",\"New Recovered\",\"Active Cases\",\"Serios\\u002fCritical\",\"Total Cases\\u002f1M\",\"Deaths\\u002f1M\",\"Total Tests\",\"Test\\u002f1M\",\"Population\"],\"y\":[667158,-1.0,2570,-1.0,0,0.0,0,-1,152308.0,587.0,8455743,1930391,4380326],\"type\":\"bar\"},{\"name\":\"Myanmar\",\"x\":[\"Total Cases\",\"New Cases\",\"Total Deaths\",\"New Deaths\",\"Total Recovered\",\"New Recovered\",\"Active Cases\",\"Serios\\u002fCritical\",\"Total Cases\\u002f1M\",\"Deaths\\u002f1M\",\"Total Tests\",\"Test\\u002f1M\",\"Population\"],\"y\":[641873,-1.0,19495,-1.0,620159,-1.0,2219,-1,11622.0,353.0,11711514,212061,55227143],\"type\":\"bar\"},{\"name\":\"Moldova\",\"x\":[\"Total Cases\",\"New Cases\",\"Total Deaths\",\"New Deaths\",\"Total Recovered\",\"New Recovered\",\"Active Cases\",\"Serios\\u002fCritical\",\"Total Cases\\u002f1M\",\"Deaths\\u002f1M\",\"Total Tests\",\"Test\\u002f1M\",\"Population\"],\"y\":[635145,-1.0,12218,-1.0,0,0.0,0,0,158265.0,3044.0,3216305,801437,4013171],\"type\":\"bar\"},{\"name\":\"Estonia\",\"x\":[\"Total Cases\",\"New Cases\",\"Total Deaths\",\"New Deaths\",\"Total Recovered\",\"New Recovered\",\"Active Cases\",\"Serios\\u002fCritical\",\"Total Cases\\u002f1M\",\"Deaths\\u002f1M\",\"Total Tests\",\"Test\\u002f1M\",\"Population\"],\"y\":[628070,-1.0,3001,-1.0,0,0.0,0,0,475123.0,2270.0,6968103,5271239,1321910],\"type\":\"bar\"},{\"name\":\"Palestine\",\"x\":[\"Total Cases\",\"New Cases\",\"Total Deaths\",\"New Deaths\",\"Total Recovered\",\"New Recovered\",\"Active Cases\",\"Serios\\u002fCritical\",\"Total Cases\\u002f1M\",\"Deaths\\u002f1M\",\"Total Tests\",\"Test\\u002f1M\",\"Population\"],\"y\":[621008,-1.0,5404,-1.0,615445,-1.0,159,-1,116173.0,1011.0,3078533,575907,5345541],\"type\":\"bar\"},{\"name\":\"Venezuela\",\"x\":[\"Total Cases\",\"New Cases\",\"Total Deaths\",\"New Deaths\",\"Total Recovered\",\"New Recovered\",\"Active Cases\",\"Serios\\u002fCritical\",\"Total Cases\\u002f1M\",\"Deaths\\u002f1M\",\"Total Tests\",\"Test\\u002f1M\",\"Population\"],\"y\":[552695,-1.0,5856,-1.0,546537,-1.0,302,31,18885.0,200.0,3359014,114771,29266991],\"type\":\"bar\"},{\"name\":\"Egypt\",\"x\":[\"Total Cases\",\"New Cases\",\"Total Deaths\",\"New Deaths\",\"Total Recovered\",\"New Recovered\",\"Active Cases\",\"Serios\\u002fCritical\",\"Total Cases\\u002f1M\",\"Deaths\\u002f1M\",\"Total Tests\",\"Test\\u002f1M\",\"Population\"],\"y\":[516023,-1.0,24613,-1.0,442182,-1.0,49228,122,4861.0,232.0,3693367,34792,106156692],\"type\":\"bar\"},{\"name\":\"Qatar\",\"x\":[\"Total Cases\",\"New Cases\",\"Total Deaths\",\"New Deaths\",\"Total Recovered\",\"New Recovered\",\"Active Cases\",\"Serios\\u002fCritical\",\"Total Cases\\u002f1M\",\"Deaths\\u002f1M\",\"Total Tests\",\"Test\\u002f1M\",\"Population\"],\"y\":[514524,-1.0,690,-1.0,513687,-1.0,147,16,172664.0,232.0,4065369,1364257,2979915],\"type\":\"bar\"},{\"name\":\"Libya\",\"x\":[\"Total Cases\",\"New Cases\",\"Total Deaths\",\"New Deaths\",\"Total Recovered\",\"New Recovered\",\"Active Cases\",\"Serios\\u002fCritical\",\"Total Cases\\u002f1M\",\"Deaths\\u002f1M\",\"Total Tests\",\"Test\\u002f1M\",\"Population\"],\"y\":[507274,-1.0,6437,-1.0,500835,-1.0,2,-1,72048.0,914.0,2483848,352782,7040745],\"type\":\"bar\"},{\"name\":\"Ethiopia\",\"x\":[\"Total Cases\",\"New Cases\",\"Total Deaths\",\"New Deaths\",\"Total Recovered\",\"New Recovered\",\"Active Cases\",\"Serios\\u002fCritical\",\"Total Cases\\u002f1M\",\"Deaths\\u002f1M\",\"Total Tests\",\"Test\\u002f1M\",\"Population\"],\"y\":[501157,-1.0,7574,-1.0,488171,-1.0,5412,-1,4148.0,63.0,5565340,46066,120812698],\"type\":\"bar\"},{\"name\":\"R\\u00e9union\",\"x\":[\"Total Cases\",\"New Cases\",\"Total Deaths\",\"New Deaths\",\"Total Recovered\",\"New Recovered\",\"Active Cases\",\"Serios\\u002fCritical\",\"Total Cases\\u002f1M\",\"Deaths\\u002f1M\",\"Total Tests\",\"Test\\u002f1M\",\"Population\"],\"y\":[494595,-1.0,921,-1.0,0,0.0,0,0,544672.0,1014.0,1603660,1766027,908061],\"type\":\"bar\"},{\"name\":\"Honduras\",\"x\":[\"Total Cases\",\"New Cases\",\"Total Deaths\",\"New Deaths\",\"Total Recovered\",\"New Recovered\",\"Active Cases\",\"Serios\\u002fCritical\",\"Total Cases\\u002f1M\",\"Deaths\\u002f1M\",\"Total Tests\",\"Test\\u002f1M\",\"Population\"],\"y\":[474590,-1.0,11165,-1.0,0,0.0,0,0,46432.0,1092.0,1660662,162472,10221247],\"type\":\"bar\"},{\"name\":\"Armenia\",\"x\":[\"Total Cases\",\"New Cases\",\"Total Deaths\",\"New Deaths\",\"Total Recovered\",\"New Recovered\",\"Active Cases\",\"Serios\\u002fCritical\",\"Total Cases\\u002f1M\",\"Deaths\\u002f1M\",\"Total Tests\",\"Test\\u002f1M\",\"Population\"],\"y\":[451831,-1.0,8777,-1.0,435162,-1.0,7892,-1,152031.0,2953.0,3242901,1091164,2971966],\"type\":\"bar\"},{\"name\":\"Bosnia and Herzegovina\",\"x\":[\"Total Cases\",\"New Cases\",\"Total Deaths\",\"New Deaths\",\"Total Recovered\",\"New Recovered\",\"Active Cases\",\"Serios\\u002fCritical\",\"Total Cases\\u002f1M\",\"Deaths\\u002f1M\",\"Total Tests\",\"Test\\u002f1M\",\"Population\"],\"y\":[403615,-1.0,16388,-1.0,379084,-1.0,8143,-1,124215.0,5044.0,1884721,580036,3249317],\"type\":\"bar\"},{\"name\":\"Oman\",\"x\":[\"Total Cases\",\"New Cases\",\"Total Deaths\",\"New Deaths\",\"Total Recovered\",\"New Recovered\",\"Active Cases\",\"Serios\\u002fCritical\",\"Total Cases\\u002f1M\",\"Deaths\\u002f1M\",\"Total Tests\",\"Test\\u002f1M\",\"Population\"],\"y\":[399449,-1.0,4628,-1.0,0,0.0,0,-1,75028.0,869.0,25000000,4695724,5323993],\"type\":\"bar\"},{\"name\":\"Luxembourg\",\"x\":[\"Total Cases\",\"New Cases\",\"Total Deaths\",\"New Deaths\",\"Total Recovered\",\"New Recovered\",\"Active Cases\",\"Serios\\u002fCritical\",\"Total Cases\\u002f1M\",\"Deaths\\u002f1M\",\"Total Tests\",\"Test\\u002f1M\",\"Population\"],\"y\":[391232,-1.0,1232,-1.0,0,0.0,0,-1,609044.0,1918.0,4587145,7140959,642371],\"type\":\"bar\"},{\"name\":\"North Macedonia\",\"x\":[\"Total Cases\",\"New Cases\",\"Total Deaths\",\"New Deaths\",\"Total Recovered\",\"New Recovered\",\"Active Cases\",\"Serios\\u002fCritical\",\"Total Cases\\u002f1M\",\"Deaths\\u002f1M\",\"Total Tests\",\"Test\\u002f1M\",\"Population\"],\"y\":[350567,-1.0,9976,-1.0,337068,-1.0,3523,-1,168436.0,4793.0,2226216,1069626,2081304],\"type\":\"bar\"},{\"name\":\"Zambia\",\"x\":[\"Total Cases\",\"New Cases\",\"Total Deaths\",\"New Deaths\",\"Total Recovered\",\"New Recovered\",\"Active Cases\",\"Serios\\u002fCritical\",\"Total Cases\\u002f1M\",\"Deaths\\u002f1M\",\"Total Tests\",\"Test\\u002f1M\",\"Population\"],\"y\":[349304,-1.0,4069,-1.0,341316,-1.0,3919,-1,17940.0,209.0,4112961,211244,19470234],\"type\":\"bar\"},{\"name\":\"Kenya\",\"x\":[\"Total Cases\",\"New Cases\",\"Total Deaths\",\"New Deaths\",\"Total Recovered\",\"New Recovered\",\"Active Cases\",\"Serios\\u002fCritical\",\"Total Cases\\u002f1M\",\"Deaths\\u002f1M\",\"Total Tests\",\"Test\\u002f1M\",\"Population\"],\"y\":[344130,-1.0,5689,-1.0,337309,-1.0,1132,0,6122.0,101.0,3967062,70569,56215221],\"type\":\"bar\"},{\"name\":\"Brunei \",\"x\":[\"Total Cases\",\"New Cases\",\"Total Deaths\",\"New Deaths\",\"Total Recovered\",\"New Recovered\",\"Active Cases\",\"Serios\\u002fCritical\",\"Total Cases\\u002f1M\",\"Deaths\\u002f1M\",\"Total Tests\",\"Test\\u002f1M\",\"Population\"],\"y\":[343719,-1.0,225,-1.0,243601,-1.0,99893,-1,771655.0,505.0,717784,1611437,445431],\"type\":\"bar\"},{\"name\":\"Albania\",\"x\":[\"Total Cases\",\"New Cases\",\"Total Deaths\",\"New Deaths\",\"Total Recovered\",\"New Recovered\",\"Active Cases\",\"Serios\\u002fCritical\",\"Total Cases\\u002f1M\",\"Deaths\\u002f1M\",\"Total Tests\",\"Test\\u002f1M\",\"Population\"],\"y\":[334863,-1.0,3605,-1.0,330233,-1.0,1025,-1,116825.0,1258.0,1941032,677173,2866374],\"type\":\"bar\"},{\"name\":\"Botswana\",\"x\":[\"Total Cases\",\"New Cases\",\"Total Deaths\",\"New Deaths\",\"Total Recovered\",\"New Recovered\",\"Active Cases\",\"Serios\\u002fCritical\",\"Total Cases\\u002f1M\",\"Deaths\\u002f1M\",\"Total Tests\",\"Test\\u002f1M\",\"Population\"],\"y\":[330638,-1.0,2801,-1.0,327049,-1.0,788,1,135443.0,1147.0,2026898,830300,2441162],\"type\":\"bar\"},{\"name\":\"Montenegro\",\"x\":[\"Total Cases\",\"New Cases\",\"Total Deaths\",\"New Deaths\",\"Total Recovered\",\"New Recovered\",\"Active Cases\",\"Serios\\u002fCritical\",\"Total Cases\\u002f1M\",\"Deaths\\u002f1M\",\"Total Tests\",\"Test\\u002f1M\",\"Population\"],\"y\":[296542,-1.0,2846,-1.0,291794,-1.0,1902,0,472238.0,4532.0,2769281,4410034,627950],\"type\":\"bar\"},{\"name\":\"Algeria\",\"x\":[\"Total Cases\",\"New Cases\",\"Total Deaths\",\"New Deaths\",\"Total Recovered\",\"New Recovered\",\"Active Cases\",\"Serios\\u002fCritical\",\"Total Cases\\u002f1M\",\"Deaths\\u002f1M\",\"Total Tests\",\"Test\\u002f1M\",\"Population\"],\"y\":[272010,-1.0,6881,-1.0,183061,-1.0,82068,-1,5998.0,152.0,230960,5093,45350148],\"type\":\"bar\"},{\"name\":\"Nigeria\",\"x\":[\"Total Cases\",\"New Cases\",\"Total Deaths\",\"New Deaths\",\"Total Recovered\",\"New Recovered\",\"Active Cases\",\"Serios\\u002fCritical\",\"Total Cases\\u002f1M\",\"Deaths\\u002f1M\",\"Total Tests\",\"Test\\u002f1M\",\"Population\"],\"y\":[267188,-1.0,3155,-1.0,259953,-1.0,4080,11,1233.0,15.0,5708974,26339,216746934],\"type\":\"bar\"},{\"name\":\"Zimbabwe\",\"x\":[\"Total Cases\",\"New Cases\",\"Total Deaths\",\"New Deaths\",\"Total Recovered\",\"New Recovered\",\"Active Cases\",\"Serios\\u002fCritical\",\"Total Cases\\u002f1M\",\"Deaths\\u002f1M\",\"Total Tests\",\"Test\\u002f1M\",\"Population\"],\"y\":[266359,-1.0,5740,-1.0,258888,-1.0,1731,12,17373.0,374.0,2525756,164744,15331428],\"type\":\"bar\"},{\"name\":\"Uzbekistan\",\"x\":[\"Total Cases\",\"New Cases\",\"Total Deaths\",\"New Deaths\",\"Total Recovered\",\"New Recovered\",\"Active Cases\",\"Serios\\u002fCritical\",\"Total Cases\\u002f1M\",\"Deaths\\u002f1M\",\"Total Tests\",\"Test\\u002f1M\",\"Population\"],\"y\":[253662,-1.0,1637,-1.0,241486,-1.0,10539,23,7378.0,48.0,1377915,40077,34382084],\"type\":\"bar\"},{\"name\":\"Afghanistan\",\"x\":[\"Total Cases\",\"New Cases\",\"Total Deaths\",\"New Deaths\",\"Total Recovered\",\"New Recovered\",\"Active Cases\",\"Serios\\u002fCritical\",\"Total Cases\\u002f1M\",\"Deaths\\u002f1M\",\"Total Tests\",\"Test\\u002f1M\",\"Population\"],\"y\":[234174,-1.0,7996,-1.0,211080,-1.0,15098,-1,5746.0,196.0,1390730,34125,40754388],\"type\":\"bar\"},{\"name\":\"Mozambique\",\"x\":[\"Total Cases\",\"New Cases\",\"Total Deaths\",\"New Deaths\",\"Total Recovered\",\"New Recovered\",\"Active Cases\",\"Serios\\u002fCritical\",\"Total Cases\\u002f1M\",\"Deaths\\u002f1M\",\"Total Tests\",\"Test\\u002f1M\",\"Population\"],\"y\":[233731,-1.0,2250,-1.0,228805,-1.0,2676,11,7064.0,68.0,1371127,41437,33089461],\"type\":\"bar\"},{\"name\":\"Martinique\",\"x\":[\"Total Cases\",\"New Cases\",\"Total Deaths\",\"New Deaths\",\"Total Recovered\",\"New Recovered\",\"Active Cases\",\"Serios\\u002fCritical\",\"Total Cases\\u002f1M\",\"Deaths\\u002f1M\",\"Total Tests\",\"Test\\u002f1M\",\"Population\"],\"y\":[230354,-1.0,1102,-1.0,0,0.0,0,0,615777.0,2946.0,828928,2215870,374087],\"type\":\"bar\"},{\"name\":\"Laos\",\"x\":[\"Total Cases\",\"New Cases\",\"Total Deaths\",\"New Deaths\",\"Total Recovered\",\"New Recovered\",\"Active Cases\",\"Serios\\u002fCritical\",\"Total Cases\\u002f1M\",\"Deaths\\u002f1M\",\"Total Tests\",\"Test\\u002f1M\",\"Population\"],\"y\":[218970,-1.0,758,-1.0,0,0.0,0,-1,29270.0,101.0,1233207,164845,7481023],\"type\":\"bar\"},{\"name\":\"Iceland\",\"x\":[\"Total Cases\",\"New Cases\",\"Total Deaths\",\"New Deaths\",\"Total Recovered\",\"New Recovered\",\"Active Cases\",\"Serios\\u002fCritical\",\"Total Cases\\u002f1M\",\"Deaths\\u002f1M\",\"Total Tests\",\"Test\\u002f1M\",\"Population\"],\"y\":[209906,-1.0,229,-1.0,0,0.0,0,-1,607731.0,663.0,1996384,5780036,345393],\"type\":\"bar\"},{\"name\":\"Kyrgyzstan\",\"x\":[\"Total Cases\",\"New Cases\",\"Total Deaths\",\"New Deaths\",\"Total Recovered\",\"New Recovered\",\"Active Cases\",\"Serios\\u002fCritical\",\"Total Cases\\u002f1M\",\"Deaths\\u002f1M\",\"Total Tests\",\"Test\\u002f1M\",\"Population\"],\"y\":[206897,-1.0,2991,-1.0,196406,-1.0,7500,131,30750.0,445.0,1907195,283460,6728271],\"type\":\"bar\"},{\"name\":\"Guadeloupe\",\"x\":[\"Total Cases\",\"New Cases\",\"Total Deaths\",\"New Deaths\",\"Total Recovered\",\"New Recovered\",\"Active Cases\",\"Serios\\u002fCritical\",\"Total Cases\\u002f1M\",\"Deaths\\u002f1M\",\"Total Tests\",\"Test\\u002f1M\",\"Population\"],\"y\":[203235,-1.0,1021,-1.0,0,0.0,0,0,508349.0,2554.0,938039,2346306,399794],\"type\":\"bar\"},{\"name\":\"El Salvador\",\"x\":[\"Total Cases\",\"New Cases\",\"Total Deaths\",\"New Deaths\",\"Total Recovered\",\"New Recovered\",\"Active Cases\",\"Serios\\u002fCritical\",\"Total Cases\\u002f1M\",\"Deaths\\u002f1M\",\"Total Tests\",\"Test\\u002f1M\",\"Population\"],\"y\":[201855,-1.0,4230,-1.0,179410,-1.0,18215,-1,30816.0,646.0,2610114,398467,6550389],\"type\":\"bar\"},{\"name\":\"Trinidad and Tobago\",\"x\":[\"Total Cases\",\"New Cases\",\"Total Deaths\",\"New Deaths\",\"Total Recovered\",\"New Recovered\",\"Active Cases\",\"Serios\\u002fCritical\",\"Total Cases\\u002f1M\",\"Deaths\\u002f1M\",\"Total Tests\",\"Test\\u002f1M\",\"Population\"],\"y\":[191496,-1.0,4390,-1.0,187078,-1.0,28,0,136143.0,3121.0,913289,649295,1406585],\"type\":\"bar\"},{\"name\":\"Maldives\",\"x\":[\"Total Cases\",\"New Cases\",\"Total Deaths\",\"New Deaths\",\"Total Recovered\",\"New Recovered\",\"Active Cases\",\"Serios\\u002fCritical\",\"Total Cases\\u002f1M\",\"Deaths\\u002f1M\",\"Total Tests\",\"Test\\u002f1M\",\"Population\"],\"y\":[186694,-1.0,316,-1.0,163687,-1.0,22691,25,345100.0,584.0,2213831,4092223,540985],\"type\":\"bar\"},{\"name\":\"Namibia\",\"x\":[\"Total Cases\",\"New Cases\",\"Total Deaths\",\"New Deaths\",\"Total Recovered\",\"New Recovered\",\"Active Cases\",\"Serios\\u002fCritical\",\"Total Cases\\u002f1M\",\"Deaths\\u002f1M\",\"Total Tests\",\"Test\\u002f1M\",\"Population\"],\"y\":[172389,-1.0,4106,-1.0,167099,-1.0,1184,-1,65451.0,1559.0,1062663,403460,2633874],\"type\":\"bar\"},{\"name\":\"Uganda\",\"x\":[\"Total Cases\",\"New Cases\",\"Total Deaths\",\"New Deaths\",\"Total Recovered\",\"New Recovered\",\"Active Cases\",\"Serios\\u002fCritical\",\"Total Cases\\u002f1M\",\"Deaths\\u002f1M\",\"Total Tests\",\"Test\\u002f1M\",\"Population\"],\"y\":[172149,-1.0,3632,-1.0,100431,-1.0,68086,-1,3554.0,75.0,3012408,62198,48432863],\"type\":\"bar\"},{\"name\":\"Ghana\",\"x\":[\"Total Cases\",\"New Cases\",\"Total Deaths\",\"New Deaths\",\"Total Recovered\",\"New Recovered\",\"Active Cases\",\"Serios\\u002fCritical\",\"Total Cases\\u002f1M\",\"Deaths\\u002f1M\",\"Total Tests\",\"Test\\u002f1M\",\"Population\"],\"y\":[171889,-1.0,1462,-1.0,170425,-1.0,2,-1,5306.0,45.0,2541625,78456,32395450],\"type\":\"bar\"},{\"name\":\"Jamaica\",\"x\":[\"Total Cases\",\"New Cases\",\"Total Deaths\",\"New Deaths\",\"Total Recovered\",\"New Recovered\",\"Active Cases\",\"Serios\\u002fCritical\",\"Total Cases\\u002f1M\",\"Deaths\\u002f1M\",\"Total Tests\",\"Test\\u002f1M\",\"Population\"],\"y\":[156869,-1.0,3756,-1.0,0,0.0,0,-1,52551.0,1258.0,1183986,396633,2985094],\"type\":\"bar\"},{\"name\":\"Cambodia\",\"x\":[\"Total Cases\",\"New Cases\",\"Total Deaths\",\"New Deaths\",\"Total Recovered\",\"New Recovered\",\"Active Cases\",\"Serios\\u002fCritical\",\"Total Cases\\u002f1M\",\"Deaths\\u002f1M\",\"Total Tests\",\"Test\\u002f1M\",\"Population\"],\"y\":[139103,-1.0,3056,-1.0,136044,-1.0,3,-1,8102.0,178.0,3091420,180062,17168639],\"type\":\"bar\"},{\"name\":\"Rwanda\",\"x\":[\"Total Cases\",\"New Cases\",\"Total Deaths\",\"New Deaths\",\"Total Recovered\",\"New Recovered\",\"Active Cases\",\"Serios\\u002fCritical\",\"Total Cases\\u002f1M\",\"Deaths\\u002f1M\",\"Total Tests\",\"Test\\u002f1M\",\"Population\"],\"y\":[133518,-1.0,1468,-1.0,132039,-1.0,11,-1,9817.0,108.0,6021981,442778,13600464],\"type\":\"bar\"},{\"name\":\"Cameroon\",\"x\":[\"Total Cases\",\"New Cases\",\"Total Deaths\",\"New Deaths\",\"Total Recovered\",\"New Recovered\",\"Active Cases\",\"Serios\\u002fCritical\",\"Total Cases\\u002f1M\",\"Deaths\\u002f1M\",\"Total Tests\",\"Test\\u002f1M\",\"Population\"],\"y\":[125379,-1.0,1974,-1.0,123280,-1.0,125,0,4492.0,71.0,1751774,62762,27911548],\"type\":\"bar\"},{\"name\":\"Malta\",\"x\":[\"Total Cases\",\"New Cases\",\"Total Deaths\",\"New Deaths\",\"Total Recovered\",\"New Recovered\",\"Active Cases\",\"Serios\\u002fCritical\",\"Total Cases\\u002f1M\",\"Deaths\\u002f1M\",\"Total Tests\",\"Test\\u002f1M\",\"Population\"],\"y\":[121420,-1.0,885,-1.0,120149,-1.0,386,-1,273448.0,1993.0,2170600,4888375,444033],\"type\":\"bar\"},{\"name\":\"Barbados\",\"x\":[\"Total Cases\",\"New Cases\",\"Total Deaths\",\"New Deaths\",\"Total Recovered\",\"New Recovered\",\"Active Cases\",\"Serios\\u002fCritical\",\"Total Cases\\u002f1M\",\"Deaths\\u002f1M\",\"Total Tests\",\"Test\\u002f1M\",\"Population\"],\"y\":[110578,-1.0,648,-1.0,108647,-1.0,1283,-1,383921.0,2250.0,814159,2826715,288023],\"type\":\"bar\"},{\"name\":\"Angola\",\"x\":[\"Total Cases\",\"New Cases\",\"Total Deaths\",\"New Deaths\",\"Total Recovered\",\"New Recovered\",\"Active Cases\",\"Serios\\u002fCritical\",\"Total Cases\\u002f1M\",\"Deaths\\u002f1M\",\"Total Tests\",\"Test\\u002f1M\",\"Population\"],\"y\":[107327,-1.0,1937,-1.0,103419,-1.0,1971,-1,3064.0,55.0,1499795,42818,35027343],\"type\":\"bar\"},{\"name\":\"Channel Islands\",\"x\":[\"Total Cases\",\"New Cases\",\"Total Deaths\",\"New Deaths\",\"Total Recovered\",\"New Recovered\",\"Active Cases\",\"Serios\\u002fCritical\",\"Total Cases\\u002f1M\",\"Deaths\\u002f1M\",\"Total Tests\",\"Test\\u002f1M\",\"Population\"],\"y\":[101717,-1.0,228,-1.0,101321,-1.0,168,-1,576421.0,1292.0,1252808,7099551,176463],\"type\":\"bar\"},{\"name\":\"DRC\",\"x\":[\"Total Cases\",\"New Cases\",\"Total Deaths\",\"New Deaths\",\"Total Recovered\",\"New Recovered\",\"Active Cases\",\"Serios\\u002fCritical\",\"Total Cases\\u002f1M\",\"Deaths\\u002f1M\",\"Total Tests\",\"Test\\u002f1M\",\"Population\"],\"y\":[99338,-1.0,1468,-1.0,84489,-1.0,13381,-1,1043.0,15.0,846704,8890,95240792],\"type\":\"bar\"},{\"name\":\"French Guiana\",\"x\":[\"Total Cases\",\"New Cases\",\"Total Deaths\",\"New Deaths\",\"Total Recovered\",\"New Recovered\",\"Active Cases\",\"Serios\\u002fCritical\",\"Total Cases\\u002f1M\",\"Deaths\\u002f1M\",\"Total Tests\",\"Test\\u002f1M\",\"Population\"],\"y\":[98041,-1.0,420,-1.0,11254,-1.0,86367,6,312065.0,1337.0,651257,2072951,314169],\"type\":\"bar\"},{\"name\":\"Malawi\",\"x\":[\"Total Cases\",\"New Cases\",\"Total Deaths\",\"New Deaths\",\"Total Recovered\",\"New Recovered\",\"Active Cases\",\"Serios\\u002fCritical\",\"Total Cases\\u002f1M\",\"Deaths\\u002f1M\",\"Total Tests\",\"Test\\u002f1M\",\"Population\"],\"y\":[89535,-1.0,2686,-1.0,0,0.0,0,0,4437.0,133.0,624784,30959,20180839],\"type\":\"bar\"},{\"name\":\"Senegal\",\"x\":[\"Total Cases\",\"New Cases\",\"Total Deaths\",\"New Deaths\",\"Total Recovered\",\"New Recovered\",\"Active Cases\",\"Serios\\u002fCritical\",\"Total Cases\\u002f1M\",\"Deaths\\u002f1M\",\"Total Tests\",\"Test\\u002f1M\",\"Population\"],\"y\":[89053,-1.0,1971,-1.0,87024,-1.0,58,-1,5044.0,112.0,1146543,64946,17653671],\"type\":\"bar\"},{\"name\":\"Ivory Coast\",\"x\":[\"Total Cases\",\"New Cases\",\"Total Deaths\",\"New Deaths\",\"Total Recovered\",\"New Recovered\",\"Active Cases\",\"Serios\\u002fCritical\",\"Total Cases\\u002f1M\",\"Deaths\\u002f1M\",\"Total Tests\",\"Test\\u002f1M\",\"Population\"],\"y\":[88384,-1.0,835,-1.0,87497,-1.0,52,-1,3186.0,30.0,1690934,60951,27742298],\"type\":\"bar\"},{\"name\":\"Suriname\",\"x\":[\"Total Cases\",\"New Cases\",\"Total Deaths\",\"New Deaths\",\"Total Recovered\",\"New Recovered\",\"Active Cases\",\"Serios\\u002fCritical\",\"Total Cases\\u002f1M\",\"Deaths\\u002f1M\",\"Total Tests\",\"Test\\u002f1M\",\"Population\"],\"y\":[82588,-1.0,1408,-1.0,0,0.0,0,-1,138378.0,2359.0,242207,405822,596831],\"type\":\"bar\"},{\"name\":\"New Caledonia\",\"x\":[\"Total Cases\",\"New Cases\",\"Total Deaths\",\"New Deaths\",\"Total Recovered\",\"New Recovered\",\"Active Cases\",\"Serios\\u002fCritical\",\"Total Cases\\u002f1M\",\"Deaths\\u002f1M\",\"Total Tests\",\"Test\\u002f1M\",\"Population\"],\"y\":[80064,-1.0,314,-1.0,0,0.0,0,0,275214.0,1079.0,98964,340182,290915],\"type\":\"bar\"},{\"name\":\"French Polynesia\",\"x\":[\"Total Cases\",\"New Cases\",\"Total Deaths\",\"New Deaths\",\"Total Recovered\",\"New Recovered\",\"Active Cases\",\"Serios\\u002fCritical\",\"Total Cases\\u002f1M\",\"Deaths\\u002f1M\",\"Total Tests\",\"Test\\u002f1M\",\"Population\"],\"y\":[79254,-1.0,650,-1.0,0,0.0,0,0,278902.0,2287.0,-1,-1,284164],\"type\":\"bar\"},{\"name\":\"Eswatini\",\"x\":[\"Total Cases\",\"New Cases\",\"Total Deaths\",\"New Deaths\",\"Total Recovered\",\"New Recovered\",\"Active Cases\",\"Serios\\u002fCritical\",\"Total Cases\\u002f1M\",\"Deaths\\u002f1M\",\"Total Tests\",\"Test\\u002f1M\",\"Population\"],\"y\":[75191,-1.0,1427,-1.0,73116,-1.0,648,-1,63462.0,1204.0,1048704,885119,1184817],\"type\":\"bar\"},{\"name\":\"Guyana\",\"x\":[\"Total Cases\",\"New Cases\",\"Total Deaths\",\"New Deaths\",\"Total Recovered\",\"New Recovered\",\"Active Cases\",\"Serios\\u002fCritical\",\"Total Cases\\u002f1M\",\"Deaths\\u002f1M\",\"Total Tests\",\"Test\\u002f1M\",\"Population\"],\"y\":[74137,-1.0,1300,-1.0,72013,-1.0,824,-1,93366.0,1637.0,733218,923396,794045],\"type\":\"bar\"},{\"name\":\"Belize\",\"x\":[\"Total Cases\",\"New Cases\",\"Total Deaths\",\"New Deaths\",\"Total Recovered\",\"New Recovered\",\"Active Cases\",\"Serios\\u002fCritical\",\"Total Cases\\u002f1M\",\"Deaths\\u002f1M\",\"Total Tests\",\"Test\\u002f1M\",\"Population\"],\"y\":[71409,-1.0,688,-1.0,0,0.0,0,0,173243.0,1669.0,576016,1397453,412190],\"type\":\"bar\"},{\"name\":\"Fiji\",\"x\":[\"Total Cases\",\"New Cases\",\"Total Deaths\",\"New Deaths\",\"Total Recovered\",\"New Recovered\",\"Active Cases\",\"Serios\\u002fCritical\",\"Total Cases\\u002f1M\",\"Deaths\\u002f1M\",\"Total Tests\",\"Test\\u002f1M\",\"Population\"],\"y\":[69117,-1.0,885,-1.0,67226,-1.0,1006,-1,75997.0,973.0,672883,739866,909466],\"type\":\"bar\"},{\"name\":\"Madagascar\",\"x\":[\"Total Cases\",\"New Cases\",\"Total Deaths\",\"New Deaths\",\"Total Recovered\",\"New Recovered\",\"Active Cases\",\"Serios\\u002fCritical\",\"Total Cases\\u002f1M\",\"Deaths\\u002f1M\",\"Total Tests\",\"Test\\u002f1M\",\"Population\"],\"y\":[68486,-1.0,1426,-1.0,66862,-1.0,198,-1,2347.0,49.0,531329,18210,29178077],\"type\":\"bar\"},{\"name\":\"Cabo Verde\",\"x\":[\"Total Cases\",\"New Cases\",\"Total Deaths\",\"New Deaths\",\"Total Recovered\",\"New Recovered\",\"Active Cases\",\"Serios\\u002fCritical\",\"Total Cases\\u002f1M\",\"Deaths\\u002f1M\",\"Total Tests\",\"Test\\u002f1M\",\"Population\"],\"y\":[64477,-1.0,417,-1.0,63755,-1.0,305,23,113580.0,735.0,401622,707482,567678],\"type\":\"bar\"},{\"name\":\"Mauritania\",\"x\":[\"Total Cases\",\"New Cases\",\"Total Deaths\",\"New Deaths\",\"Total Recovered\",\"New Recovered\",\"Active Cases\",\"Serios\\u002fCritical\",\"Total Cases\\u002f1M\",\"Deaths\\u002f1M\",\"Total Tests\",\"Test\\u002f1M\",\"Population\"],\"y\":[63848,-1.0,997,-1.0,62471,-1.0,380,-1,13025.0,203.0,1009957,206030,4901981],\"type\":\"bar\"},{\"name\":\"Bhutan\",\"x\":[\"Total Cases\",\"New Cases\",\"Total Deaths\",\"New Deaths\",\"Total Recovered\",\"New Recovered\",\"Active Cases\",\"Serios\\u002fCritical\",\"Total Cases\\u002f1M\",\"Deaths\\u002f1M\",\"Total Tests\",\"Test\\u002f1M\",\"Population\"],\"y\":[62697,-1.0,21,-1.0,61564,-1.0,1112,-1,79571.0,27.0,2303734,2923739,787941],\"type\":\"bar\"},{\"name\":\"Burundi\",\"x\":[\"Total Cases\",\"New Cases\",\"Total Deaths\",\"New Deaths\",\"Total Recovered\",\"New Recovered\",\"Active Cases\",\"Serios\\u002fCritical\",\"Total Cases\\u002f1M\",\"Deaths\\u002f1M\",\"Total Tests\",\"Test\\u002f1M\",\"Population\"],\"y\":[54721,-1.0,38,-1.0,53569,-1.0,1114,-1,4334.0,3.0,345742,27386,12624840],\"type\":\"bar\"},{\"name\":\"Gabon\",\"x\":[\"Total Cases\",\"New Cases\",\"Total Deaths\",\"New Deaths\",\"Total Recovered\",\"New Recovered\",\"Active Cases\",\"Serios\\u002fCritical\",\"Total Cases\\u002f1M\",\"Deaths\\u002f1M\",\"Total Tests\",\"Test\\u002f1M\",\"Population\"],\"y\":[49051,-1.0,307,-1.0,48674,-1.0,70,-1,21038.0,132.0,1621909,695641,2331533],\"type\":\"bar\"},{\"name\":\"Andorra\",\"x\":[\"Total Cases\",\"New Cases\",\"Total Deaths\",\"New Deaths\",\"Total Recovered\",\"New Recovered\",\"Active Cases\",\"Serios\\u002fCritical\",\"Total Cases\\u002f1M\",\"Deaths\\u002f1M\",\"Total Tests\",\"Test\\u002f1M\",\"Population\"],\"y\":[48015,-1.0,165,-1.0,0,0.0,0,0,619844.0,2130.0,249838,3225256,77463],\"type\":\"bar\"},{\"name\":\"Papua New Guinea\",\"x\":[\"Total Cases\",\"New Cases\",\"Total Deaths\",\"New Deaths\",\"Total Recovered\",\"New Recovered\",\"Active Cases\",\"Serios\\u002fCritical\",\"Total Cases\\u002f1M\",\"Deaths\\u002f1M\",\"Total Tests\",\"Test\\u002f1M\",\"Population\"],\"y\":[46864,-1.0,670,-1.0,46168,-1.0,26,0,5043.0,72.0,249149,26813,9292169],\"type\":\"bar\"},{\"name\":\"Cura\\u00e7ao\",\"x\":[\"Total Cases\",\"New Cases\",\"Total Deaths\",\"New Deaths\",\"Total Recovered\",\"New Recovered\",\"Active Cases\",\"Serios\\u002fCritical\",\"Total Cases\\u002f1M\",\"Deaths\\u002f1M\",\"Total Tests\",\"Test\\u002f1M\",\"Population\"],\"y\":[45986,-1.0,295,-1.0,44720,-1.0,971,3,277812.0,1782.0,496693,3000640,165529],\"type\":\"bar\"},{\"name\":\"Aruba\",\"x\":[\"Total Cases\",\"New Cases\",\"Total Deaths\",\"New Deaths\",\"Total Recovered\",\"New Recovered\",\"Active Cases\",\"Serios\\u002fCritical\",\"Total Cases\\u002f1M\",\"Deaths\\u002f1M\",\"Total Tests\",\"Test\\u002f1M\",\"Population\"],\"y\":[44224,-1.0,292,-1.0,42438,-1.0,1494,2,410969.0,2714.0,177885,1653068,107609],\"type\":\"bar\"},{\"name\":\"Tanzania\",\"x\":[\"Total Cases\",\"New Cases\",\"Total Deaths\",\"New Deaths\",\"Total Recovered\",\"New Recovered\",\"Active Cases\",\"Serios\\u002fCritical\",\"Total Cases\\u002f1M\",\"Deaths\\u002f1M\",\"Total Tests\",\"Test\\u002f1M\",\"Population\"],\"y\":[43223,-1.0,846,-1.0,0,0.0,0,0,683.0,13.0,-1,-1,63298550],\"type\":\"bar\"},{\"name\":\"Mauritius\",\"x\":[\"Total Cases\",\"New Cases\",\"Total Deaths\",\"New Deaths\",\"Total Recovered\",\"New Recovered\",\"Active Cases\",\"Serios\\u002fCritical\",\"Total Cases\\u002f1M\",\"Deaths\\u002f1M\",\"Total Tests\",\"Test\\u002f1M\",\"Population\"],\"y\":[43025,-1.0,1051,-1.0,41278,-1.0,696,-1,33752.0,824.0,358675,281374,1274727],\"type\":\"bar\"},{\"name\":\"Mayotte\",\"x\":[\"Total Cases\",\"New Cases\",\"Total Deaths\",\"New Deaths\",\"Total Recovered\",\"New Recovered\",\"Active Cases\",\"Serios\\u002fCritical\",\"Total Cases\\u002f1M\",\"Deaths\\u002f1M\",\"Total Tests\",\"Test\\u002f1M\",\"Population\"],\"y\":[42027,-1.0,188,-1.0,0,0.0,0,-1,146815.0,657.0,176919,618038,286259],\"type\":\"bar\"},{\"name\":\"Togo\",\"x\":[\"Total Cases\",\"New Cases\",\"Total Deaths\",\"New Deaths\",\"Total Recovered\",\"New Recovered\",\"Active Cases\",\"Serios\\u002fCritical\",\"Total Cases\\u002f1M\",\"Deaths\\u002f1M\",\"Total Tests\",\"Test\\u002f1M\",\"Population\"],\"y\":[39572,-1.0,290,-1.0,39281,-1.0,1,-1,4559.0,33.0,815204,93908,8680837],\"type\":\"bar\"},{\"name\":\"Guinea\",\"x\":[\"Total Cases\",\"New Cases\",\"Total Deaths\",\"New Deaths\",\"Total Recovered\",\"New Recovered\",\"Active Cases\",\"Serios\\u002fCritical\",\"Total Cases\\u002f1M\",\"Deaths\\u002f1M\",\"Total Tests\",\"Test\\u002f1M\",\"Population\"],\"y\":[38572,-1.0,468,-1.0,37757,-1.0,347,0,2782.0,34.0,660107,47607,13865691],\"type\":\"bar\"},{\"name\":\"Bahamas\",\"x\":[\"Total Cases\",\"New Cases\",\"Total Deaths\",\"New Deaths\",\"Total Recovered\",\"New Recovered\",\"Active Cases\",\"Serios\\u002fCritical\",\"Total Cases\\u002f1M\",\"Deaths\\u002f1M\",\"Total Tests\",\"Test\\u002f1M\",\"Population\"],\"y\":[38084,-1.0,844,-1.0,36366,-1.0,874,1,95087.0,2107.0,257839,643767,400516],\"type\":\"bar\"},{\"name\":\"Isle of Man\",\"x\":[\"Total Cases\",\"New Cases\",\"Total Deaths\",\"New Deaths\",\"Total Recovered\",\"New Recovered\",\"Active Cases\",\"Serios\\u002fCritical\",\"Total Cases\\u002f1M\",\"Deaths\\u002f1M\",\"Total Tests\",\"Test\\u002f1M\",\"Population\"],\"y\":[38008,-1.0,116,-1.0,0,0.0,0,-1,443335.0,1353.0,150753,1758422,85732],\"type\":\"bar\"},{\"name\":\"Lesotho\",\"x\":[\"Total Cases\",\"New Cases\",\"Total Deaths\",\"New Deaths\",\"Total Recovered\",\"New Recovered\",\"Active Cases\",\"Serios\\u002fCritical\",\"Total Cases\\u002f1M\",\"Deaths\\u002f1M\",\"Total Tests\",\"Test\\u002f1M\",\"Population\"],\"y\":[36138,-1.0,723,-1.0,25980,-1.0,9435,-1,16610.0,332.0,431221,198199,2175699],\"type\":\"bar\"},{\"name\":\"Haiti\",\"x\":[\"Total Cases\",\"New Cases\",\"Total Deaths\",\"New Deaths\",\"Total Recovered\",\"New Recovered\",\"Active Cases\",\"Serios\\u002fCritical\",\"Total Cases\\u002f1M\",\"Deaths\\u002f1M\",\"Total Tests\",\"Test\\u002f1M\",\"Population\"],\"y\":[34667,-1.0,860,-1.0,33734,-1.0,73,-1,2968.0,74.0,132422,11337,11680283],\"type\":\"bar\"},{\"name\":\"Faeroe Islands\",\"x\":[\"Total Cases\",\"New Cases\",\"Total Deaths\",\"New Deaths\",\"Total Recovered\",\"New Recovered\",\"Active Cases\",\"Serios\\u002fCritical\",\"Total Cases\\u002f1M\",\"Deaths\\u002f1M\",\"Total Tests\",\"Test\\u002f1M\",\"Population\"],\"y\":[34658,-1.0,28,-1.0,0,0.0,0,0,703959.0,569.0,778000,15802409,49233],\"type\":\"bar\"},{\"name\":\"Mali\",\"x\":[\"Total Cases\",\"New Cases\",\"Total Deaths\",\"New Deaths\",\"Total Recovered\",\"New Recovered\",\"Active Cases\",\"Serios\\u002fCritical\",\"Total Cases\\u002f1M\",\"Deaths\\u002f1M\",\"Total Tests\",\"Test\\u002f1M\",\"Population\"],\"y\":[33164,-1.0,743,-1.0,32332,-1.0,89,-1,1544.0,35.0,804909,37483,21473764],\"type\":\"bar\"},{\"name\":\"Cayman Islands\",\"x\":[\"Total Cases\",\"New Cases\",\"Total Deaths\",\"New Deaths\",\"Total Recovered\",\"New Recovered\",\"Active Cases\",\"Serios\\u002fCritical\",\"Total Cases\\u002f1M\",\"Deaths\\u002f1M\",\"Total Tests\",\"Test\\u002f1M\",\"Population\"],\"y\":[31472,-1.0,37,-1.0,8553,-1.0,22882,1,467797.0,550.0,222773,3311280,67277],\"type\":\"bar\"},{\"name\":\"Benin\",\"x\":[\"Total Cases\",\"New Cases\",\"Total Deaths\",\"New Deaths\",\"Total Recovered\",\"New Recovered\",\"Active Cases\",\"Serios\\u002fCritical\",\"Total Cases\\u002f1M\",\"Deaths\\u002f1M\",\"Total Tests\",\"Test\\u002f1M\",\"Population\"],\"y\":[28036,-1.0,163,-1.0,27847,-1.0,26,-1,2193.0,13.0,604310,47268,12784726],\"type\":\"bar\"},{\"name\":\"Macao\",\"x\":[\"Total Cases\",\"New Cases\",\"Total Deaths\",\"New Deaths\",\"Total Recovered\",\"New Recovered\",\"Active Cases\",\"Serios\\u002fCritical\",\"Total Cases\\u002f1M\",\"Deaths\\u002f1M\",\"Total Tests\",\"Test\\u002f1M\",\"Population\"],\"y\":[27673,-1.0,123,-1.0,3487,-1.0,24063,-1,41458.0,184.0,7850,11760,667490],\"type\":\"bar\"},{\"name\":\"Somalia\",\"x\":[\"Total Cases\",\"New Cases\",\"Total Deaths\",\"New Deaths\",\"Total Recovered\",\"New Recovered\",\"Active Cases\",\"Serios\\u002fCritical\",\"Total Cases\\u002f1M\",\"Deaths\\u002f1M\",\"Total Tests\",\"Test\\u002f1M\",\"Population\"],\"y\":[27334,-1.0,1361,-1.0,13182,-1.0,12791,-1,1623.0,81.0,400466,23778,16841795],\"type\":\"bar\"},{\"name\":\"Micronesia\",\"x\":[\"Total Cases\",\"New Cases\",\"Total Deaths\",\"New Deaths\",\"Total Recovered\",\"New Recovered\",\"Active Cases\",\"Serios\\u002fCritical\",\"Total Cases\\u002f1M\",\"Deaths\\u002f1M\",\"Total Tests\",\"Test\\u002f1M\",\"Population\"],\"y\":[26547,-1.0,65,-1.0,0,0.0,0,0,225953.0,553.0,82430,701598,117489],\"type\":\"bar\"},{\"name\":\"San Marino\",\"x\":[\"Total Cases\",\"New Cases\",\"Total Deaths\",\"New Deaths\",\"Total Recovered\",\"New Recovered\",\"Active Cases\",\"Serios\\u002fCritical\",\"Total Cases\\u002f1M\",\"Deaths\\u002f1M\",\"Total Tests\",\"Test\\u002f1M\",\"Population\"],\"y\":[26185,-1.0,128,-1.0,26011,-1.0,46,0,768226.0,3755.0,196855,5775414,34085],\"type\":\"bar\"},{\"name\":\"Solomon Islands\",\"x\":[\"Total Cases\",\"New Cases\",\"Total Deaths\",\"New Deaths\",\"Total Recovered\",\"New Recovered\",\"Active Cases\",\"Serios\\u002fCritical\",\"Total Cases\\u002f1M\",\"Deaths\\u002f1M\",\"Total Tests\",\"Test\\u002f1M\",\"Population\"],\"y\":[25954,-1.0,199,-1.0,0,0.0,0,0,35989.0,276.0,-1,-1,721159],\"type\":\"bar\"},{\"name\":\"Congo\",\"x\":[\"Total Cases\",\"New Cases\",\"Total Deaths\",\"New Deaths\",\"Total Recovered\",\"New Recovered\",\"Active Cases\",\"Serios\\u002fCritical\",\"Total Cases\\u002f1M\",\"Deaths\\u002f1M\",\"Total Tests\",\"Test\\u002f1M\",\"Population\"],\"y\":[25375,-1.0,386,-1.0,24006,-1.0,983,-1,4377.0,67.0,347815,59991,5797805],\"type\":\"bar\"},{\"name\":\"Timor-Leste\",\"x\":[\"Total Cases\",\"New Cases\",\"Total Deaths\",\"New Deaths\",\"Total Recovered\",\"New Recovered\",\"Active Cases\",\"Serios\\u002fCritical\",\"Total Cases\\u002f1M\",\"Deaths\\u002f1M\",\"Total Tests\",\"Test\\u002f1M\",\"Population\"],\"y\":[23460,-1.0,138,-1.0,23102,-1.0,220,-1,17131.0,101.0,278529,203391,1369429],\"type\":\"bar\"},{\"name\":\"Burkina Faso\",\"x\":[\"Total Cases\",\"New Cases\",\"Total Deaths\",\"New Deaths\",\"Total Recovered\",\"New Recovered\",\"Active Cases\",\"Serios\\u002fCritical\",\"Total Cases\\u002f1M\",\"Deaths\\u002f1M\",\"Total Tests\",\"Test\\u002f1M\",\"Population\"],\"y\":[22114,-1.0,400,-1.0,21596,-1.0,118,-1,1001.0,18.0,248995,11265,22102838],\"type\":\"bar\"},{\"name\":\"Liechtenstein\",\"x\":[\"Total Cases\",\"New Cases\",\"Total Deaths\",\"New Deaths\",\"Total Recovered\",\"New Recovered\",\"Active Cases\",\"Serios\\u002fCritical\",\"Total Cases\\u002f1M\",\"Deaths\\u002f1M\",\"Total Tests\",\"Test\\u002f1M\",\"Population\"],\"y\":[21574,-1.0,94,-1.0,0,0.0,0,0,562013.0,2449.0,112457,2929559,38387],\"type\":\"bar\"},{\"name\":\"Gibraltar\",\"x\":[\"Total Cases\",\"New Cases\",\"Total Deaths\",\"New Deaths\",\"Total Recovered\",\"New Recovered\",\"Active Cases\",\"Serios\\u002fCritical\",\"Total Cases\\u002f1M\",\"Deaths\\u002f1M\",\"Total Tests\",\"Test\\u002f1M\",\"Population\"],\"y\":[20550,-1.0,113,-1.0,0,0.0,0,-1,609720.0,3353.0,534283,15852213,33704],\"type\":\"bar\"},{\"name\":\"Grenada\",\"x\":[\"Total Cases\",\"New Cases\",\"Total Deaths\",\"New Deaths\",\"Total Recovered\",\"New Recovered\",\"Active Cases\",\"Serios\\u002fCritical\",\"Total Cases\\u002f1M\",\"Deaths\\u002f1M\",\"Total Tests\",\"Test\\u002f1M\",\"Population\"],\"y\":[19693,-1.0,238,-1.0,19358,-1.0,97,4,173545.0,2097.0,182981,1612523,113475],\"type\":\"bar\"},{\"name\":\"Bermuda\",\"x\":[\"Total Cases\",\"New Cases\",\"Total Deaths\",\"New Deaths\",\"Total Recovered\",\"New Recovered\",\"Active Cases\",\"Serios\\u002fCritical\",\"Total Cases\\u002f1M\",\"Deaths\\u002f1M\",\"Total Tests\",\"Test\\u002f1M\",\"Population\"],\"y\":[18860,-1.0,165,-1.0,18685,-1.0,10,-1,304493.0,2664.0,1029558,16622128,61939],\"type\":\"bar\"},{\"name\":\"South Sudan\",\"x\":[\"Total Cases\",\"New Cases\",\"Total Deaths\",\"New Deaths\",\"Total Recovered\",\"New Recovered\",\"Active Cases\",\"Serios\\u002fCritical\",\"Total Cases\\u002f1M\",\"Deaths\\u002f1M\",\"Total Tests\",\"Test\\u002f1M\",\"Population\"],\"y\":[18819,-1.0,147,-1.0,18115,-1.0,557,1,1620.0,13.0,410280,35313,11618511],\"type\":\"bar\"},{\"name\":\"Nicaragua\",\"x\":[\"Total Cases\",\"New Cases\",\"Total Deaths\",\"New Deaths\",\"Total Recovered\",\"New Recovered\",\"Active Cases\",\"Serios\\u002fCritical\",\"Total Cases\\u002f1M\",\"Deaths\\u002f1M\",\"Total Tests\",\"Test\\u002f1M\",\"Population\"],\"y\":[18491,-1.0,225,-1.0,4225,-1.0,14041,-1,2728.0,33.0,-1,-1,6779100],\"type\":\"bar\"},{\"name\":\"Tajikistan\",\"x\":[\"Total Cases\",\"New Cases\",\"Total Deaths\",\"New Deaths\",\"Total Recovered\",\"New Recovered\",\"Active Cases\",\"Serios\\u002fCritical\",\"Total Cases\\u002f1M\",\"Deaths\\u002f1M\",\"Total Tests\",\"Test\\u002f1M\",\"Population\"],\"y\":[17786,-1.0,125,-1.0,17264,-1.0,397,-1,1786.0,13.0,-1,-1,9957464],\"type\":\"bar\"},{\"name\":\"Equatorial Guinea\",\"x\":[\"Total Cases\",\"New Cases\",\"Total Deaths\",\"New Deaths\",\"Total Recovered\",\"New Recovered\",\"Active Cases\",\"Serios\\u002fCritical\",\"Total Cases\\u002f1M\",\"Deaths\\u002f1M\",\"Total Tests\",\"Test\\u002f1M\",\"Population\"],\"y\":[17229,-1.0,183,-1.0,16907,-1.0,139,5,11512.0,122.0,365697,244342,1496662],\"type\":\"bar\"},{\"name\":\"Monaco\",\"x\":[\"Total Cases\",\"New Cases\",\"Total Deaths\",\"New Deaths\",\"Total Recovered\",\"New Recovered\",\"Active Cases\",\"Serios\\u002fCritical\",\"Total Cases\\u002f1M\",\"Deaths\\u002f1M\",\"Total Tests\",\"Test\\u002f1M\",\"Population\"],\"y\":[17181,-1.0,67,-1.0,0,0.0,0,0,431868.0,1684.0,78646,1976875,39783],\"type\":\"bar\"},{\"name\":\"Samoa\",\"x\":[\"Total Cases\",\"New Cases\",\"Total Deaths\",\"New Deaths\",\"Total Recovered\",\"New Recovered\",\"Active Cases\",\"Serios\\u002fCritical\",\"Total Cases\\u002f1M\",\"Deaths\\u002f1M\",\"Total Tests\",\"Test\\u002f1M\",\"Population\"],\"y\":[17006,-1.0,31,-1.0,1605,-1.0,15370,-1,84089.0,153.0,187397,926612,202239],\"type\":\"bar\"},{\"name\":\"Tonga\",\"x\":[\"Total Cases\",\"New Cases\",\"Total Deaths\",\"New Deaths\",\"Total Recovered\",\"New Recovered\",\"Active Cases\",\"Serios\\u002fCritical\",\"Total Cases\\u002f1M\",\"Deaths\\u002f1M\",\"Total Tests\",\"Test\\u002f1M\",\"Population\"],\"y\":[16950,-1.0,13,-1.0,15638,-1.0,1299,-1,157310.0,121.0,535009,4965327,107749],\"type\":\"bar\"},{\"name\":\"Djibouti\",\"x\":[\"Total Cases\",\"New Cases\",\"Total Deaths\",\"New Deaths\",\"Total Recovered\",\"New Recovered\",\"Active Cases\",\"Serios\\u002fCritical\",\"Total Cases\\u002f1M\",\"Deaths\\u002f1M\",\"Total Tests\",\"Test\\u002f1M\",\"Population\"],\"y\":[15690,-1.0,189,-1.0,15427,-1.0,74,-1,15441.0,186.0,305941,301094,1016097],\"type\":\"bar\"},{\"name\":\"CAR\",\"x\":[\"Total Cases\",\"New Cases\",\"Total Deaths\",\"New Deaths\",\"Total Recovered\",\"New Recovered\",\"Active Cases\",\"Serios\\u002fCritical\",\"Total Cases\\u002f1M\",\"Deaths\\u002f1M\",\"Total Tests\",\"Test\\u002f1M\",\"Population\"],\"y\":[15440,-1.0,113,-1.0,15200,-1.0,127,2,3078.0,23.0,81294,16205,5016678],\"type\":\"bar\"},{\"name\":\"Gambia\",\"x\":[\"Total Cases\",\"New Cases\",\"Total Deaths\",\"New Deaths\",\"Total Recovered\",\"New Recovered\",\"Active Cases\",\"Serios\\u002fCritical\",\"Total Cases\\u002f1M\",\"Deaths\\u002f1M\",\"Total Tests\",\"Test\\u002f1M\",\"Population\"],\"y\":[12626,-1.0,372,-1.0,12189,-1.0,65,-1,4935.0,145.0,155686,60851,2558482],\"type\":\"bar\"},{\"name\":\"Saint Martin\",\"x\":[\"Total Cases\",\"New Cases\",\"Total Deaths\",\"New Deaths\",\"Total Recovered\",\"New Recovered\",\"Active Cases\",\"Serios\\u002fCritical\",\"Total Cases\\u002f1M\",\"Deaths\\u002f1M\",\"Total Tests\",\"Test\\u002f1M\",\"Population\"],\"y\":[12324,-1.0,63,-1.0,0,0.0,0,0,310194.0,1586.0,112382,2828643,39730],\"type\":\"bar\"},{\"name\":\"Vanuatu\",\"x\":[\"Total Cases\",\"New Cases\",\"Total Deaths\",\"New Deaths\",\"Total Recovered\",\"New Recovered\",\"Active Cases\",\"Serios\\u002fCritical\",\"Total Cases\\u002f1M\",\"Deaths\\u002f1M\",\"Total Tests\",\"Test\\u002f1M\",\"Population\"],\"y\":[12019,-1.0,14,-1.0,11976,-1.0,29,-1,37346.0,44.0,24976,77606,321832],\"type\":\"bar\"},{\"name\":\"Greenland\",\"x\":[\"Total Cases\",\"New Cases\",\"Total Deaths\",\"New Deaths\",\"Total Recovered\",\"New Recovered\",\"Active Cases\",\"Serios\\u002fCritical\",\"Total Cases\\u002f1M\",\"Deaths\\u002f1M\",\"Total Tests\",\"Test\\u002f1M\",\"Population\"],\"y\":[11971,-1.0,21,-1.0,2761,-1.0,9189,4,210117.0,369.0,164926,2894810,56973],\"type\":\"bar\"},{\"name\":\"Yemen\",\"x\":[\"Total Cases\",\"New Cases\",\"Total Deaths\",\"New Deaths\",\"Total Recovered\",\"New Recovered\",\"Active Cases\",\"Serios\\u002fCritical\",\"Total Cases\\u002f1M\",\"Deaths\\u002f1M\",\"Total Tests\",\"Test\\u002f1M\",\"Population\"],\"y\":[11945,-1.0,2159,-1.0,9124,-1.0,662,0,383.0,69.0,329592,10579,31154867],\"type\":\"bar\"},{\"name\":\"Caribbean Netherlands\",\"x\":[\"Total Cases\",\"New Cases\",\"Total Deaths\",\"New Deaths\",\"Total Recovered\",\"New Recovered\",\"Active Cases\",\"Serios\\u002fCritical\",\"Total Cases\\u002f1M\",\"Deaths\\u002f1M\",\"Total Tests\",\"Test\\u002f1M\",\"Population\"],\"y\":[11682,-1.0,38,-1.0,10476,-1.0,1168,-1,438398.0,1426.0,30126,1130559,26647],\"type\":\"bar\"},{\"name\":\"Sint Maarten\",\"x\":[\"Total Cases\",\"New Cases\",\"Total Deaths\",\"New Deaths\",\"Total Recovered\",\"New Recovered\",\"Active Cases\",\"Serios\\u002fCritical\",\"Total Cases\\u002f1M\",\"Deaths\\u002f1M\",\"Total Tests\",\"Test\\u002f1M\",\"Population\"],\"y\":[11051,-1.0,92,-1.0,10905,-1.0,54,0,251353.0,2093.0,62056,1411454,43966],\"type\":\"bar\"},{\"name\":\"Niger\",\"x\":[\"Total Cases\",\"New Cases\",\"Total Deaths\",\"New Deaths\",\"Total Recovered\",\"New Recovered\",\"Active Cases\",\"Serios\\u002fCritical\",\"Total Cases\\u002f1M\",\"Deaths\\u002f1M\",\"Total Tests\",\"Test\\u002f1M\",\"Population\"],\"y\":[9931,-1.0,312,-1.0,8890,-1.0,729,1,381.0,12.0,254538,9759,26083660],\"type\":\"bar\"},{\"name\":\"St. Vincent Grenadines\",\"x\":[\"Total Cases\",\"New Cases\",\"Total Deaths\",\"New Deaths\",\"Total Recovered\",\"New Recovered\",\"Active Cases\",\"Serios\\u002fCritical\",\"Total Cases\\u002f1M\",\"Deaths\\u002f1M\",\"Total Tests\",\"Test\\u002f1M\",\"Population\"],\"y\":[9674,-1.0,124,-1.0,9493,-1.0,57,-1,86723.0,1112.0,114197,1023720,111551],\"type\":\"bar\"},{\"name\":\"Guinea-Bissau\",\"x\":[\"Total Cases\",\"New Cases\",\"Total Deaths\",\"New Deaths\",\"Total Recovered\",\"New Recovered\",\"Active Cases\",\"Serios\\u002fCritical\",\"Total Cases\\u002f1M\",\"Deaths\\u002f1M\",\"Total Tests\",\"Test\\u002f1M\",\"Population\"],\"y\":[9614,-1.0,177,-1.0,8929,-1.0,508,6,4659.0,86.0,145231,70385,2063367],\"type\":\"bar\"},{\"name\":\"Comoros\",\"x\":[\"Total Cases\",\"New Cases\",\"Total Deaths\",\"New Deaths\",\"Total Recovered\",\"New Recovered\",\"Active Cases\",\"Serios\\u002fCritical\",\"Total Cases\\u002f1M\",\"Deaths\\u002f1M\",\"Total Tests\",\"Test\\u002f1M\",\"Population\"],\"y\":[9109,-1.0,161,-1.0,8939,-1.0,9,-1,10038.0,177.0,-1,-1,907419],\"type\":\"bar\"},{\"name\":\"Antigua and Barbuda\",\"x\":[\"Total Cases\",\"New Cases\",\"Total Deaths\",\"New Deaths\",\"Total Recovered\",\"New Recovered\",\"Active Cases\",\"Serios\\u002fCritical\",\"Total Cases\\u002f1M\",\"Deaths\\u002f1M\",\"Total Tests\",\"Test\\u002f1M\",\"Population\"],\"y\":[9106,-1.0,146,-1.0,8954,-1.0,6,0,91509.0,1467.0,18901,189943,99509],\"type\":\"bar\"},{\"name\":\"Liberia\",\"x\":[\"Total Cases\",\"New Cases\",\"Total Deaths\",\"New Deaths\",\"Total Recovered\",\"New Recovered\",\"Active Cases\",\"Serios\\u002fCritical\",\"Total Cases\\u002f1M\",\"Deaths\\u002f1M\",\"Total Tests\",\"Test\\u002f1M\",\"Population\"],\"y\":[8090,-1.0,295,-1.0,7783,-1.0,12,2,1525.0,56.0,139824,26356,5305117],\"type\":\"bar\"},{\"name\":\"Sierra Leone\",\"x\":[\"Total Cases\",\"New Cases\",\"Total Deaths\",\"New Deaths\",\"Total Recovered\",\"New Recovered\",\"Active Cases\",\"Serios\\u002fCritical\",\"Total Cases\\u002f1M\",\"Deaths\\u002f1M\",\"Total Tests\",\"Test\\u002f1M\",\"Population\"],\"y\":[7779,-1.0,126,-1.0,0,0.0,0,-1,937.0,15.0,259958,31296,8306436],\"type\":\"bar\"},{\"name\":\"Chad\",\"x\":[\"Total Cases\",\"New Cases\",\"Total Deaths\",\"New Deaths\",\"Total Recovered\",\"New Recovered\",\"Active Cases\",\"Serios\\u002fCritical\",\"Total Cases\\u002f1M\",\"Deaths\\u002f1M\",\"Total Tests\",\"Test\\u002f1M\",\"Population\"],\"y\":[7701,-1.0,194,-1.0,4874,-1.0,2633,-1,442.0,11.0,191341,10988,17413580],\"type\":\"bar\"},{\"name\":\"British Virgin Islands\",\"x\":[\"Total Cases\",\"New Cases\",\"Total Deaths\",\"New Deaths\",\"Total Recovered\",\"New Recovered\",\"Active Cases\",\"Serios\\u002fCritical\",\"Total Cases\\u002f1M\",\"Deaths\\u002f1M\",\"Total Tests\",\"Test\\u002f1M\",\"Population\"],\"y\":[7392,-1.0,64,-1.0,0,0.0,0,-1,241600.0,2092.0,107339,3508269,30596],\"type\":\"bar\"},{\"name\":\"Cook Islands\",\"x\":[\"Total Cases\",\"New Cases\",\"Total Deaths\",\"New Deaths\",\"Total Recovered\",\"New Recovered\",\"Active Cases\",\"Serios\\u002fCritical\",\"Total Cases\\u002f1M\",\"Deaths\\u002f1M\",\"Total Tests\",\"Test\\u002f1M\",\"Population\"],\"y\":[7203,-1.0,2,-1.0,7150,-1.0,51,-1,409937.0,114.0,19690,1120596,17571],\"type\":\"bar\"},{\"name\":\"Sao Tome and Principe\",\"x\":[\"Total Cases\",\"New Cases\",\"Total Deaths\",\"New Deaths\",\"Total Recovered\",\"New Recovered\",\"Active Cases\",\"Serios\\u002fCritical\",\"Total Cases\\u002f1M\",\"Deaths\\u002f1M\",\"Total Tests\",\"Test\\u002f1M\",\"Population\"],\"y\":[6778,-1.0,80,-1.0,6685,-1.0,13,-1,29770.0,351.0,29600,130008,227679],\"type\":\"bar\"},{\"name\":\"Turks and Caicos\",\"x\":[\"Total Cases\",\"New Cases\",\"Total Deaths\",\"New Deaths\",\"Total Recovered\",\"New Recovered\",\"Active Cases\",\"Serios\\u002fCritical\",\"Total Cases\\u002f1M\",\"Deaths\\u002f1M\",\"Total Tests\",\"Test\\u002f1M\",\"Population\"],\"y\":[6752,-1.0,40,-1.0,6709,-1.0,3,4,169900.0,1007.0,616788,15520193,39741],\"type\":\"bar\"},{\"name\":\"Palau\",\"x\":[\"Total Cases\",\"New Cases\",\"Total Deaths\",\"New Deaths\",\"Total Recovered\",\"New Recovered\",\"Active Cases\",\"Serios\\u002fCritical\",\"Total Cases\\u002f1M\",\"Deaths\\u002f1M\",\"Total Tests\",\"Test\\u002f1M\",\"Population\"],\"y\":[6290,-1.0,10,-1.0,6276,-1.0,4,-1,344979.0,548.0,71434,3917841,18233],\"type\":\"bar\"},{\"name\":\"St. Barth\",\"x\":[\"Total Cases\",\"New Cases\",\"Total Deaths\",\"New Deaths\",\"Total Recovered\",\"New Recovered\",\"Active Cases\",\"Serios\\u002fCritical\",\"Total Cases\\u002f1M\",\"Deaths\\u002f1M\",\"Total Tests\",\"Test\\u002f1M\",\"Population\"],\"y\":[5507,-1.0,6,-1.0,0,0.0,0,-1,553746.0,603.0,78646,7908095,9945],\"type\":\"bar\"},{\"name\":\"Nauru\",\"x\":[\"Total Cases\",\"New Cases\",\"Total Deaths\",\"New Deaths\",\"Total Recovered\",\"New Recovered\",\"Active Cases\",\"Serios\\u002fCritical\",\"Total Cases\\u002f1M\",\"Deaths\\u002f1M\",\"Total Tests\",\"Test\\u002f1M\",\"Population\"],\"y\":[5393,-1.0,1,-1.0,5347,-1.0,45,-1,494635.0,92.0,20509,1881042,10903],\"type\":\"bar\"},{\"name\":\"Kiribati\",\"x\":[\"Total Cases\",\"New Cases\",\"Total Deaths\",\"New Deaths\",\"Total Recovered\",\"New Recovered\",\"Active Cases\",\"Serios\\u002fCritical\",\"Total Cases\\u002f1M\",\"Deaths\\u002f1M\",\"Total Tests\",\"Test\\u002f1M\",\"Population\"],\"y\":[5085,-1.0,24,-1.0,2703,-1.0,2358,3,41201.0,194.0,-1,-1,123419],\"type\":\"bar\"},{\"name\":\"Anguilla\",\"x\":[\"Total Cases\",\"New Cases\",\"Total Deaths\",\"New Deaths\",\"Total Recovered\",\"New Recovered\",\"Active Cases\",\"Serios\\u002fCritical\",\"Total Cases\\u002f1M\",\"Deaths\\u002f1M\",\"Total Tests\",\"Test\\u002f1M\",\"Population\"],\"y\":[3904,-1.0,12,-1.0,0,0.0,0,0,256336.0,788.0,51382,3373736,15230],\"type\":\"bar\"},{\"name\":\"Wallis and Futuna\",\"x\":[\"Total Cases\",\"New Cases\",\"Total Deaths\",\"New Deaths\",\"Total Recovered\",\"New Recovered\",\"Active Cases\",\"Serios\\u002fCritical\",\"Total Cases\\u002f1M\",\"Deaths\\u002f1M\",\"Total Tests\",\"Test\\u002f1M\",\"Population\"],\"y\":[3550,-1.0,8,-1.0,438,-1.0,3104,-1,323256.0,728.0,20508,1867419,10982],\"type\":\"bar\"},{\"name\":\"Saint Pierre Miquelon\",\"x\":[\"Total Cases\",\"New Cases\",\"Total Deaths\",\"New Deaths\",\"Total Recovered\",\"New Recovered\",\"Active Cases\",\"Serios\\u002fCritical\",\"Total Cases\\u002f1M\",\"Deaths\\u002f1M\",\"Total Tests\",\"Test\\u002f1M\",\"Population\"],\"y\":[3452,-1.0,2,-1.0,2449,-1.0,1001,-1,599410.0,347.0,25400,4410488,5759],\"type\":\"bar\"},{\"name\":\"Tuvalu\",\"x\":[\"Total Cases\",\"New Cases\",\"Total Deaths\",\"New Deaths\",\"Total Recovered\",\"New Recovered\",\"Active Cases\",\"Serios\\u002fCritical\",\"Total Cases\\u002f1M\",\"Deaths\\u002f1M\",\"Total Tests\",\"Test\\u002f1M\",\"Population\"],\"y\":[2943,-1.0,1,-1.0,0,0.0,0,0,243909.0,83.0,-1,-1,12066],\"type\":\"bar\"},{\"name\":\"Saint Helena\",\"x\":[\"Total Cases\",\"New Cases\",\"Total Deaths\",\"New Deaths\",\"Total Recovered\",\"New Recovered\",\"Active Cases\",\"Serios\\u002fCritical\",\"Total Cases\\u002f1M\",\"Deaths\\u002f1M\",\"Total Tests\",\"Test\\u002f1M\",\"Population\"],\"y\":[2166,-1.0,-1,-1.0,2,-1.0,2164,-1,354211.0,-1.0,-1,-1,6115],\"type\":\"bar\"},{\"name\":\"Montserrat\",\"x\":[\"Total Cases\",\"New Cases\",\"Total Deaths\",\"New Deaths\",\"Total Recovered\",\"New Recovered\",\"Active Cases\",\"Serios\\u002fCritical\",\"Total Cases\\u002f1M\",\"Deaths\\u002f1M\",\"Total Tests\",\"Test\\u002f1M\",\"Population\"],\"y\":[1403,-1.0,8,-1.0,1376,-1.0,19,-1,282578.0,1611.0,17762,3577442,4965],\"type\":\"bar\"},{\"name\":\"Niue\",\"x\":[\"Total Cases\",\"New Cases\",\"Total Deaths\",\"New Deaths\",\"Total Recovered\",\"New Recovered\",\"Active Cases\",\"Serios\\u002fCritical\",\"Total Cases\\u002f1M\",\"Deaths\\u002f1M\",\"Total Tests\",\"Test\\u002f1M\",\"Population\"],\"y\":[1059,-1.0,-1,-1.0,1056,-1.0,3,-1,652898.0,-1.0,-1,-1,1622],\"type\":\"bar\"},{\"name\":\"Tokelau\",\"x\":[\"Total Cases\",\"New Cases\",\"Total Deaths\",\"New Deaths\",\"Total Recovered\",\"New Recovered\",\"Active Cases\",\"Serios\\u002fCritical\",\"Total Cases\\u002f1M\",\"Deaths\\u002f1M\",\"Total Tests\",\"Test\\u002f1M\",\"Population\"],\"y\":[80,-1.0,-1,-1.0,-1,-1.0,80,-1,58055.0,-1.0,-1,-1,1378],\"type\":\"bar\"}],                        {\"template\":{\"data\":{\"histogram2dcontour\":[{\"type\":\"histogram2dcontour\",\"colorbar\":{\"outlinewidth\":0,\"ticks\":\"\"},\"colorscale\":[[0.0,\"#0d0887\"],[0.1111111111111111,\"#46039f\"],[0.2222222222222222,\"#7201a8\"],[0.3333333333333333,\"#9c179e\"],[0.4444444444444444,\"#bd3786\"],[0.5555555555555556,\"#d8576b\"],[0.6666666666666666,\"#ed7953\"],[0.7777777777777778,\"#fb9f3a\"],[0.8888888888888888,\"#fdca26\"],[1.0,\"#f0f921\"]]}],\"choropleth\":[{\"type\":\"choropleth\",\"colorbar\":{\"outlinewidth\":0,\"ticks\":\"\"}}],\"histogram2d\":[{\"type\":\"histogram2d\",\"colorbar\":{\"outlinewidth\":0,\"ticks\":\"\"},\"colorscale\":[[0.0,\"#0d0887\"],[0.1111111111111111,\"#46039f\"],[0.2222222222222222,\"#7201a8\"],[0.3333333333333333,\"#9c179e\"],[0.4444444444444444,\"#bd3786\"],[0.5555555555555556,\"#d8576b\"],[0.6666666666666666,\"#ed7953\"],[0.7777777777777778,\"#fb9f3a\"],[0.8888888888888888,\"#fdca26\"],[1.0,\"#f0f921\"]]}],\"heatmap\":[{\"type\":\"heatmap\",\"colorbar\":{\"outlinewidth\":0,\"ticks\":\"\"},\"colorscale\":[[0.0,\"#0d0887\"],[0.1111111111111111,\"#46039f\"],[0.2222222222222222,\"#7201a8\"],[0.3333333333333333,\"#9c179e\"],[0.4444444444444444,\"#bd3786\"],[0.5555555555555556,\"#d8576b\"],[0.6666666666666666,\"#ed7953\"],[0.7777777777777778,\"#fb9f3a\"],[0.8888888888888888,\"#fdca26\"],[1.0,\"#f0f921\"]]}],\"heatmapgl\":[{\"type\":\"heatmapgl\",\"colorbar\":{\"outlinewidth\":0,\"ticks\":\"\"},\"colorscale\":[[0.0,\"#0d0887\"],[0.1111111111111111,\"#46039f\"],[0.2222222222222222,\"#7201a8\"],[0.3333333333333333,\"#9c179e\"],[0.4444444444444444,\"#bd3786\"],[0.5555555555555556,\"#d8576b\"],[0.6666666666666666,\"#ed7953\"],[0.7777777777777778,\"#fb9f3a\"],[0.8888888888888888,\"#fdca26\"],[1.0,\"#f0f921\"]]}],\"contourcarpet\":[{\"type\":\"contourcarpet\",\"colorbar\":{\"outlinewidth\":0,\"ticks\":\"\"}}],\"contour\":[{\"type\":\"contour\",\"colorbar\":{\"outlinewidth\":0,\"ticks\":\"\"},\"colorscale\":[[0.0,\"#0d0887\"],[0.1111111111111111,\"#46039f\"],[0.2222222222222222,\"#7201a8\"],[0.3333333333333333,\"#9c179e\"],[0.4444444444444444,\"#bd3786\"],[0.5555555555555556,\"#d8576b\"],[0.6666666666666666,\"#ed7953\"],[0.7777777777777778,\"#fb9f3a\"],[0.8888888888888888,\"#fdca26\"],[1.0,\"#f0f921\"]]}],\"surface\":[{\"type\":\"surface\",\"colorbar\":{\"outlinewidth\":0,\"ticks\":\"\"},\"colorscale\":[[0.0,\"#0d0887\"],[0.1111111111111111,\"#46039f\"],[0.2222222222222222,\"#7201a8\"],[0.3333333333333333,\"#9c179e\"],[0.4444444444444444,\"#bd3786\"],[0.5555555555555556,\"#d8576b\"],[0.6666666666666666,\"#ed7953\"],[0.7777777777777778,\"#fb9f3a\"],[0.8888888888888888,\"#fdca26\"],[1.0,\"#f0f921\"]]}],\"mesh3d\":[{\"type\":\"mesh3d\",\"colorbar\":{\"outlinewidth\":0,\"ticks\":\"\"}}],\"scatter\":[{\"fillpattern\":{\"fillmode\":\"overlay\",\"size\":10,\"solidity\":0.2},\"type\":\"scatter\"}],\"parcoords\":[{\"type\":\"parcoords\",\"line\":{\"colorbar\":{\"outlinewidth\":0,\"ticks\":\"\"}}}],\"scatterpolargl\":[{\"type\":\"scatterpolargl\",\"marker\":{\"colorbar\":{\"outlinewidth\":0,\"ticks\":\"\"}}}],\"bar\":[{\"error_x\":{\"color\":\"#2a3f5f\"},\"error_y\":{\"color\":\"#2a3f5f\"},\"marker\":{\"line\":{\"color\":\"#E5ECF6\",\"width\":0.5},\"pattern\":{\"fillmode\":\"overlay\",\"size\":10,\"solidity\":0.2}},\"type\":\"bar\"}],\"scattergeo\":[{\"type\":\"scattergeo\",\"marker\":{\"colorbar\":{\"outlinewidth\":0,\"ticks\":\"\"}}}],\"scatterpolar\":[{\"type\":\"scatterpolar\",\"marker\":{\"colorbar\":{\"outlinewidth\":0,\"ticks\":\"\"}}}],\"histogram\":[{\"marker\":{\"pattern\":{\"fillmode\":\"overlay\",\"size\":10,\"solidity\":0.2}},\"type\":\"histogram\"}],\"scattergl\":[{\"type\":\"scattergl\",\"marker\":{\"colorbar\":{\"outlinewidth\":0,\"ticks\":\"\"}}}],\"scatter3d\":[{\"type\":\"scatter3d\",\"line\":{\"colorbar\":{\"outlinewidth\":0,\"ticks\":\"\"}},\"marker\":{\"colorbar\":{\"outlinewidth\":0,\"ticks\":\"\"}}}],\"scattermapbox\":[{\"type\":\"scattermapbox\",\"marker\":{\"colorbar\":{\"outlinewidth\":0,\"ticks\":\"\"}}}],\"scatterternary\":[{\"type\":\"scatterternary\",\"marker\":{\"colorbar\":{\"outlinewidth\":0,\"ticks\":\"\"}}}],\"scattercarpet\":[{\"type\":\"scattercarpet\",\"marker\":{\"colorbar\":{\"outlinewidth\":0,\"ticks\":\"\"}}}],\"carpet\":[{\"aaxis\":{\"endlinecolor\":\"#2a3f5f\",\"gridcolor\":\"white\",\"linecolor\":\"white\",\"minorgridcolor\":\"white\",\"startlinecolor\":\"#2a3f5f\"},\"baxis\":{\"endlinecolor\":\"#2a3f5f\",\"gridcolor\":\"white\",\"linecolor\":\"white\",\"minorgridcolor\":\"white\",\"startlinecolor\":\"#2a3f5f\"},\"type\":\"carpet\"}],\"table\":[{\"cells\":{\"fill\":{\"color\":\"#EBF0F8\"},\"line\":{\"color\":\"white\"}},\"header\":{\"fill\":{\"color\":\"#C8D4E3\"},\"line\":{\"color\":\"white\"}},\"type\":\"table\"}],\"barpolar\":[{\"marker\":{\"line\":{\"color\":\"#E5ECF6\",\"width\":0.5},\"pattern\":{\"fillmode\":\"overlay\",\"size\":10,\"solidity\":0.2}},\"type\":\"barpolar\"}],\"pie\":[{\"automargin\":true,\"type\":\"pie\"}]},\"layout\":{\"autotypenumbers\":\"strict\",\"colorway\":[\"#636efa\",\"#EF553B\",\"#00cc96\",\"#ab63fa\",\"#FFA15A\",\"#19d3f3\",\"#FF6692\",\"#B6E880\",\"#FF97FF\",\"#FECB52\"],\"font\":{\"color\":\"#2a3f5f\"},\"hovermode\":\"closest\",\"hoverlabel\":{\"align\":\"left\"},\"paper_bgcolor\":\"white\",\"plot_bgcolor\":\"#E5ECF6\",\"polar\":{\"bgcolor\":\"#E5ECF6\",\"angularaxis\":{\"gridcolor\":\"white\",\"linecolor\":\"white\",\"ticks\":\"\"},\"radialaxis\":{\"gridcolor\":\"white\",\"linecolor\":\"white\",\"ticks\":\"\"}},\"ternary\":{\"bgcolor\":\"#E5ECF6\",\"aaxis\":{\"gridcolor\":\"white\",\"linecolor\":\"white\",\"ticks\":\"\"},\"baxis\":{\"gridcolor\":\"white\",\"linecolor\":\"white\",\"ticks\":\"\"},\"caxis\":{\"gridcolor\":\"white\",\"linecolor\":\"white\",\"ticks\":\"\"}},\"coloraxis\":{\"colorbar\":{\"outlinewidth\":0,\"ticks\":\"\"}},\"colorscale\":{\"sequential\":[[0.0,\"#0d0887\"],[0.1111111111111111,\"#46039f\"],[0.2222222222222222,\"#7201a8\"],[0.3333333333333333,\"#9c179e\"],[0.4444444444444444,\"#bd3786\"],[0.5555555555555556,\"#d8576b\"],[0.6666666666666666,\"#ed7953\"],[0.7777777777777778,\"#fb9f3a\"],[0.8888888888888888,\"#fdca26\"],[1.0,\"#f0f921\"]],\"sequentialminus\":[[0.0,\"#0d0887\"],[0.1111111111111111,\"#46039f\"],[0.2222222222222222,\"#7201a8\"],[0.3333333333333333,\"#9c179e\"],[0.4444444444444444,\"#bd3786\"],[0.5555555555555556,\"#d8576b\"],[0.6666666666666666,\"#ed7953\"],[0.7777777777777778,\"#fb9f3a\"],[0.8888888888888888,\"#fdca26\"],[1.0,\"#f0f921\"]],\"diverging\":[[0,\"#8e0152\"],[0.1,\"#c51b7d\"],[0.2,\"#de77ae\"],[0.3,\"#f1b6da\"],[0.4,\"#fde0ef\"],[0.5,\"#f7f7f7\"],[0.6,\"#e6f5d0\"],[0.7,\"#b8e186\"],[0.8,\"#7fbc41\"],[0.9,\"#4d9221\"],[1,\"#276419\"]]},\"xaxis\":{\"gridcolor\":\"white\",\"linecolor\":\"white\",\"ticks\":\"\",\"title\":{\"standoff\":15},\"zerolinecolor\":\"white\",\"automargin\":true,\"zerolinewidth\":2},\"yaxis\":{\"gridcolor\":\"white\",\"linecolor\":\"white\",\"ticks\":\"\",\"title\":{\"standoff\":15},\"zerolinecolor\":\"white\",\"automargin\":true,\"zerolinewidth\":2},\"scene\":{\"xaxis\":{\"backgroundcolor\":\"#E5ECF6\",\"gridcolor\":\"white\",\"linecolor\":\"white\",\"showbackground\":true,\"ticks\":\"\",\"zerolinecolor\":\"white\",\"gridwidth\":2},\"yaxis\":{\"backgroundcolor\":\"#E5ECF6\",\"gridcolor\":\"white\",\"linecolor\":\"white\",\"showbackground\":true,\"ticks\":\"\",\"zerolinecolor\":\"white\",\"gridwidth\":2},\"zaxis\":{\"backgroundcolor\":\"#E5ECF6\",\"gridcolor\":\"white\",\"linecolor\":\"white\",\"showbackground\":true,\"ticks\":\"\",\"zerolinecolor\":\"white\",\"gridwidth\":2}},\"shapedefaults\":{\"line\":{\"color\":\"#2a3f5f\"}},\"annotationdefaults\":{\"arrowcolor\":\"#2a3f5f\",\"arrowhead\":0,\"arrowwidth\":1},\"geo\":{\"bgcolor\":\"white\",\"landcolor\":\"#E5ECF6\",\"subunitcolor\":\"white\",\"showland\":true,\"showlakes\":true,\"lakecolor\":\"white\"},\"title\":{\"x\":0.05},\"mapbox\":{\"style\":\"light\"}}},\"title\":{\"text\":\" top 5 countries affected\"},\"yaxis\":{\"type\":\"log\"}},                        {\"responsive\": true}                    ).then(function(){\n",
       "                            \n",
       "var gd = document.getElementById('fa594bfa-bf2c-4a7f-8f8f-98fb91642161');\n",
       "var x = new MutationObserver(function (mutations, observer) {{\n",
       "        var display = window.getComputedStyle(gd).display;\n",
       "        if (!display || display === 'none') {{\n",
       "            console.log([gd, 'removed!']);\n",
       "            Plotly.purge(gd);\n",
       "            observer.disconnect();\n",
       "        }}\n",
       "}});\n",
       "\n",
       "// Listen for the removal of the full notebook cells\n",
       "var notebookContainer = gd.closest('#notebook-container');\n",
       "if (notebookContainer) {{\n",
       "    x.observe(notebookContainer, {childList: true});\n",
       "}}\n",
       "\n",
       "// Listen for the clearing of the current output cell\n",
       "var outputEl = gd.closest('.output');\n",
       "if (outputEl) {{\n",
       "    x.observe(outputEl, {childList: true});\n",
       "}}\n",
       "\n",
       "                        })                };                            </script>        </div>\n",
       "</body>\n",
       "</html>"
      ]
     },
     "metadata": {},
     "output_type": "display_data"
    }
   ],
   "source": [
    "LOOK_AT = 5\n",
    "country = country_df.columns[1:14]\n",
    "fig = go.Figure()\n",
    "c = 0\n",
    "for i in country_df.index:\n",
    "  if c< LOOK_AT:\n",
    "    fig.add_trace(go.Bar(name=country_df['Country'][i] , x = country , y = country_df.loc[i][1:14]))\n",
    "  else:\n",
    "    break\n",
    "  c =+1\n",
    "fig.update_layout(title= {'text': f' top {LOOK_AT} countries affected'},yaxis_type = \"log\")\n",
    "fig.show()\n"
   ]
  },
  {
   "cell_type": "code",
   "execution_count": 18,
   "metadata": {
    "colab": {
     "base_uri": "https://localhost:8080/"
    },
    "id": "QZiBB1EYA8R-",
    "outputId": "f1633aee-c668-4171-bdfc-c6ab797b81bf"
   },
   "outputs": [
    {
     "data": {
      "text/plain": [
       "0.9260461093018575"
      ]
     },
     "execution_count": 18,
     "metadata": {},
     "output_type": "execute_result"
    }
   ],
   "source": [
    "#Correlation b/w total cases and new cases\n",
    "corr=np.corrcoef(df['Total Cases'],df['New Cases'])[0,1]\n",
    "corr\n"
   ]
  },
  {
   "cell_type": "code",
   "execution_count": 19,
   "metadata": {
    "colab": {
     "base_uri": "https://localhost:8080/",
     "height": 487
    },
    "id": "lGLAEehKBh_r",
    "outputId": "62977111-0b1a-425c-aabd-0a10ac3798c9"
   },
   "outputs": [
    {
     "data": {
      "image/png": "[encoded data removed]",
      "text/plain": [
       "<Figure size 1000x500 with 1 Axes>"
      ]
     },
     "metadata": {},
     "output_type": "display_data"
    }
   ],
   "source": [
    "plt.figure(dpi=100 , figsize=(10,5))\n",
    "plt.title('Correlation Plot B/W Total Cases and New Cases')\n",
    "sns.scatterplot(x=df['Total Cases'] ,y=df['New Cases'] ,color='green')\n",
    "plt.show()"
   ]
  },
  {
   "cell_type": "code",
   "execution_count": 20,
   "metadata": {
    "colab": {
     "base_uri": "https://localhost:8080/"
    },
    "id": "9pID32SqBKjQ",
    "outputId": "e8b1ac64-0a4f-4e49-b69f-489175c564e4"
   },
   "outputs": [
    {
     "data": {
      "text/plain": [
       "0.986657400602162"
      ]
     },
     "execution_count": 20,
     "metadata": {},
     "output_type": "execute_result"
    }
   ],
   "source": [
    "#Correlation b/w total cases and active cases\n",
    "corr=np.corrcoef(df['Total Cases'],df['Active Cases'])[0,1]\n",
    "corr\n"
   ]
  },
  {
   "cell_type": "code",
   "execution_count": 21,
   "metadata": {
    "colab": {
     "base_uri": "https://localhost:8080/",
     "height": 487
    },
    "id": "zOPfEBf_Bag9",
    "outputId": "3822c71f-b76a-4979-ccc5-cf8a3d05ada5"
   },
   "outputs": [
    {
     "data": {
      "image/png": "[encoded data removed]",
      "text/plain": [
       "<Figure size 1000x500 with 1 Axes>"
      ]
     },
     "metadata": {},
     "output_type": "display_data"
    }
   ],
   "source": [
    "plt.figure(dpi=100 , figsize=(10,5))\n",
    "plt.title('Correlation Plot B/W Total Cases and Active Cases')\n",
    "sns.scatterplot(x=df['Total Cases'] ,y=df['Active Cases'] ,color='blue')\n",
    "plt.show()"
   ]
  },
  {
   "cell_type": "code",
   "execution_count": 22,
   "metadata": {
    "colab": {
     "base_uri": "https://localhost:8080/"
    },
    "id": "lfWEyRy-BRe9",
    "outputId": "3c115c81-2878-4143-a24e-3708c5212337"
   },
   "outputs": [
    {
     "data": {
      "text/plain": [
       "0.8380966179401459"
      ]
     },
     "execution_count": 22,
     "metadata": {},
     "output_type": "execute_result"
    }
   ],
   "source": [
    "#Correlation b/w total cases and new Deaths\n",
    "corr=np.corrcoef(df['Total Cases'],df['New Deaths'])[0,1]\n",
    "corr"
   ]
  },
  {
   "cell_type": "code",
   "execution_count": 23,
   "metadata": {
    "colab": {
     "base_uri": "https://localhost:8080/",
     "height": 1000
    },
    "id": "07CHuBu1B8pj",
    "outputId": "5cec9800-9eb6-49fe-aadd-d1722e2dad6d"
   },
   "outputs": [
    {
     "ename": "TypeError",
     "evalue": "seaborn.utils._scatter_legend_artist() got multiple values for keyword argument 'label'",
     "output_type": "error",
     "traceback": [
      "\u001b[0;31m---------------------------------------------------------------------------\u001b[0m",
      "\u001b[0;31mTypeError\u001b[0m                                 Traceback (most recent call last)",
      "\u001b[0;32m<ipython-input-23-4e84eae811b0>\u001b[0m in \u001b[0;36m<cell line: 3>\u001b[0;34m()\u001b[0m\n\u001b[1;32m      1\u001b[0m \u001b[0mplt\u001b[0m\u001b[0;34m.\u001b[0m\u001b[0mfigure\u001b[0m\u001b[0;34m(\u001b[0m\u001b[0mdpi\u001b[0m\u001b[0;34m=\u001b[0m\u001b[0;36m200\u001b[0m \u001b[0;34m,\u001b[0m \u001b[0mfigsize\u001b[0m\u001b[0;34m=\u001b[0m\u001b[0;34m(\u001b[0m\u001b[0;36m10\u001b[0m\u001b[0;34m,\u001b[0m\u001b[0;36m5\u001b[0m\u001b[0;34m)\u001b[0m\u001b[0;34m)\u001b[0m\u001b[0;34m\u001b[0m\u001b[0;34m\u001b[0m\u001b[0m\n\u001b[1;32m      2\u001b[0m \u001b[0mplt\u001b[0m\u001b[0;34m.\u001b[0m\u001b[0mtitle\u001b[0m\u001b[0;34m(\u001b[0m\u001b[0;34m'Correlation Plot B/W Total Cases and New Deaths'\u001b[0m\u001b[0;34m)\u001b[0m\u001b[0;34m\u001b[0m\u001b[0;34m\u001b[0m\u001b[0m\n\u001b[0;32m----> 3\u001b[0;31m \u001b[0msns\u001b[0m\u001b[0;34m.\u001b[0m\u001b[0mscatterplot\u001b[0m\u001b[0;34m(\u001b[0m\u001b[0mx\u001b[0m\u001b[0;34m=\u001b[0m\u001b[0mdf\u001b[0m\u001b[0;34m[\u001b[0m\u001b[0;34m'Total Cases'\u001b[0m\u001b[0;34m]\u001b[0m \u001b[0;34m,\u001b[0m\u001b[0my\u001b[0m\u001b[0;34m=\u001b[0m\u001b[0mdf\u001b[0m\u001b[0;34m[\u001b[0m\u001b[0;34m'New Deaths'\u001b[0m\u001b[0;34m]\u001b[0m\u001b[0;34m,\u001b[0m\u001b[0mdata\u001b[0m\u001b[0;34m=\u001b[0m\u001b[0mdf\u001b[0m \u001b[0;34m,\u001b[0m\u001b[0mlabel\u001b[0m\u001b[0;34m=\u001b[0m\u001b[0;34mf'Corr : { corr :.2f}'\u001b[0m \u001b[0;34m,\u001b[0m \u001b[0mhue\u001b[0m\u001b[0;34m=\u001b[0m\u001b[0;34m'New Deaths'\u001b[0m\u001b[0;34m,\u001b[0m \u001b[0msize\u001b[0m\u001b[0;34m=\u001b[0m\u001b[0;34m'New Deaths'\u001b[0m  \u001b[0;34m,\u001b[0m\u001b[0;34m)\u001b[0m\u001b[0;34m\u001b[0m\u001b[0;34m\u001b[0m\u001b[0m\n\u001b[0m\u001b[1;32m      4\u001b[0m \u001b[0mplt\u001b[0m\u001b[0;34m.\u001b[0m\u001b[0mshow\u001b[0m\u001b[0;34m(\u001b[0m\u001b[0;34m)\u001b[0m\u001b[0;34m\u001b[0m\u001b[0;34m\u001b[0m\u001b[0m\n",
      "\u001b[0;32m/usr/local/lib/python3.10/dist-packages/seaborn/relational.py\u001b[0m in \u001b[0;36mscatterplot\u001b[0;34m(data, x, y, hue, size, style, palette, hue_order, hue_norm, sizes, size_order, size_norm, markers, style_order, legend, ax, **kwargs)\u001b[0m\n\u001b[1;32m    629\u001b[0m     \u001b[0;32mif\u001b[0m \u001b[0max\u001b[0m \u001b[0;32mis\u001b[0m \u001b[0;32mNone\u001b[0m\u001b[0;34m:\u001b[0m\u001b[0;34m\u001b[0m\u001b[0;34m\u001b[0m\u001b[0m\n\u001b[1;32m    630\u001b[0m         \u001b[0max\u001b[0m \u001b[0;34m=\u001b[0m \u001b[0mplt\u001b[0m\u001b[0;34m.\u001b[0m\u001b[0mgca\u001b[0m\u001b[0;34m(\u001b[0m\u001b[0;34m)\u001b[0m\u001b[0;34m\u001b[0m\u001b[0;34m\u001b[0m\u001b[0m\n\u001b[0;32m--> 631\u001b[0;31m \u001b[0;34m\u001b[0m\u001b[0m\n\u001b[0m\u001b[1;32m    632\u001b[0m     \u001b[0;32mif\u001b[0m \u001b[0mstyle\u001b[0m \u001b[0;32mis\u001b[0m \u001b[0;32mNone\u001b[0m \u001b[0;32mand\u001b[0m \u001b[0;32mnot\u001b[0m \u001b[0;34m{\u001b[0m\u001b[0;34m\"ls\"\u001b[0m\u001b[0;34m,\u001b[0m \u001b[0;34m\"linestyle\"\u001b[0m\u001b[0;34m}\u001b[0m \u001b[0;34m&\u001b[0m \u001b[0mset\u001b[0m\u001b[0;34m(\u001b[0m\u001b[0mkwargs\u001b[0m\u001b[0;34m)\u001b[0m\u001b[0;34m:\u001b[0m  \u001b[0;31m# XXX\u001b[0m\u001b[0;34m\u001b[0m\u001b[0;34m\u001b[0m\u001b[0m\n\u001b[1;32m    633\u001b[0m         \u001b[0mkwargs\u001b[0m\u001b[0;34m[\u001b[0m\u001b[0;34m\"dashes\"\u001b[0m\u001b[0;34m]\u001b[0m \u001b[0;34m=\u001b[0m \u001b[0;34m\"\"\u001b[0m \u001b[0;32mif\u001b[0m \u001b[0mdashes\u001b[0m \u001b[0;32mis\u001b[0m \u001b[0;32mNone\u001b[0m \u001b[0;32mor\u001b[0m \u001b[0misinstance\u001b[0m\u001b[0;34m(\u001b[0m\u001b[0mdashes\u001b[0m\u001b[0;34m,\u001b[0m \u001b[0mbool\u001b[0m\u001b[0;34m)\u001b[0m \u001b[0;32melse\u001b[0m \u001b[0mdashes\u001b[0m\u001b[0;34m\u001b[0m\u001b[0;34m\u001b[0m\u001b[0m\n",
      "\u001b[0;32m/usr/local/lib/python3.10/dist-packages/seaborn/relational.py\u001b[0m in \u001b[0;36mplot\u001b[0;34m(self, ax, kws)\u001b[0m\n\u001b[1;32m    457\u001b[0m                     \u001b[0mlines\u001b[0m\u001b[0;34m.\u001b[0m\u001b[0mextend\u001b[0m\u001b[0;34m(\u001b[0m\u001b[0max\u001b[0m\u001b[0;34m.\u001b[0m\u001b[0mplot\u001b[0m\u001b[0;34m(\u001b[0m\u001b[0munit_data\u001b[0m\u001b[0;34m[\u001b[0m\u001b[0;34m\"x\"\u001b[0m\u001b[0;34m]\u001b[0m\u001b[0;34m,\u001b[0m \u001b[0munit_data\u001b[0m\u001b[0;34m[\u001b[0m\u001b[0;34m\"y\"\u001b[0m\u001b[0;34m]\u001b[0m\u001b[0;34m,\u001b[0m \u001b[0;34m**\u001b[0m\u001b[0mkws\u001b[0m\u001b[0;34m)\u001b[0m\u001b[0;34m)\u001b[0m\u001b[0;34m\u001b[0m\u001b[0;34m\u001b[0m\u001b[0m\n\u001b[1;32m    458\u001b[0m             \u001b[0;32melse\u001b[0m\u001b[0;34m:\u001b[0m\u001b[0;34m\u001b[0m\u001b[0;34m\u001b[0m\u001b[0m\n\u001b[0;32m--> 459\u001b[0;31m                 \u001b[0mlines\u001b[0m \u001b[0;34m=\u001b[0m \u001b[0max\u001b[0m\u001b[0;34m.\u001b[0m\u001b[0mplot\u001b[0m\u001b[0;34m(\u001b[0m\u001b[0msub_data\u001b[0m\u001b[0;34m[\u001b[0m\u001b[0;34m\"x\"\u001b[0m\u001b[0;34m]\u001b[0m\u001b[0;34m,\u001b[0m \u001b[0msub_data\u001b[0m\u001b[0;34m[\u001b[0m\u001b[0;34m\"y\"\u001b[0m\u001b[0;34m]\u001b[0m\u001b[0;34m,\u001b[0m \u001b[0;34m**\u001b[0m\u001b[0mkws\u001b[0m\u001b[0;34m)\u001b[0m\u001b[0;34m\u001b[0m\u001b[0;34m\u001b[0m\u001b[0m\n\u001b[0m\u001b[1;32m    460\u001b[0m \u001b[0;34m\u001b[0m\u001b[0m\n\u001b[1;32m    461\u001b[0m             \u001b[0;32mfor\u001b[0m \u001b[0mline\u001b[0m \u001b[0;32min\u001b[0m \u001b[0mlines\u001b[0m\u001b[0;34m:\u001b[0m\u001b[0;34m\u001b[0m\u001b[0;34m\u001b[0m\u001b[0m\n",
      "\u001b[0;32m/usr/local/lib/python3.10/dist-packages/seaborn/_base.py\u001b[0m in \u001b[0;36madd_legend_data\u001b[0;34m(self, ax, func, common_kws, attrs, semantic_kws)\u001b[0m\n",
      "\u001b[0;31mTypeError\u001b[0m: seaborn.utils._scatter_legend_artist() got multiple values for keyword argument 'label'"
     ]
    },
    {
     "data": {
      "image/png": "[encoded data removed]",
      "text/plain": [
       "<Figure size 2000x1000 with 1 Axes>"
      ]
     },
     "metadata": {},
     "output_type": "display_data"
    }
   ],
   "source": [
    "plt.figure(dpi=200 , figsize=(10,5))\n",
    "plt.title('Correlation Plot B/W Total Cases and New Deaths')\n",
    "sns.scatterplot(x=df['Total Cases'] ,y=df['New Deaths'],data=df ,label=f'Corr : { corr :.2f}' , hue='New Deaths', size='New Deaths'  ,)\n",
    "plt.show()"
   ]
  },
  {
   "cell_type": "code",
   "execution_count": 24,
   "metadata": {
    "id": "xlIBMs5GB-nJ"
   },
   "outputs": [],
   "source": [
    "cat_col = ['Continent']\n",
    "num_col = ['Total Cases', 'Active Cases','New Cases', 'Total Deaths', 'New Deaths', 'Total Recovered', 'New Recovered']"
   ]
  },
  {
   "cell_type": "code",
   "execution_count": 25,
   "metadata": {
    "colab": {
     "base_uri": "https://localhost:8080/",
     "height": 867
    },
    "id": "Cgxumni3CFLL",
    "outputId": "5356c506-4dcd-4c81-c3ce-93c6db2bcd9b"
   },
   "outputs": [
    {
     "ename": "TypeError",
     "evalue": "pointplot() takes from 0 to 1 positional arguments but 2 positional arguments (and 1 keyword-only argument) were given",
     "output_type": "error",
     "traceback": [
      "\u001b[0;31m---------------------------------------------------------------------------\u001b[0m",
      "\u001b[0;31mTypeError\u001b[0m                                 Traceback (most recent call last)",
      "\u001b[0;32m<ipython-input-25-3840f1bb816d>\u001b[0m in \u001b[0;36m<cell line: 2>\u001b[0;34m()\u001b[0m\n\u001b[1;32m      4\u001b[0m     \u001b[0mplt\u001b[0m\u001b[0;34m.\u001b[0m\u001b[0mfigure\u001b[0m\u001b[0;34m(\u001b[0m\u001b[0mdpi\u001b[0m\u001b[0;34m=\u001b[0m\u001b[0;36m100\u001b[0m \u001b[0;34m,\u001b[0m \u001b[0mfigsize\u001b[0m\u001b[0;34m=\u001b[0m\u001b[0;34m(\u001b[0m\u001b[0;36m20\u001b[0m \u001b[0;34m,\u001b[0m\u001b[0;36m9\u001b[0m\u001b[0;34m)\u001b[0m \u001b[0;34m,\u001b[0m\u001b[0mfacecolor\u001b[0m\u001b[0;34m=\u001b[0m\u001b[0;34m'black'\u001b[0m\u001b[0;34m)\u001b[0m\u001b[0;34m\u001b[0m\u001b[0;34m\u001b[0m\u001b[0m\n\u001b[1;32m      5\u001b[0m     \u001b[0mplt\u001b[0m\u001b[0;34m.\u001b[0m\u001b[0mtitle\u001b[0m\u001b[0;34m(\u001b[0m\u001b[0;34mf'{f} Across Contients'\u001b[0m \u001b[0;34m,\u001b[0m \u001b[0mcolor\u001b[0m\u001b[0;34m=\u001b[0m\u001b[0;34m'salmon'\u001b[0m \u001b[0;34m,\u001b[0m\u001b[0msize\u001b[0m\u001b[0;34m=\u001b[0m\u001b[0;36m20\u001b[0m\u001b[0;34m)\u001b[0m\u001b[0;34m\u001b[0m\u001b[0;34m\u001b[0m\u001b[0m\n\u001b[0;32m----> 6\u001b[0;31m     \u001b[0msns\u001b[0m\u001b[0;34m.\u001b[0m\u001b[0mpointplot\u001b[0m\u001b[0;34m(\u001b[0m\u001b[0mcontinent_df\u001b[0m\u001b[0;34m[\u001b[0m\u001b[0;34m'Continent'\u001b[0m\u001b[0;34m]\u001b[0m \u001b[0;34m,\u001b[0m \u001b[0mdf1\u001b[0m\u001b[0;34m[\u001b[0m\u001b[0mf\u001b[0m\u001b[0;34m]\u001b[0m \u001b[0;34m,\u001b[0m \u001b[0mcolor\u001b[0m\u001b[0;34m=\u001b[0m\u001b[0;34m'salmon'\u001b[0m\u001b[0;34m)\u001b[0m\u001b[0;34m\u001b[0m\u001b[0;34m\u001b[0m\u001b[0m\n\u001b[0m\u001b[1;32m      7\u001b[0m     \u001b[0mplt\u001b[0m\u001b[0;34m.\u001b[0m\u001b[0mxticks\u001b[0m\u001b[0;34m(\u001b[0m\u001b[0mrotation\u001b[0m\u001b[0;34m=\u001b[0m\u001b[0;36m90\u001b[0m \u001b[0;34m,\u001b[0m \u001b[0mcolor\u001b[0m\u001b[0;34m=\u001b[0m\u001b[0;34m'salmon'\u001b[0m\u001b[0;34m)\u001b[0m\u001b[0;34m\u001b[0m\u001b[0;34m\u001b[0m\u001b[0m\n\u001b[1;32m      8\u001b[0m     \u001b[0mplt\u001b[0m\u001b[0;34m.\u001b[0m\u001b[0myticks\u001b[0m\u001b[0;34m(\u001b[0m\u001b[0mcolor\u001b[0m\u001b[0;34m=\u001b[0m\u001b[0;34m'salmon'\u001b[0m\u001b[0;34m)\u001b[0m\u001b[0;34m\u001b[0m\u001b[0;34m\u001b[0m\u001b[0m\n",
      "\u001b[0;31mTypeError\u001b[0m: pointplot() takes from 0 to 1 positional arguments but 2 positional arguments (and 1 keyword-only argument) were given"
     ]
    },
    {
     "data": {
      "image/png": "[encoded data removed]",
      "text/plain": [
       "<Figure size 2000x900 with 1 Axes>"
      ]
     },
     "metadata": {},
     "output_type": "display_data"
    }
   ],
   "source": [
    "# plot to see distribution of all feautures across all continents\n",
    "for f in num_col:\n",
    "    df1 = df.sort_values(by=[f],axis=0 , ignore_index=True)\n",
    "    plt.figure(dpi=100 , figsize=(20 ,9) ,facecolor='black')\n",
    "    plt.title(f'{f} Across Contients' , color='salmon' ,size=20)\n",
    "    sns.pointplot(continent_df['Continent'] , df1[f] , color='salmon')\n",
    "    plt.xticks(rotation=90 , color='salmon')\n",
    "    plt.yticks(color='salmon')\n",
    "    plt.grid(ls=':' ,color='black' ,lw=.5)\n",
    "    plt.xlabel('Contient' ,fontdict={'size':16 , 'weight':'heavy','color':'salmon'})\n",
    "    plt.ylabel(f ,fontdict={'size':16 , 'weight':'heavy','color':'salmon'})\n",
    "    plt.show()\n",
    "    print('\\n\\n\\n\\n\\n')"
   ]
  },
  {
   "cell_type": "code",
   "execution_count": 26,
   "metadata": {
    "colab": {
     "base_uri": "https://localhost:8080/"
    },
    "id": "OaTAMCuDCZ-R",
    "outputId": "60ef5549-0f41-464d-9d34-bb74db780196"
   },
   "outputs": [
    {
     "name": "stdout",
     "output_type": "stream",
     "text": [
      "Average Total Cases Over All states :           6234199.04\n",
      "Average Patient Discharged Over All states :        146.14\n",
      "Average Deaths Over All states :                 64539.06\n",
      "Average Active Cases Over All states :         138530.61\n"
     ]
    }
   ],
   "source": [
    "avg_active_cases = df['Active Cases'].mean()\n",
    "avg_deaths = df['Total Deaths'].mean()\n",
    "avg_recovered = df['New Recovered'].mean()\n",
    "avg_total_cases = df['Total Cases'].mean()\n",
    "print(f'Average Total Cases Over All states : {avg_total_cases:>20.2f}')\n",
    "print(f'Average Patient Discharged Over All states : {avg_recovered:>13.2f}')\n",
    "print(f'Average Deaths Over All states : {avg_deaths:>24.2f}' )\n",
    "print(f'Average Active Cases Over All states : {avg_active_cases:>17.2f}')"
   ]
  },
  {
   "cell_type": "code",
   "execution_count": 27,
   "metadata": {
    "colab": {
     "base_uri": "https://localhost:8080/",
     "height": 1000
    },
    "id": "tYxxCAGZCfqS",
    "outputId": "5f9165ca-e60d-4cbc-b133-9d25483ee3fb"
   },
   "outputs": [
    {
     "data": {
      "image/png": "[encoded data removed]",
      "text/plain": [
       "<Figure size 1000x500 with 1 Axes>"
      ]
     },
     "metadata": {},
     "output_type": "display_data"
    },
    {
     "name": "stdout",
     "output_type": "stream",
     "text": [
      "\n",
      "\n",
      "\n",
      "\n",
      "\n"
     ]
    },
    {
     "data": {
      "image/png": "[encoded data removed]",
      "text/plain": [
       "<Figure size 1000x500 with 1 Axes>"
      ]
     },
     "metadata": {},
     "output_type": "display_data"
    },
    {
     "name": "stdout",
     "output_type": "stream",
     "text": [
      "\n",
      "\n",
      "\n",
      "\n",
      "\n"
     ]
    },
    {
     "data": {
      "image/png": "[encoded data removed]",
      "text/plain": [
       "<Figure size 1000x500 with 1 Axes>"
      ]
     },
     "metadata": {},
     "output_type": "display_data"
    },
    {
     "name": "stdout",
     "output_type": "stream",
     "text": [
      "\n",
      "\n",
      "\n",
      "\n",
      "\n"
     ]
    },
    {
     "data": {
      "image/png": "[encoded data removed]",
      "text/plain": [
       "<Figure size 1000x500 with 1 Axes>"
      ]
     },
     "metadata": {},
     "output_type": "display_data"
    },
    {
     "name": "stdout",
     "output_type": "stream",
     "text": [
      "\n",
      "\n",
      "\n",
      "\n",
      "\n"
     ]
    },
    {
     "data": {
      "image/png": "[encoded data removed]",
      "text/plain": [
       "<Figure size 1000x500 with 1 Axes>"
      ]
     },
     "metadata": {},
     "output_type": "display_data"
    },
    {
     "name": "stdout",
     "output_type": "stream",
     "text": [
      "\n",
      "\n",
      "\n",
      "\n",
      "\n"
     ]
    },
    {
     "data": {
      "image/png": "[encoded data removed]",
      "text/plain": [
       "<Figure size 1000x500 with 1 Axes>"
      ]
     },
     "metadata": {},
     "output_type": "display_data"
    },
    {
     "name": "stdout",
     "output_type": "stream",
     "text": [
      "\n",
      "\n",
      "\n",
      "\n",
      "\n"
     ]
    },
    {
     "data": {
      "image/png": "[encoded data removed]",
      "text/plain": [
       "<Figure size 1000x500 with 1 Axes>"
      ]
     },
     "metadata": {},
     "output_type": "display_data"
    },
    {
     "name": "stdout",
     "output_type": "stream",
     "text": [
      "\n",
      "\n",
      "\n",
      "\n",
      "\n"
     ]
    }
   ],
   "source": [
    "# Function to Plot Average numerical features pre Continent\n",
    "\n",
    "def plot_avg(x_val , y_val):\n",
    "    plt.figure(dpi=100 , figsize=(10 ,5))\n",
    "    bars = plt.bar(x_val , y_val ,)\n",
    "    for bar in bars:\n",
    "        bar.set_color(color())\n",
    "    plt.xlabel('Continent',fontdict={'size':14 , 'c':'red'})\n",
    "    plt.xticks(rotation=90)\n",
    "    plt.ylabel(num_features , fontdict={'size':14,'c':'red'})\n",
    "    plt.title(f'Average {num_features} Per Continent',fontdict={'c':'#1E4A17','size':'20'})\n",
    "    plt.show()\n",
    "# Creating Plots via Loops\n",
    "for num_features in num_col:\n",
    "    grp_obj = df.groupby('Continent').agg({num_features : 'mean'})\n",
    "    plot_avg(grp_obj.index , grp_obj[num_features])\n",
    "    print('\\n\\n\\n\\n')"
   ]
  },
  {
   "cell_type": "code",
   "execution_count": 28,
   "metadata": {
    "colab": {
     "base_uri": "https://localhost:8080/",
     "height": 334
    },
    "id": "uPjTHGWXCqUH",
    "outputId": "e1ee7a99-0103-4e66-a40c-1cf0431b0969"
   },
   "outputs": [
    {
     "data": {
      "application/vnd.google.colaboratory.intrinsic+json": {
       "summary": "{\n  \"name\": \"df\",\n  \"rows\": 8,\n  \"fields\": [\n    {\n      \"column\": \"Total Cases\",\n      \"properties\": {\n        \"dtype\": \"number\",\n        \"std\": 246843655.55849338,\n        \"min\": 80.0,\n        \"max\": 704753890.0,\n        \"num_unique_values\": 8,\n        \"samples\": [\n          6234199.044334975,\n          203235.0,\n          203.0\n        ],\n        \"semantic_type\": \"\",\n        \"description\": \"\"\n      }\n    },\n    {\n      \"column\": \"New Cases\",\n      \"properties\": {\n        \"dtype\": \"number\",\n        \"std\": 1377.1379224918899,\n        \"min\": -1.0,\n        \"max\": 3959.0,\n        \"num_unique_values\": 5,\n        \"samples\": [\n          38.05418719211823,\n          3959.0,\n          307.66902626439287\n        ],\n        \"semantic_type\": \"\",\n        \"description\": \"\"\n      }\n    },\n    {\n      \"column\": \"Total Deaths\",\n      \"properties\": {\n        \"dtype\": \"number\",\n        \"std\": 2455235.756660516,\n        \"min\": -1.0,\n        \"max\": 7010681.0,\n        \"num_unique_values\": 8,\n        \"samples\": [\n          64539.05911330049,\n          1971.0,\n          203.0\n        ],\n        \"semantic_type\": \"\",\n        \"description\": \"\"\n      }\n    },\n    {\n      \"column\": \"New Deaths\",\n      \"properties\": {\n        \"dtype\": \"number\",\n        \"std\": 71.71792007780276,\n        \"min\": -1.0,\n        \"max\": 203.0,\n        \"num_unique_values\": 5,\n        \"samples\": [\n          -0.4187192118226601,\n          57.0,\n          4.911800736010436\n        ],\n        \"semantic_type\": \"\",\n        \"description\": \"\"\n      }\n    },\n    {\n      \"column\": \"Total Recovered\",\n      \"properties\": {\n        \"dtype\": \"number\",\n        \"std\": 236695923.58777687,\n        \"min\": -1.0,\n        \"max\": 675619021.0,\n        \"num_unique_values\": 8,\n        \"samples\": [\n          5415383.935960591,\n          53569.0,\n          203.0\n        ],\n        \"semantic_type\": \"\",\n        \"description\": \"\"\n      }\n    },\n    {\n      \"column\": \"New Recovered\",\n      \"properties\": {\n        \"dtype\": \"number\",\n        \"std\": 5222.304795486425,\n        \"min\": -1.0,\n        \"max\": 14953.0,\n        \"num_unique_values\": 6,\n        \"samples\": [\n          203.0,\n          146.13793103448276,\n          14953.0\n        ],\n        \"semantic_type\": \"\",\n        \"description\": \"\"\n      }\n    },\n    {\n      \"column\": \"Active Cases\",\n      \"properties\": {\n        \"dtype\": \"number\",\n        \"std\": 7754904.616796526,\n        \"min\": 0.0,\n        \"max\": 22124188.0,\n        \"num_unique_values\": 8,\n        \"samples\": [\n          138530.61083743843,\n          305.0,\n          203.0\n        ],\n        \"semantic_type\": \"\",\n        \"description\": \"\"\n      }\n    },\n    {\n      \"column\": \"Serios/Critical\",\n      \"properties\": {\n        \"dtype\": \"number\",\n        \"std\": 12186.376132664149,\n        \"min\": -1.0,\n        \"max\": 34791.0,\n        \"num_unique_values\": 6,\n        \"samples\": [\n          203.0,\n          184.9064039408867,\n          34791.0\n        ],\n        \"semantic_type\": \"\",\n        \"description\": \"\"\n      }\n    },\n    {\n      \"column\": \"Total Cases/1M\",\n      \"properties\": {\n        \"dtype\": \"number\",\n        \"std\": 255905.79504974154,\n        \"min\": 203.0,\n        \"max\": 771655.0,\n        \"num_unique_values\": 8,\n        \"samples\": [\n          192037.18719211823,\n          116173.0,\n          203.0\n        ],\n        \"semantic_type\": \"\",\n        \"description\": \"\"\n      }\n    },\n    {\n      \"column\": \"Deaths/1M\",\n      \"properties\": {\n        \"dtype\": \"number\",\n        \"std\": 1849.8063703518026,\n        \"min\": -1.0,\n        \"max\": 5661.0,\n        \"num_unique_values\": 8,\n        \"samples\": [\n          1229.2384236453202,\n          783.0,\n          203.0\n        ],\n        \"semantic_type\": \"\",\n        \"description\": \"\"\n      }\n    },\n    {\n      \"column\": \"Total Tests\",\n      \"properties\": {\n        \"dtype\": \"number\",\n        \"std\": 413564572.7314905,\n        \"min\": -1.0,\n        \"max\": 1186851502.0,\n        \"num_unique_values\": 8,\n        \"samples\": [\n          27889150.359605912,\n          1660662.0,\n          203.0\n        ],\n        \"semantic_type\": \"\",\n        \"description\": \"\"\n      }\n    },\n    {\n      \"column\": \"Test/1M\",\n      \"properties\": {\n        \"dtype\": \"number\",\n        \"std\": 7921533.429224692,\n        \"min\": -1.0,\n        \"max\": 23302116.0,\n        \"num_unique_values\": 8,\n        \"samples\": [\n          1900797.8275862068,\n          707482.0,\n          203.0\n        ],\n        \"semantic_type\": \"\",\n        \"description\": \"\"\n      }\n    },\n    {\n      \"column\": \"Population\",\n      \"properties\": {\n        \"dtype\": \"number\",\n        \"std\": 490334048.47425556,\n        \"min\": -1.0,\n        \"max\": 1406631776.0,\n        \"num_unique_values\": 8,\n        \"samples\": [\n          29844304.911330048,\n          5554960.0,\n          203.0\n        ],\n        \"semantic_type\": \"\",\n        \"description\": \"\"\n      }\n    },\n    {\n      \"column\": \"%Inc Cases\",\n      \"properties\": {\n        \"dtype\": \"number\",\n        \"std\": 71.83090878249253,\n        \"min\": -1.25,\n        \"max\": 203.0,\n        \"num_unique_values\": 8,\n        \"samples\": [\n          -0.009828613237651884,\n          -0.00049204123305533,\n          203.0\n        ],\n        \"semantic_type\": \"\",\n        \"description\": \"\"\n      }\n    },\n    {\n      \"column\": \"%Inc Deaths\",\n      \"properties\": {\n        \"dtype\": \"number\",\n        \"std\": 89.05933487887243,\n        \"min\": -100.0,\n        \"max\": 203.0,\n        \"num_unique_values\": 8,\n        \"samples\": [\n          -0.6905490344642776,\n          -0.044444444444444446,\n          203.0\n        ],\n        \"semantic_type\": \"\",\n        \"description\": \"\"\n      }\n    },\n    {\n      \"column\": \"%Inc Recovered\",\n      \"properties\": {\n        \"dtype\": \"number\",\n        \"std\": 66.95780047341117,\n        \"min\": -50.0,\n        \"max\": 157.0,\n        \"num_unique_values\": 8,\n        \"samples\": [\n          0.31249457729680075,\n          -0.0005345363965832434,\n          157.0\n        ],\n        \"semantic_type\": \"\",\n        \"description\": \"\"\n      }\n    }\n  ]\n}",
       "type": "dataframe"
      },
      "text/html": [
       "\n",
       "  <div id=\"df-872e848d-8a46-4b32-8379-9a84f867163b\" class=\"colab-df-container\">\n",
       "    <div>\n",
       "<style scoped>\n",
       "    .dataframe tbody tr th:only-of-type {\n",
       "        vertical-align: middle;\n",
       "    }\n",
       "\n",
       "    .dataframe tbody tr th {\n",
       "        vertical-align: top;\n",
       "    }\n",
       "\n",
       "    .dataframe thead th {\n",
       "        text-align: right;\n",
       "    }\n",
       "</style>\n",
       "<table border=\"1\" class=\"dataframe\">\n",
       "  <thead>\n",
       "    <tr style=\"text-align: right;\">\n",
       "      <th></th>\n",
       "      <th>Total Cases</th>\n",
       "      <th>New Cases</th>\n",
       "      <th>Total Deaths</th>\n",
       "      <th>New Deaths</th>\n",
       "      <th>Total Recovered</th>\n",
       "      <th>New Recovered</th>\n",
       "      <th>Active Cases</th>\n",
       "      <th>Serios/Critical</th>\n",
       "      <th>Total Cases/1M</th>\n",
       "      <th>Deaths/1M</th>\n",
       "      <th>Total Tests</th>\n",
       "      <th>Test/1M</th>\n",
       "      <th>Population</th>\n",
       "      <th>%Inc Cases</th>\n",
       "      <th>%Inc Deaths</th>\n",
       "      <th>%Inc Recovered</th>\n",
       "    </tr>\n",
       "  </thead>\n",
       "  <tbody>\n",
       "    <tr>\n",
       "      <th>count</th>\n",
       "      <td>2.030000e+02</td>\n",
       "      <td>203.000000</td>\n",
       "      <td>2.030000e+02</td>\n",
       "      <td>203.000000</td>\n",
       "      <td>2.030000e+02</td>\n",
       "      <td>203.000000</td>\n",
       "      <td>2.030000e+02</td>\n",
       "      <td>203.000000</td>\n",
       "      <td>203.000000</td>\n",
       "      <td>203.000000</td>\n",
       "      <td>2.030000e+02</td>\n",
       "      <td>2.030000e+02</td>\n",
       "      <td>2.030000e+02</td>\n",
       "      <td>203.000000</td>\n",
       "      <td>203.000000</td>\n",
       "      <td>157.000000</td>\n",
       "    </tr>\n",
       "    <tr>\n",
       "      <th>mean</th>\n",
       "      <td>6.234199e+06</td>\n",
       "      <td>38.054187</td>\n",
       "      <td>6.453906e+04</td>\n",
       "      <td>-0.418719</td>\n",
       "      <td>5.415384e+06</td>\n",
       "      <td>146.137931</td>\n",
       "      <td>1.385306e+05</td>\n",
       "      <td>184.906404</td>\n",
       "      <td>192037.187192</td>\n",
       "      <td>1229.238424</td>\n",
       "      <td>2.788915e+07</td>\n",
       "      <td>1.900798e+06</td>\n",
       "      <td>2.984430e+07</td>\n",
       "      <td>-0.009829</td>\n",
       "      <td>-0.690549</td>\n",
       "      <td>0.312495</td>\n",
       "    </tr>\n",
       "    <tr>\n",
       "      <th>std</th>\n",
       "      <td>5.026489e+07</td>\n",
       "      <td>307.669026</td>\n",
       "      <td>5.030211e+05</td>\n",
       "      <td>4.911801</td>\n",
       "      <td>4.811890e+07</td>\n",
       "      <td>1297.476244</td>\n",
       "      <td>1.558723e+06</td>\n",
       "      <td>2442.074939</td>\n",
       "      <td>201531.986195</td>\n",
       "      <td>1268.678728</td>\n",
       "      <td>1.159610e+08</td>\n",
       "      <td>3.374173e+06</td>\n",
       "      <td>1.080898e+08</td>\n",
       "      <td>0.088102</td>\n",
       "      <td>16.637160</td>\n",
       "      <td>8.945974</td>\n",
       "    </tr>\n",
       "    <tr>\n",
       "      <th>min</th>\n",
       "      <td>8.000000e+01</td>\n",
       "      <td>-1.000000</td>\n",
       "      <td>-1.000000e+00</td>\n",
       "      <td>-1.000000</td>\n",
       "      <td>-1.000000e+00</td>\n",
       "      <td>-1.000000</td>\n",
       "      <td>0.000000e+00</td>\n",
       "      <td>-1.000000</td>\n",
       "      <td>381.000000</td>\n",
       "      <td>-1.000000</td>\n",
       "      <td>-1.000000e+00</td>\n",
       "      <td>-1.000000e+00</td>\n",
       "      <td>-1.000000e+00</td>\n",
       "      <td>-1.250000</td>\n",
       "      <td>-100.000000</td>\n",
       "      <td>-50.000000</td>\n",
       "    </tr>\n",
       "    <tr>\n",
       "      <th>25%</th>\n",
       "      <td>2.750350e+04</td>\n",
       "      <td>-1.000000</td>\n",
       "      <td>2.120000e+02</td>\n",
       "      <td>-1.000000</td>\n",
       "      <td>1.490500e+03</td>\n",
       "      <td>-1.000000</td>\n",
       "      <td>3.000000e+00</td>\n",
       "      <td>-1.000000</td>\n",
       "      <td>17656.500000</td>\n",
       "      <td>148.500000</td>\n",
       "      <td>2.494935e+05</td>\n",
       "      <td>1.043395e+05</td>\n",
       "      <td>4.447320e+05</td>\n",
       "      <td>-0.003636</td>\n",
       "      <td>-0.437639</td>\n",
       "      <td>-0.004329</td>\n",
       "    </tr>\n",
       "    <tr>\n",
       "      <th>50%</th>\n",
       "      <td>2.032350e+05</td>\n",
       "      <td>-1.000000</td>\n",
       "      <td>1.971000e+03</td>\n",
       "      <td>-1.000000</td>\n",
       "      <td>5.356900e+04</td>\n",
       "      <td>-1.000000</td>\n",
       "      <td>3.050000e+02</td>\n",
       "      <td>0.000000</td>\n",
       "      <td>116173.000000</td>\n",
       "      <td>783.000000</td>\n",
       "      <td>1.660662e+06</td>\n",
       "      <td>7.074820e+05</td>\n",
       "      <td>5.554960e+06</td>\n",
       "      <td>-0.000492</td>\n",
       "      <td>-0.044444</td>\n",
       "      <td>-0.000535</td>\n",
       "    </tr>\n",
       "    <tr>\n",
       "      <th>75%</th>\n",
       "      <td>1.261415e+06</td>\n",
       "      <td>-1.000000</td>\n",
       "      <td>1.398500e+04</td>\n",
       "      <td>-1.000000</td>\n",
       "      <td>8.977475e+05</td>\n",
       "      <td>0.000000</td>\n",
       "      <td>3.865000e+03</td>\n",
       "      <td>0.000000</td>\n",
       "      <td>307343.500000</td>\n",
       "      <td>2040.000000</td>\n",
       "      <td>1.117155e+07</td>\n",
       "      <td>2.021872e+06</td>\n",
       "      <td>2.082730e+07</td>\n",
       "      <td>-0.000079</td>\n",
       "      <td>-0.006118</td>\n",
       "      <td>-0.000072</td>\n",
       "    </tr>\n",
       "    <tr>\n",
       "      <th>max</th>\n",
       "      <td>7.047539e+08</td>\n",
       "      <td>3959.000000</td>\n",
       "      <td>7.010681e+06</td>\n",
       "      <td>57.000000</td>\n",
       "      <td>6.756190e+08</td>\n",
       "      <td>14953.000000</td>\n",
       "      <td>2.212419e+07</td>\n",
       "      <td>34791.000000</td>\n",
       "      <td>771655.000000</td>\n",
       "      <td>5661.000000</td>\n",
       "      <td>1.186852e+09</td>\n",
       "      <td>2.330212e+07</td>\n",
       "      <td>1.406632e+09</td>\n",
       "      <td>0.023693</td>\n",
       "      <td>100.000000</td>\n",
       "      <td>100.000000</td>\n",
       "    </tr>\n",
       "  </tbody>\n",
       "</table>\n",
       "</div>\n",
       "    <div class=\"colab-df-buttons\">\n",
       "\n",
       "  <div class=\"colab-df-container\">\n",
       "    <button class=\"colab-df-convert\" onclick=\"convertToInteractive('df-872e848d-8a46-4b32-8379-9a84f867163b')\"\n",
       "            title=\"Convert this dataframe to an interactive table.\"\n",
       "            style=\"display:none;\">\n",
       "\n",
       "  <svg xmlns=\"http://www.w3.org/2000/svg\" height=\"24px\" viewBox=\"0 -960 960 960\">\n",
       "    <path d=\"M120-120v-720h720v720H120Zm60-500h600v-160H180v160Zm220 220h160v-160H400v160Zm0 220h160v-160H400v160ZM180-400h160v-160H180v160Zm440 0h160v-160H620v160ZM180-180h160v-160H180v160Zm440 0h160v-160H620v160Z\"/>\n",
       "  </svg>\n",
       "    </button>\n",
       "\n",
       "  <style>\n",
       "    .colab-df-container {\n",
       "      display:flex;\n",
       "      gap: 12px;\n",
       "    }\n",
       "\n",
       "    .colab-df-convert {\n",
       "      background-color: #E8F0FE;\n",
       "      border: none;\n",
       "      border-radius: 50%;\n",
       "      cursor: pointer;\n",
       "      display: none;\n",
       "      fill: #1967D2;\n",
       "      height: 32px;\n",
       "      padding: 0 0 0 0;\n",
       "      width: 32px;\n",
       "    }\n",
       "\n",
       "    .colab-df-convert:hover {\n",
       "      background-color: #E2EBFA;\n",
       "      box-shadow: 0px 1px 2px rgba(60, 64, 67, 0.3), 0px 1px 3px 1px rgba(60, 64, 67, 0.15);\n",
       "      fill: #174EA6;\n",
       "    }\n",
       "\n",
       "    .colab-df-buttons div {\n",
       "      margin-bottom: 4px;\n",
       "    }\n",
       "\n",
       "    [theme=dark] .colab-df-convert {\n",
       "      background-color: #3B4455;\n",
       "      fill: #D2E3FC;\n",
       "    }\n",
       "\n",
       "    [theme=dark] .colab-df-convert:hover {\n",
       "      background-color: #434B5C;\n",
       "      box-shadow: 0px 1px 3px 1px rgba(0, 0, 0, 0.15);\n",
       "      filter: drop-shadow(0px 1px 2px rgba(0, 0, 0, 0.3));\n",
       "      fill: #FFFFFF;\n",
       "    }\n",
       "  </style>\n",
       "\n",
       "    <script>\n",
       "      const buttonEl =\n",
       "        document.querySelector('#df-872e848d-8a46-4b32-8379-9a84f867163b button.colab-df-convert');\n",
       "      buttonEl.style.display =\n",
       "        google.colab.kernel.accessAllowed ? 'block' : 'none';\n",
       "\n",
       "      async function convertToInteractive(key) {\n",
       "        const element = document.querySelector('#df-872e848d-8a46-4b32-8379-9a84f867163b');\n",
       "        const dataTable =\n",
       "          await google.colab.kernel.invokeFunction('convertToInteractive',\n",
       "                                                    [key], {});\n",
       "        if (!dataTable) return;\n",
       "\n",
       "        const docLinkHtml = 'Like what you see? Visit the ' +\n",
       "          '<a target=\"_blank\" href=https://colab.research.google.com/notebooks/data_table.ipynb>data table notebook</a>'\n",
       "          + ' to learn more about interactive tables.';\n",
       "        element.innerHTML = '';\n",
       "        dataTable['output_type'] = 'display_data';\n",
       "        await google.colab.output.renderOutput(dataTable, element);\n",
       "        const docLink = document.createElement('div');\n",
       "        docLink.innerHTML = docLinkHtml;\n",
       "        element.appendChild(docLink);\n",
       "      }\n",
       "    </script>\n",
       "  </div>\n",
       "\n",
       "\n",
       "<div id=\"df-196fd7c0-6d9b-49c7-b3cd-60be6ff9f390\">\n",
       "  <button class=\"colab-df-quickchart\" onclick=\"quickchart('df-196fd7c0-6d9b-49c7-b3cd-60be6ff9f390')\"\n",
       "            title=\"Suggest charts\"\n",
       "            style=\"display:none;\">\n",
       "\n",
       "<svg xmlns=\"http://www.w3.org/2000/svg\" height=\"24px\"viewBox=\"0 0 24 24\"\n",
       "     width=\"24px\">\n",
       "    <g>\n",
       "        <path d=\"M19 3H5c-1.1 0-2 .9-2 2v14c0 1.1.9 2 2 2h14c1.1 0 2-.9 2-2V5c0-1.1-.9-2-2-2zM9 17H7v-7h2v7zm4 0h-2V7h2v10zm4 0h-2v-4h2v4z\"/>\n",
       "    </g>\n",
       "</svg>\n",
       "  </button>\n",
       "\n",
       "<style>\n",
       "  .colab-df-quickchart {\n",
       "      --bg-color: #E8F0FE;\n",
       "      --fill-color: #1967D2;\n",
       "      --hover-bg-color: #E2EBFA;\n",
       "      --hover-fill-color: #174EA6;\n",
       "      --disabled-fill-color: #AAA;\n",
       "      --disabled-bg-color: #DDD;\n",
       "  }\n",
       "\n",
       "  [theme=dark] .colab-df-quickchart {\n",
       "      --bg-color: #3B4455;\n",
       "      --fill-color: #D2E3FC;\n",
       "      --hover-bg-color: #434B5C;\n",
       "      --hover-fill-color: #FFFFFF;\n",
       "      --disabled-bg-color: #3B4455;\n",
       "      --disabled-fill-color: #666;\n",
       "  }\n",
       "\n",
       "  .colab-df-quickchart {\n",
       "    background-color: var(--bg-color);\n",
       "    border: none;\n",
       "    border-radius: 50%;\n",
       "    cursor: pointer;\n",
       "    display: none;\n",
       "    fill: var(--fill-color);\n",
       "    height: 32px;\n",
       "    padding: 0;\n",
       "    width: 32px;\n",
       "  }\n",
       "\n",
       "  .colab-df-quickchart:hover {\n",
       "    background-color: var(--hover-bg-color);\n",
       "    box-shadow: 0 1px 2px rgba(60, 64, 67, 0.3), 0 1px 3px 1px rgba(60, 64, 67, 0.15);\n",
       "    fill: var(--button-hover-fill-color);\n",
       "  }\n",
       "\n",
       "  .colab-df-quickchart-complete:disabled,\n",
       "  .colab-df-quickchart-complete:disabled:hover {\n",
       "    background-color: var(--disabled-bg-color);\n",
       "    fill: var(--disabled-fill-color);\n",
       "    box-shadow: none;\n",
       "  }\n",
       "\n",
       "  .colab-df-spinner {\n",
       "    border: 2px solid var(--fill-color);\n",
       "    border-color: transparent;\n",
       "    border-bottom-color: var(--fill-color);\n",
       "    animation:\n",
       "      spin 1s steps(1) infinite;\n",
       "  }\n",
       "\n",
       "  @keyframes spin {\n",
       "    0% {\n",
       "      border-color: transparent;\n",
       "      border-bottom-color: var(--fill-color);\n",
       "      border-left-color: var(--fill-color);\n",
       "    }\n",
       "    20% {\n",
       "      border-color: transparent;\n",
       "      border-left-color: var(--fill-color);\n",
       "      border-top-color: var(--fill-color);\n",
       "    }\n",
       "    30% {\n",
       "      border-color: transparent;\n",
       "      border-left-color: var(--fill-color);\n",
       "      border-top-color: var(--fill-color);\n",
       "      border-right-color: var(--fill-color);\n",
       "    }\n",
       "    40% {\n",
       "      border-color: transparent;\n",
       "      border-right-color: var(--fill-color);\n",
       "      border-top-color: var(--fill-color);\n",
       "    }\n",
       "    60% {\n",
       "      border-color: transparent;\n",
       "      border-right-color: var(--fill-color);\n",
       "    }\n",
       "    80% {\n",
       "      border-color: transparent;\n",
       "      border-right-color: var(--fill-color);\n",
       "      border-bottom-color: var(--fill-color);\n",
       "    }\n",
       "    90% {\n",
       "      border-color: transparent;\n",
       "      border-bottom-color: var(--fill-color);\n",
       "    }\n",
       "  }\n",
       "</style>\n",
       "\n",
       "  <script>\n",
       "    async function quickchart(key) {\n",
       "      const quickchartButtonEl =\n",
       "        document.querySelector('#' + key + ' button');\n",
       "      quickchartButtonEl.disabled = true;  // To prevent multiple clicks.\n",
       "      quickchartButtonEl.classList.add('colab-df-spinner');\n",
       "      try {\n",
       "        const charts = await google.colab.kernel.invokeFunction(\n",
       "            'suggestCharts', [key], {});\n",
       "      } catch (error) {\n",
       "        console.error('Error during call to suggestCharts:', error);\n",
       "      }\n",
       "      quickchartButtonEl.classList.remove('colab-df-spinner');\n",
       "      quickchartButtonEl.classList.add('colab-df-quickchart-complete');\n",
       "    }\n",
       "    (() => {\n",
       "      let quickchartButtonEl =\n",
       "        document.querySelector('#df-196fd7c0-6d9b-49c7-b3cd-60be6ff9f390 button');\n",
       "      quickchartButtonEl.style.display =\n",
       "        google.colab.kernel.accessAllowed ? 'block' : 'none';\n",
       "    })();\n",
       "  </script>\n",
       "</div>\n",
       "\n",
       "    </div>\n",
       "  </div>\n"
      ],
      "text/plain": [
       "        Total Cases    New Cases  Total Deaths  New Deaths  Total Recovered  \\\n",
       "count  2.030000e+02   203.000000  2.030000e+02  203.000000     2.030000e+02   \n",
       "mean   6.234199e+06    38.054187  6.453906e+04   -0.418719     5.415384e+06   \n",
       "std    5.026489e+07   307.669026  5.030211e+05    4.911801     4.811890e+07   \n",
       "min    8.000000e+01    -1.000000 -1.000000e+00   -1.000000    -1.000000e+00   \n",
       "25%    2.750350e+04    -1.000000  2.120000e+02   -1.000000     1.490500e+03   \n",
       "50%    2.032350e+05    -1.000000  1.971000e+03   -1.000000     5.356900e+04   \n",
       "75%    1.261415e+06    -1.000000  1.398500e+04   -1.000000     8.977475e+05   \n",
       "max    7.047539e+08  3959.000000  7.010681e+06   57.000000     6.756190e+08   \n",
       "\n",
       "       New Recovered  Active Cases  Serios/Critical  Total Cases/1M  \\\n",
       "count     203.000000  2.030000e+02       203.000000      203.000000   \n",
       "mean      146.137931  1.385306e+05       184.906404   192037.187192   \n",
       "std      1297.476244  1.558723e+06      2442.074939   201531.986195   \n",
       "min        -1.000000  0.000000e+00        -1.000000      381.000000   \n",
       "25%        -1.000000  3.000000e+00        -1.000000    17656.500000   \n",
       "50%        -1.000000  3.050000e+02         0.000000   116173.000000   \n",
       "75%         0.000000  3.865000e+03         0.000000   307343.500000   \n",
       "max     14953.000000  2.212419e+07     34791.000000   771655.000000   \n",
       "\n",
       "         Deaths/1M   Total Tests       Test/1M    Population  %Inc Cases  \\\n",
       "count   203.000000  2.030000e+02  2.030000e+02  2.030000e+02  203.000000   \n",
       "mean   1229.238424  2.788915e+07  1.900798e+06  2.984430e+07   -0.009829   \n",
       "std    1268.678728  1.159610e+08  3.374173e+06  1.080898e+08    0.088102   \n",
       "min      -1.000000 -1.000000e+00 -1.000000e+00 -1.000000e+00   -1.250000   \n",
       "25%     148.500000  2.494935e+05  1.043395e+05  4.447320e+05   -0.003636   \n",
       "50%     783.000000  1.660662e+06  7.074820e+05  5.554960e+06   -0.000492   \n",
       "75%    2040.000000  1.117155e+07  2.021872e+06  2.082730e+07   -0.000079   \n",
       "max    5661.000000  1.186852e+09  2.330212e+07  1.406632e+09    0.023693   \n",
       "\n",
       "       %Inc Deaths  %Inc Recovered  \n",
       "count   203.000000      157.000000  \n",
       "mean     -0.690549        0.312495  \n",
       "std      16.637160        8.945974  \n",
       "min    -100.000000      -50.000000  \n",
       "25%      -0.437639       -0.004329  \n",
       "50%      -0.044444       -0.000535  \n",
       "75%      -0.006118       -0.000072  \n",
       "max     100.000000      100.000000  "
      ]
     },
     "execution_count": 28,
     "metadata": {},
     "output_type": "execute_result"
    }
   ],
   "source": [
    "df.describe()"
   ]
  },
  {
   "cell_type": "code",
   "execution_count": 29,
   "metadata": {
    "colab": {
     "base_uri": "https://localhost:8080/",
     "height": 350
    },
    "id": "V0ywPcyGCt9u",
    "outputId": "990b1f75-4348-473d-a948-748bab0bc3d6"
   },
   "outputs": [
    {
     "ename": "ValueError",
     "evalue": "could not convert string to float: 'World'",
     "output_type": "error",
     "traceback": [
      "\u001b[0;31m---------------------------------------------------------------------------\u001b[0m",
      "\u001b[0;31mValueError\u001b[0m                                Traceback (most recent call last)",
      "\u001b[0;32m<ipython-input-29-08d1c97f042c>\u001b[0m in \u001b[0;36m<cell line: 2>\u001b[0;34m()\u001b[0m\n\u001b[1;32m      1\u001b[0m \u001b[0;31m#checking relationship b/w data\u001b[0m\u001b[0;34m\u001b[0m\u001b[0;34m\u001b[0m\u001b[0m\n\u001b[0;32m----> 2\u001b[0;31m \u001b[0mcor\u001b[0m\u001b[0;34m=\u001b[0m\u001b[0mdf\u001b[0m\u001b[0;34m.\u001b[0m\u001b[0mcorr\u001b[0m\u001b[0;34m(\u001b[0m\u001b[0;34m)\u001b[0m\u001b[0;34m\u001b[0m\u001b[0;34m\u001b[0m\u001b[0m\n\u001b[0m\u001b[1;32m      3\u001b[0m \u001b[0mplt\u001b[0m\u001b[0;34m.\u001b[0m\u001b[0mfigure\u001b[0m\u001b[0;34m(\u001b[0m\u001b[0mfigsize\u001b[0m\u001b[0;34m=\u001b[0m\u001b[0;34m(\u001b[0m\u001b[0;36m20\u001b[0m\u001b[0;34m,\u001b[0m\u001b[0;36m10\u001b[0m\u001b[0;34m)\u001b[0m\u001b[0;34m,\u001b[0m \u001b[0mfacecolor\u001b[0m\u001b[0;34m=\u001b[0m\u001b[0;34m'w'\u001b[0m\u001b[0;34m)\u001b[0m\u001b[0;34m\u001b[0m\u001b[0;34m\u001b[0m\u001b[0m\n\u001b[1;32m      4\u001b[0m \u001b[0msns\u001b[0m\u001b[0;34m.\u001b[0m\u001b[0mheatmap\u001b[0m\u001b[0;34m(\u001b[0m\u001b[0mcor\u001b[0m\u001b[0;34m,\u001b[0m\u001b[0mxticklabels\u001b[0m\u001b[0;34m=\u001b[0m\u001b[0mcor\u001b[0m\u001b[0;34m.\u001b[0m\u001b[0mcolumns\u001b[0m\u001b[0;34m,\u001b[0m\u001b[0myticklabels\u001b[0m\u001b[0;34m=\u001b[0m\u001b[0mcor\u001b[0m\u001b[0;34m.\u001b[0m\u001b[0mcolumns\u001b[0m\u001b[0;34m,\u001b[0m\u001b[0mannot\u001b[0m\u001b[0;34m=\u001b[0m\u001b[0;32mTrue\u001b[0m\u001b[0;34m)\u001b[0m\u001b[0;34m\u001b[0m\u001b[0;34m\u001b[0m\u001b[0m\n\u001b[1;32m      5\u001b[0m \u001b[0mplt\u001b[0m\u001b[0;34m.\u001b[0m\u001b[0mtitle\u001b[0m\u001b[0;34m(\u001b[0m\u001b[0;34m\"Correlation among all the Variables of the Dataset\"\u001b[0m\u001b[0;34m,\u001b[0m \u001b[0msize\u001b[0m\u001b[0;34m=\u001b[0m\u001b[0;36m20\u001b[0m\u001b[0;34m)\u001b[0m\u001b[0;34m\u001b[0m\u001b[0;34m\u001b[0m\u001b[0m\n",
      "\u001b[0;32m/usr/local/lib/python3.10/dist-packages/pandas/core/frame.py\u001b[0m in \u001b[0;36mcorr\u001b[0;34m(self, method, min_periods, numeric_only)\u001b[0m\n\u001b[1;32m  10052\u001b[0m         \u001b[0mcols\u001b[0m \u001b[0;34m=\u001b[0m \u001b[0mdata\u001b[0m\u001b[0;34m.\u001b[0m\u001b[0mcolumns\u001b[0m\u001b[0;34m\u001b[0m\u001b[0;34m\u001b[0m\u001b[0m\n\u001b[1;32m  10053\u001b[0m         \u001b[0midx\u001b[0m \u001b[0;34m=\u001b[0m \u001b[0mcols\u001b[0m\u001b[0;34m.\u001b[0m\u001b[0mcopy\u001b[0m\u001b[0;34m(\u001b[0m\u001b[0;34m)\u001b[0m\u001b[0;34m\u001b[0m\u001b[0;34m\u001b[0m\u001b[0m\n\u001b[0;32m> 10054\u001b[0;31m         \u001b[0mmat\u001b[0m \u001b[0;34m=\u001b[0m \u001b[0mdata\u001b[0m\u001b[0;34m.\u001b[0m\u001b[0mto_numpy\u001b[0m\u001b[0;34m(\u001b[0m\u001b[0mdtype\u001b[0m\u001b[0;34m=\u001b[0m\u001b[0mfloat\u001b[0m\u001b[0;34m,\u001b[0m \u001b[0mna_value\u001b[0m\u001b[0;34m=\u001b[0m\u001b[0mnp\u001b[0m\u001b[0;34m.\u001b[0m\u001b[0mnan\u001b[0m\u001b[0;34m,\u001b[0m \u001b[0mcopy\u001b[0m\u001b[0;34m=\u001b[0m\u001b[0;32mFalse\u001b[0m\u001b[0;34m)\u001b[0m\u001b[0;34m\u001b[0m\u001b[0;34m\u001b[0m\u001b[0m\n\u001b[0m\u001b[1;32m  10055\u001b[0m \u001b[0;34m\u001b[0m\u001b[0m\n\u001b[1;32m  10056\u001b[0m         \u001b[0;32mif\u001b[0m \u001b[0mmethod\u001b[0m \u001b[0;34m==\u001b[0m \u001b[0;34m\"pearson\"\u001b[0m\u001b[0;34m:\u001b[0m\u001b[0;34m\u001b[0m\u001b[0;34m\u001b[0m\u001b[0m\n",
      "\u001b[0;32m/usr/local/lib/python3.10/dist-packages/pandas/core/frame.py\u001b[0m in \u001b[0;36mto_numpy\u001b[0;34m(self, dtype, copy, na_value)\u001b[0m\n\u001b[1;32m   1836\u001b[0m         \u001b[0;32mif\u001b[0m \u001b[0mdtype\u001b[0m \u001b[0;32mis\u001b[0m \u001b[0;32mnot\u001b[0m \u001b[0;32mNone\u001b[0m\u001b[0;34m:\u001b[0m\u001b[0;34m\u001b[0m\u001b[0;34m\u001b[0m\u001b[0m\n\u001b[1;32m   1837\u001b[0m             \u001b[0mdtype\u001b[0m \u001b[0;34m=\u001b[0m \u001b[0mnp\u001b[0m\u001b[0;34m.\u001b[0m\u001b[0mdtype\u001b[0m\u001b[0;34m(\u001b[0m\u001b[0mdtype\u001b[0m\u001b[0;34m)\u001b[0m\u001b[0;34m\u001b[0m\u001b[0;34m\u001b[0m\u001b[0m\n\u001b[0;32m-> 1838\u001b[0;31m         \u001b[0mresult\u001b[0m \u001b[0;34m=\u001b[0m \u001b[0mself\u001b[0m\u001b[0;34m.\u001b[0m\u001b[0m_mgr\u001b[0m\u001b[0;34m.\u001b[0m\u001b[0mas_array\u001b[0m\u001b[0;34m(\u001b[0m\u001b[0mdtype\u001b[0m\u001b[0;34m=\u001b[0m\u001b[0mdtype\u001b[0m\u001b[0;34m,\u001b[0m \u001b[0mcopy\u001b[0m\u001b[0;34m=\u001b[0m\u001b[0mcopy\u001b[0m\u001b[0;34m,\u001b[0m \u001b[0mna_value\u001b[0m\u001b[0;34m=\u001b[0m\u001b[0mna_value\u001b[0m\u001b[0;34m)\u001b[0m\u001b[0;34m\u001b[0m\u001b[0;34m\u001b[0m\u001b[0m\n\u001b[0m\u001b[1;32m   1839\u001b[0m         \u001b[0;32mif\u001b[0m \u001b[0mresult\u001b[0m\u001b[0;34m.\u001b[0m\u001b[0mdtype\u001b[0m \u001b[0;32mis\u001b[0m \u001b[0;32mnot\u001b[0m \u001b[0mdtype\u001b[0m\u001b[0;34m:\u001b[0m\u001b[0;34m\u001b[0m\u001b[0;34m\u001b[0m\u001b[0m\n\u001b[1;32m   1840\u001b[0m             \u001b[0mresult\u001b[0m \u001b[0;34m=\u001b[0m \u001b[0mnp\u001b[0m\u001b[0;34m.\u001b[0m\u001b[0marray\u001b[0m\u001b[0;34m(\u001b[0m\u001b[0mresult\u001b[0m\u001b[0;34m,\u001b[0m \u001b[0mdtype\u001b[0m\u001b[0;34m=\u001b[0m\u001b[0mdtype\u001b[0m\u001b[0;34m,\u001b[0m \u001b[0mcopy\u001b[0m\u001b[0;34m=\u001b[0m\u001b[0;32mFalse\u001b[0m\u001b[0;34m)\u001b[0m\u001b[0;34m\u001b[0m\u001b[0;34m\u001b[0m\u001b[0m\n",
      "\u001b[0;32m/usr/local/lib/python3.10/dist-packages/pandas/core/internals/managers.py\u001b[0m in \u001b[0;36mas_array\u001b[0;34m(self, dtype, copy, na_value)\u001b[0m\n\u001b[1;32m   1730\u001b[0m                 \u001b[0marr\u001b[0m\u001b[0;34m.\u001b[0m\u001b[0mflags\u001b[0m\u001b[0;34m.\u001b[0m\u001b[0mwriteable\u001b[0m \u001b[0;34m=\u001b[0m \u001b[0;32mFalse\u001b[0m\u001b[0;34m\u001b[0m\u001b[0;34m\u001b[0m\u001b[0m\n\u001b[1;32m   1731\u001b[0m         \u001b[0;32melse\u001b[0m\u001b[0;34m:\u001b[0m\u001b[0;34m\u001b[0m\u001b[0;34m\u001b[0m\u001b[0m\n\u001b[0;32m-> 1732\u001b[0;31m             \u001b[0marr\u001b[0m \u001b[0;34m=\u001b[0m \u001b[0mself\u001b[0m\u001b[0;34m.\u001b[0m\u001b[0m_interleave\u001b[0m\u001b[0;34m(\u001b[0m\u001b[0mdtype\u001b[0m\u001b[0;34m=\u001b[0m\u001b[0mdtype\u001b[0m\u001b[0;34m,\u001b[0m \u001b[0mna_value\u001b[0m\u001b[0;34m=\u001b[0m\u001b[0mna_value\u001b[0m\u001b[0;34m)\u001b[0m\u001b[0;34m\u001b[0m\u001b[0;34m\u001b[0m\u001b[0m\n\u001b[0m\u001b[1;32m   1733\u001b[0m             \u001b[0;31m# The underlying data was copied within _interleave, so no need\u001b[0m\u001b[0;34m\u001b[0m\u001b[0;34m\u001b[0m\u001b[0m\n\u001b[1;32m   1734\u001b[0m             \u001b[0;31m# to further copy if copy=True or setting na_value\u001b[0m\u001b[0;34m\u001b[0m\u001b[0;34m\u001b[0m\u001b[0m\n",
      "\u001b[0;32m/usr/local/lib/python3.10/dist-packages/pandas/core/internals/managers.py\u001b[0m in \u001b[0;36m_interleave\u001b[0;34m(self, dtype, na_value)\u001b[0m\n\u001b[1;32m   1792\u001b[0m             \u001b[0;32melse\u001b[0m\u001b[0;34m:\u001b[0m\u001b[0;34m\u001b[0m\u001b[0;34m\u001b[0m\u001b[0m\n\u001b[1;32m   1793\u001b[0m                 \u001b[0marr\u001b[0m \u001b[0;34m=\u001b[0m \u001b[0mblk\u001b[0m\u001b[0;34m.\u001b[0m\u001b[0mget_values\u001b[0m\u001b[0;34m(\u001b[0m\u001b[0mdtype\u001b[0m\u001b[0;34m)\u001b[0m\u001b[0;34m\u001b[0m\u001b[0;34m\u001b[0m\u001b[0m\n\u001b[0;32m-> 1794\u001b[0;31m             \u001b[0mresult\u001b[0m\u001b[0;34m[\u001b[0m\u001b[0mrl\u001b[0m\u001b[0;34m.\u001b[0m\u001b[0mindexer\u001b[0m\u001b[0;34m]\u001b[0m \u001b[0;34m=\u001b[0m \u001b[0marr\u001b[0m\u001b[0;34m\u001b[0m\u001b[0;34m\u001b[0m\u001b[0m\n\u001b[0m\u001b[1;32m   1795\u001b[0m             \u001b[0mitemmask\u001b[0m\u001b[0;34m[\u001b[0m\u001b[0mrl\u001b[0m\u001b[0;34m.\u001b[0m\u001b[0mindexer\u001b[0m\u001b[0;34m]\u001b[0m \u001b[0;34m=\u001b[0m \u001b[0;36m1\u001b[0m\u001b[0;34m\u001b[0m\u001b[0;34m\u001b[0m\u001b[0m\n\u001b[1;32m   1796\u001b[0m \u001b[0;34m\u001b[0m\u001b[0m\n",
      "\u001b[0;31mValueError\u001b[0m: could not convert string to float: 'World'"
     ]
    }
   ],
   "source": [
    "#checking relationship b/w data\n",
    "cor=df.corr()\n",
    "plt.figure(figsize=(20,10), facecolor='w')\n",
    "sns.heatmap(cor,xticklabels=cor.columns,yticklabels=cor.columns,annot=True)\n",
    "plt.title(\"Correlation among all the Variables of the Dataset\", size=20)\n",
    "cor"
   ]
  },
  {
   "cell_type": "code",
   "execution_count": 30,
   "metadata": {
    "colab": {
     "base_uri": "https://localhost:8080/",
     "height": 445
    },
    "id": "dyq5q0XSC2wT",
    "outputId": "8a778110-d2f9-4cc8-d189-3c2b1a93edd2"
   },
   "outputs": [
    {
     "data": {
      "image/png": "[encoded data removed]",
      "text/plain": [
       "<Figure size 640x480 with 1 Axes>"
      ]
     },
     "metadata": {},
     "output_type": "display_data"
    }
   ],
   "source": [
    "plt.scatter(df.index,df['Total Tests'])\n",
    "plt.show()"
   ]
  },
  {
   "cell_type": "code",
   "execution_count": null,
   "metadata": {
    "colab": {
     "base_uri": "https://localhost:8080/",
     "height": 338
    },
    "id": "m1Y8CoXBDm3X",
    "outputId": "2475b19f-4e11-4eec-e149-09d7a0c8df20"
   },
   "outputs": [
    {
     "data": {
      "text/plain": [
       "(array([  2.,   0.,   0.,   0., 164.,  50.,   0.,   0.,   0.,   4.]),\n",
       " array([-100.,  -80.,  -60.,  -40.,  -20.,    0.,   20.,   40.,   60.,\n",
       "          80.,  100.]),\n",
       " <a list of 10 Patch objects>)"
      ]
     },
     "execution_count": 28,
     "metadata": {},
     "output_type": "execute_result"
    },
    {
     "data": {
      "image/png": "[encoded data removed]",
      "text/plain": [
       "<Figure size 432x288 with 1 Axes>"
      ]
     },
     "metadata": {
      "needs_background": "light"
     },
     "output_type": "display_data"
    }
   ],
   "source": [
    "plt.hist(df['%Inc Deaths'])"
   ]
  },
  {
   "cell_type": "code",
   "execution_count": null,
   "metadata": {
    "colab": {
     "base_uri": "https://localhost:8080/",
     "height": 338
    },
    "id": "mri6T8oYEqdV",
    "outputId": "8fc6024d-fcff-4f67-d8f1-2326bc9279fb"
   },
   "outputs": [
    {
     "data": {
      "text/plain": [
       "<matplotlib.axes._subplots.AxesSubplot at 0x7feb0f18a790>"
      ]
     },
     "execution_count": 29,
     "metadata": {},
     "output_type": "execute_result"
    },
    {
     "data": {
      "image/png": "[encoded data removed]",
      "text/plain": [
       "<Figure size 360x360 with 1 Axes>"
      ]
     },
     "metadata": {
      "needs_background": "light"
     },
     "output_type": "display_data"
    }
   ],
   "source": [
    "plt.figure(figsize=(5,5))\n",
    "df['%Inc Cases'].plot(kind='density')"
   ]
  },
  {
   "cell_type": "code",
   "execution_count": null,
   "metadata": {
    "colab": {
     "base_uri": "https://localhost:8080/",
     "height": 297
    },
    "id": "uVX7kZEqE8qW",
    "outputId": "93296f75-21fd-442c-991a-1770b3ae0e1b"
   },
   "outputs": [
    {
     "data": {
      "text/plain": [
       "<matplotlib.axes._subplots.AxesSubplot at 0x7feb0f2868d0>"
      ]
     },
     "execution_count": 30,
     "metadata": {},
     "output_type": "execute_result"
    },
    {
     "data": {
      "image/png": "[encoded data removed]",
      "text/plain": [
       "<Figure size 432x288 with 1 Axes>"
      ]
     },
     "metadata": {
      "needs_background": "light"
     },
     "output_type": "display_data"
    }
   ],
   "source": [
    "sns.boxplot(df['%Inc Recovered'])"
   ]
  },
  {
   "cell_type": "code",
   "execution_count": null,
   "metadata": {
    "colab": {
     "base_uri": "https://localhost:8080/"
    },
    "id": "y2HkpKLReDhb",
    "outputId": "c7581a71-cbc2-4497-be0f-7c5ef0b75390"
   },
   "outputs": [
    {
     "data": {
      "text/plain": [
       "1      87861132\n",
       "2      43270577\n",
       "3      31644703\n",
       "4      30028853\n",
       "5      27095988\n",
       "         ...   \n",
       "215        1014\n",
       "216         454\n",
       "217          35\n",
       "218          13\n",
       "219           3\n",
       "Name: Total Cases, Length: 219, dtype: int64"
      ]
     },
     "execution_count": 31,
     "metadata": {},
     "output_type": "execute_result"
    }
   ],
   "source": [
    "Xnew= df.drop(df.index[0])\n",
    "x=Xnew\n",
    "x\n",
    "X=x['Total Cases']\n",
    "X"
   ]
  },
  {
   "cell_type": "code",
   "execution_count": null,
   "metadata": {
    "colab": {
     "base_uri": "https://localhost:8080/"
    },
    "id": "Q_ObNxp867H4",
    "outputId": "54f64472-f00f-47a8-f572-8d8eb78bc856"
   },
   "outputs": [
    {
     "data": {
      "text/plain": [
       "1      1041856313\n",
       "2       856390449\n",
       "3        63776166\n",
       "4       271490188\n",
       "5       122332384\n",
       "          ...    \n",
       "215         13588\n",
       "216         20508\n",
       "217         21923\n",
       "218            -1\n",
       "219            -1\n",
       "Name: Total Tests, Length: 219, dtype: int64"
      ]
     },
     "execution_count": 32,
     "metadata": {},
     "output_type": "execute_result"
    }
   ],
   "source": [
    "y=x['Total Tests']\n",
    "y"
   ]
  },
  {
   "cell_type": "code",
   "execution_count": null,
   "metadata": {
    "colab": {
     "base_uri": "https://localhost:8080/"
    },
    "id": "rSv0B8oX7at5",
    "outputId": "3966fde0-cc92-4d9a-949e-03844c8f9681"
   },
   "outputs": [
    {
     "name": "stdout",
     "output_type": "stream",
     "text": [
      "(170,)\n",
      "(49,)\n",
      "(170,)\n",
      "(49,)\n"
     ]
    }
   ],
   "source": [
    "from sklearn.model_selection import train_test_split\n",
    "X_train, X_test, y_train, y_test = train_test_split(X, y, test_size=0.22, random_state=92)\n",
    "print(X_train.shape)\n",
    "print(X_test.shape)\n",
    "print(y_train.shape)\n",
    "print(y_test.shape)"
   ]
  },
  {
   "cell_type": "code",
   "execution_count": null,
   "metadata": {
    "colab": {
     "base_uri": "https://localhost:8080/"
    },
    "id": "E3Z9D9vP77r1",
    "outputId": "f69a6264-bb50-422b-8259-6daaadd36ec1"
   },
   "outputs": [
    {
     "name": "stdout",
     "output_type": "stream",
     "text": [
      "(170, 1)\n",
      "(170, 1)\n",
      "(49, 1)\n",
      "(49, 1)\n"
     ]
    }
   ],
   "source": [
    "X_train1 = X_train.values.reshape(-1,1)\n",
    "print(X_train1.shape)\n",
    "y_train1 = y_train.values.reshape(-1,1)\n",
    "print(y_train1.shape)\n",
    "X_test1 = X_test.values.reshape(-1,1)\n",
    "print(X_test1.shape)\n",
    "y_test1 = y_test.values.reshape(-1,1)\n",
    "print(y_test1.shape)"
   ]
  },
  {
   "cell_type": "code",
   "execution_count": null,
   "metadata": {
    "colab": {
     "base_uri": "https://localhost:8080/"
    },
    "id": "NcGnFtPQZN2k",
    "outputId": "772ef281-52f3-48c9-f391-561b6866c81f"
   },
   "outputs": [
    {
     "data": {
      "text/plain": [
       "LinearRegression()"
      ]
     },
     "execution_count": 35,
     "metadata": {},
     "output_type": "execute_result"
    }
   ],
   "source": [
    "from sklearn.linear_model import LinearRegression\n",
    "model = LinearRegression()\n",
    "model.fit(X_train1,y_train1)"
   ]
  },
  {
   "cell_type": "code",
   "execution_count": null,
   "metadata": {
    "colab": {
     "base_uri": "https://localhost:8080/"
    },
    "id": "Fvk-Q2ag8w4p",
    "outputId": "73750d26-9dec-4f48-cd06-531e11b41ff3"
   },
   "outputs": [
    {
     "name": "stdout",
     "output_type": "stream",
     "text": [
      "[-3237767.15191424]\n"
     ]
    }
   ],
   "source": [
    "# print the intercept\n",
    "print(model.intercept_)"
   ]
  },
  {
   "cell_type": "code",
   "execution_count": null,
   "metadata": {
    "colab": {
     "base_uri": "https://localhost:8080/"
    },
    "id": "1whSbJiy86_v",
    "outputId": "d8b30e10-c93e-4942-ab49-a7e96dd48c04"
   },
   "outputs": [
    {
     "data": {
      "text/plain": [
       "65.7306106619387"
      ]
     },
     "execution_count": 37,
     "metadata": {},
     "output_type": "execute_result"
    }
   ],
   "source": [
    "model.score(X_train1,y_train1)*100"
   ]
  },
  {
   "cell_type": "code",
   "execution_count": null,
   "metadata": {
    "colab": {
     "base_uri": "https://localhost:8080/",
     "height": 295
    },
    "id": "cVZEY7DfYKYY",
    "outputId": "fa3998d0-af2e-4356-ed60-0070a78176d8"
   },
   "outputs": [
    {
     "data": {
      "image/png": "[encoded data removed]",
      "text/plain": [
       "<Figure size 432x288 with 1 Axes>"
      ]
     },
     "metadata": {
      "needs_background": "light"
     },
     "output_type": "display_data"
    }
   ],
   "source": [
    "from sklearn.linear_model import LinearRegression\n",
    "lr = LinearRegression()\n",
    "lr.fit(X_train1, y_train1)\n",
    "plt.scatter(X_train1 , y_train1, color = \"red\")\n",
    "plt.plot(X_train1, lr.predict(X_train1), color = \"green\")\n",
    "plt.title(\"Total Cases vs Total Tests\")\n",
    "plt.xlabel(\"Total Tests\")\n",
    "plt.ylabel(\"Total Cases\")\n",
    "plt.show()"
   ]
  },
  {
   "cell_type": "code",
   "execution_count": null,
   "metadata": {
    "id": "68BNojDVEHMf"
   },
   "outputs": [],
   "source": [
    "from sklearn.preprocessing import StandardScaler\n",
    "sc_X = StandardScaler()\n",
    "sc_y = StandardScaler()\n",
    "Sx = sc_X.fit_transform(X_train1)\n",
    "Sy = sc_y.fit_transform(y_train1)"
   ]
  },
  {
   "cell_type": "code",
   "execution_count": null,
   "metadata": {
    "colab": {
     "base_uri": "https://localhost:8080/"
    },
    "id": "ijREFS0TEaKU",
    "outputId": "b1af3bea-e572-4103-a717-67aa20c956a1"
   },
   "outputs": [
    {
     "data": {
      "text/plain": [
       "SVR()"
      ]
     },
     "execution_count": 40,
     "metadata": {},
     "output_type": "execute_result"
    }
   ],
   "source": [
    "from sklearn.svm import SVR\n",
    "reg = SVR(kernel='rbf')\n",
    "reg.fit(Sx,Sy.ravel())"
   ]
  },
  {
   "cell_type": "code",
   "execution_count": null,
   "metadata": {
    "colab": {
     "base_uri": "https://localhost:8080/"
    },
    "id": "K-SaJaDtEdpX",
    "outputId": "4e7b6932-447d-4c8c-e9ed-5d601bff2640"
   },
   "outputs": [
    {
     "data": {
      "text/plain": [
       "49.641192288991306"
      ]
     },
     "execution_count": 41,
     "metadata": {},
     "output_type": "execute_result"
    }
   ],
   "source": [
    "reg.score(Sx,Sy)*100"
   ]
  },
  {
   "cell_type": "code",
   "execution_count": null,
   "metadata": {
    "colab": {
     "base_uri": "https://localhost:8080/",
     "height": 295
    },
    "id": "NFgM-DrnEjlM",
    "outputId": "e93f0743-602e-4e76-8ed3-df4eef30a141"
   },
   "outputs": [
    {
     "data": {
      "image/png": "[encoded data removed]",
      "text/plain": [
       "<Figure size 432x288 with 1 Axes>"
      ]
     },
     "metadata": {
      "needs_background": "light"
     },
     "output_type": "display_data"
    }
   ],
   "source": [
    "plt.scatter(Sx,Sy)\n",
    "plt.plot(Sx,reg.predict(Sx),color='k',linewidth='2')\n",
    "plt.title(\"Total Cases vs Total Tests\")\n",
    "plt.xlabel(\"Total Tests\")\n",
    "plt.ylabel(\"Total Cases\")\n",
    "plt.show()"
   ]
  },
  {
   "cell_type": "code",
   "execution_count": null,
   "metadata": {
    "id": "QFTcLnVzEo0x"
   },
   "outputs": [],
   "source": [
    "import statsmodels.api as sm"
   ]
  },
  {
   "cell_type": "code",
   "execution_count": null,
   "metadata": {
    "colab": {
     "base_uri": "https://localhost:8080/",
     "height": 423
    },
    "id": "D2nZ53m4OHu6",
    "outputId": "cdbe5f52-066c-41d4-ac8a-6569f78d3f27"
   },
   "outputs": [
    {
     "data": {
      "text/html": [
       "<table class=\"simpletable\">\n",
       "<caption>OLS Regression Results</caption>\n",
       "<tr>\n",
       "  <th>Dep. Variable:</th>            <td>y</td>        <th>  R-squared (uncentered):</th>      <td>   0.679</td>\n",
       "</tr>\n",
       "<tr>\n",
       "  <th>Model:</th>                   <td>OLS</td>       <th>  Adj. R-squared (uncentered):</th> <td>   0.677</td>\n",
       "</tr>\n",
       "<tr>\n",
       "  <th>Method:</th>             <td>Least Squares</td>  <th>  F-statistic:       </th>          <td>   357.2</td>\n",
       "</tr>\n",
       "<tr>\n",
       "  <th>Date:</th>             <td>Fri, 17 Jun 2022</td> <th>  Prob (F-statistic):</th>          <td>1.55e-43</td>\n",
       "</tr>\n",
       "<tr>\n",
       "  <th>Time:</th>                 <td>05:48:28</td>     <th>  Log-Likelihood:    </th>          <td> -3262.7</td>\n",
       "</tr>\n",
       "<tr>\n",
       "  <th>No. Observations:</th>      <td>   170</td>      <th>  AIC:               </th>          <td>   6527.</td>\n",
       "</tr>\n",
       "<tr>\n",
       "  <th>Df Residuals:</th>          <td>   169</td>      <th>  BIC:               </th>          <td>   6530.</td>\n",
       "</tr>\n",
       "<tr>\n",
       "  <th>Df Model:</th>              <td>     1</td>      <th>                     </th>              <td> </td>   \n",
       "</tr>\n",
       "<tr>\n",
       "  <th>Covariance Type:</th>      <td>nonrobust</td>    <th>                     </th>              <td> </td>   \n",
       "</tr>\n",
       "</table>\n",
       "<table class=\"simpletable\">\n",
       "<tr>\n",
       "   <td></td>     <th>coef</th>     <th>std err</th>      <th>t</th>      <th>P>|t|</th>  <th>[0.025</th>    <th>0.975]</th>  \n",
       "</tr>\n",
       "<tr>\n",
       "  <th>x1</th> <td>   12.2598</td> <td>    0.649</td> <td>   18.900</td> <td> 0.000</td> <td>   10.979</td> <td>   13.540</td>\n",
       "</tr>\n",
       "</table>\n",
       "<table class=\"simpletable\">\n",
       "<tr>\n",
       "  <th>Omnibus:</th>       <td>112.097</td> <th>  Durbin-Watson:     </th> <td>   1.987</td>\n",
       "</tr>\n",
       "<tr>\n",
       "  <th>Prob(Omnibus):</th> <td> 0.000</td>  <th>  Jarque-Bera (JB):  </th> <td>5471.372</td>\n",
       "</tr>\n",
       "<tr>\n",
       "  <th>Skew:</th>          <td> 1.634</td>  <th>  Prob(JB):          </th> <td>    0.00</td>\n",
       "</tr>\n",
       "<tr>\n",
       "  <th>Kurtosis:</th>      <td>30.600</td>  <th>  Cond. No.          </th> <td>    1.00</td>\n",
       "</tr>\n",
       "</table><br/><br/>Warnings:<br/>[1] Standard Errors assume that the covariance matrix of the errors is correctly specified."
      ],
      "text/plain": [
       "<class 'statsmodels.iolib.summary.Summary'>\n",
       "\"\"\"\n",
       "                                 OLS Regression Results                                \n",
       "=======================================================================================\n",
       "Dep. Variable:                      y   R-squared (uncentered):                   0.679\n",
       "Model:                            OLS   Adj. R-squared (uncentered):              0.677\n",
       "Method:                 Least Squares   F-statistic:                              357.2\n",
       "Date:                Fri, 17 Jun 2022   Prob (F-statistic):                    1.55e-43\n",
       "Time:                        05:48:28   Log-Likelihood:                         -3262.7\n",
       "No. Observations:                 170   AIC:                                      6527.\n",
       "Df Residuals:                     169   BIC:                                      6530.\n",
       "Df Model:                           1                                                  \n",
       "Covariance Type:            nonrobust                                                  \n",
       "==============================================================================\n",
       "                 coef    std err          t      P>|t|      [0.025      0.975]\n",
       "------------------------------------------------------------------------------\n",
       "x1            12.2598      0.649     18.900      0.000      10.979      13.540\n",
       "==============================================================================\n",
       "Omnibus:                      112.097   Durbin-Watson:                   1.987\n",
       "Prob(Omnibus):                  0.000   Jarque-Bera (JB):             5471.372\n",
       "Skew:                           1.634   Prob(JB):                         0.00\n",
       "Kurtosis:                      30.600   Cond. No.                         1.00\n",
       "==============================================================================\n",
       "\n",
       "Warnings:\n",
       "[1] Standard Errors assume that the covariance matrix of the errors is correctly specified.\n",
       "\"\"\""
      ]
     },
     "execution_count": 44,
     "metadata": {},
     "output_type": "execute_result"
    }
   ],
   "source": [
    "X_opt = X_train1\n",
    "model_OLS = sm.OLS(endog = y_train1, exog = X_opt).fit()\n",
    "model_OLS.summary()"
   ]
  },
  {
   "cell_type": "code",
   "execution_count": null,
   "metadata": {
    "id": "3sUJxsTaOZfh"
   },
   "outputs": [],
   "source": [
    "from sklearn.linear_model import Ridge\n",
    "R=Ridge(alpha=0.0001)"
   ]
  },
  {
   "cell_type": "code",
   "execution_count": null,
   "metadata": {
    "colab": {
     "base_uri": "https://localhost:8080/"
    },
    "id": "a0jXU7nQOa5N",
    "outputId": "d3916610-0430-48fa-ca2c-881a0509de3f"
   },
   "outputs": [
    {
     "data": {
      "text/plain": [
       "Ridge(alpha=0.0001)"
      ]
     },
     "execution_count": 46,
     "metadata": {},
     "output_type": "execute_result"
    }
   ],
   "source": [
    "R.fit(X_train1,y_train1)"
   ]
  },
  {
   "cell_type": "code",
   "execution_count": null,
   "metadata": {
    "id": "wLgIa7BSOfbr"
   },
   "outputs": [],
   "source": [
    "y2_pred=R.predict(X_test1)"
   ]
  },
  {
   "cell_type": "code",
   "execution_count": null,
   "metadata": {
    "colab": {
     "base_uri": "https://localhost:8080/"
    },
    "id": "KlKH3EBgO42K",
    "outputId": "43d63863-e796-4374-85c4-a0929b8b6f03"
   },
   "outputs": [
    {
     "data": {
      "text/plain": [
       "65.7306106619387"
      ]
     },
     "execution_count": 48,
     "metadata": {},
     "output_type": "execute_result"
    }
   ],
   "source": [
    "R.score(X_train1,y_train1)*100"
   ]
  },
  {
   "cell_type": "code",
   "execution_count": null,
   "metadata": {
    "colab": {
     "base_uri": "https://localhost:8080/"
    },
    "id": "O7J2LyZEPNc0",
    "outputId": "642250e2-5e26-4e15-f718-06ffa2d22f74"
   },
   "outputs": [
    {
     "data": {
      "text/plain": [
       "DecisionTreeRegressor(random_state=0)"
      ]
     },
     "execution_count": 49,
     "metadata": {},
     "output_type": "execute_result"
    }
   ],
   "source": [
    "#importing the model and data-fitting\n",
    "from sklearn.tree import DecisionTreeRegressor\n",
    "DTT=DecisionTreeRegressor(random_state=0)\n",
    "DTT.fit(X_train1,y_train1)"
   ]
  },
  {
   "cell_type": "code",
   "execution_count": null,
   "metadata": {
    "id": "VKARbS7naOPp"
   },
   "outputs": [],
   "source": [
    "X=X.values.reshape(-1,1)\n",
    "y=y.values.reshape(-1,1)"
   ]
  },
  {
   "cell_type": "code",
   "execution_count": null,
   "metadata": {
    "colab": {
     "base_uri": "https://localhost:8080/"
    },
    "id": "on_rGZtZPZN_",
    "outputId": "97a88f06-9ff5-42b2-a510-87d5a8e4c057"
   },
   "outputs": [
    {
     "data": {
      "text/plain": [
       "94.18270944131648"
      ]
     },
     "execution_count": 51,
     "metadata": {},
     "output_type": "execute_result"
    }
   ],
   "source": [
    "DTT.score(X,y)*100"
   ]
  },
  {
   "cell_type": "code",
   "execution_count": null,
   "metadata": {
    "colab": {
     "base_uri": "https://localhost:8080/",
     "height": 295
    },
    "id": "CjEooBZlXwwn",
    "outputId": "1183684d-afb8-423d-e580-02c579fb410c"
   },
   "outputs": [
    {
     "data": {
      "image/png": "[encoded data removed]",
      "text/plain": [
       "<Figure size 432x288 with 1 Axes>"
      ]
     },
     "metadata": {
      "needs_background": "light"
     },
     "output_type": "display_data"
    }
   ],
   "source": [
    "plt.scatter(X,y)\n",
    "plt.plot(X,y,color='k',linewidth='2')\n",
    "plt.title(\"Total Cases vs Total Tests\")\n",
    "plt.xlabel(\"Total Tests\")\n",
    "plt.ylabel(\"Total Cases\")\n",
    "plt.show()"
   ]
  },
  {
   "cell_type": "code",
   "execution_count": null,
   "metadata": {
    "id": "qxFsT_3AQbto"
   },
   "outputs": [],
   "source": [
    "y_predict = DTT.predict(X_test1)"
   ]
  },
  {
   "cell_type": "code",
   "execution_count": null,
   "metadata": {
    "colab": {
     "base_uri": "https://localhost:8080/"
    },
    "id": "pti7K1m5Qf5O",
    "outputId": "657240bb-58c1-4a90-e53d-2dfde07d68c7"
   },
   "outputs": [
    {
     "data": {
      "text/plain": [
       "RandomForestRegressor()"
      ]
     },
     "execution_count": 54,
     "metadata": {},
     "output_type": "execute_result"
    }
   ],
   "source": [
    "from sklearn.ensemble import RandomForestRegressor\n",
    "rfr=RandomForestRegressor()\n",
    "rfr.fit(X_train1,y_train1)"
   ]
  },
  {
   "cell_type": "code",
   "execution_count": null,
   "metadata": {
    "id": "Yfagrp0MQm2B"
   },
   "outputs": [],
   "source": [
    "y3_pred=rfr.predict(X_test1)"
   ]
  },
  {
   "cell_type": "code",
   "execution_count": null,
   "metadata": {
    "colab": {
     "base_uri": "https://localhost:8080/"
    },
    "id": "v-WqzEcdQp2L",
    "outputId": "f529f40d-dfef-459e-8c85-ccb393625338"
   },
   "outputs": [
    {
     "data": {
      "text/plain": [
       "81.97028504057859"
      ]
     },
     "execution_count": 56,
     "metadata": {},
     "output_type": "execute_result"
    }
   ],
   "source": [
    "rfr.score(X,y)*100"
   ]
  },
  {
   "cell_type": "code",
   "execution_count": null,
   "metadata": {
    "colab": {
     "base_uri": "https://localhost:8080/",
     "height": 295
    },
    "id": "JWdkndp9X40J",
    "outputId": "d737e717-f73e-4ffb-87bc-5093ccf6af71"
   },
   "outputs": [
    {
     "data": {
      "image/png": "[encoded data removed]",
      "text/plain": [
       "<Figure size 432x288 with 1 Axes>"
      ]
     },
     "metadata": {
      "needs_background": "light"
     },
     "output_type": "display_data"
    }
   ],
   "source": [
    "plt.scatter(X,y)\n",
    "plt.plot(X,y,color='k',linewidth='2')\n",
    "plt.title(\"Total Cases vs Total Tests\")\n",
    "plt.xlabel(\"Total Tests\")\n",
    "plt.ylabel(\"Total Cases\")\n",
    "plt.show()"
   ]
  },
  {
   "cell_type": "code",
   "execution_count": null,
   "metadata": {
    "id": "F2VA3is8Q8RE"
   },
   "outputs": [],
   "source": [
    "parameters={\n",
    "    \"n_estimators\": (10,30,50,100),\n",
    "    #\"criterion\": (\"gini\",\"entropy\"),\n",
    "    #\"max_depth\": (3,4,5,7),\n",
    "    \"max_features\": (\"auto\",\"sqrt\",\"log2\"),\n",
    "    \"min_samples_split\": (2,4,6),\n",
    "    \"bootstrap\": (True, False)\n",
    "}"
   ]
  },
  {
   "cell_type": "code",
   "execution_count": null,
   "metadata": {
    "id": "R1GQw8T7Q-P7"
   },
   "outputs": [],
   "source": [
    "from sklearn.model_selection import GridSearchCV\n",
    "Rf_grid=GridSearchCV(RandomForestRegressor( n_jobs=-1,oob_score=False),param_grid=parameters,cv=5,verbose=True)"
   ]
  },
  {
   "cell_type": "code",
   "execution_count": null,
   "metadata": {
    "colab": {
     "base_uri": "https://localhost:8080/"
    },
    "id": "rrOH2Tg2RClU",
    "outputId": "aa44c58d-d564-4b80-a4ad-8730badca9a0"
   },
   "outputs": [
    {
     "name": "stdout",
     "output_type": "stream",
     "text": [
      "Fitting 5 folds for each of 72 candidates, totalling 360 fits\n"
     ]
    }
   ],
   "source": [
    "Rf_grid_mdl=Rf_grid.fit(X_train1,y_train1)"
   ]
  },
  {
   "cell_type": "code",
   "execution_count": null,
   "metadata": {
    "colab": {
     "base_uri": "https://localhost:8080/"
    },
    "id": "MZ2967ESRI1N",
    "outputId": "69eff07c-4c08-4dfd-e69a-e5a7da78abcb"
   },
   "outputs": [
    {
     "data": {
      "text/plain": [
       "RandomForestRegressor(min_samples_split=6, n_estimators=10, n_jobs=-1)"
      ]
     },
     "execution_count": 61,
     "metadata": {},
     "output_type": "execute_result"
    }
   ],
   "source": [
    "Rf_grid_mdl.best_estimator_"
   ]
  },
  {
   "cell_type": "code",
   "execution_count": null,
   "metadata": {
    "colab": {
     "base_uri": "https://localhost:8080/"
    },
    "id": "F1KtQ7_XRLLN",
    "outputId": "d04dcf18-b235-45e4-ce57-18e0fcd97452"
   },
   "outputs": [
    {
     "data": {
      "text/plain": [
       "RandomForestRegressor(bootstrap=False, max_features='log2', min_samples_split=6,\n",
       "                      n_estimators=50, n_jobs=-1)"
      ]
     },
     "execution_count": 62,
     "metadata": {},
     "output_type": "execute_result"
    }
   ],
   "source": [
    "#Applying the best parameters in rfr\n",
    "rfr=RandomForestRegressor(bootstrap=False, max_features='log2', n_estimators=50, min_samples_split=6, n_jobs=-1)\n",
    "rfr.fit(X_train1,y_train1)"
   ]
  },
  {
   "cell_type": "code",
   "execution_count": null,
   "metadata": {
    "id": "9P2nqNcgROO_"
   },
   "outputs": [],
   "source": [
    "y4_pred=rfr.predict(X_test1)"
   ]
  },
  {
   "cell_type": "code",
   "execution_count": null,
   "metadata": {
    "colab": {
     "base_uri": "https://localhost:8080/"
    },
    "id": "ukglKF2eRRbL",
    "outputId": "ef4589f1-aaa0-4859-c994-b41965db9310"
   },
   "outputs": [
    {
     "data": {
      "text/plain": [
       "86.74248561996835"
      ]
     },
     "execution_count": 64,
     "metadata": {},
     "output_type": "execute_result"
    }
   ],
   "source": [
    "rfr.score(X,y)*100"
   ]
  },
  {
   "cell_type": "code",
   "execution_count": null,
   "metadata": {
    "colab": {
     "base_uri": "https://localhost:8080/",
     "height": 175
    },
    "id": "Xqy_YgyCjikB",
    "outputId": "8a8b1fb4-cca0-401b-dcaa-22c64977e906"
   },
   "outputs": [
    {
     "data": {
      "text/html": [
       "\n",
       "  <div id=\"df-175e80a0-2d90-4d1e-8ffb-5e277fe3db4e\">\n",
       "    <div class=\"colab-df-container\">\n",
       "      <div>\n",
       "<style scoped>\n",
       "    .dataframe tbody tr th:only-of-type {\n",
       "        vertical-align: middle;\n",
       "    }\n",
       "\n",
       "    .dataframe tbody tr th {\n",
       "        vertical-align: top;\n",
       "    }\n",
       "\n",
       "    .dataframe thead th {\n",
       "        text-align: right;\n",
       "    }\n",
       "</style>\n",
       "<table border=\"1\" class=\"dataframe\">\n",
       "  <thead>\n",
       "    <tr style=\"text-align: right;\">\n",
       "      <th></th>\n",
       "      <th>Model</th>\n",
       "      <th>Accuracy</th>\n",
       "    </tr>\n",
       "  </thead>\n",
       "  <tbody>\n",
       "    <tr>\n",
       "      <th>0</th>\n",
       "      <td>Linear Regression</td>\n",
       "      <td>65.730611</td>\n",
       "    </tr>\n",
       "    <tr>\n",
       "      <th>1</th>\n",
       "      <td>Support Vector Regression</td>\n",
       "      <td>49.641192</td>\n",
       "    </tr>\n",
       "    <tr>\n",
       "      <th>2</th>\n",
       "      <td>Random Forest Regressor</td>\n",
       "      <td>86.742486</td>\n",
       "    </tr>\n",
       "    <tr>\n",
       "      <th>3</th>\n",
       "      <td>Decision Tree Regressor</td>\n",
       "      <td>94.182709</td>\n",
       "    </tr>\n",
       "  </tbody>\n",
       "</table>\n",
       "</div>\n",
       "      <button class=\"colab-df-convert\" onclick=\"convertToInteractive('df-175e80a0-2d90-4d1e-8ffb-5e277fe3db4e')\"\n",
       "              title=\"Convert this dataframe to an interactive table.\"\n",
       "              style=\"display:none;\">\n",
       "        \n",
       "  <svg xmlns=\"http://www.w3.org/2000/svg\" height=\"24px\"viewBox=\"0 0 24 24\"\n",
       "       width=\"24px\">\n",
       "    <path d=\"M0 0h24v24H0V0z\" fill=\"none\"/>\n",
       "    <path d=\"M18.56 5.44l.94 2.06.94-2.06 2.06-.94-2.06-.94-.94-2.06-.94 2.06-2.06.94zm-11 1L8.5 8.5l.94-2.06 2.06-.94-2.06-.94L8.5 2.5l-.94 2.06-2.06.94zm10 10l.94 2.06.94-2.06 2.06-.94-2.06-.94-.94-2.06-.94 2.06-2.06.94z\"/><path d=\"M17.41 7.96l-1.37-1.37c-.4-.4-.92-.59-1.43-.59-.52 0-1.04.2-1.43.59L10.3 9.45l-7.72 7.72c-.78.78-.78 2.05 0 2.83L4 21.41c.39.39.9.59 1.41.59.51 0 1.02-.2 1.41-.59l7.78-7.78 2.81-2.81c.8-.78.8-2.07 0-2.86zM5.41 20L4 18.59l7.72-7.72 1.47 1.35L5.41 20z\"/>\n",
       "  </svg>\n",
       "      </button>\n",
       "      \n",
       "  <style>\n",
       "    .colab-df-container {\n",
       "      display:flex;\n",
       "      flex-wrap:wrap;\n",
       "      gap: 12px;\n",
       "    }\n",
       "\n",
       "    .colab-df-convert {\n",
       "      background-color: #E8F0FE;\n",
       "      border: none;\n",
       "      border-radius: 50%;\n",
       "      cursor: pointer;\n",
       "      display: none;\n",
       "      fill: #1967D2;\n",
       "      height: 32px;\n",
       "      padding: 0 0 0 0;\n",
       "      width: 32px;\n",
       "    }\n",
       "\n",
       "    .colab-df-convert:hover {\n",
       "      background-color: #E2EBFA;\n",
       "      box-shadow: 0px 1px 2px rgba(60, 64, 67, 0.3), 0px 1px 3px 1px rgba(60, 64, 67, 0.15);\n",
       "      fill: #174EA6;\n",
       "    }\n",
       "\n",
       "    [theme=dark] .colab-df-convert {\n",
       "      background-color: #3B4455;\n",
       "      fill: #D2E3FC;\n",
       "    }\n",
       "\n",
       "    [theme=dark] .colab-df-convert:hover {\n",
       "      background-color: #434B5C;\n",
       "      box-shadow: 0px 1px 3px 1px rgba(0, 0, 0, 0.15);\n",
       "      filter: drop-shadow(0px 1px 2px rgba(0, 0, 0, 0.3));\n",
       "      fill: #FFFFFF;\n",
       "    }\n",
       "  </style>\n",
       "\n",
       "      <script>\n",
       "        const buttonEl =\n",
       "          document.querySelector('#df-175e80a0-2d90-4d1e-8ffb-5e277fe3db4e button.colab-df-convert');\n",
       "        buttonEl.style.display =\n",
       "          google.colab.kernel.accessAllowed ? 'block' : 'none';\n",
       "\n",
       "        async function convertToInteractive(key) {\n",
       "          const element = document.querySelector('#df-175e80a0-2d90-4d1e-8ffb-5e277fe3db4e');\n",
       "          const dataTable =\n",
       "            await google.colab.kernel.invokeFunction('convertToInteractive',\n",
       "                                                     [key], {});\n",
       "          if (!dataTable) return;\n",
       "\n",
       "          const docLinkHtml = 'Like what you see? Visit the ' +\n",
       "            '<a target=\"_blank\" href=https://colab.research.google.com/notebooks/data_table.ipynb>data table notebook</a>'\n",
       "            + ' to learn more about interactive tables.';\n",
       "          element.innerHTML = '';\n",
       "          dataTable['output_type'] = 'display_data';\n",
       "          await google.colab.output.renderOutput(dataTable, element);\n",
       "          const docLink = document.createElement('div');\n",
       "          docLink.innerHTML = docLinkHtml;\n",
       "          element.appendChild(docLink);\n",
       "        }\n",
       "      </script>\n",
       "    </div>\n",
       "  </div>\n",
       "  "
      ],
      "text/plain": [
       "                       Model   Accuracy\n",
       "0          Linear Regression  65.730611\n",
       "1  Support Vector Regression  49.641192\n",
       "2    Random Forest Regressor  86.742486\n",
       "3    Decision Tree Regressor  94.182709"
      ]
     },
     "execution_count": 65,
     "metadata": {},
     "output_type": "execute_result"
    }
   ],
   "source": [
    "model_ev = pd.DataFrame({'Model': ['Linear Regression','Support Vector Regression',\n",
    "                                   'Random Forest Regressor','Decision Tree Regressor'], 'Accuracy': [model.score(X_train1,y_train1)*100, reg.score(Sx,Sy)*100,\n",
    "                                                                                      rfr.score(X,y)*100 ,DTT.score(X,y)*100]})\n",
    "model_ev\n"
   ]
  },
  {
   "cell_type": "code",
   "execution_count": null,
   "metadata": {
    "colab": {
     "base_uri": "https://localhost:8080/",
     "height": 513
    },
    "id": "tpeCYXEQmXFH",
    "outputId": "7396f533-8857-4024-8da4-0d8ccd6802c0"
   },
   "outputs": [
    {
     "data": {
      "image/png": "[encoded data removed]",
      "text/plain": [
       "<Figure size 1080x576 with 1 Axes>"
      ]
     },
     "metadata": {},
     "output_type": "display_data"
    }
   ],
   "source": [
    "colors = ['red','green','blue','black']\n",
    "plt.figure(figsize=(15,8), facecolor='w')\n",
    "plt.title(\"Barplot Representing Accuracy of different models\")\n",
    "plt.ylabel(\"Accuracy %\")\n",
    "plt.xlabel(\"Models\")\n",
    "plt.bar(model_ev['Model'],model_ev['Accuracy'],color = colors)\n",
    "plt.show()"
   ]
  }
 ],
 "metadata": {
  "colab": {
   "provenance": []
  },
  "kernelspec": {
   "display_name": "Python 3",
   "name": "python3"
  },
  "language_info": {
   "name": "python"
  }
 },
 "nbformat": 4,
 "nbformat_minor": 0
}
