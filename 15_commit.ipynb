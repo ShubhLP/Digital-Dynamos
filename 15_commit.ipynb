{
  "cells": [
    {
      "cell_type": "raw",
      "metadata": {},
      "source": [
        "---\n",
        "title: '15: Git commit history'\n",
        "---"
      ],
      "id": "4b582630"
    },
    {
      "cell_type": "markdown",
      "metadata": {},
      "source": [
        "See <https://bellecp.github.io/597-Data-Wrangling-Spring-2024/project.html#clear-commit-history>.\n",
        "Describe your contributions below.\n",
        "\n",
        "* * *\n"
      ],
      "id": "9522021d"
    },
    {
      "cell_type": "code",
      "metadata": {},
      "source": [
        "import matplotlib.pyplot as plt\n",
        "from git import Repo\n",
        "import collections\n",
        "\n",
        "repo = Repo(\"/Users/shubham/Documents/Rutgers University/MS in Data Science/Spring 2024/Data Wrangling/Project/Digital-Dynamos\")\n",
        "\n",
        "commits = list(repo.iter_commits('main'))\n",
        "\n",
        "commit_counts = collections.Counter(commit.author.name for commit in commits)\n",
        "\n",
        "names = list(commit_counts.keys())\n",
        "counts = list(commit_counts.values())\n",
        "\n",
        "plt.bar(names, counts)\n",
        "plt.title('Commit Counts by Author')\n",
        "plt.xlabel('Author')\n",
        "plt.ylabel('Number of Commits')\n",
        "plt.xticks(rotation=90)\n",
        "plt.show()"
      ],
      "id": "bd9583c7",
      "execution_count": null,
      "outputs": []
    },
    {
      "cell_type": "code",
      "metadata": {},
      "source": [
        "import matplotlib.dates as mdates\n",
        "\n",
        "repo = Repo(\"C:/Users/runad/Downloads/Digital-Dynamos\")\n",
        "\n",
        "commits = list(repo.iter_commits('main'))\n",
        "\n",
        "dates = [commit.committed_datetime for commit in commits]\n",
        "authors = [commit.author.name for commit in commits]\n",
        "messages = [commit.message for commit in commits]\n",
        "tags = [tag for tag in repo.tags]\n",
        "\n",
        "commit_data = collections.defaultdict(list)\n",
        "\n",
        "for commit in commits:\n",
        "    commit_data[commit.author.name].append(commit.committed_datetime)\n",
        "\n",
        "fig, ax = plt.subplots()\n",
        "\n",
        "for author, dates in commit_data.items():\n",
        "    ax.plot_date(dates, [author]*len(dates), 'o', linestyle='none')\n",
        "\n",
        "ax.xaxis.set_major_locator(mdates.YearLocator())\n",
        "ax.xaxis.set_minor_locator(mdates.MonthLocator())\n",
        "ax.xaxis.set_major_formatter(mdates.DateFormatter('%Y'))\n",
        "\n",
        "plt.title('Commit History by Author')\n",
        "plt.xlabel('Date')\n",
        "plt.ylabel('Author')\n",
        "plt.show()\n",
        "\n",
        "#print(dates)\n",
        "for i, message in enumerate(messages):\n",
        "    print(f\"Author {i+1}: {authors[i]} - Commit {i+1}: {message}\")"
      ],
      "id": "f7c88266",
      "execution_count": null,
      "outputs": []
    }
  ],
  "metadata": {
    "kernelspec": {
      "display_name": "Python 3 (ipykernel)",
      "language": "python",
      "name": "python3"
    },
    "jupytext": {
      "text_representation": {
        "extension": ".qmd",
        "format_name": "quarto",
        "format_version": "1.0",
        "jupytext_version": "1.16.1"
      }
    }
  },
  "nbformat": 4,
  "nbformat_minor": 5
}