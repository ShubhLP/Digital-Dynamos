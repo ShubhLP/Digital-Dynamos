{
 "cells": [
  {
   "cell_type": "raw",
   "id": "09df071e",
   "metadata": {},
   "source": [
    "---\n",
    "title: '15: Git commit history'\n",
    "---"
   ]
  },
  {
   "cell_type": "markdown",
   "id": "1436901c",
   "metadata": {},
   "source": [
    "See <https://bellecp.github.io/597-Data-Wrangling-Spring-2024/project.html#clear-commit-history>.\n",
    "Describe your contributions below.\n",
    "\n",
    "* * *\n"
   ]
  },
  {
   "cell_type": "code",
   "execution_count": 1,
   "id": "e22aa507",
   "metadata": {},
   "outputs": [
    {
     "data": {
      "image/png": "[encoded data removed]",
      "text/plain": [
       "<Figure size 432x288 with 1 Axes>"
      ]
     },
     "metadata": {
      "needs_background": "light"
     },
     "output_type": "display_data"
    }
   ],
   "source": [
    "import matplotlib.pyplot as plt\n",
    "from git import Repo\n",
    "import collections\n",
    "\n",
    "#repo = Repo(\"/Users/shubham/Documents/Rutgers University/MS in Data Science/Spring 2024/Data Wrangling/Project/Digital-Dynamos\")\n",
    "repo =  Repo(\"C:/Users/runad/Downloads/Digital-Dynamos\")\n",
    "commits = list(repo.iter_commits('main'))\n",
    "\n",
    "commit_counts = collections.Counter(commit.author.name for commit in commits)\n",
    "\n",
    "names = list(commit_counts.keys())\n",
    "counts = list(commit_counts.values())\n",
    "\n",
    "plt.bar(names, counts)\n",
    "plt.title('Commit Counts by Author')\n",
    "plt.xlabel('Author')\n",
    "plt.ylabel('Number of Commits')\n",
    "plt.xticks(rotation=90)\n",
    "plt.show()"
   ]
  },
  {
   "cell_type": "code",
   "execution_count": 2,
   "id": "4d0d7b69",
   "metadata": {},
   "outputs": [
    {
     "data": {
      "image/png": "[encoded data removed]",
      "text/plain": [
       "<Figure size 432x288 with 1 Axes>"
      ]
     },
     "metadata": {
      "needs_background": "light"
     },
     "output_type": "display_data"
    },
    {
     "name": "stdout",
     "output_type": "stream",
     "text": [
      "Author 1: ShubhLP - Commit 1: Update 15_commit.qmd\n",
      "Author 2: ShubhLP - Commit 2: Rename Fabletics_Supply_Chain_Analytics.ipynb\n",
      "Author 3: Shubham Patil - Commit 3: 14_poster.qmd updated\n",
      "\n",
      "Author 4: Shubham Patil - Commit 4: 16_tests.qmd updated\n",
      "\n",
      "Author 5: Shubham Patil - Commit 5: tests_linear_regression_model.py added\n",
      "\n",
      "Author 6: Shubham Patil - Commit 6: DW_SAMPLE1.ipynb updated\n",
      "\n",
      "Author 7: Shubham Patil - Commit 7: 10_statistical_ML.qmd updated\n",
      "\n",
      "Author 8: Prof - Commit 8: page 3 final\n",
      "\n",
      "Author 9: Prof - Commit 9: poster link updated\n",
      "\n",
      "Author 10: Prof - Commit 10: updated readme\n",
      "\n",
      "Author 11: Prof - Commit 11: updated page 9\n",
      "\n",
      "Author 12: Prof - Commit 12: updated page 11\n",
      "\n",
      "Author 13: Prof - Commit 13: updated page 13\n",
      "\n",
      "Author 14: Prof - Commit 14: final_project updated\n",
      "\n",
      "Author 15: Prof - Commit 15: page 8 updated\n",
      "\n",
      "Author 16: Prof - Commit 16: page 7 updated\n",
      "\n",
      "Author 17: Prof - Commit 17: updated page 5\n",
      "\n",
      "Author 18: Prof - Commit 18: updated page 4\n",
      "\n",
      "Author 19: Prof - Commit 19: updated changes to page 4\n",
      "\n",
      "Author 20: Prof - Commit 20: updated new changes to page 3\n",
      "\n",
      "Author 21: Prof - Commit 21: updates new changes to page 2\n",
      "\n",
      "Author 22: BerlinA-B - Commit 22: added another commit graph to page 15\n",
      "\n",
      "Author 23: BerlinA-B - Commit 23: update page 20\n",
      "\n",
      "Author 24: BerlinA-B - Commit 24: update page 15\n",
      "\n",
      "Author 25: BerlinA-B - Commit 25: update page 13\n",
      "\n",
      "Author 26: BerlinA-B - Commit 26: update page 12\n",
      "\n",
      "Author 27: BerlinA-B - Commit 27: update page 11\n",
      "\n",
      "Author 28: BerlinA-B - Commit 28: update page 10 and code was added to DW_SAMPLE1\n",
      "\n",
      "Author 29: BerlinA-B - Commit 29: update page 9\n",
      "\n",
      "Author 30: BerlinA-B - Commit 30: update page 6\n",
      "\n",
      "Author 31: BerlinA-B - Commit 31: update page 5\n",
      "\n",
      "Author 32: BerlinA-B - Commit 32: update page 4\n",
      "\n",
      "Author 33: BerlinA-B - Commit 33: added DW_SAMPLE1.ipynb to main folder\n",
      "\n",
      "Author 34: BerlinA-B - Commit 34: update page 3 and updated readme\n",
      "\n",
      "Author 35: BerlinA-B - Commit 35: update page 2\n",
      "\n",
      "Author 36: BerlinA-B - Commit 36: update page 1\n",
      "\n",
      "Author 37: BerlinA-B - Commit 37: cover date column in tokenized df to datetime\n",
      "\n",
      "Author 38: BerlinA-B - Commit 38: removed visual #7\n",
      "\n",
      "Author 39: Shubham Patil - Commit 39: DataCo_Supply_Chain_Analytics.ipynb updated\n",
      "\n",
      "Author 40: Prof - Commit 40: covid substitue project idea\n",
      "\n",
      "Author 41: Shubham Patil - Commit 41: DW_SAMPLE1.ipynb updated\n",
      "\n",
      "Author 42: Prof - Commit 42: python file uploaded successfully\n",
      "\n",
      "Author 43: BerlinA-B - Commit 43: tokenized df analysis\n",
      "\n",
      "Author 44: BerlinA-B - Commit 44: added csv folder and supply df visuals and analysis\n",
      "\n",
      "Author 45: BerlinA-B - Commit 45: added csv folder and visuals for tokenized _df visuals\n",
      "\n",
      "Author 46: Shubham Patil - Commit 46: DataCo_Supply_Chain_Analytics.ipynb added\n",
      "\n",
      "Author 47: Shubham Patil - Commit 47: files updated\n",
      "\n",
      "Author 48: github-classroom[bot] - Commit 48: Setting up GitHub Classroom Feedback\n",
      "Author 49: github-classroom[bot] - Commit 49: GitHub Classroom Feedback\n",
      "Author 50: github-classroom[bot] - Commit 50: Initial commit\n"
     ]
    }
   ],
   "source": [
    "import matplotlib.dates as mdates\n",
    "\n",
    "repo = Repo(\"C:/Users/runad/Downloads/Digital-Dynamos\")\n",
    "\n",
    "commits = list(repo.iter_commits('main'))\n",
    "\n",
    "dates = [commit.committed_datetime for commit in commits]\n",
    "authors = [commit.author.name for commit in commits]\n",
    "messages = [commit.message for commit in commits]\n",
    "tags = [tag for tag in repo.tags]\n",
    "\n",
    "commit_data = collections.defaultdict(list)\n",
    "\n",
    "for commit in commits:\n",
    "    commit_data[commit.author.name].append(commit.committed_datetime)\n",
    "\n",
    "fig, ax = plt.subplots()\n",
    "\n",
    "for author, dates in commit_data.items():\n",
    "    ax.plot_date(dates, [author]*len(dates), 'o', linestyle='none')\n",
    "\n",
    "ax.xaxis.set_major_locator(mdates.YearLocator())\n",
    "ax.xaxis.set_minor_locator(mdates.MonthLocator())\n",
    "ax.xaxis.set_major_formatter(mdates.DateFormatter('%Y'))\n",
    "\n",
    "plt.title('Commit History by Author')\n",
    "plt.xlabel('Date')\n",
    "plt.ylabel('Author')\n",
    "plt.show()\n",
    "\n",
    "#print(dates)\n",
    "for i, message in enumerate(messages):\n",
    "    print(f\"Author {i+1}: {authors[i]} - Commit {i+1}: {message}\")"
   ]
  }
 ],
 "metadata": {
  "kernelspec": {
   "display_name": "Python 3 (ipykernel)",
   "language": "python",
   "name": "python3"
  },
  "language_info": {
   "codemirror_mode": {
    "name": "ipython",
    "version": 3
   },
   "file_extension": ".py",
   "mimetype": "text/x-python",
   "name": "python",
   "nbconvert_exporter": "python",
   "pygments_lexer": "ipython3",
   "version": "3.9.7"
  }
 },
 "nbformat": 4,
 "nbformat_minor": 5
}
